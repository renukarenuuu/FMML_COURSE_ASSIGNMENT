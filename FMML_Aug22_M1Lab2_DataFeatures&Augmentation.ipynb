{
  "nbformat": 4,
  "nbformat_minor": 0,
  "metadata": {
    "colab": {
      "provenance": [],
      "collapsed_sections": [],
      "include_colab_link": true
    },
    "kernelspec": {
      "name": "python3",
      "display_name": "Python 3"
    },
    "language_info": {
      "name": "python"
    }
  },
  "cells": [
    {
      "cell_type": "markdown",
      "metadata": {
        "id": "view-in-github",
        "colab_type": "text"
      },
      "source": [
        "<a href=\"https://colab.research.google.com/github/renukarenuuu/FMML_COURSE_ASSIGNMENT/blob/main/FMML_Aug22_M1Lab2_DataFeatures%26Augmentation.ipynb\" target=\"_parent\"><img src=\"https://colab.research.google.com/assets/colab-badge.svg\" alt=\"Open In Colab\"/></a>"
      ]
    },
    {
      "cell_type": "markdown",
      "source": [
        "## FMML Module 1, Lab 2<br>\n",
        "Module Coordinator : amit.pandey@research.iiit.ac.in <br>"
      ],
      "metadata": {
        "id": "JN97BfHPX7yo"
      }
    },
    {
      "cell_type": "markdown",
      "source": [
        "### The aim of this lab is to introduce DATA and FEATURES.\n",
        "We will study: Feature extraction and Data Augmentation.\n",
        "Let's get started.\n",
        "\n"
      ],
      "metadata": {
        "id": "Q0DQhRGLo3Tr"
      }
    },
    {
      "cell_type": "markdown",
      "source": [
        "Make a copy before running the cells"
      ],
      "metadata": {
        "id": "o4AtXdwvNRGS"
      }
    },
    {
      "cell_type": "markdown",
      "source": [
        "### Data can be anything like text, image , sound signals, and even a mix of multiple types (multimodal). We need to learn how to handle raw data, and how to use them for our analysis."
      ],
      "metadata": {
        "id": "gkEBupTXa1xo"
      }
    },
    {
      "cell_type": "markdown",
      "metadata": {
        "id": "A6I1yI79fbLD"
      },
      "source": [
        "# Extracting features from data\n",
        "\n",
        "\n",
        " \n",
        "\n"
      ]
    },
    {
      "cell_type": "code",
      "metadata": {
        "id": "OimBnfcpvcNS",
        "colab": {
          "base_uri": "https://localhost:8080/"
        },
        "outputId": "d5c1af96-94f8-49c0-f426-2e52d4d0cff5"
      },
      "source": [
        "## Standard Imports.\n",
        "\n",
        "! pip install wikipedia\n",
        "\n",
        "import wikipedia\n",
        "import nltk\n",
        "from nltk.util import ngrams \n",
        "from collections import Counter\n",
        "import matplotlib.pyplot as plt\n",
        "import numpy as np\n",
        "import re\n",
        "import unicodedata\n",
        "import plotly.express as px\n",
        "import pandas as pd\n"
      ],
      "execution_count": 74,
      "outputs": [
        {
          "output_type": "stream",
          "name": "stdout",
          "text": [
            "Looking in indexes: https://pypi.org/simple, https://us-python.pkg.dev/colab-wheels/public/simple/\n",
            "Requirement already satisfied: wikipedia in /usr/local/lib/python3.7/dist-packages (1.4.0)\n",
            "Requirement already satisfied: requests<3.0.0,>=2.0.0 in /usr/local/lib/python3.7/dist-packages (from wikipedia) (2.23.0)\n",
            "Requirement already satisfied: beautifulsoup4 in /usr/local/lib/python3.7/dist-packages (from wikipedia) (4.6.3)\n",
            "Requirement already satisfied: idna<3,>=2.5 in /usr/local/lib/python3.7/dist-packages (from requests<3.0.0,>=2.0.0->wikipedia) (2.10)\n",
            "Requirement already satisfied: certifi>=2017.4.17 in /usr/local/lib/python3.7/dist-packages (from requests<3.0.0,>=2.0.0->wikipedia) (2022.6.15)\n",
            "Requirement already satisfied: urllib3!=1.25.0,!=1.25.1,<1.26,>=1.21.1 in /usr/local/lib/python3.7/dist-packages (from requests<3.0.0,>=2.0.0->wikipedia) (1.24.3)\n",
            "Requirement already satisfied: chardet<4,>=3.0.2 in /usr/local/lib/python3.7/dist-packages (from requests<3.0.0,>=2.0.0->wikipedia) (3.0.4)\n"
          ]
        }
      ]
    },
    {
      "cell_type": "markdown",
      "source": [
        "## What are features? \n",
        "### Features are individual independent variables that act like an input to your system. \n",
        "A very basic example is: In z = x + y, x and y are the features.\n",
        "We can have simple features like above or even more complex features learned by our machine learning models (we will study these later on)."
      ],
      "metadata": {
        "id": "_f74mfnO8Rd_"
      }
    },
    {
      "cell_type": "code",
      "source": [
        "import matplotlib.pyplot as plt\n",
        "from matplotlib import cm\n",
        "import numpy as np\n",
        "\n",
        "from mpl_toolkits.mplot3d.axes3d import get_test_data\n",
        "\n",
        " \n",
        "# set up a figure twice as wide as it is tall\n",
        "fig = plt.figure(figsize=plt.figaspect(1))\n",
        "\n",
        "# =============\n",
        "# First subplot\n",
        "# =============\n",
        "# set up the axes for the first plot\n",
        "ax = fig.add_subplot(1, 1, 1, projection='3d')\n",
        "\n",
        "# plot a 3D surface like in the example mplot3d/surface3d_demo\n",
        "X = np.arange(-5, 5, 0.25) # feature 1\n",
        "Y = np.arange(-5, 5, 0.25) # feature 2\n",
        "X, Y = np.meshgrid(X, Y)\n",
        "R = np.sqrt(X**2 + Y**2)\n",
        "Z = np.sin(R) #output\n",
        "surf = ax.plot_surface(X, Y, Z, rstride=1, cstride=1, cmap=cm.coolwarm,\n",
        "                       linewidth=0.4, antialiased=False)\n",
        "ax.set_zlim(-1.01, 1.01)\n",
        "fig.colorbar(surf, shrink=0.5, aspect=10)"
      ],
      "metadata": {
        "colab": {
          "base_uri": "https://localhost:8080/",
          "height": 265
        },
        "id": "n9KMUJBd8QKx",
        "outputId": "ac8ada84-120a-42ed-c4d1-2740387b3774"
      },
      "execution_count": 75,
      "outputs": [
        {
          "output_type": "execute_result",
          "data": {
            "text/plain": [
              "<matplotlib.colorbar.Colorbar at 0x7fcaa4891ad0>"
            ]
          },
          "metadata": {},
          "execution_count": 75
        },
        {
          "output_type": "display_data",
          "data": {
            "text/plain": [
              "<Figure size 288x288 with 2 Axes>"
            ],
            "image/png": "[encoded data removed]"
          },
          "metadata": {}
        }
      ]
    },
    {
      "cell_type": "markdown",
      "metadata": {
        "id": "m6hGhIGiy4GP"
      },
      "source": [
        "# Part 2: Features of text\n",
        "How do we apply machine learning on text? We can't directly use the text as input to our algorithms. We need to convert them to features.They are converted into vectors (embeddings) or one hot encoded.  Let us explore a simple way of converting text to features. \n",
        "\n",
        "Let us download a few documents off Wikipedia."
      ]
    },
    {
      "cell_type": "code",
      "metadata": {
        "id": "lpUmCoEr2R3J"
      },
      "source": [
        "## set language and then download the data.\n",
        "\n",
        "topic1 = 'Giraffe'\n",
        "topic2 = 'Elephant'\n",
        "wikipedia.set_lang('en') \n",
        "eng1 = wikipedia.page(topic1).content\n",
        "eng2 = wikipedia.page(topic2).content\n",
        "wikipedia.set_lang('fr')\n",
        "fr1 = wikipedia.page(topic1).content\n",
        "fr2 = wikipedia.page(topic2).content\n",
        "\n"
      ],
      "execution_count": 76,
      "outputs": []
    },
    {
      "cell_type": "markdown",
      "metadata": {
        "id": "Cj7RlhMiO5kd"
      },
      "source": [
        "This is what the text looks like:"
      ]
    },
    {
      "cell_type": "code",
      "metadata": {
        "id": "GW0G-t912UXZ",
        "colab": {
          "base_uri": "https://localhost:8080/",
          "height": 174
        },
        "outputId": "264b342e-338c-4fbc-9ef8-1ebc71a1c9e8"
      },
      "source": [
        "fr2 ## the french textual data describing the second topic."
      ],
      "execution_count": 77,
      "outputs": [
        {
          "output_type": "execute_result",
          "data": {
            "text/plain": [
              "'Les éléphants sont des mammifères proboscidiens de la famille des Éléphantidés. Ils correspondent aujourd\\'hui à trois espèces réparties en deux genres distincts. L\\'éléphant de savane d\\'Afrique et l\\'éléphant de forêt d\\'Afrique, autrefois regroupés sous la même espèce d\\'« éléphant d\\'Afrique », appartiennent au genre Loxodonta, tandis que l\\'éléphant d\\'Asie, anciennement appelé « éléphant indien », appartient au genre Elephas. Ils se différencient par certaines caractéristiques anatomiques, les éléphants d\\'Asie étant en général plus petits avec des oreilles plus petites, ou encore une différence du bout de la trompe. Ces espèces survivantes font localement l\\'objet de programmes ou de projets de réintroduction et de protection.\\nLe mot français « éléphant » vient du mot latin elephantus qui tire son origine du grec ἐλέφας signifiant « ivoire » ou « éléphant ».\\nL\\'éléphant apparait dans de nombreuses cultures. Il est symbole de sagesse dans la culture asiatique, connu pour sa mémoire et son intelligence, qui est comparée à celle des cétacés et hominidés. Aristote avait dit que l\\'éléphant est « la bête qui dépasse toutes les autres par l\\'intelligence et l\\'esprit ».\\n\\n\\n== Description ==\\n\\nL\\'éléphant d\\'Afrique, qui peut atteindre 7 tonnes, est le plus gros animal terrestre actuel, mais il est loin derrière la Baleine bleue (Balaenoptera musculus) qui peut peser jusqu\\'à 200 tonnes et dépasser 30 mètres de long.\\n\\n\\n=== Squelette et muscles ===\\n\\nLe squelette de l\\'éléphant présente des caractéristiques dictées par la masse qu\\'il doit soutenir : il représente environ 16,5 % de la masse totale de l\\'animal, cela signifie que pour un éléphant de 7 tonnes, le squelette pèse 1,155 tonne. Les os de l\\'éléphant sont spongieux. Sa cage thoracique, formée de vingt côtes, est arrimée le long de l\\'épine dorsale.\\nL\\'éléphant possède deux genoux à ses membres postérieurs, qui sont constitués d\\'un fémur, d\\'une rotule et de l\\'association tibia-fibula. Les membres antérieurs, quant à eux, comprennent une scapula, un humérus, et l\\'association radius-ulna.\\nL\\'éléphant marche sur le bout des doigts,. Les orteils sont insérés dans le pied, il y en a entre 2 et 5, on en voit seulement les ongles. Cependant on peut voir entre trois et cinq ongles en fonction des pieds. Les pieds antérieurs ont une forme arrondie, alors que les pieds postérieurs ont une forme ovale. Les pieds sont composés de tissus adipeux qui agissent comme des amortisseurs.\\nContrairement à la plupart des mammifères, il est impossible pour un éléphant de sauter, pour des raisons d\\'ordre biomécanique : il lui faut toujours un pied sur le sol. Cependant il peut courir à une vitesse maximale de 20 km/h (un éléphant ayant été chronométré à 24 km/h dans le cadre d\\'une étude scientifique).\\nMême si on emploie le terme « courir » pour un éléphant, il est à noter que le terme est inapproprié. Il serait plus logique de dire qu’il « marche vite ». En effet, il ne change pas son allure (sa façon de se déplacer) lorsqu’il accélère.\\nUn éléphant d\\'Afrique mâle adulte mesure 3,50 mètres au garrot et pèse 5 à 6 tonnes, une femelle adulte mesure 3 mètres de haut au garrot pour une masse de 4 tonnes environ. À la naissance, l\\'éléphant pèse environ 120 kg. Un éléphant vit en moyenne 60 ans. Le plus grand éléphant connu a été signalé en Angola en 1974 : il s’agissait d’un mâle de 12 tonnes mesurant 4,20 m au garrot, soit un mètre de plus que la moyenne des éléphants africains.\\nDes éléphants nains, de la taille d\\'un grand cochon, ont également peuplé les îles méditerranéennes au cours de la Préhistoire, ; certains sont signalés en Crète jusqu\\'en 5000 av. J.-C., voire jusqu’en 3000 av. J.-C.,.\\n\\n\\n=== Trompe ===\\nLa principale caractéristique des éléphants est leur trompe appelée proboscis. Il s\\'agit d\\'un organe nasal (avec une fonction de respiration et de perception des odeurs) allongé qui découle de la fusion de la lèvre supérieure et du nez. La trompe est un organe souple et préhensile leur servant à porter l\\'eau et la nourriture à leur bouche, à tirer ou transporter des objets et à pousser des cris.\\nLa trompe comporte entre 100 000 et 150 000 muscles ; elle est dépourvue d\\'os et pèse plus de 100 kg.\\n« La trompe se compose de deux longs tuyaux cylindriques, partant de l’ouverture antérieure des fosses nasales. Ces tubes se rétrécissent à la région de l’inter mâchoire, ce qui empêche l’eau pompée par la trompe de pénétrer dans la cavité nasale ; ils offrent ensuite une dilatation, puis se resserrent de nouveau à l’endroit où ils s’ouvrent dans les narines osseuses, et où ils sont couverts par un cartilage nasal ovale. (…) Les tubes sont entourés d’une multitude de faisceaux musculaires, les uns longitudinaux, les autres rayonnant vers la peau et servant à comprimer les premiers. Quelques-uns enfin, mais en moins grand nombre sont circulaires. Cependant il faut distinguer de ces muscles, propres à la trompe, ceux qui servent à mouvoir l’organe en entier. Ces derniers sont comparables aux muscles de la queue. On les distingue en élévateurs et abaisseurs supérieurs et latéraux, qui naissent du front, des os propres du nez et des cartilages, tant de l’os maxillaire supérieur que de l’intermaxillaire ».\\nLe bout de la trompe d\\'un éléphant d\\'Afrique est en forme d\\'amande, alors que celle d\\'un éléphant d\\'Asie est en forme de poire. L\\'excroissance à son extrémité a une fonction analogue à un doigt, leur permettant de décortiquer une cacahuète. Les éléphants ne boivent pas directement par leur trompe. L\\'effort nécessaire pour se pencher jusqu\\'au sol afin de boire l\\'eau par la bouche étant trop important et l\\'opération étant même impossible lorsque l\\'eau se trouve au-dessous du niveau du sol, ils boivent en remplissant leur trompe avec de l\\'eau qu\\'ils aspirent et gardent momentanément avant de la verser ensuite, par gravité, dans leur bouche.\\nL\\'allongement du museau des proboscidiens anciens à l\\'origine de l\\'éléphant serait lié à la croissance continue des incisives (les défenses) et leur augmentation de taille : herbivores concurrencés par les ruminants et les équidés, leur adaptation trophique se traduit alors par un régime de plantes plus fibreuses peu nutritives et une augmentation de taille corrélative, les proboscidiens fourrageant pendant des heures à la recherche aussi bien de végétaux au sol que de feuilles d\\'arbres.\\n\\n\\t\\t\\n\\t\\t\\n\\n\\n=== Denture et défenses ===\\n\\nLe plus souvent les éléphants ont des défenses, des dents très allongées utilisées par ces animaux comme outil, arme de défense et attribut sexuel. Les défenses sont des dents supérieures à croissance continue. L\\'éléphanteau possède des prémolaires de lait qui tombent lorsque les molaires apparaissent, l\\'adulte n\\'en possède pas. Chez les éléphants adultes il n\\'y a que 6 dents, 2 incisives, ce sont les défenses, et 4 molaires. La formule dentaire est i1/0 c0/0 m1/1.\\n\\n\\n==== Dents ====\\nLes dents sont essentiellement composées d’ivoire et d’émail qui forment la couronne des dents par de nombreuses crêtes transversales, qui sont plus ou moins lamellées. Les crêtes sont disjointes puis, au fur et à mesure, un cément se forme et s’intercale entre les dents pour former un tout. Un petit nombre de dents molaires sont présentes à chaque mâchoire, « parfois une paire (…), (…) une paire à l’une des mâchoires et deux à l’autre, (…) encore deux paires à chacune », de plus les dents correspondantes entre elles « n’ont ni la même apparence, ni le même nombre de lamelles ».\\n\\nSelon les études de Corse et de Blainville, « les éléphants (…) ont six paires de dents à chacune des mâchoires. Ces dents augmentent de volume depuis la première jusqu’à la dernière ou sixième, et le nombre de leurs lamelles (…) est aussi de plus en plus considérable. ». « La succession des dents molaires s’opère ainsi par flots d’une manière lente mais réglée, et l’on admet trois flots différents. Les dents se présentent deux par deux de chaque côté de l’une et de l’autre mâchoire. Le degré plus ou moins avancé de l’usure de chacune d’elles détermine les différences que l’on remarque dans le nombre total de lamelles (…) pour chaque flot ».\\nLes éléphants ont généralement 26 dents : les 2 incisives appelées défenses, 12 prémolaires déciduales et 12 molaires. Contrairement à la plupart des mammifères, qui font pousser des dents de lait, puis les remplacent par un seul ensemble permanent de dents adultes, les éléphants sont des polyphyodontes : ils ont des cycles de rotation dentaire tout au long de leur vie. Les molaires sont remplacées six fois au cours de la vie d\\'un éléphant typique. Les dents ne sont pas remplacées par de nouvelles dents émergeant des mâchoires verticalement comme chez la plupart des mammifères. Au lieu de cela, de nouvelles dents poussent à l\\'arrière de la bouche et avancent pour repousser les anciennes. La première molaire de chaque côté de la mâchoire tombe lorsque l\\'éléphant a 2 ou 3 ans. La deuxième série de molaires tombe à l\\'âge de 4 à 6 ans. La troisième série tombe entre 9 et 15 ans et la quatrième série dure jusqu\\'à 18-28 ans. La cinquième série de dents tombe vers la quarantaine. La sixième poussée — et généralement la dernière — doit durer à l\\'éléphant le reste de sa vie. Les dents d\\'éléphant ont des crêtes dentaires en forme de boucle, qui sont plus épaisses et plus en forme de losange chez les éléphants d\\'Afrique.\\n\\n\\n==== Défenses ====\\n\\nLes défenses d\\'un éléphant sont les deuxièmes incisives modifiées de la mâchoire supérieure. Elles remplacent les dents de lait à l\\'âge de 6 à 12 mois et poussent continuellement d\\'environ 17 cm par an. Une défense nouvellement développée a un capuchon en émail lisse qui finit par s\\'estomper. La dentine est connue sous le nom d\\'ivoire ; sa section transversale se compose de motifs de lignes entrecroisées qui créent des zones en forme de losange. Une grande partie des défenses est visible de l\\'extérieur ; le reste est enserré dans un logement du crâne. Au moins un tiers de la défense contient la pulpe et certains nerfs s\\'étendent jusqu\\'à la pointe. Il serait donc difficile de l\\'enlever sans nuire à l\\'animal. Une fois retiré, l\\'ivoire commence à se dessécher et à se fissurer s\\'il n\\'est pas conservé au frais et à l\\'humidité.\\nL\\'éléphant se sert de ses défenses à plusieurs fins. Il les utilise pour creuser dans l\\'eau, le sel ou parmi les racines; écorcer ou marquer les arbres ; déplacer des arbres et des branches pour dégager un chemin. Lors des combats, elles servent pour attaquer, se défendre, protéger le corps.\\n\\nComme les humains, qui sont généralement droitiers ou gauchers, les éléphants ont généralement une différenciation des défenses droite et gauche. La défense dominante, appelée défense principale, est généralement plus usée et plus courte, avec une pointe plus arrondie. Pour les éléphants d\\'Afrique, les défenses sont présentes chez les mâles et les femelles, et ont à peu près la même longueur pour les deux sexes, atteignant jusqu\\'à 3 m, mais celles des mâles ont tendance à être plus épaisses. Autrefois, les défenses d\\'éléphant pesant 100 kg et plus n\\'étaient pas rares, mais on n\\'en voit plus guère aujourd\\'hui dépassant 50 kg.\\nChez les espèces asiatiques, seuls les mâles ont de grandes défenses. Les femelles asiatiques ont de très petites défenses, voire aucune. Il existe des mâles dépourvus de défenses, particulièrement communs au Sri Lanka. Les mâles asiatiques peuvent avoir des défenses aussi longues que celles des africains, mais elles sont généralement plus minces et plus légères : les plus grandes enregistrées mesuraient 3,02 m de long et pesaient 39 kg. La chasse à l\\'ivoire d\\'éléphant en Afrique et en Asie a conduit à une sélection naturelle pour des défenses plus courtes, ou absentes,.\\n\\n\\n=== Peau ===\\nLa peau de l\\'éléphant est d\\'une épaisseur d\\'environ 2 cm. Cette peau est fragile du fait de la présence de plis où viennent se loger des parasites. Il n\\'y a pratiquement pas de poils, et il n\\'y a ni glande sudoripare, ni glande sébacée. De ce fait, leur peau est sèche, c\\'est pour cela qu\\'elle doit être souvent humectée à l\\'aide d\\'eau projetée par la trompe ou couverte de poussière ou de boue également projetée par leur trompe.\\nLa couleur de la peau est grisâtre ; cependant sa couleur apparente est liée au sol sur lequel évolue l\\'éléphant. Elle peut aussi être due aux bains de boues.\\nLa faible densité des poils (quelques centaines par mètre carré, chaque poil mesurant en moyenne 2 centimètres de longueur et 0,5 mm de diamètre) agit non plus comme une fourrure mais participe — à hauteur de 23 % — avec d\\'autres mécanismes de thermorégulation (battement des oreilles, bains, pulvérisation d\\'eau avec leurs trompes, respiration percutanée) à la thermolyse du mammifère, les poils agissant comme des ailettes qui augmentent la surface d\\'échange et donc les transferts thermiques.\\n\\n\\t\\t\\n\\t\\t\\n\\n\\n=== Oreille ===\\nLes oreilles de l\\'éléphant lui permettent de réguler sa température corporelle, grâce à une vascularisation très importante. Lorsqu\\'il mange des fruits fermentés ayant un degré d\\'alcool d\\'environ 7°, l\\'éléphant remue violemment ses oreilles, de même pour sa queue et sa trompe. Elles sont généralement plus petites chez l\\'éléphant d\\'Asie.\\n\\n\\n=== Cerveau ===\\nLe cerveau de l\\'éléphant, situé à l\\'arrière de son crâne, pèse entre 4 et 6 kg, ce qui est déjà considérable. Si l\\'on compare la taille du cerveau de l\\'éléphant à sa masse corporelle, il est alors le mammifère ayant le plus petit cerveau, alors que la souris possède le plus grand.\\n\\n\\n== Biologie et comportement ==\\n\\n\\n=== Reproduction ===\\n\\n\\n==== Maturité sexuelle ====\\nSi les fonctions reproductrices des éléphants mâles se mettent en place vers l\\'âge de 10-15 ans, ils commencent à se reproduire vers l\\'âge de 30 ans quand ils sont suffisamment imposants pour pouvoir se battre avec d\\'autres mâles pour conquérir les femelles.\\nLes fonctions reproductrices de l\\'éléphant femelle apparaissent de 9 ans jusqu\\'à 15 ans.\\nDans l\\'organisation matriarcale des éléphants, les mâles sont connus pour leur tempérament indépendant et ont tendance à vivre en solitaire, forgeant parfois une alliance provisoire avec un autre individu ou intégrant une bande de manière informelle. Tandis que les femelles entretiennent des liens familiaux étroits et solides.\\n\\n\\n==== Comportement sexuel ====\\n\\nLes mâles en rut, dont le taux sanguin de testostérone peut s\\'accroître cinquante fois, agitent les oreilles et secouent la tête, leur pénis devient vert. Il en dégouline une urine fortement odorante. Cela est dû à la libération d\\'un musc d’une phéromone, la frontaline, sécrétée sous deux formes chirales. Ces deux énantiomères (deux formes : (+)-frontaline et (-)-frontaline) ne sont pas sécrétés en mêmes proportions. Chez les jeunes mâles, la forme (+) domine. Au fur et à mesure de la maturité et de la période de rut, les deux isomères forment un racémique, qui attire les femelles en phase folliculaire et en œstrus. La frontaline est libérée par la glande temporale chez l’éléphant en période de rut, la sécrétion débute peu de temps avant la puberté, à l’âge de 15 ans. Cependant le rut ne se produit qu\\'à partir de 25 ans et ne durera que quelques jours. Puis vers 31-35 ans, celui-ci dure plusieurs semaines. Vers 36-40 ans, il dure de 1 à 2 mois. Pour finir, après 40 ans, le rut s’étend sur une période de 2 à 4 mois. La quantité de phéromones émises augmente avec l’âge de l’éléphant ainsi qu’en milieu de rut. La concentration et la proportion d’énantiomères de la frontaline constituent pour les animaux qui seront attentifs au message une source d’information sur l’âge et le stade du musth de l\\'éléphant qui émet. Une concentration de frontaline, en racémique, sera le synonyme d\\'un mâle mature ayant un statut social important.\\n\\n\\n==== Accouplement ====\\n\\nUne fois que la femelle et le mâle sont ensemble, l\\'accouplement peut commencer. L\\'éléphant mâle étant très lourd, la copulation est très rapide. En général, elle dure entre 20 et 30 secondes. La période de copulations dure environ trois jours.\\nLa jeune femelle est effrayée lors de sa première période de chaleur, le mâle peut la poursuivre. Pour avertir la femelle qu\\'il va la saillir, le mâle pose sa trompe sur son dos ; la femelle s\\'immobilise alors.\\nLes mâles passent dans les troupeaux de femelles lors de leur rut pour sentir les vulves des femelles.\\n\\n\\n==== Gestation et mise bas ====\\n\\nLa gestation d\\'une éléphante est la plus longue de tous les mammifères terrestres. Elle dure de 20 à 22 mois. La durée d\\'allaitement est comprise entre 36 et 48 mois. Les mises bas s\\'espacent d\\'environ 2 ans et demi à 5 ans. La gestation est plus longue pour un éléphanteau mâle que pour un éléphanteau femelle.\\nUne éléphante peut être en gestation jusqu\\'à l\\'âge de cinquante ans. Dans la plupart des cas, un seul éléphant est porté ; les cas de gémellité sont très rares.\\n\\n\\n=== Vie sociale ===\\n\\nLes éléphants vivent dans une société matriarcale. Cette structure matriarcale existe depuis plus de sept millions d\\'années, des empreintes d\\'une harde d\\'éléphants de cette époque ayant été découvertes sur une surface de 5 hectares sur le site de Mleisa 1 dans les Émirats arabes unis, faisant de cette piste de mammifères fossile la plus vieille de ce type et probablement la plus longue piste préservée dans le monde. Les troupeaux sont composés d\\'une dizaine d\\'éléphantes et de jeunes éléphanteaux, après la maturité sexuelle les mâles quittent le groupe. Ils errent jusqu\\'à ce qu\\'ils fassent alliance avec d\\'autres jeunes mâles.\\nUne étude, menée dans un zoo, montre que l\\'éléphant aime les fruits fermentés à un degré d\\'alcool de 7°. Lorsque l\\'éléphant est saoul, il perd de sa sociabilité (alors que sobre il est très sociable). Lorsqu\\'il est ivre, il reste à l\\'écart du troupeau. Un chercheur américain défendait l\\'idée que les animaux s\\'enivrent ou se droguent, volontairement, pour oublier les tourments de leur existence. Pour le prouver, il a fait vivre durant un mois des éléphants d\\'une réserve californienne sur un territoire plus restreint qu\\'à leur accoutumée. La surpopulation due au petit espace a angoissé les animaux qui, du coup, ont bu trois fois plus que d\\'habitude. Ils sont devenus si agressifs qu\\'il a été dangereux de les approcher.\\n\\n\\n=== Communication ===\\nLe cri de l\\'éléphant est le barrissement. De récentes études scientifiques ont montré que les éléphants, comme de nombreux animaux, sont sensibles aux infrasons. L\\'utilité de l\\'audition de ces infrasons reste cependant mystérieuse. Il semble qu\\'ils soient capables de communiquer entre eux par les ondes acoustiques de surface transmises par le sol.\\n\\n\\n=== Sommeil ===\\nLes éléphants peuvent dormir debout ou couchés. Le fait de se coucher indique qu\\'ils sont parfaitement détendus.\\n\\n\\n=== Alimentation ===\\n\\nL\\'éléphant est herbivore, il mange une grande variété d\\'éléments végétaux : herbes, plantes, feuilles, fruits, racines et tubercules, écorces et même du bois. Il apprécie par exemple le bois tendre et gorgé de sève du baobab.\\nLes besoins alimentaires de l\\'éléphant sont importants, surtout qualitativement. En fonction de son environnement, il consacre une grande partie de son temps à la recherche de nourriture (16 à 20 heures par jour), se déplaçant sur de longues distances et sélectionnant les aliments les plus riches. Il peut se dresser sur ses pattes arrière pour attraper avec sa trompe les rameaux les plus tendres jusqu\\'à cinq ou six mètres de hauteur.\\nQuotidiennement, il faut à l\\'éléphant entre 150 et 180 kilogrammes de nourriture en saison sèche, et entre 200 et 260 kilogrammes en saison des pluies. Ces quantités varient aussi en fonction des espèces et des milieux fréquentés.\\nUn éléphant adulte boit jusqu\\'à 140 L d\\'eau par jour. Il aspire dans sa trompe jusqu\\'à dix litres à la fois, puis se les verse dans la bouche. Il peut rester trois ou quatre jours sans boire. Il peut se servir de sa trompe pour reprendre de l\\'eau dans son estomac et s\\'en servir pour se rafraîchir la peau. Sa peau très épaisse est l\\'objet de soins constants : outre les aspersions, les baignades et les roulades dans la boue, le poudrage à la poussière est bienvenu pour protéger l\\'épiderme des insectes et du soleil.\\nMalgré la quarantaine de mètres d\\'intestin qu\\'il possède, sa digestion est peu efficace. Elle dure environ 12 heures après les 16 à 20 heures où il a cherché à se nourrir, 40 à 60 % de la nourriture n\\'étant pas digérée. Si son alimentation n\\'est pas suffisamment riche, son tonus, son humeur et sa santé en général sont rapidement affectés.\\nLe comportement alimentaire a en général un impact important sur le milieu. Le bilan de ces conséquences varie en fonction des espèces (Afrique, Asie), de la saison, du biotope et de la densité de la population. Ainsi, l\\'éléphant peut être considéré comme destructeur d\\'arbres en particulier dans la savane, alors qu\\'il participe ailleurs très activement à la régénération en limite des zones forestières. Certaines espèces d\\'arbres sont dépendantes de l\\'éléphant pour leur extension : celui-ci, friand de leurs fruits, en dissémine les graines avec l\\'excellent terreau que constitue son crottin, capable de contenir jusqu\\'à 35 % de graines.\\n\\n\\n=== Intelligence ===\\n\\nEn l’état actuel des connaissances, l’éléphant est, avec l\\'humain, le dauphin, le corbeau et certaines espèces de grands singes, l\\'une des rares espèces animales à réussir le test du miroir de Gallup : lorsqu’on marque d’une tache le front d’un éléphant en un point qu’il ne peut voir directement et qu’on lui présente un miroir, il passe sa trompe sur la tache ; démontrant ainsi qu’il a reconnu son image et donc qu’il a conscience de lui-même,,.\\nLes éléphants peuvent utiliser des outils de défense, telles des pierres saisies avec leur trompe et qu\\'ils lancent sur leurs ennemis. Ils peuvent également se toiletter en se grattant avec des branches ou des baguettes des parties de corps qu\\'ils ne peuvent atteindre avec leur trompe. Ils présentent ainsi un exemple d’utilisation d\\'outil par un animal.\\nLors d\\'une expérimentation de Preston Foerder, un éléphant (d\\'Asie, Elephas maximus) s\\'est montré capable d\\'un éclair de compréhension (insight). Il est allé chercher un cube pour monter dessus et atteindre de la nourriture,.\\n\\n\\n=== Perception ===\\nLes éléphants sont réputés pour leur capacité à anticiper l\\'arrivée des intempéries. il semblerait qu\\'ils soient capables d\\'entendre les sons provoqués par le déplacement des nuages.\\n\\n\\n== Systématique ==\\n\\n\\n=== Taxonomie ===\\n\\nL’éléphant d\\'Asie et l’éléphant d’Afrique ont longtemps été considérés comme les deux seules espèces représentant la famille des Éléphantidés à l’époque moderne. Depuis, de récentes études génétiques ont permis de distinguer deux sous-espèces africaines distinctes : Loxodonta africana africana (« éléphant de la savane ») et Loxodonta africana cyclotis (« éléphant des forêts »).\\nLes espèces d\\'Éléphantidés vivant à l’heure actuelle sont donc :\\n\\n\\n=== Histoire évolutive ===\\n\\nL’extinction Crétacé-Tertiaire est suivie d\\'une diversification très rapide des ongulés africains, notamment l\\'ordre des Proboscidiens dont les plus anciennes espèces découvertes à ce jour sont Eritherium azzouzorum et Phosphatherium escuilliei, datant de la fin du Paléocène il y a 60 millions d\\'années. Sans trompe mais avec une première incisive agrandie (rappelant la naissance d\\'une défense) et des orbites oculaires en position antérieure, ces premiers proboscidiens sont petits et graciles, ont un corps bas sur pattes et un mode de vie semi-aquatique, à l\\'instar de Moeritherium.\\nAprès un déclin à l\\'oligocène, les proboscidiens connaissent une diversification avec l\\'apparition des Deinotheriidae et des Mammutidae. La seconde radiation évolutive voit l\\'émergence au début du Miocène des Gomphotheriidae qui sont à l\\'origine des Elephantidae et des Stegodontidae, familles qui correspondent à la troisième radiation évolutive au miocène supérieur.\\nLes Proboscidiens présents sur le continent américain, tels Mammut americanum ou Haplomastodon, se sont éteints il y a une dizaine de milliers d\\'années.\\n\\n\\n== L\\'éléphant et l\\'homme ==\\n\\n\\n=== Menaces de disparition ===\\n\\n\\n==== Chasse et braconnage ====\\n\\nDurant des millénaires, l\\'homme chassa l\\'éléphant pour sa consommation et pour le commerce de l\\'ivoire tiré des défenses. Durant l\\'Antiquité, les éléphants de Nubie furent utilisés dans les armées des Carthaginois. Au XVe siècle av. J.-C., il y avait encore des éléphants sur les bords de l\\'Euphrate, où le pharaon Thoutmôsis Ier chassait l\\'éléphant.\\nLa population des éléphants africains et asiatiques a été décimée, passant de plusieurs millions d\\'individus au début des années 1970 à quelques centaines de milliers 30 ans plus tard. Si bien qu\\'en 1989, la CITES interdit le commerce de l\\'ivoire. Les éléphants sont désormais considérés comme des espèces protégées et la chasse aux éléphants est très réglementée.\\nLe braconnage s\\'intensifie malheureusement chaque année. En 2011, entre 25 000 et 30 000 éléphants ont été abattus sauvagement afin de récupérer leurs défenses et alimenter les commerces illégaux notamment en provenance d\\'Asie.\\nL\\'éléphant a peu de prédateurs naturels, c\\'est-à-dire d\\'autres espèces que l\\'Homme. De grands fauves tels que le lion ou le tigre du Bengale (dans le cas de l\\'éléphant d\\'Asie) peuvent exercer une prédation sur les individus jeunes ou faibles ; il est cependant peu probable que ces animaux attaquent un adulte, au vu du danger qu\\'il peut représenter.\\nSelon l’Union internationale pour la conservation de la nature (UICN), la population des éléphants d’Afrique a sensiblement diminué au cours des années 2010 : le continent compte en 2019 environ 415 000 spécimens, soit 111 000 de moins que lors de la précédente décennie.\\n\\n\\n==== L\\'éléphant des forêts africaines menacé d\\'extinction d\\'ici 2025 ====\\nAu terme de la conférence organisée à Bangkok du 3 au 14 mars 2013, par la CITES, à laquelle 178 pays ont participé, l\\'état d\\'esprit était au pessimisme concernant la protection des éléphants « victimes dans leurs pays d\\'origine d\\'un braconnage sans précédent et d\\'un commerce effréné en Asie ». Nombre d\\'ONG concernées par cette action pensent que « la communauté internationale a échoué à protéger les éléphants ». Depuis 2007 le trafic d\\'ivoire a doublé et plus que triplé par rapport à 1998. Le nombre d\\'éléphants africains, selon les enquêtes présentées à la conférence, est compris entre 420 000 et 650 000. 25 000 ont été tués en 2011 et probablement 30 000 en 2012. Publiée en mars 2013 dans la revue PLoS One, une autre étude révèle que 62 % des éléphants des forêts ont été abattus durant ces dix dernières années. Si ce rythme perdure, ils pourraient disparaitre d\\'Afrique centrale d\\'ici 2025. Les spécialistes affirment qu\\'à terme, si le braconnage ne cesse pas, tous les éléphants du continent seront menacés d\\'extinction.\\n\\nÀ Gembloux Agro-Bio Tech - Université de Liège en Belgique, plusieurs chercheurs avaient déjà fait le même constat pour la population des éléphants de l\\'Afrique de l\\'Ouest. En 40 ans, leur nombre a diminué de moitié.\\nL\\'ONG Save the Elephants estime que le commerce illégal de l\\'ivoire à Hong Kong menace la survie des éléphants, étant donné que le marché de l\\'ivoire en Chine et en Asie du Sud-Est passe en grande partie par Hong Kong.\\n\\n\\n=== Perte d\\'habitat ===\\n\\nL\\'augmentation des risques de conflits d\\'intérêt pour l\\'habitat avec des populations humaines menace la survie de l\\'éléphant. Ce conflit tue 150 éléphants et un peu plus de 100 personnes par an au Sri Lanka. Contrairement à son cousin d\\'Afrique, l\\'éléphant d\\'Asie, possède de petites défenses. La disparition de celui-ci est principalement attribuée à la perte de son habitat. De grands morceaux de forêt disparaissent, ce qui touche profondément leur écosystème. Les arbres contribuent à l\\'ancrage du sol et l\\'absorption des eaux de ruissellement. La déforestation entraine des inondations et une érosion massive. Lorsque la forêt est réduite, les éléphants deviennent une partie du problème, car ils détruisent rapidement la végétation de la zone où ils vivent et éliminent toutes les ressources en nourriture.\\n\\n\\n=== Parcs nationaux ===\\n\\nLa première réserve officielle, Parc national Kruger, est peut-être la plus connue des réserves et celle ayant obtenu le plus grand succès. Cependant, de nombreux problèmes sont apparus depuis sa création. Les clôtures de la réserve ont coupé de nombreux animaux de leur alimentation en hiver ou de leurs zones de reproduction au printemps. Certains animaux sont morts, alors que d\\'autres comme les éléphants ont démoli les clôtures, entraînant des ravages dans les champs voisins. Lorsque les éléphants sont limités à un petit territoire, les dégâts infligés au paysage peuvent être énormes.\\nDe ce fait, certaines réserves, comme le Parc national Kruger, de l\\'avis de certains gestionnaires de faune sauvage, ont souffert de la surpopulation des éléphants, au détriment d\\'autres espèces de la faune dans la réserve. Le 25 février 2008, l\\'Afrique du Sud a annoncé que l\\'abattage pour contrôler le nombre d\\'éléphants, arrêté depuis 1994, reprendrait. Les défenseurs des droits des animaux ont menacé d\\'un appel au boycott par les touristes et à d\\'autres formes d\\'oppositions.\\n\\n\\n=== Utilisation par l\\'Homme ===\\n\\nLes éléphants en captivité (en) sont utilisés ou exhibés dans les cirques, ménageries (tel Abul-Abbas, l\\'éléphant blanc de Charlemagne et Hanno, celui du pape Léon X) et zoos (tel le célèbre Jumbo). On ne peut pas parler à leur égard de domestication car le cycle de vie de l\\'éléphant est trop long pour que cela soit économiquement rentable par rapport à une capture d\\'individus sauvages, la phase précédant la maturité sexuelle de l\\'animal durant plus de 10 ans.\\n\\nUtilisé comme animal de trait par les humains, ainsi que lors de batailles en tant qu\\'éléphant de guerre, l\\'éléphant a occupé de nombreuses fonctions, notamment celle d\\'exécuteur lors d\\'exécutions par éléphant. En 1914-1918, des éléphants de cirque ont en Europe par exemple servi à débarder le bois en forêt (de Mormal, dans le Nord de la France), ou encore à labourer, ou à tirer des wagons dans les usines de munitions.\\nL\\'éléphant peut également être entrainé par anéantissement.\\nLe conducteur d\\'un éléphant est appelé cornac ou mahout.\\n\\n\\n=== Expression ===\\n“avoir une mémoire d’éléphant” veut dire que l’ont a une très bonne mémoire\\n\\n\\n=== Produits dérivés ===\\n\\nÀ l\\'origine, les éléphants étaient chassés par les hommes pour leur viande.\\nCertaines parties, comme les pieds d\\'éléphants, ou des animaux entiers étaient naturalisés. Les poils et les défenses d\\'ivoire, bien sûr, étaient aussi utilisés. On s\\'en servait pour fabriquer des objets de décoration et en bijouterie, ou bien ils étaient destinés, ainsi que les dents et les ossements, à des cabinets de curiosité ou des museums.\\nL\\'ivoire a longtemps fait l\\'objet d\\'un commerce important qui subsiste encore parfois sous forme de trafic illégal malgré le statut de protection dont bénéficient les éléphants survivants.\\n\\n\\n=== Culture ===\\n\\n\\n==== Symbolique ====\\nDans la symbolique occidentale comme orientale, l\\'éléphant est associé à la mémoire, la sagesse, la longévité, la prospérité, la bienveillance, le père. Pour beaucoup de peuples africains, l\\'éléphant tient le rôle du père, du chef des animaux, du roi.\\n\\n\\n===== Orient =====\\n\\nL\\'éléphant apparaît dans la panthéon hindouiste et bouddhiste à partir du troisième millénaire avant Jésus-Christ, époque de sa domestication.\\nDans la religion hindoue, Ganesh est un dieu à tête d’éléphant ; il est le dieu de la Sagesse et le patron des étudiants. Les rares éléphants blancs sont les plus sacrés en Inde, et les éléphants domestiqués et décorés aux couleurs des dieux bénissent les fidèles de leur trompe dans certains temples.\\nEn Inde, l’éléphant évoque la force, la puissance, l\\'orage (forme ronde et grise des nuages de pluie), et il est sacré. Chaque dieu hindou chevauche un animal : Indra, dieu des Orages et de la Bataille, et Agni, dieu du Feu, se déplacent à dos d’éléphant.\\nAu Laos, passer sous la trompe d\\'un éléphant permet d\\'acquérir ses attributs : force, longévité, fertilité et caractère sacré. Chaque année à l\\'occasion du Nouvel An bouddhique, les cornacs laotiens organisent un baci ou soukhouan, cérémonie de rappel des âmes, pour leur éléphant.\\n\\n\\n===== Islam =====\\nDans le Coran, la 105e sourate (la 19e dans l’ordre chronologique) s\\'intitule Al-Fîl (l’Éléphant). Elle comprend cinq versets révélés à la Mecque et doit son nom à l’expression « ashâb al-fîl » (les gens de l’éléphant) présente dans le tout premier verset. Cette expression désigne les Abyssins, qui occupaient le Yémen voisin, voulaient évangéliser l’Arabie tout entière, notamment en attaquant la Kaaba, à La Mecque. En raison des entraves qu’ils mettaient au pèlerinage, le « ministre du calendrier » dans le gouvernement mecquois se vengea en profanant l’église de Sana\\'a. C’est alors que le gouverneur abyssin fit venir un éléphant de taille gigantesque appelé Mahmoud et dirigea une expédition sur La Mecque.\\n\\n\\n===== Occident =====\\nDans la symbolique chrétienne, l\\'éléphant symbolise le baptême : la femelle met bas dans l\\'eau d\\'un étang à côté duquel le mâle monte la garde pour écarter le dragon, symbole de l\\'esprit du mal.[réf. nécessaire]Dans la symbolique chrétienne, il représente aussi la chasteté (de tempérament frigide, il ne peut engendrer qu\\'après avoir absorbé, en guise d\\'aphrodisiaque, une racine de mandragore), la constance, la maîtrise de soi, la bénignité des princes (il n\\'a pas de fiel), la tempérance, la circonspection et la prudence.[réf. nécessaire]En France, on dit de quelqu\\'un qui a une bonne mémoire qu\\'il a « une mémoire d\\'éléphant » ; effectivement, l\\'éléphant a une excellente mémoire pour se rappeler ses congénères ou retrouver les pistes qu\\'il emprunte chaque année pour chercher sa nourriture. Sa mémoire visuelle lui permet également de se rappeler très longtemps les visages humains[source insuffisante].\\nL\\'éléphant représente les quatre piliers du monde : il porte le monde sur son dos.\\nL\\'éléphant est le symbole de la ville de Catane, en Italie, depuis le Moyen Âge (mais le lien remonte peut-être à l\\'Antiquité). La Fontaine de l\\'éléphant s\\'y dresse sur la place de la cathédrale.\\n\\n\\n===== Afrique =====\\nL\\'éléphant est l\\'emblème de la Côte d\\'Ivoire.\\nL\\'éléphant est symbole de royauté, de puissance et de sagesse et ce en général pour les peuples de tout le continent africain.\\nSon image est utilisée dans les cérémonies et danses, pour la fabrication des masques ou encore de mobiliers, d\\'objets rituels, dans beaucoup de tribus notamment chez les Bamileke de l\\'ouest du Cameroun ou encore chez les Gurusi du Burkina Faso.\\nHors tribus, l\\'éléphant est un symbole important au même titre que le lion et son image est présente au quotidien dans le monde africain.\\n\\n\\n===== Politique =====\\nEn politique, l\\'image de l\\'éléphant a pu être utilisé dans différents pays pour caractériser des courants politiques ou des politiciens : ainsi, l\\'emblème du Parti républicain américain est un éléphant, et certains des membres les plus influents du Parti socialiste français sont surnommés les « éléphants ».\\n\\n\\n===== Art =====\\n\\nDes représentations picturales de l\\'éléphant sont retrouvées en Occident dès le XIIe siècle comme dans le quartier historique de Montferrand sur la « Maison de l\\'Éléphant » (12 rue Kléber).\\nL\\'ivoire des défenses de l\\'éléphant a longtemps servi à la réalisation d\\'œuvres d\\'art. Les œuvres en or et ivoire sont qualifiées de chryséléphantines — chrusos, or en grec. Ce nom a été déformé en olifant, pour désigner une corne (instrument de musique) en ivoire.\\n\\n\\n===== Sport =====\\nEn sport, certaines équipes nationales portent des surnoms à l\\'image de l\\'éléphant :\\n\\nLa Côte d\\'Ivoire : Les éléphants\\nLa Guinée : Le Sily national (L\\'éléphant national)\\nLa Thaïlande : Les éléphants de guerre\\n\\n\\n==== Fiction ====\\n\\nLes éléphants ont inspiré de nombreux artistes. La liste ci-après est loin d\\'être exhaustive.\\n\\nCinéma :\\nLes Racines du ciel (The Roots of Heaven) de John Huston (1958), tiré du roman de Romain Gary.\\nTusk d\\'Alejandro Jodorowsky (1980).\\nChasseur blanc, cœur noir (White Hunter Black Heart) de Clint Eastwood (1990, inspiré par John Huston, chasseur d\\'éléphant sur le tournage de the African Queen en 1950).\\nSunny et l\\'éléphant de Frédéric Lepage, 2008.\\nDe l\\'eau pour les éléphants de Francis Lawrence, 2011, tiré du roman de Sara Gruen.\\nElephant Boy de Robert J. Flaherty en 1937\\nGrimsby : Agent trop spécial de Louis Leterrier (2016), Norman \"Nobby\" Butcher (Sacha Baron Cohen) se cache dans le vagin d\\'une éléphante.\\nDocumentaire\\nL\\'Homme et l’Éléphant de Vijay Singh.\\nDessins animés :\\nDumbo.\\nWinnie l\\'ourson et l\\'Éfélant\\nBabar\\nLittérature :\\nLes Racines du ciel de Romain Gary, Prix Goncourt en 1956.\\nLes Annales du disque-monde de Terry Pratchett (le disque-monde est soutenu par quatre éléphants géants).\\nL\\'Éléphant et le Singe de Jupiter de Jean de La Fontaine.\\nLe Voyage de l\\'éléphant de José Saramago\\nLittérature jeunesse :\\nHistoires comme ça de Rudyard Kipling (L\\'Enfant d\\'éléphant)\\nPoo Lorn l\\'éléphant de Reginald Campbell\\nLe Livre de la jungle de Rudyard Kipling (personnages de Hathi et de Kala Nag).\\nBabar de Laurent de Brunhoff\\nUn éléphant ça compte énormément de Helme Heine\\nLe Mystère de l\\'éléphant bleu de Enid Blyton\\nLa Maison éléphant de Henriette Bichonnier\\n Elmer, l\\'éléphant multicolore de David McKee\\nPomelo, l\\'éléphant rose, texte de Ramona Bádescu, illustrations de Benjamin Chaud : une quinzaine de titres, depuis 2002. Plusieurs de ces titres font partie de la « Bibliothèque jeunesse idéale » du Centre national de la littérature pour la jeunesse (BnF).\\n\\t\\t\\n\\n\\n== Notes et références ==\\n\\n\\n== Annexes ==\\n\\n\\n=== Bibliographie ===\\nElephants: Majestic Creatures of the Wild, Checkmark Books, 2000 (ISBN 978-0-87596-143-9, OCLC 475147472)\\n\\n\\n=== Articles connexes ===\\nBouse d\\'éléphant\\nIntelligence animale\\nÉléphant de guerre\\nHanno\\nListe d\\'éléphants de fiction\\nOrdre de l’Éléphant\\nMammouphant\\nBraconnage\\nÉléphant rose\\n\\n\\n=== Références taxonomiques ===\\n(en) Référence Mammal Species of the World (3e éd., 2005) : Elephas maximus  \\n(fr+en) Référence ITIS : genre Loxodonta Cuvier, 1825\\n(en) Référence Animal Diversity Web : Elephas maximus\\n(en) Référence UICN : espèce Elephas maximus Linnaeus, 1758\\n(en) Référence NCBI : genre Loxodonta (taxons inclus)\\n(en) Référence Fonds documentaire ARKive : Loxodonta africana  \\n(en) Référence Fonds documentaire ARKive : Elephas maximus  \\n\\n\\n=== Liens externes ===\\n\\nAnalyse des instruments internationaux de lutte contre le trafic et le braconnage des espèces menacées en Afrique centrale : le cas de l\\'éléphant et du gorille\\n« Physiologie de l\\'éléphant », sur elephants.free.fr\\nUn dossier sur l\\'éléphant chez Futura-Sciences\\n« Chang Nam : La légende des éléphants nains aquatiques en Thaïlande », sur magiedubouddha.com\\n Portail des mammifères'"
            ],
            "application/vnd.google.colaboratory.intrinsic+json": {
              "type": "string"
            }
          },
          "metadata": {},
          "execution_count": 77
        }
      ]
    },
    {
      "cell_type": "markdown",
      "metadata": {
        "id": "EZkmNJ7XO9xX"
      },
      "source": [
        "We need to clean this up a bit. Let us remove all the special characters and keep only 26 letters and space. Note that this will remove accented characters in French also. We are also removing all the numbers and spaces. So this is not an ideal solution."
      ]
    },
    {
      "cell_type": "code",
      "metadata": {
        "id": "e5yf5P9pPI4t"
      },
      "source": [
        "def cleanup(text):\n",
        "  text = text.lower()  # make it lowercase\n",
        "  text = re.sub('[^a-z]+', '', text) # only keep characters, i.e. if not a-z then replace with space.\n",
        "  return text"
      ],
      "execution_count": 78,
      "outputs": []
    },
    {
      "cell_type": "code",
      "source": [
        "text1 = re.sub('[a-z]', '1', 'espèce d\\'« éléphant d\\?Afrique »,')\n",
        "text1"
      ],
      "metadata": {
        "colab": {
          "base_uri": "https://localhost:8080/",
          "height": 35
        },
        "id": "Iawqez-f4oT5",
        "outputId": "fe0bf6ab-8946-4c4e-963b-5c8193bdbcac"
      },
      "execution_count": 79,
      "outputs": [
        {
          "output_type": "execute_result",
          "data": {
            "text/plain": [
              "\"111è11 1'« é1é11111 1\\\\?A111111 »,\""
            ],
            "application/vnd.google.colaboratory.intrinsic+json": {
              "type": "string"
            }
          },
          "metadata": {},
          "execution_count": 79
        }
      ]
    },
    {
      "cell_type": "code",
      "metadata": {
        "id": "qrOjC32fRuTK"
      },
      "source": [
        "eng1 = cleanup(eng1)\n",
        "eng2 = cleanup(eng2)\n",
        "fr1 = cleanup(fr1)\n",
        "fr2 = cleanup(fr2)"
      ],
      "execution_count": 80,
      "outputs": []
    },
    {
      "cell_type": "code",
      "metadata": {
        "id": "rIdqvL2G-LqL",
        "colab": {
          "base_uri": "https://localhost:8080/"
        },
        "outputId": "ab611233-27a5-403c-9cd5-a04794a3639b"
      },
      "source": [
        "print(eng1)"
      ],
      "execution_count": 81,
      "outputs": [
        {
          "output_type": "stream",
          "name": "stdout",
          "text": [
            "thegiraffeisalargeafricanhoofedmammalbelongingtothegenusgiraffaitisthetallestlivingterrestrialanimalandthelargestruminantonearthtraditionallygiraffeswerethoughttobeonespeciesgiraffacamelopardaliswithninesubspeciesmostrecentlyresearchersproposeddividingthemintouptoeightextantspeciesduetonewresearchintotheirmitochondrialandnucleardnaaswellasmorphologicalmeasurementssevenotherextinctspeciesofgiraffaareknownfromthefossilrecordthegiraffeschiefdistinguishingcharacteristicsareitsextremelylongneckandlegsitshornlikeossiconesanditsspottedcoatpatternsitisclassifiedunderthefamilygiraffidaealongwithitsclosestextantrelativetheokapiitsscatteredrangeextendsfromchadinthenorthtosouthafricainthesouthandfromnigerinthewesttosomaliaintheeastgiraffesusuallyinhabitsavannahsandwoodlandstheirfoodsourceisleavesfruitsandflowersofwoodyplantsprimarilyacaciaspecieswhichtheybrowseatheightsmostotherherbivorescannotreachlionsleopardsspottedhyenasandafricanwilddogsmaypreyupongiraffesgiraffesliveinherdsofrelatedfemalesandtheiroffspringorbachelorherdsofunrelatedadultmalesbutaregregariousandmaygatherinlargeaggregationsmalesestablishsocialhierarchiesthroughneckingcombatboutswheretheneckisusedasaweapondominantmalesgainmatingaccesstofemaleswhichbearsoleresponsibilityforraisingtheyoungthegiraffehasintriguedvariousancientandmodernculturesforitspeculiarappearanceandhasoftenbeenfeaturedinpaintingsbooksandcartoonsitisclassifiedbytheinternationalunionforconservationofnatureiucnasvulnerabletoextinctionandhasbeenextirpatedfrommanypartsofitsformerrangegiraffesarestillfoundinnumerousnationalparksandgamereservesbutestimatesasofindicatethereareapproximatelymembersofgiraffainthewildmorethanwerekeptinzoosinetymologythenamegiraffehasitsearliestknownoriginsinthearabicwordzarfahperhapsborrowedfromtheanimalssomalinamegerithearabnameistranslatedasfastwalkerinearlymodernenglishthespellingsjarrafandziraphwereusedprobablydirectlyfromthearabicandinmiddleenglishjarrafandziraphgerfauntztheitalianformgiraffaaroseinthesthemodernenglishformdevelopedaroundfromthefrenchgirafecamelopardisanarchaicenglishnameforthegiraffeitderivesfromtheancientgreekkamloprdalisfromkmloscamelandprdalisleopardreferringtoitscamellikeshapeandleopardlikecolourationtaxonomyevolutionthegiraffeisoneofonlytwolivinggeneraofthefamilygiraffidaeintheorderartiodactylatheotherbeingtheokapithefamilywasoncemuchmoreextensivewithoverfossilgeneradescribedtheelongationoftheneckappearstohavestartedearlyinthegiraffelineagecomparisonsbetweengiraffesandtheirancientrelativessuggestvertebraeclosetotheskulllengthenedearlierfollowedbylengtheningofvertebraefurtherdownoneearlygiraffidancestorwascanthumeryxwhichhasbeendatedvariouslytohavelivedmillionyearsagomyamyaormyaandwhosedepositshavebeenfoundinlibyathisanimalresembledanantelopeandhadamediumsizedlightlybuiltbodygiraffokeryxappearedmyaontheindiansubcontinentandresembledanokapiorasmallgiraffeandhadalongerneckandsimilarossiconesgiraffokeryxmayhavesharedacladewithmoremassivelybuiltgiraffidslikesivatheriumandbramatheriumgiraffidslikepalaeotragusshansitheriumandsamotheriumappearedmyaandlivedthroughoutafricaandeurasiatheseanimalshadbroaderskullwithreducedfrontalcavitiespaleotragusresembledtheokapiandmayhavebeenitsancestorothersfindthattheokapilineagedivergedearlierbeforegiraffokeryxsamotheriumwasaparticularlyimportanttransitionalfossilinthegiraffelineageasthelengthandstructureofitscervicalvertebraewerebetweenthoseofamoderngiraffeandanokapianditsneckposturewaslikelysimilartotheformerbohliniawhichfirstappearedinsoutheasterneuropeandlivedmyawaslikelyadirectancestorofthegiraffebohliniacloselyresembledmoderngiraffeshavingalongneckandlegsandsimilarossiconesanddentitionbohliniacolonisedchinaandnorthernindiaandproducedthegiraffawhicharoundmyareachedafricaclimatechangesleadtotheextinctionoftheasiangiraffeswhiletheafricangiraffessurvivedandradiatedintonewspecieslivinggiraffesappeartohavearisenaroundmyaineasternafricaduringthepleistocenesomebiologistssuggestthemoderngiraffesdescendedfromgjumaeothersfindggracilisamorelikelycandidategjumaewaslargerandmorerobustwhileggraciliswassmallerandmoreslenderthechangesfromextensiveforeststomoreopenhabitatswhichbeganmyaarebelievedtobethemaindriverfortheevolutionofgiraffesduringthistimetropicalplantsdisappearedandwerereplacedbyaridcplantsandadrysavannahemergedacrosseasternandnorthernafricaandwesternindiasomeresearchershavehypothesisedthatthisnewhabitatcoupledwithadifferentdietincludingacaciaspeciesmayhaveexposedgiraffeancestorstotoxinsthatcausedhighermutationratesandahigherrateofevolutionthecoatpatternsofmoderngiraffesmayalsohavecoincidedwiththesehabitatchangesasiangiraffesarehypothesisedtohavehadmoreokapilikecolourationsthegiraffegenomeisaroundbillionbasepairsinlengthcomparedtothebillionbasepairsoftheokapioftheproteinsingiraffeandokapigenesareidenticalthedivergenceofgiraffeandokapilineagesdatestoaroundmyaasmallgroupofregulatorygenesinthegiraffeappeartoberesponsiblefortheanimalsheightandassociatedcirculatoryadaptationsspeciesandsubspeciestheinternationalunionforconservationofnatureiucncurrentlyrecognisesonlyonespeciesofgiraffewithninesubspeciescarllinnaeusoriginallyclassifiedlivinggiraffesasonespeciesinhegaveitthebinomialnamecervuscamelopardalismathurinjacquesbrissoncoinedthegenusgiraffainduringthesvarioustaxonomieswithtwoorthreespecieswereproposedastudyonthegeneticsofgiraffesusingmitochondrialdnasuggestedatleastsixlineagescouldberecognisedasspeciesastudyusingdetailedanalysesofthemorphologyofgiraffesandapplicationofthephylogeneticspeciesconceptdescribedeightspeciesoflivinggiraffesastudyalsoconcludedthatlivinggiraffesconsistofmultiplespeciestheresearcherssuggestedtheexistenceoffourspecieswhichhavenotexchangedgeneticinformationbetweeneachotherfortomillionyearsastudyshowedthatdependingonthemethodchosendifferenttaxonomichypothesesrecognizingfromtwotosixspeciescanbeconsideredforthegenusgiraffathatstudyalsofoundthatmultispeciescoalescentmethodscanleadtotaxonomicoversplittingasthosemethodsdelimitgeographicstructuresratherthanspeciesthethreespecieshypothesiswhichrecognisesgcamelopardalisggiraffaandgtippelskirchiishighlysupportedbyphylogeneticanalysesandalsocorroboratedbymostpopulationgeneticandmultispeciescoalescentanalysesawholegenomesequencingstudysuggeststheexistenceoffourdistinctspeciesandsevensubspeciesthecladogrambelowshowsthephylogeneticrelationshipbetweenthefourproposedspeciesandsevensubspeciesbasedonthegenomeanalysisnotetheeightlineagescorrespondtoeightofthetraditionalsubspeciesintheonespecieshypothesistherothschildgiraffeissubsumedintogcamelopardaliscamelopardalisthefollowingtablecomparesthedifferenthypothesesforgiraffespeciesthedescriptioncolumnshowsthetraditionalninesubspeciesintheonespecieshypothesisthefirstextinctspeciestobedescribedwasgiraffasivalensisfalconerandcautleyareevaluationofavertebrathatwasinitiallydescribedasafossilofthelivinggiraffewhiletaxonomicopinionmaybelackingonsomenamestheextinctspeciesthathavebeenpublishedincludegiraffagracilisgiraffajumaegiraffapriscillagiraffapomeligiraffapunjabiensisgiraffapygmaeagiraffasivalensisgiraffastilleicharacteristicsfullygrowngiraffesstandmfttallwithmalestallerthanfemalestheaverageweightiskglbforanadultmaleandkglbforanadultfemaledespiteitslongneckandlegsitsbodyisrelativelyshorttheskinismostlygrayortanandcanreachathicknessofmminthecentimetresinlongtailendsinalongdarktuftofhairandisusedasadefenseagainstinsectsthecoathasdarkblotchesorpatcheswhichcanbeorangechestnutbrownornearlyblacksurroundedbylighthairusuallywhiteorcreamcolouredmalegiraffesbecomedarkerastheygrowoldthecoatpatternhasbeenclaimedtoserveascamouflageinthelightandshadepatternsofsavannahwoodlandswhenstandingamongtreesandbushestheyarehardtoseeatevenafewmetresdistancehoweveradultgiraffesmoveabouttogainthebestviewofanapproachingpredatorrelyingontheirsizeandabilitytodefendthemselvesratherthanoncamouflagewhichmaybemoreimportantforcalveseachgiraffehasauniquecoatpatterncalvesinheritsomecoatpatterntraitsfromtheirmothersandvariationinsomespottraitsiscorrelatedwithcalfsurvivaltheskinundertheblotchesmayregulatetheanimalsbodytemperaturebeingsitesforcomplexbloodvesselsystemsandlargesweatglandsthefurmaygivetheanimalchemicaldefenseasitsparasiterepellentsgiveitacharacteristicscentatleastmainaromaticchemicalsareinthefuralthoughindoleandmethylindoleareresponsibleformostofthesmellbecausemaleshaveastrongerodourthanfemalesitmayalsohaveasexualfunctionheadbothsexeshaveprominenthornlikestructurescalledossiconeswhichcanreachcmintheyareformedfromossifiedcartilagecoveredinskinandfusedtotheskullattheparietalbonesbeingvascularisedtheossiconesmayhavearoleinthermoregulationandareusedincombatbetweenmalesappearanceisareliableguidetothesexorageofagiraffetheossiconesoffemalesandyoungarethinanddisplaytuftsofhairontopwhereasthoseofadultmalestendtobebaldandknobedontopalumpwhichismoreprominentinmalesemergesinthemiddleoftheskullmalesdevelopcalciumdepositsthatformbumpsontheirskullsastheyagemultiplesinuseslightenagiraffesskullhoweverasmalesagetheirskullsbecomeheavierandmoreclublikehelpingthembecomemoredominantincombattheoccipitalcondylesbonesatthebottomoftheskullallowtheanimaltotipitsheadoverdegreesandgrabfoodonthebranchesdirectlyabovethemwiththetonguelocatedonthesidesoftheheadthegiraffehasabroadvisualfieldfromitsgreatheightcomparedtootherungulatesgiraffevisionismorebinocularandtheeyesarelargerwithagreaterretinalsurfaceareagiraffesmayseeincolourandtheirsensesofhearingandsmellaresharptheearsaremovableandthenostrilsareslitshapedpossiblytowithstandblowingsandthegiraffestongueisaboutcminlongitisblackperhapstoprotectagainstsunburnandcangraspfoliageanddelicatelypickoffleavestheupperlipisflexibleandhairytoprotectagainstsharppricklestheupperjawhasahardpalateinsteadoffrontteeththemolarsandpremolarsarewidewithlowcrownsonthesurfaceneckthegiraffehasanextremelyelongatedneckwhichcanbeuptomftinlengthalongtheneckisamanemadeofshorterecthairsthenecktypicallyrestsatanangleofdegreesthoughjuvenilesareclosertodegreesthelongneckresultsfromadisproportionatelengtheningofthecervicalvertebraenotfromtheadditionofmorevertebraeeachcervicalvertebraisovercminlongtheycomprisepercentofthelengthofthegiraffesvertebralcolumncomparedwiththepercenttypicalofsimilarlargeungulatesincludingthegiraffesclosestlivingrelativetheokapithiselongationlargelytakesplaceafterbirthperhapsbecausegiraffemotherswouldhaveadifficulttimegivingbirthtoyoungwiththesameneckproportionsasadultsthegiraffesheadandneckareheldupbylargemusclesandanuchalligamentwhichareanchoredbylongthoracicvertebraespinesgivingthemahumpthegiraffesneckvertebraehaveballandsocketjointsthepointofarticulationbetweenthecervicalandthoracicvertebraeofgiraffesisshiftedtoliebetweenthefirstandsecondthoracicvertebraetandtunlikemostotherruminantswherethearticulationisbetweentheseventhcervicalvertebracandtthisallowsctocontributedirectlytoincreasednecklengthandhasgivenrisetothesuggestionthattisactuallycandthatgiraffeshaveaddedanextracervicalvertebrahoweverthispropositionisnotgenerallyacceptedasthasothermorphologicalfeaturessuchasanarticulatingribdeemeddiagnosticofthoracicvertebraeandbecauseexceptionstothemammalianlimitofsevencervicalvertebraearegenerallycharacterisedbyincreasedneurologicalanomaliesandmaladiesthereareseveralhypothesesregardingtheevolutionaryoriginandmaintenanceofelongationingiraffeneckscharlesdarwinoriginallysuggestedthecompetingbrowsershypothesiswhichhasbeenchallengedonlyrecentlyitsuggeststhatcompetitivepressurefromsmallerbrowserslikekudusteenbokandimpalaencouragedtheelongationoftheneckasitenabledgiraffestoreachfoodthatcompetitorscouldnotthisadvantageisrealasgiraffescananddofeeduptomfthighwhileevenquitelargecompetitorssuchaskuducanfeeduptoonlyaboutmftinhighthereisalsoresearchsuggestingthatbrowsingcompetitionisintenseatlowerlevelsandgiraffesfeedmoreefficientlygainingmoreleafbiomasswitheachmouthfulhighinthecanopyhoweverscientistsdisagreeaboutjusthowmuchtimegiraffesspendfeedingatlevelsbeyondthereachofotherbrowsersandastudyfoundthatadultgiraffeswithlongernecksactuallysufferedhighermortalityratesunderdroughtconditionsthantheirshorterneckedcounterpartsthisstudysuggeststhatmaintainingalongerneckrequiresmorenutrientswhichputslongerneckedgiraffesatriskduringafoodshortageanothertheorythesexualselectionhypothesisproposesthelongnecksevolvedasasecondarysexualcharacteristicgivingmalesanadvantageinneckingcontestsseebelowtoestablishdominanceandobtainaccesstosexuallyreceptivefemalesinsupportofthistheorynecksarelongerandheavierformalesthanfemalesofthesameageandmalesdonotemployotherformsofcombathoweveroneobjectionisitfailstoexplainwhyfemalegiraffesalsohavelongnecksithasalsobeenproposedthattheneckservestogivetheanimalgreatervigilancelegslocomotionandpostureagiraffesfrontandbacklegsareaboutthesamelengththeradiusandulnaofthefrontlegsarearticulatedbythecarpuswhichwhilestructurallyequivalenttothehumanwristfunctionsasakneeitappearsthatasuspensoryligamentallowsthelankylegstosupporttheanimalsgreatweightthehoovesoflargemalegiraffesreachcmcmininindiameterthefetlockofthelegislowtothegroundallowingthehooftobettersupporttheanimalsweightgiraffeslackdewclawsandinterdigitalglandswhilethepelvisisrelativelyshorttheiliumhasstretchedoutcrestsagiraffehasonlytwogaitswalkingandgallopingwalkingisdonebymovingthelegsononesideofthebodythendoingthesameontheothersidewhengallopingthehindlegsmovearoundthefrontlegsbeforethelattermoveforwardandthetailwillcurlupthemovementsoftheheadandneckprovidebalanceandcontrolmomentumwhilegallopingthegiraffecanreachasprintspeedofuptokmhmphandcansustainkmhmphforseveralkilometresgiraffeswouldprobablynotbecompetentswimmersastheirlonglegswouldbehighlycumbersomeinthewateralthoughtheymightbeabletofloatwhenswimmingthethoraxwouldbeweigheddownbythefrontlegsmakingitdifficultfortheanimaltomoveitsneckandlegsinharmonyorkeepitsheadabovethewaterssurfaceagirafferestsbylyingwithitsbodyontopofitsfoldedlegstoliedowntheanimalkneelsonitsfrontlegsandthenlowerstherestofitsbodytogetbackupitfirstgetsonitsfrontkneesandpositionsitsbacksideontopofitshindlegsitthenpullsupthebacksideupwardsandthefrontlegsstandstraightupagainateachstagetheanimalswingsitsheadforbalanceifthegiraffewantstoreachdowntodrinkiteitherspreadsitsfrontlegsorbendsitskneesstudiesincaptivityfoundthegiraffesleepsintermittentlyaroundhoursperdaymostlyatnightitusuallysleepslyingdownhoweverstandingsleepshavebeenrecordedparticularlyinolderindividualsintermittentshortdeepsleepphaseswhilelyingarecharacterisedbythegiraffebendingitsneckbackwardsandrestingitsheadonthehiporthighapositionbelievedtoindicateparadoxicalsleepinternalsystemsinmammalstheleftrecurrentlaryngealnerveislongerthantherightinthegiraffeitisovercminlongerthesenervesarelongerinthegiraffethaninanyotherlivinganimaltheleftnerveisovermftinlongeachnervecellinthispathbeginsinthebrainstemandpassesdowntheneckalongthevagusnervethenbranchesoffintotherecurrentlaryngealnervewhichpassesbackupthenecktothelarynxthusthesenervecellshavealengthofnearlymftinthelargestgiraffesdespiteitslongneckandlargeskullthebrainofthegiraffeistypicalforanungulateevaporativeheatlossinthenasalpassageskeepthegiraffesbraincooltheshapeoftheskeletongivesthegiraffeasmalllungvolumerelativetoitsmassitslongneckgivesitalargeamountofdeadspaceinspiteofitsnarrowwindpipethegiraffealsohasahightidalvolumesothebalanceofdeadspaceandtidalvolumeismuchthesameasothermammalstheanimalcanstillprovideenoughoxygenforitstissuesanditcanincreaseitsrespiratoryrateandoxygendiffusionwhenrunningthecirculatorysystemofthegiraffehasseveraladaptationsforitsgreatheightitskglbandcmftheartmustgenerateapproximatelydoublethebloodpressurerequiredforahumantomaintainbloodflowtothebrainassuchthewalloftheheartcanbeasthickascmingiraffeshaverelativelyhighheartratesfortheirsizeatbeatsperminutewhentheanimallowersitsheadthebloodrushesdownfairlyunopposedandaretemirabileintheupperneckwithitslargecrosssectionalareapreventsexcessbloodflowtothebrainwhenitraisesagainthebloodvesselsconstrictandpushbloodintothebrainsotheanimaldoesnotfaintthejugularveinscontainseveralmostcommonlysevenvalvestopreventbloodflowingbackintotheheadfromtheinferiorvenacavaandrightatriumwhiletheheadisloweredconverselythebloodvesselsinthelowerlegsareundergreatpressurebecauseoftheweightoffluidpressingdownonthemtosolvethisproblemtheskinofthelowerlegsisthickandtightpreventingtoomuchbloodfrompouringintothemgiraffeshaveoesophagealmusclesthatarestrongenoughtoallowregurgitationoffoodfromthestomachuptheneckandintothemouthforruminationtheyhavefourchamberedstomachswhichareadaptedtotheirspecializeddiettheintestinesofanadultgiraffemeasuremorethanmftinlengthandhavearelativelysmallratioofsmalltolargeintestinethegiraffehasasmallcompactliverfetusesmaybeasmallgallbladderthatvanishesbeforebirthbehaviourandecologyhabitatandfeedinggiraffesusuallyinhabitsavannahsandopenwoodlandstheypreferbyareasdominatedbyacacieaecommiphoracombretumandterminaliatreeoverbrachystegiawhicharemoredenselyspacedtheangolangiraffecanbefoundindesertenvironmentsgiraffesbrowseonthetwigsoftreespreferringthoseofthesubfamilyacacieaeandthegeneracommiphoraandterminaliawhichareimportantsourcesofcalciumandproteintosustainthegiraffesgrowthratetheyalsofeedonshrubsgrassandfruitagiraffeeatsaroundkglbofplantmatterdailywhenstressedgiraffesmaychewonlargebranchesstrippingthemofbarkgiraffesarealsorecordedtochewoldbonesduringthewetseasonfoodisabundantandgiraffesaremorespreadoutwhileduringthedryseasontheygatheraroundtheremainingevergreentreesandbushesmotherstendtofeedinopenareaspresumablytomakeiteasiertodetectpredatorsalthoughthismayreducetheirfeedingefficiencyasaruminantthegiraffefirstchewsitsfoodthenswallowsitforprocessingandthenvisiblypassesthehalfdigestedcuduptheneckandbackintothemouthtochewagainthegirafferequireslessfoodthanmanyotherherbivoresbecausethefoliageiteatshasmoreconcentratednutrientsandithasamoreefficientdigestivesystemtheanimalsfaecescomeintheformofsmallpelletswhenithasaccesstowateragiraffewillgonomorethanthreedayswithoutdrinkinggiraffeshaveagreateffectonthetreesthattheyfeedondelayingthegrowthofyoungtreesforsomeyearsandgivingwaistlinestotootalltreesfeedingisatitshighestduringthefirstandlasthoursofdaytimebetweenthesehoursgiraffesmostlystandandruminateruminationisthedominantactivityduringthenightwhenitismostlydonelyingdownsociallifegiraffesareusuallyfoundingroupsthatvaryinsizeandcompositionaccordingtoecologicalanthropogenictemporalandsocialfactorstraditionallythecompositionofthesegroupshadbeendescribedasopenandeverchangingforresearchpurposesagrouphasbeendefinedasacollectionofindividualsthatarelessthanakilometreapartandmovinginthesamegeneraldirectionmorerecentstudieshavefoundthatgiraffeshavelonglastingsocialgroupsorcliquesbasedonkinshipsexorotherfactorsandthesegroupsregularlyassociatewithothergroupsinlargercommunitiesorsubcommunitieswithinafissionfusionsocietyproximitytohumanscandisruptsocialarrangementsmasaigiraffesintanzaniahavedifferentsubpopulationswithoverlappingrangeseachofwhichdifferinreproductiveratesandcalfmortalitythenumberofgiraffesinagroupcanrangefromoneuptoindividualsgiraffegroupstendtobesexsegregatedalthoughmixedsexgroupsmadeofadultfemalesandyoungmalesalsooccurfemalegroupsmaybematrilineallyrelatedgenerallyfemalesaremoreselectivethanmalesinwhotheyassociatewithregardingindividualsofthesamesexparticularlystablegiraffegroupsarethosemadeofmothersandtheiryoungwhichcanlastweeksormonthsyoungmalesalsoformgroupsandwillengageinplayfightshoweverastheygetoldermalesbecomemoresolitarybutmayalsoassociateinpairsorwithfemalegroupsgiraffesarenotterritorialbuttheyhavehomerangesthatvaryaccordingtorainfallandproximitytohumansettlementsmalegiraffesoccasionallyroamfarfromareasthattheynormallyfrequentearlybiologistssuggestedgiraffesweremuteandunabletocreateenoughairflowtovibratetheirvocalfoldstothecontrarytheyhavebeenrecordedtocommunicateusingsnortssneezescoughssnoreshissesburstsmoansgruntsgrowlsandflutelikesoundsduringcourtshipmalesemitloudcoughsfemalescalltheiryoungbybellowingcalveswillemitbleatsmooingandmewingsoundssnortingandhissingisassociatedwithvigilanceduringnighttimegiraffesappeartohumtoeachotherabovetheinfrasoundrangethepurposeisuncleardominantmalesdisplaytoothermaleswithanerectpostureholdingthechinandheadupwhilewalkingstifflyanddisplayingtheirsidethelessdominantshowsubmissivenessbydroppingtheheadandearsloweringthechinandfleeingreproductionandparentalcarereproductioningiraffesisbroadlypolygamousafewoldermalesmatewiththefertilefemalesfemalescanreproducethroughouttheyearandexperienceoestruscyclingapproximatelyeverydaysfemalegiraffesinoestrousaredispersedoverspaceandtimesoreproductiveadultmalesadoptastrategyofroamingamongfemalegroupstoseekmatingopportunitieswithperiodichormoneinducedruttingbehaviourapproximatelyeverytwoweeksmalespreferyoungadultfemalesoverjuvenilesandolderadultsmalegiraffesassessfemalefertilitybytastingthefemalesurinetodetectoestrusinamultistepprocessknownastheflehmenresponseonceanoestrousfemaleisdetectedthemalewillattempttocourtherwhencourtingdominantmaleswillkeepsubordinateonesatbayacourtingmalemaylickafemalestaillayhisheadandneckonherbodyornudgeherwithhisossiconesduringcopulationthemalestandsonhishindlegswithhisheadheldupandhisfrontlegsrestingonthefemalessidesgiraffegestationlastsdaysafterwhichasinglecalfisnormallybornalthoughtwinsoccuronrareoccasionsthemothergivesbirthstandingupthecalfemergesheadandfrontlegsfirsthavingbrokenthroughthefetalmembranesandfallstothegroundseveringtheumbilicalcordanewborngiraffeismfttallwithinafewhoursofbirththecalfcanrunaroundandisalmostindistinguishablefromaoneweekoldhoweverforthefirstonetothreeweeksitspendsmostofitstimehidingitscoatpatternprovidingcamouflagetheossiconeswhichhavelainflatwhileitwasinthewombraiseupinafewdaysmotherswithcalveswillgatherinnurseryherdsmovingorbrowsingtogethermothersinsuchagroupmaysometimesleavetheircalveswithonefemalewhiletheyforageanddrinkelsewherethisisknownasacalvingpoolcalvesareatriskofpredationandamothergiraffewillstandoverthemandkickatanapproachingpredatorfemaleswatchingcalvingpoolswillonlyalerttheirownyoungiftheydetectadisturbancealthoughtheotherswilltakenoticeandfollowcalvesfirstruminateatfourtosixmonthsandstopnursingatsixtoeightmonthsyoungmaynotreachindependenceuntiltheyaremonthsoldfemalesbecomesexuallymaturewhentheyarefouryearsoldwhilemalesbecomematureatfourorfiveyearsspermatogenesisinmalegiraffesbeginsatthreetofouryearsofagemalesmustwaituntiltheyareatleastsevenyearsoldtogaintheopportunitytomateneckingmalegiraffesusetheirnecksasweaponsincombatabehaviourknownasneckingneckingisusedtoestablishdominanceandmalesthatwinneckingboutshavegreaterreproductivesuccessthisbehaviouroccursatloworhighintensityinlowintensityneckingthecombatantsrubandleanoneachotherthemalethatcankeepitselfmoreuprightwinstheboutinhighintensityneckingthecombatantswillspreadtheirfrontlegsandswingtheirnecksateachotherattemptingtolandblowswiththeirossiconesthecontestantswilltrytododgeeachothersblowsandthenpreparetocounterthepowerofablowdependsontheweightoftheskullandthearcoftheswinganeckingduelcanlastmorethanhalfanhourdependingonhowwellmatchedthecombatantsarealthoughmostfightsdonotleadtoseriousinjurytherehavebeenrecordsofbrokenjawsbrokennecksandevendeathsafteraduelitiscommonfortwomalegiraffestocaressandcourteachothersuchinteractionsbetweenmaleshavebeenfoundtobemorefrequentthanheterosexualcouplinginonestudyuptopercentofobservedmountingincidentstookplacebetweenmalestheproportionofsamesexactivitiesvariedfromtopercentonlyonepercentofsamesexmountingincidentsoccurredbetweenfemalesmortalityandhealthgiraffeshavehighadultsurvivalprobabilityandanunusuallylonglifespancomparedtootherruminantsuptoyearsbecauseoftheirsizeeyesightandpowerfulkicksadultgiraffesareusuallynotsubjecttopredationalthoughlionsmayregularlypreyonindividualsuptokglbgiraffesarethemostcommonfoodsourceforthebigcatsinkrugernationalparkcomprisingnearlyathirdofthemeatconsumedalthoughonlyasmallportionofthegiraffeswereprobablykilledbypredatorsasamajorityoftheconsumedgiraffesappearedtobescavengedadultfemalesurvivalissignificantlycorrelatedwiththenumberofsocialassociationscalvesaremuchmorevulnerablethanadultsandarealsopreyedonbyleopardscheetahsnilecrocodilesspottedhyenasandwilddogsaquartertoahalfofgiraffecalvesreachadulthoodcalfsurvivalvariesaccordingtotheseasonofbirthwithcalvesbornduringthedryseasonhavinghighersurvivalratesthelocalseasonalpresenceoflargeherdsofmigratorywildebeestsandzebrasreducespredationpressureongiraffecalvesandincreasestheirsurvivalprobabilityinturnithasbeensuggestedthatotherungulatesmaybenefitfromassociatingwithgiraffesastheirheightallowsthemtospotpredatorsfromfurtherawayzebraswerefoundtoaccesspredationriskbywatchinggiraffesandspendlesstimelookingaroundwhengiraffesarepresentsomeparasitesfeedongiraffestheyareoftenhostsforticksespeciallyintheareaaroundthegenitalswhichhavethinnerskinthanotherareastickspeciesthatcommonlyfeedongiraffesarethoseofgenerahyalommaamblyommaandrhipicephalusgiraffesmayrelyonredbilledandyellowbilledoxpeckerstocleanthemofticksandalertthemtodangergiraffeshostnumerousspeciesofinternalparasitesandaresusceptibletovariousdiseasestheywerevictimsofthenoweradicatedviralillnessrinderpestgiraffescanalsosufferfromaskindisorderwhichcomesintheformofwrinkleslesionsorrawfissuresasmuchasofgiraffeshavesymptomsofthediseaseinruahanationalparkbutitdidnotcausemortalityintarangireandislessprevalentinareaswithfertilesoilsrelationshipwithhumansculturalsignificancewithitslankybuildandspottedcoatthegiraffehasbeenasourceoffascinationthroughouthumanhistoryanditsimageiswidespreadincultureithasrepresentedflexibilityfarsightednessfemininityfragilitypassivitygracebeautyandthecontinentofafricaitselfgiraffesweredepictedinartthroughouttheafricancontinentincludingthatofthekiffiansegyptiansandkushitesthekiffianswereresponsibleforalifesizerockengravingoftwogiraffesdatedyearsagothathasbeencalledtheworldslargestrockartpetroglyphhowthegiraffegotitsheighthasbeenthesubjectofvariousafricanfolktalesthetugenpeopleofmodernkenyausedthegiraffetodepicttheirgodmdatheegyptiansgavethegiraffeitsownhieroglyphsrinoldegyptianandmmyinlaterperiodsgiraffeshaveapresenceinmodernwesternculturesalvadordaldepictedthemwithburningmanesinsomeofhissurrealistpaintingsdaliconsideredthegiraffetobeamasculinesymbolandaflaminggiraffewasmeanttobeamasculinecosmicapocalypticmonsterseveralchildrensbooksfeaturethegiraffeincludingdavidaufersthegiraffewhowasafraidofheightsgilesandreaesgiraffescantdanceandroalddahlsthegiraffeandthepellyandmegiraffeshaveappearedinanimatedfilmsasminorcharactersindisneysthelionkinganddumboandinmoreprominentrolesinthewildandthemadagascarfilmssophiethegiraffehasbeenapopularteethersinceanotherfamousfictionalgiraffeisthetoysrusmascotgeoffreythegiraffethegiraffehasalsobeenusedforsomescientificexperimentsanddiscoveriesscientistshaveusedthepropertiesofgiraffeskinasamodelforastronautandfighterpilotsuitsbecausethepeopleintheseprofessionsareindangerofpassingoutifbloodrushestotheirlegscomputerscientistshavemodeledthecoatpatternsofseveralsubspeciesusingreactiondiffusionmechanismstheconstellationofcamelopardalisintroducedintheseventeenthcenturydepictsagiraffethetswanapeopleofbotswanatraditionallyseetheconstellationcruxastwogiraffesacruxandmimosaformingamaleandgacruxanddeltacrucisformingthefemalecaptivitytheegyptianswereamongtheearliestpeopletokeepgiraffesincaptivityshippedthemaroundthemediterraneanthegiraffewasamongthemanyanimalscollectedanddisplayedbytheromansthefirstoneinromewasbroughtinbyjuliuscaesarinbcwiththefallofthewesternromanempirethehousingofgiraffesineuropedeclinedduringthemiddleagesgiraffeswereknowntoeuropeansthroughcontactwiththearabswhoreveredthegiraffeforitspeculiarappearanceindividualcaptivegiraffesweregivencelebritystatusthroughouthistoryinagiraffefrommalindiwastakentochinabyexplorerzhengheandplacedinamingdynastyzootheanimalwasasourceoffascinationforthechinesepeoplewhoassociateditwiththemythicalqilinthemedicigiraffewasagiraffepresentedtolorenzodemediciinitcausedagreatstironitsarrivalinflorencezarafaanotherfamousgiraffewasbroughtfromegypttoparisintheearlythcenturyasagiftforcharlesxoffranceasensationthegiraffewasthesubjectofnumerousmemorabiliaorgiraffanaliagiraffeshavebecomepopularattractionsinmodernzoosthoughkeepingthemhealthyisdifficultastheyrequirevastareasandneedtoeatlargeamountsofbrowsecaptivegiraffesinnorthamericaandeuropeappeartohaveahighermortalityratethaninthewildthemostcommoncausesbeingpoorhusbandrynutritionandmanagementgiraffesinzoosdisplaystereotypicalbehavioursparticularlythelickingofinanimateobjectsandpacingzookeepersmayoffervariousactivitiestostimulategiraffesincludingtrainingthemtotakefoodfromvisitorsstablesforgiraffesarebuiltparticularlyhightoaccommodatetheirheightexploitationgiraffeswereprobablycommontargetsforhuntersthroughoutafricadifferentpartsoftheirbodieswereusedfordifferentpurposestheirmeatwasusedforfoodthetailhairsservedasflyswattersbraceletsnecklacesandthreadsshieldssandalsanddrumsweremadeusingtheskinandthestringsofmusicalinstrumentswerefromthetendonsinbugandathesmokeofburninggiraffeskinwastraditionallyusedtotreatnosebleedsthehumrpeopleofkordofanconsumethedrinkummnyolokhwhichispreparedfromtheliverandbonemarrowofgiraffesrichardrudgleyhypothesisedthatummnyolokhmightcontaindmtthedrinkissaidtocausehallucinationsofgiraffesbelievedtobethegiraffesghostsbythehumrconservationstatusingiraffeswereassessedasvulnerablefromaconservationperspectivebytheiucninitwasestimatedthereweregiraffesinthewildthisdeclinedtooverinestimatesasofindicatethereareapproximatelymembersofgiraffainthewildthemasaiandreticulatedsubspeciesareendangeredandtherothschildsubspeciesisnearthreatenedthenubiansubspeciesiscriticallyendangeredtheprimarycausesforgiraffepopulationdeclinesarehabitatlossanddirectkillingforbushmeatmarketsgiraffeshavebeenextirpatedfrommuchoftheirhistoricrangeincludingeritreaguineamauritaniaandsenegaltheymayalsohavedisappearedfromangolamaliandnigeriabuthavebeenintroducedtorwandaandeswatiniasofthereweremorethanincaptivityatspeciesregisteredzooshabitatdestructionhashurtthegiraffeinthesaheltheneedforfirewoodandgrazingroomforlivestockhasledtodeforestationnormallygiraffescancoexistwithlivestocksincetheyavoiddirectcompetitionbyfeedingabovetheminseveredroughtsinnorthernkenyaledtoincreasedtensionsoverlandandthekillingofwildlifebyherderswithgiraffepopulationsbeingparticularlyhitprotectedareaslikenationalparksprovideimportanthabitatandantipoachingprotectiontogiraffepopulationscommunitybasedconservationeffortsoutsidenationalparksarealsoeffectiveatprotectinggiraffesandtheirhabitatsprivategamereserveshavecontributedtothepreservationofgiraffepopulationsineasternandsouthernafricathegiraffeisaprotectedspeciesinmostofitsrangeitisthenationalanimaloftanzaniaandisprotectedbylawandunauthorisedkillingcanresultinimprisonmenttheunbackedconventionofmigratoryspeciesselectedgiraffesforprotectioniningiraffeswerelistedunderappendixiioftheconventiononinternationaltradeinendangeredspeciesciteswhichmeansinternationaltradeincludinginpartsderivativesisregulatedtranslocationsaresometimesusedtoaugmentorreestablishdiminishedorextirpatedpopulationsbuttheseactivitiesareriskyanddifficulttoundertakeusingthebestpracticesofextensivepreandposttranslocationstudiesandensuringaviablefoundingpopulationaerialsurveyisthemostcommonmethodofmonitoringgiraffepopulationtrendsinthevastroadlesstractsofafricanlandscapesbutaerialmethodsareknowntoundercountgiraffesgroundbasedsurveymethodsaremoreaccurateandcanbeusedinconjunctionwithaerialsurveystomakeaccurateestimatesofpopulationsizesandtrendsseealsofaunaofafricagiraffecentregiraffemanorhotelinnairobiwithgiraffesreferencesexternallinksgiraffeconservationfoundation\n"
          ]
        }
      ]
    },
    {
      "cell_type": "markdown",
      "source": [
        "Instead of directly using characters as the features, to understand a text better, we may consider group of tokens i.e. ngrams as features.\n",
        " \n",
        "For this example let us consider that each character is one word, and let us see how n-grams work."
      ],
      "metadata": {
        "id": "XAJNs7PD_cVM"
      }
    },
    {
      "cell_type": "markdown",
      "source": [
        "\n",
        "## nltk library provides many tools for text processing, please explore them."
      ],
      "metadata": {
        "id": "E1pXE4sK_0kl"
      }
    },
    {
      "cell_type": "markdown",
      "metadata": {
        "id": "jXFTWwd0rk63"
      },
      "source": [
        "Now let us calculate the frequency of the character n-grams. N-grams are groups of characters of size n. A unigram is a single character and a bigram is a group of two characters and so on. \n",
        "\n",
        "Let us count the frequency of each character in a text and plot it in a histogram."
      ]
    },
    {
      "cell_type": "code",
      "metadata": {
        "id": "g3Lz3YUjN0L5"
      },
      "source": [
        "## Dont worry if you do not understand these functions right away, you can revisit them and follow step-by-step.\n",
        "\n",
        "# convert a tuple of characters to a string\n",
        "def tuple2string(tup):\n",
        "  st = ''\n",
        "  for ii in tup:\n",
        "    st = st + ii\n",
        "  return st\n",
        "\n",
        "# convert a tuple of tuples to a list of strings\n",
        "def key2string(keys):\n",
        "  return [tuple2string(i) for i in keys]\n",
        "\n",
        "# plot the histogram\n",
        "def plothistogram(ngram):\n",
        "  keys = key2string(ngram.keys()) \n",
        "  values = list(ngram.values())\n",
        "  \n",
        "  # sort the keys in alphabetic order\n",
        "  combined = zip(keys, values) ## keys i.e. characters on x axis and their count in the given doc as values.\n",
        "  zipped_sorted = sorted(combined, key=lambda x: x[0]) ## sorting based on keys, to get a to z order.\n",
        "  keys, values = map(list, zip(*zipped_sorted))\n",
        "  plt.bar(keys, values)"
      ],
      "execution_count": 82,
      "outputs": []
    },
    {
      "cell_type": "markdown",
      "metadata": {
        "id": "zHD62zbZcwAB"
      },
      "source": [
        "Let us compare the histograms of English pages and French pages. Can you spot a difference?"
      ]
    },
    {
      "cell_type": "code",
      "metadata": {
        "id": "LKcGRgH6b0KP",
        "colab": {
          "base_uri": "https://localhost:8080/",
          "height": 551
        },
        "outputId": "a65324f5-881f-44b4-aa56-1763cca53b9d"
      },
      "source": [
        "## we passed ngrams 'n' as 1 to get unigrams. Unigram is nothing but single token (in this case character).\n",
        "## ngrams imported from nltk, it returns ngrams from given string. Counter returns dictionary with keys as elements and counts as values.\n",
        "unigram_eng1 = Counter(ngrams(eng1,1)) ##just to get count of each element. \n",
        "plothistogram(unigram_eng1)\n",
        "plt.title('English 1')\n",
        "plt.show()\n",
        "unigram_eng2 = Counter(ngrams(eng2,1))\n",
        "plothistogram(unigram_eng2)\n",
        "plt.title('English 2')\n",
        "plt.show()"
      ],
      "execution_count": 83,
      "outputs": [
        {
          "output_type": "display_data",
          "data": {
            "text/plain": [
              "<Figure size 432x288 with 1 Axes>"
            ],
            "image/png": "[encoded data removed]"
          },
          "metadata": {}
        },
        {
          "output_type": "display_data",
          "data": {
            "text/plain": [
              "<Figure size 432x288 with 1 Axes>"
            ],
            "image/png": "[encoded data removed]"
          },
          "metadata": {}
        }
      ]
    },
    {
      "cell_type": "code",
      "metadata": {
        "id": "fDM_UhCL2QLt",
        "colab": {
          "base_uri": "https://localhost:8080/",
          "height": 551
        },
        "outputId": "46a96b81-b55f-469b-a8db-3971de467170"
      },
      "source": [
        "unigram_fr1 = Counter(ngrams(fr1,1))\n",
        "plothistogram(unigram_eng1)\n",
        "plt.title('French 1')\n",
        "plt.show()\n",
        "unigram_fr2 = Counter(ngrams(fr2,1))\n",
        "plothistogram(unigram_fr2)\n",
        "plt.title('French 2')\n",
        "plt.show()"
      ],
      "execution_count": 84,
      "outputs": [
        {
          "output_type": "display_data",
          "data": {
            "text/plain": [
              "<Figure size 432x288 with 1 Axes>"
            ],
            "image/png": "[encoded data removed]"
          },
          "metadata": {}
        },
        {
          "output_type": "display_data",
          "data": {
            "text/plain": [
              "<Figure size 432x288 with 1 Axes>"
            ],
            "image/png": "[encoded data removed]"
          },
          "metadata": {}
        }
      ]
    },
    {
      "cell_type": "markdown",
      "source": [
        "## A good feature is one that helps in easy prediction and classification. \n",
        "## for ex : if you wish to differentiate between grapes and apples, size can be one of the useful features."
      ],
      "metadata": {
        "id": "VUEys9KoA0L0"
      }
    },
    {
      "cell_type": "markdown",
      "metadata": {
        "id": "kxgrdZLKdkAB"
      },
      "source": [
        "We can see that the unigrams for French and English are very similar. So this is not a good feature if we want to distinguish between English and French. Let us look at bigrams."
      ]
    },
    {
      "cell_type": "code",
      "metadata": {
        "id": "OmRCxItx2T9W",
        "colab": {
          "base_uri": "https://localhost:8080/",
          "height": 1000
        },
        "outputId": "3c45736a-0a56-475f-81e5-f7de6e2ef446"
      },
      "source": [
        "## Now instead of unigram, we will use bigrams as features, and see how useful bigrams are as features.\n",
        "\n",
        "bigram_eng1 = Counter(ngrams(eng1,2)) # bigrams\n",
        "plothistogram(bigram_eng1)\n",
        "plt.title('English 1')\n",
        "plt.show()\n",
        "\n",
        "bigram_eng2 = Counter(ngrams(eng2,2))\n",
        "plothistogram(bigram_eng2)\n",
        "plt.title('English 2')\n",
        "plt.show()\n",
        "\n",
        "bigram_fr1 = Counter(ngrams(fr1,2))\n",
        "plothistogram(bigram_eng1)\n",
        "plt.title('French 1')\n",
        "plt.show()\n",
        "\n",
        "bigram_fr2 = Counter(ngrams(fr2,2))\n",
        "plothistogram(bigram_fr2)\n",
        "plt.title('French 2')\n",
        "plt.show()"
      ],
      "execution_count": 85,
      "outputs": [
        {
          "output_type": "display_data",
          "data": {
            "text/plain": [
              "<Figure size 432x288 with 1 Axes>"
            ],
            "image/png": "[encoded data removed]"
          },
          "metadata": {}
        },
        {
          "output_type": "display_data",
          "data": {
            "text/plain": [
              "<Figure size 432x288 with 1 Axes>"
            ],
            "image/png": "[encoded data removed]"
          },
          "metadata": {}
        },
        {
          "output_type": "display_data",
          "data": {
            "text/plain": [
              "<Figure size 432x288 with 1 Axes>"
            ],
            "image/png": "[encoded data removed]"
          },
          "metadata": {}
        },
        {
          "output_type": "display_data",
          "data": {
            "text/plain": [
              "<Figure size 432x288 with 1 Axes>"
            ],
            "image/png": "[encoded data removed]"
          },
          "metadata": {}
        }
      ]
    },
    {
      "cell_type": "markdown",
      "metadata": {
        "id": "O-egsHMIg5Rp"
      },
      "source": [
        "Another way to visualize bigrams is to use a 2-dimensional graph."
      ]
    },
    {
      "cell_type": "code",
      "source": [
        "## lets have a lot at bigrams.\n",
        "\n",
        "bigram_eng1\n"
      ],
      "metadata": {
        "colab": {
          "base_uri": "https://localhost:8080/"
        },
        "id": "7LYSVe02dG59",
        "outputId": "543a1468-07ab-48a3-b8de-3cdf13a0d0a9"
      },
      "execution_count": 86,
      "outputs": [
        {
          "output_type": "execute_result",
          "data": {
            "text/plain": [
              "Counter({('t', 'h'): 836,\n",
              "         ('h', 'e'): 694,\n",
              "         ('e', 'g'): 164,\n",
              "         ('g', 'i'): 279,\n",
              "         ('i', 'r'): 315,\n",
              "         ('r', 'a'): 441,\n",
              "         ('a', 'f'): 258,\n",
              "         ('f', 'f'): 262,\n",
              "         ('f', 'e'): 286,\n",
              "         ('e', 'i'): 145,\n",
              "         ('i', 's'): 212,\n",
              "         ('s', 'a'): 240,\n",
              "         ('a', 'l'): 398,\n",
              "         ('l', 'a'): 180,\n",
              "         ('a', 'r'): 323,\n",
              "         ('r', 'g'): 39,\n",
              "         ('g', 'e'): 151,\n",
              "         ('e', 'a'): 347,\n",
              "         ('f', 'r'): 77,\n",
              "         ('r', 'i'): 161,\n",
              "         ('i', 'c'): 161,\n",
              "         ('c', 'a'): 168,\n",
              "         ('a', 'n'): 523,\n",
              "         ('n', 'h'): 25,\n",
              "         ('h', 'o'): 110,\n",
              "         ('o', 'o'): 58,\n",
              "         ('o', 'f'): 194,\n",
              "         ('e', 'd'): 280,\n",
              "         ('d', 'm'): 35,\n",
              "         ('m', 'a'): 243,\n",
              "         ('a', 'm'): 77,\n",
              "         ('m', 'm'): 29,\n",
              "         ('l', 'b'): 11,\n",
              "         ('b', 'e'): 121,\n",
              "         ('e', 'l'): 155,\n",
              "         ('l', 'o'): 147,\n",
              "         ('o', 'n'): 368,\n",
              "         ('n', 'g'): 329,\n",
              "         ('i', 'n'): 587,\n",
              "         ('g', 't'): 75,\n",
              "         ('t', 'o'): 246,\n",
              "         ('o', 't'): 138,\n",
              "         ('e', 'n'): 322,\n",
              "         ('n', 'u'): 25,\n",
              "         ('u', 's'): 101,\n",
              "         ('s', 'g'): 42,\n",
              "         ('f', 'a'): 65,\n",
              "         ('a', 'i'): 79,\n",
              "         ('i', 't'): 262,\n",
              "         ('t', 'i'): 317,\n",
              "         ('s', 't'): 365,\n",
              "         ('e', 't'): 175,\n",
              "         ('t', 'a'): 145,\n",
              "         ('l', 'l'): 134,\n",
              "         ('l', 'e'): 266,\n",
              "         ('e', 's'): 659,\n",
              "         ('t', 'l'): 45,\n",
              "         ('l', 'i'): 161,\n",
              "         ('i', 'v'): 92,\n",
              "         ('v', 'i'): 78,\n",
              "         ('t', 'e'): 283,\n",
              "         ('e', 'r'): 467,\n",
              "         ('r', 'r'): 34,\n",
              "         ('r', 'e'): 450,\n",
              "         ('t', 'r'): 91,\n",
              "         ('i', 'a'): 70,\n",
              "         ('n', 'i'): 112,\n",
              "         ('i', 'm'): 70,\n",
              "         ('n', 'd'): 384,\n",
              "         ('d', 't'): 125,\n",
              "         ('r', 'u'): 39,\n",
              "         ('u', 'm'): 58,\n",
              "         ('m', 'i'): 83,\n",
              "         ('n', 'a'): 169,\n",
              "         ('n', 't'): 303,\n",
              "         ('n', 'e'): 193,\n",
              "         ('r', 't'): 139,\n",
              "         ('h', 't'): 74,\n",
              "         ('a', 'd'): 96,\n",
              "         ('d', 'i'): 158,\n",
              "         ('i', 'o'): 162,\n",
              "         ('l', 'y'): 127,\n",
              "         ('y', 'g'): 20,\n",
              "         ('s', 'w'): 81,\n",
              "         ('w', 'e'): 77,\n",
              "         ('o', 'u'): 190,\n",
              "         ('u', 'g'): 47,\n",
              "         ('g', 'h'): 89,\n",
              "         ('t', 't'): 83,\n",
              "         ('o', 'b'): 29,\n",
              "         ('e', 'o'): 86,\n",
              "         ('s', 'p'): 115,\n",
              "         ('p', 'e'): 136,\n",
              "         ('e', 'c'): 238,\n",
              "         ('c', 'i'): 101,\n",
              "         ('i', 'e'): 106,\n",
              "         ('a', 'c'): 127,\n",
              "         ('m', 'e'): 134,\n",
              "         ('o', 'p'): 79,\n",
              "         ('p', 'a'): 80,\n",
              "         ('r', 'd'): 53,\n",
              "         ('d', 'a'): 131,\n",
              "         ('w', 'i'): 92,\n",
              "         ('h', 'n'): 5,\n",
              "         ('s', 'u'): 106,\n",
              "         ('u', 'b'): 27,\n",
              "         ('b', 's'): 15,\n",
              "         ('s', 'm'): 68,\n",
              "         ('m', 'o'): 141,\n",
              "         ('o', 's'): 100,\n",
              "         ('c', 'e'): 108,\n",
              "         ('y', 'r'): 16,\n",
              "         ('s', 'e'): 232,\n",
              "         ('r', 'c'): 38,\n",
              "         ('c', 'h'): 134,\n",
              "         ('r', 's'): 113,\n",
              "         ('p', 'r'): 106,\n",
              "         ('r', 'o'): 236,\n",
              "         ('p', 'o'): 92,\n",
              "         ('d', 'd'): 28,\n",
              "         ('i', 'd'): 47,\n",
              "         ('e', 'm'): 149,\n",
              "         ('u', 'p'): 50,\n",
              "         ('p', 't'): 45,\n",
              "         ('o', 'e'): 19,\n",
              "         ('i', 'g'): 80,\n",
              "         ('e', 'x'): 47,\n",
              "         ('x', 't'): 20,\n",
              "         ('t', 's'): 177,\n",
              "         ('s', 'd'): 33,\n",
              "         ('d', 'u'): 66,\n",
              "         ('u', 'e'): 13,\n",
              "         ('e', 'w'): 70,\n",
              "         ('w', 'r'): 4,\n",
              "         ('h', 'i'): 146,\n",
              "         ('r', 'm'): 44,\n",
              "         ('o', 'c'): 55,\n",
              "         ('d', 'r'): 33,\n",
              "         ('d', 'n'): 17,\n",
              "         ('u', 'c'): 39,\n",
              "         ('c', 'l'): 33,\n",
              "         ('a', 'a'): 22,\n",
              "         ('a', 's'): 231,\n",
              "         ('o', 'r'): 258,\n",
              "         ('r', 'p'): 21,\n",
              "         ('p', 'h'): 20,\n",
              "         ('o', 'l'): 72,\n",
              "         ('o', 'g'): 34,\n",
              "         ('l', 'm'): 11,\n",
              "         ('u', 'r'): 129,\n",
              "         ('s', 's'): 129,\n",
              "         ('e', 'v'): 57,\n",
              "         ('v', 'e'): 228,\n",
              "         ('n', 'o'): 99,\n",
              "         ('n', 'c'): 103,\n",
              "         ('c', 't'): 87,\n",
              "         ('s', 'o'): 168,\n",
              "         ('f', 'g'): 19,\n",
              "         ('e', 'k'): 14,\n",
              "         ('k', 'n'): 13,\n",
              "         ('o', 'w'): 92,\n",
              "         ('w', 'n'): 21,\n",
              "         ('n', 'f'): 27,\n",
              "         ('o', 'm'): 156,\n",
              "         ('m', 't'): 21,\n",
              "         ('e', 'f'): 82,\n",
              "         ('f', 'o'): 118,\n",
              "         ('s', 'i'): 215,\n",
              "         ('i', 'l'): 115,\n",
              "         ('l', 'r'): 4,\n",
              "         ('c', 'o'): 169,\n",
              "         ('s', 'c'): 82,\n",
              "         ('f', 'd'): 6,\n",
              "         ('g', 'u'): 23,\n",
              "         ('u', 'i'): 18,\n",
              "         ('s', 'h'): 98,\n",
              "         ('g', 'c'): 13,\n",
              "         ('h', 'a'): 237,\n",
              "         ('c', 's'): 6,\n",
              "         ('y', 'l'): 18,\n",
              "         ('g', 'n'): 18,\n",
              "         ('c', 'k'): 82,\n",
              "         ('k', 'a'): 30,\n",
              "         ('d', 'l'): 28,\n",
              "         ('g', 's'): 41,\n",
              "         ('r', 'n'): 56,\n",
              "         ('n', 'l'): 35,\n",
              "         ('i', 'k'): 15,\n",
              "         ('k', 'e'): 50,\n",
              "         ('d', 'c'): 25,\n",
              "         ('o', 'a'): 32,\n",
              "         ('a', 't'): 339,\n",
              "         ('t', 'p'): 22,\n",
              "         ('n', 's'): 140,\n",
              "         ('i', 'f'): 32,\n",
              "         ('f', 'i'): 61,\n",
              "         ('u', 'n'): 93,\n",
              "         ('d', 'e'): 137,\n",
              "         ('a', 'e'): 28,\n",
              "         ('g', 'w'): 7,\n",
              "         ('o', 'k'): 29,\n",
              "         ('a', 'p'): 72,\n",
              "         ('p', 'i'): 47,\n",
              "         ('i', 'i'): 4,\n",
              "         ('e', 'e'): 142,\n",
              "         ('d', 's'): 71,\n",
              "         ('s', 'f'): 50,\n",
              "         ('m', 'c'): 3,\n",
              "         ('u', 't'): 55,\n",
              "         ('d', 'f'): 41,\n",
              "         ('m', 'n'): 5,\n",
              "         ('t', 'g'): 20,\n",
              "         ('u', 'a'): 25,\n",
              "         ('y', 'i'): 24,\n",
              "         ('a', 'b'): 58,\n",
              "         ('b', 'i'): 41,\n",
              "         ('a', 'v'): 77,\n",
              "         ('v', 'a'): 49,\n",
              "         ('n', 'n'): 17,\n",
              "         ('a', 'h'): 19,\n",
              "         ('h', 's'): 20,\n",
              "         ('d', 'w'): 15,\n",
              "         ('w', 'o'): 27,\n",
              "         ('o', 'd'): 81,\n",
              "         ('r', 'f'): 29,\n",
              "         ('s', 'l'): 44,\n",
              "         ('f', 'l'): 24,\n",
              "         ('f', 'w'): 4,\n",
              "         ('d', 'y'): 23,\n",
              "         ('y', 'p'): 35,\n",
              "         ('p', 'l'): 32,\n",
              "         ('y', 'a'): 60,\n",
              "         ('w', 'h'): 70,\n",
              "         ('e', 'y'): 44,\n",
              "         ('y', 'b'): 16,\n",
              "         ('b', 'r'): 53,\n",
              "         ('w', 's'): 22,\n",
              "         ('r', 'h'): 15,\n",
              "         ('r', 'b'): 18,\n",
              "         ('v', 'o'): 12,\n",
              "         ('h', 'l'): 11,\n",
              "         ('d', 'h'): 20,\n",
              "         ('h', 'y'): 21,\n",
              "         ('y', 'e'): 24,\n",
              "         ('n', 'w'): 11,\n",
              "         ('l', 'd'): 45,\n",
              "         ('d', 'o'): 69,\n",
              "         ('a', 'y'): 43,\n",
              "         ('y', 'u'): 5,\n",
              "         ('f', 's'): 13,\n",
              "         ('g', 'o'): 22,\n",
              "         ('b', 'a'): 41,\n",
              "         ('f', 'u'): 15,\n",
              "         ('n', 'r'): 22,\n",
              "         ('u', 'l'): 101,\n",
              "         ('l', 't'): 65,\n",
              "         ('t', 'm'): 19,\n",
              "         ('s', 'b'): 65,\n",
              "         ('b', 'u'): 25,\n",
              "         ('g', 'r'): 63,\n",
              "         ('g', 'a'): 67,\n",
              "         ('a', 'g'): 70,\n",
              "         ('g', 'g'): 29,\n",
              "         ('b', 'l'): 60,\n",
              "         ('l', 'h'): 5,\n",
              "         ('h', 'r'): 22,\n",
              "         ('k', 'i'): 45,\n",
              "         ('m', 'b'): 28,\n",
              "         ('t', 'b'): 12,\n",
              "         ('b', 'o'): 42,\n",
              "         ('a', 'w'): 13,\n",
              "         ('n', 'm'): 22,\n",
              "         ('c', 'c'): 20,\n",
              "         ('h', 'b'): 7,\n",
              "         ('i', 'b'): 19,\n",
              "         ('t', 'y'): 37,\n",
              "         ('y', 'f'): 15,\n",
              "         ('y', 'o'): 32,\n",
              "         ('e', 'h'): 54,\n",
              "         ('d', 'v'): 10,\n",
              "         ('c', 'u'): 39,\n",
              "         ('t', 'u'): 52,\n",
              "         ('p', 'p'): 43,\n",
              "         ('f', 't'): 75,\n",
              "         ('n', 'b'): 24,\n",
              "         ('n', 'p'): 12,\n",
              "         ('k', 's'): 26,\n",
              "         ('d', 'b'): 34,\n",
              "         ('b', 'y'): 31,\n",
              "         ('y', 't'): 40,\n",
              "         ('l', 'u'): 29,\n",
              "         ('r', 'v'): 43,\n",
              "         ('f', 'n'): 4,\n",
              "         ('i', 'u'): 15,\n",
              "         ('c', 'n'): 3,\n",
              "         ('s', 'v'): 5,\n",
              "         ('v', 'u'): 4,\n",
              "         ('l', 'n'): 9,\n",
              "         ('n', 'y'): 13,\n",
              "         ('l', 'f'): 20,\n",
              "         ('s', 'n'): 21,\n",
              "         ('l', 'p'): 15,\n",
              "         ('r', 'k'): 12,\n",
              "         ('d', 'g'): 23,\n",
              "         ('o', 'x'): 12,\n",
              "         ('x', 'i'): 15,\n",
              "         ('y', 'm'): 14,\n",
              "         ('e', 'p'): 84,\n",
              "         ('n', 'z'): 6,\n",
              "         ('z', 'o'): 7,\n",
              "         ('g', 'y'): 9,\n",
              "         ('r', 'l'): 37,\n",
              "         ('t', 'k'): 3,\n",
              "         ('c', 'w'): 2,\n",
              "         ('d', 'z'): 5,\n",
              "         ('z', 'a'): 4,\n",
              "         ('h', 'p'): 6,\n",
              "         ('p', 's'): 22,\n",
              "         ('l', 's'): 70,\n",
              "         ('b', 'n'): 1,\n",
              "         ('t', 'w'): 41,\n",
              "         ('w', 'a'): 47,\n",
              "         ('l', 'k'): 9,\n",
              "         ('g', 'l'): 19,\n",
              "         ('s', 'j'): 1,\n",
              "         ('j', 'a'): 6,\n",
              "         ('z', 'i'): 4,\n",
              "         ('h', 'w'): 6,\n",
              "         ('e', 'u'): 30,\n",
              "         ('d', 'p'): 23,\n",
              "         ('y', 'd'): 9,\n",
              "         ('h', 'j'): 2,\n",
              "         ('h', 'g'): 7,\n",
              "         ('a', 'u'): 24,\n",
              "         ('t', 'z'): 1,\n",
              "         ('z', 't'): 1,\n",
              "         ('m', 'g'): 5,\n",
              "         ('h', 'f'): 8,\n",
              "         ('m', 'd'): 3,\n",
              "         ('t', 'd'): 12,\n",
              "         ('k', 'k'): 1,\n",
              "         ('m', 'l'): 2,\n",
              "         ('m', 'k'): 1,\n",
              "         ('k', 'm'): 4,\n",
              "         ('o', 'i'): 15,\n",
              "         ('a', 'x'): 6,\n",
              "         ('x', 'o'): 8,\n",
              "         ('m', 'y'): 13,\n",
              "         ('a', 'o'): 7,\n",
              "         ('y', 'w'): 6,\n",
              "         ('m', 'u'): 24,\n",
              "         ('h', 'm'): 14,\n",
              "         ('o', 'v'): 35,\n",
              "         ('l', 'g'): 10,\n",
              "         ('c', 'r'): 25,\n",
              "         ('o', 'h'): 16,\n",
              "         ('m', 'p'): 39,\n",
              "         ('t', 'v'): 5,\n",
              "         ('e', 'b'): 74,\n",
              "         ('s', 'k'): 32,\n",
              "         ('k', 'u'): 16,\n",
              "         ('f', 'v'): 2,\n",
              "         ('r', 'w'): 10,\n",
              "         ('h', 'u'): 17,\n",
              "         ('r', 'y'): 42,\n",
              "         ('y', 'x'): 4,\n",
              "         ('x', 'w'): 2,\n",
              "         ('h', 'h'): 10,\n",
              "         ('m', 's'): 12,\n",
              "         ('i', 'z'): 9,\n",
              "         ('z', 'e'): 11,\n",
              "         ('x', 'a'): 5,\n",
              "         ('b', 'c'): 3,\n",
              "         ('x', 'm'): 3,\n",
              "         ('y', 'h'): 16,\n",
              "         ('l', 'w'): 5,\n",
              "         ('l', 'c'): 18,\n",
              "         ('s', 'r'): 26,\n",
              "         ('x', 's'): 3,\n",
              "         ('m', 'w'): 5,\n",
              "         ('l', 'v'): 28,\n",
              "         ('k', 'p'): 5,\n",
              "         ('y', 's'): 44,\n",
              "         ('g', 'j'): 2,\n",
              "         ('j', 'u'): 10,\n",
              "         ('y', 'c'): 11,\n",
              "         ('c', 'p'): 1,\n",
              "         ('t', 'c'): 30,\n",
              "         ('u', 'd'): 27,\n",
              "         ('x', 'p'): 8,\n",
              "         ('f', 'm'): 12,\n",
              "         ('h', 'c'): 16,\n",
              "         ('n', 'j'): 5,\n",
              "         ('c', 'q'): 1,\n",
              "         ('q', 'u'): 13,\n",
              "         ('g', 'm'): 11,\n",
              "         ('i', 'x'): 6,\n",
              "         ('x', 'l'): 1,\n",
              "         ('g', 'd'): 9,\n",
              "         ('i', 'p'): 19,\n",
              "         ('x', 'c'): 3,\n",
              "         ('g', 'f'): 4,\n",
              "         ('p', 'u'): 23,\n",
              "         ('e', 'q'): 8,\n",
              "         ('p', 'b'): 2,\n",
              "         ('a', 'j'): 2,\n",
              "         ('p', 'y'): 2,\n",
              "         ('m', 'f'): 12,\n",
              "         ('k', 'g'): 7,\n",
              "         ('b', 'f'): 4,\n",
              "         ('d', 'k'): 6,\n",
              "         ('t', 'f'): 19,\n",
              "         ('k', 't'): 5,\n",
              "         ('u', 'f'): 8,\n",
              "         ('f', 'h'): 5,\n",
              "         ('k', 'b'): 4,\n",
              "         ('t', 'n'): 5,\n",
              "         ('w', 'm'): 2,\n",
              "         ('g', 'p'): 8,\n",
              "         ('i', 'q'): 2,\n",
              "         ('x', 'b'): 1,\n",
              "         ('s', 'y'): 8,\n",
              "         ('x', 'u'): 6,\n",
              "         ('x', 'e'): 2,\n",
              "         ('c', 'm'): 9,\n",
              "         ('g', 'v'): 2,\n",
              "         ('p', 'w'): 5,\n",
              "         ('p', 'c'): 2,\n",
              "         ('w', 't'): 9,\n",
              "         ('p', 'f'): 1,\n",
              "         ('k', 'o'): 6,\n",
              "         ('k', 'l'): 5,\n",
              "         ('r', 'j'): 2,\n",
              "         ('w', 'c'): 3,\n",
              "         ('k', 'w'): 3,\n",
              "         ('u', 'v'): 2,\n",
              "         ('k', 'r'): 3,\n",
              "         ('a', 'k'): 10,\n",
              "         ('g', 'b'): 7,\n",
              "         ('o', 'y'): 4,\n",
              "         ('c', 'v'): 4,\n",
              "         ('k', 'v'): 1,\n",
              "         ('t', 'j'): 2,\n",
              "         ('j', 'o'): 2,\n",
              "         ('b', 'd'): 1,\n",
              "         ('n', 'q'): 1,\n",
              "         ('f', 'b'): 9,\n",
              "         ('k', 'd'): 2,\n",
              "         ('c', 'g'): 1,\n",
              "         ('h', 'd'): 5,\n",
              "         ('b', 't'): 1,\n",
              "         ('y', 'n'): 12,\n",
              "         ('f', 'c'): 4,\n",
              "         ('b', 'j'): 5,\n",
              "         ('j', 'e'): 5,\n",
              "         ('n', 'k'): 16,\n",
              "         ('k', 'y'): 3,\n",
              "         ('m', 'h'): 4,\n",
              "         ('n', 'x'): 1,\n",
              "         ('w', 'w'): 2,\n",
              "         ('x', 'y'): 2,\n",
              "         ('e', 'j'): 1,\n",
              "         ('n', 'v'): 6,\n",
              "         ('f', 'p'): 4,\n",
              "         ('c', 'y'): 2,\n",
              "         ('f', 'y'): 1,\n",
              "         ('b', 'p'): 1,\n",
              "         ('x', 'g'): 1,\n",
              "         ('e', 'z'): 2,\n",
              "         ('w', 'l'): 1,\n",
              "         ('p', 'm'): 2,\n",
              "         ('h', 'v'): 1,\n",
              "         ('b', 'm'): 1,\n",
              "         ('w', 'b'): 2,\n",
              "         ('w', 'd'): 2,\n",
              "         ('p', 'n'): 1,\n",
              "         ('b', 'g'): 1,\n",
              "         ('k', 'c'): 1,\n",
              "         ('y', 'k'): 1,\n",
              "         ('a', 'q'): 1,\n",
              "         ('y', 'z'): 2,\n",
              "         ('w', 'f'): 1,\n",
              "         ('u', 'x'): 3,\n",
              "         ('p', 'g'): 1,\n",
              "         ('y', 'j'): 1,\n",
              "         ('i', 'w'): 2,\n",
              "         ('r', 'z'): 1,\n",
              "         ('z', 'h'): 1,\n",
              "         ('l', 'q'): 1,\n",
              "         ('q', 'i'): 1,\n",
              "         ('s', 'x'): 1,\n",
              "         ('h', 'k'): 1,\n",
              "         ('g', 'z'): 1,\n",
              "         ('m', 'v'): 1,\n",
              "         ('m', 'r'): 2,\n",
              "         ('f', 'k'): 1,\n",
              "         ('k', 'h'): 3,\n",
              "         ('a', 'z'): 1})"
            ]
          },
          "metadata": {},
          "execution_count": 86
        }
      ]
    },
    {
      "cell_type": "code",
      "metadata": {
        "id": "3EaPJgtaVxZM"
      },
      "source": [
        "## a function to plot 2-D histogram. The values are color mapped. \n",
        "\n",
        "def plotbihistogram(ngram):\n",
        "  freq = np.zeros((26,26))\n",
        "  for ii in range(26):\n",
        "    for jj in range(26):\n",
        "      freq[ii,jj] = ngram[(chr(ord('a')+ii), chr(ord('a')+jj))] #ord converts char to code\n",
        "  plt.imshow(freq, cmap = 'jet')\n",
        "  plt.colorbar()\n",
        "  return freq"
      ],
      "execution_count": 87,
      "outputs": []
    },
    {
      "cell_type": "code",
      "source": [
        "ord"
      ],
      "metadata": {
        "colab": {
          "base_uri": "https://localhost:8080/"
        },
        "id": "4IFVtO8q8TJB",
        "outputId": "66b2afdc-e52f-4212-f117-25fae5872851"
      },
      "execution_count": 88,
      "outputs": [
        {
          "output_type": "execute_result",
          "data": {
            "text/plain": [
              "<function ord(c, /)>"
            ]
          },
          "metadata": {},
          "execution_count": 88
        }
      ]
    },
    {
      "cell_type": "code",
      "metadata": {
        "id": "M7jq3AwnVzQT",
        "colab": {
          "base_uri": "https://localhost:8080/",
          "height": 519
        },
        "outputId": "9ee03904-8f77-40af-a425-c8b6b71a4a92"
      },
      "source": [
        "bieng1 = plotbihistogram(bigram_eng1)\n",
        "plt.show()\n",
        "bieng2 = plotbihistogram(bigram_eng2)"
      ],
      "execution_count": 89,
      "outputs": [
        {
          "output_type": "display_data",
          "data": {
            "text/plain": [
              "<Figure size 432x288 with 2 Axes>"
            ],
            "image/png": "[encoded data removed]"
          },
          "metadata": {}
        },
        {
          "output_type": "display_data",
          "data": {
            "text/plain": [
              "<Figure size 432x288 with 2 Axes>"
            ],
            "image/png": "[encoded data removed]"
          },
          "metadata": {}
        }
      ]
    },
    {
      "cell_type": "code",
      "metadata": {
        "id": "UXPTOj67WsPT",
        "colab": {
          "base_uri": "https://localhost:8080/",
          "height": 519
        },
        "outputId": "75d2931a-fd27-4be4-8955-e917a6f55728"
      },
      "source": [
        "bifr1 = plotbihistogram(bigram_fr1)\n",
        "plt.show()\n",
        "bifr2 = plotbihistogram(bigram_fr2)"
      ],
      "execution_count": 90,
      "outputs": [
        {
          "output_type": "display_data",
          "data": {
            "text/plain": [
              "<Figure size 432x288 with 2 Axes>"
            ],
            "image/png": "[encoded data removed]"
          },
          "metadata": {}
        },
        {
          "output_type": "display_data",
          "data": {
            "text/plain": [
              "<Figure size 432x288 with 2 Axes>"
            ],
            "image/png": "[encoded data removed]"
          },
          "metadata": {}
        }
      ]
    },
    {
      "cell_type": "markdown",
      "metadata": {
        "id": "rGOEHcyGokD0"
      },
      "source": [
        "Let us look at the top 10 ngrams for each text. "
      ]
    },
    {
      "cell_type": "code",
      "metadata": {
        "id": "dk2TkzTno8vb"
      },
      "source": [
        "from IPython.core.debugger import set_trace\n",
        "\n",
        "def ind2tup(ind):\n",
        "  ind = int(ind)\n",
        "  i = int(ind/26)\n",
        "  j = int(ind%26)\n",
        "  return (chr(ord('a')+i), chr(ord('a')+j))\n",
        "\n",
        "def ShowTopN(bifreq, n=10):\n",
        "  f = bifreq.flatten()\n",
        "  arg = np.argsort(-f)\n",
        "  for ii in range(n):\n",
        "    print(f'{ind2tup(arg[ii])} : {f[arg[ii]]}')\n"
      ],
      "execution_count": 91,
      "outputs": []
    },
    {
      "cell_type": "code",
      "metadata": {
        "id": "_HeWNh_q0QZ1",
        "colab": {
          "base_uri": "https://localhost:8080/"
        },
        "outputId": "d6b9f582-963d-45ed-a9fc-9f89f5028dec"
      },
      "source": [
        "print('\\nEnglish 1:')\n",
        "ShowTopN(bieng1)\n",
        "print('\\nEnglish 2:')\n",
        "ShowTopN(bieng2)\n",
        "print('\\nFrench 1:')\n",
        "ShowTopN(bifr1)\n",
        "print('\\nFrench 2:')\n",
        "ShowTopN(bifr2)"
      ],
      "execution_count": 92,
      "outputs": [
        {
          "output_type": "stream",
          "name": "stdout",
          "text": [
            "\n",
            "English 1:\n",
            "('t', 'h') : 836.0\n",
            "('h', 'e') : 694.0\n",
            "('e', 's') : 659.0\n",
            "('i', 'n') : 587.0\n",
            "('a', 'n') : 523.0\n",
            "('e', 'r') : 467.0\n",
            "('r', 'e') : 450.0\n",
            "('r', 'a') : 441.0\n",
            "('a', 'l') : 398.0\n",
            "('n', 'd') : 384.0\n",
            "\n",
            "English 2:\n",
            "('t', 'h') : 1482.0\n",
            "('a', 'n') : 1366.0\n",
            "('h', 'e') : 1194.0\n",
            "('i', 'n') : 1013.0\n",
            "('n', 't') : 828.0\n",
            "('e', 'r') : 803.0\n",
            "('e', 's') : 759.0\n",
            "('r', 'e') : 755.0\n",
            "('l', 'e') : 720.0\n",
            "('h', 'a') : 715.0\n",
            "\n",
            "French 1:\n",
            "('e', 's') : 735.0\n",
            "('l', 'e') : 437.0\n",
            "('e', 'n') : 410.0\n",
            "('d', 'e') : 388.0\n",
            "('o', 'n') : 349.0\n",
            "('n', 't') : 328.0\n",
            "('r', 'e') : 314.0\n",
            "('e', 'l') : 302.0\n",
            "('s', 'e') : 254.0\n",
            "('l', 'a') : 244.0\n",
            "\n",
            "French 2:\n",
            "('e', 's') : 1036.0\n",
            "('n', 't') : 795.0\n",
            "('d', 'e') : 657.0\n",
            "('e', 'n') : 650.0\n",
            "('l', 'e') : 625.0\n",
            "('a', 'n') : 557.0\n",
            "('r', 'e') : 485.0\n",
            "('o', 'n') : 484.0\n",
            "('e', 'l') : 442.0\n",
            "('s', 'e') : 390.0\n"
          ]
        }
      ]
    },
    {
      "cell_type": "markdown",
      "source": [
        "## At times, we need to reduce the number of features. We will discuss this more in the upcoming sessions, but a small example has been discussed here. Instead of using each unique token (a word) as a feature, we reduced the number of features by using 1-gram and 2-gram of characters as features."
      ],
      "metadata": {
        "id": "RfwwQj_4CyBA"
      }
    },
    {
      "cell_type": "markdown",
      "metadata": {
        "id": "6kDovOP4l98z"
      },
      "source": [
        "We observe that the bigrams are similar across different topics but different across languages. Thus, the bigram frequency is a good feature for distinguishing languages, but not for distinguishing topics. \n",
        "\n",
        "Thus, we were able to convert a many-dimensional input (the text) to 26 dimesions (unigrams) or 26*26 dimensions (bigrams).\n",
        "\n",
        "\n",
        "A few ways to explore:\n",
        "1. Try with different languages.\n",
        "2. The topics we used are quite similar, wikipedia articles of 'elephant' and 'giraffe'. What happens if we use very different topics? What if we use text from another source than Wikipedia?\n",
        "3. How can we use and visualize trigrams and higher n-grams?"
      ]
    },
    {
      "cell_type": "markdown",
      "source": [
        "#Answer for Question 1"
      ],
      "metadata": {
        "id": "K7GUNWY5_P6S"
      }
    },
    {
      "cell_type": "code",
      "source": [
        "! pip install wikipedia\n",
        "\n",
        "import wikipedia\n",
        "import nltk\n",
        "from nltk.util import ngrams \n",
        "from collections import Counter\n",
        "import matplotlib.pyplot as plt\n",
        "import numpy as np\n",
        "import re\n",
        "import unicodedata\n",
        "import plotly.express as px\n",
        "import pandas as pd"
      ],
      "metadata": {
        "id": "2uYpmVvu_ajA",
        "outputId": "04332c90-6f56-426c-ec99-f691a0da5b85",
        "colab": {
          "base_uri": "https://localhost:8080/"
        }
      },
      "execution_count": 93,
      "outputs": [
        {
          "output_type": "stream",
          "name": "stdout",
          "text": [
            "Looking in indexes: https://pypi.org/simple, https://us-python.pkg.dev/colab-wheels/public/simple/\n",
            "Requirement already satisfied: wikipedia in /usr/local/lib/python3.7/dist-packages (1.4.0)\n",
            "Requirement already satisfied: beautifulsoup4 in /usr/local/lib/python3.7/dist-packages (from wikipedia) (4.6.3)\n",
            "Requirement already satisfied: requests<3.0.0,>=2.0.0 in /usr/local/lib/python3.7/dist-packages (from wikipedia) (2.23.0)\n",
            "Requirement already satisfied: certifi>=2017.4.17 in /usr/local/lib/python3.7/dist-packages (from requests<3.0.0,>=2.0.0->wikipedia) (2022.6.15)\n",
            "Requirement already satisfied: idna<3,>=2.5 in /usr/local/lib/python3.7/dist-packages (from requests<3.0.0,>=2.0.0->wikipedia) (2.10)\n",
            "Requirement already satisfied: urllib3!=1.25.0,!=1.25.1,<1.26,>=1.21.1 in /usr/local/lib/python3.7/dist-packages (from requests<3.0.0,>=2.0.0->wikipedia) (1.24.3)\n",
            "Requirement already satisfied: chardet<4,>=3.0.2 in /usr/local/lib/python3.7/dist-packages (from requests<3.0.0,>=2.0.0->wikipedia) (3.0.4)\n"
          ]
        }
      ]
    },
    {
      "cell_type": "code",
      "source": [
        "data1 = 'APPLE'\n",
        "data2 = 'BANANA'\n",
        "wikipedia.set_lang('ar') #using set launguage download the data in required language\n",
        "arb1 = wikipedia.page(data1).content#total content about the data1 insted of page we can use summary\n",
        "arb2 = wikipedia.page(data2).content\n",
        "wikipedia.set_lang('hi')#hindi language\n",
        "hin1 = wikipedia.page(data1).content\n",
        "hin2 = wikipedia.page(data2).content"
      ],
      "metadata": {
        "id": "x-gW_jttAI58"
      },
      "execution_count": 94,
      "outputs": []
    },
    {
      "cell_type": "code",
      "source": [
        "hin1#data contain in that lauanguge which is taken from wekepedia"
      ],
      "metadata": {
        "id": "mO4oip2SATRH",
        "outputId": "a5dd2c81-1896-4b65-9109-eb155aede0cc",
        "colab": {
          "base_uri": "https://localhost:8080/",
          "height": 140
        }
      },
      "execution_count": 95,
      "outputs": [
        {
          "output_type": "execute_result",
          "data": {
            "text/plain": [
              "'एप्पल इंक॰ एक अमेरिकी बहुराष्ट्रीय  प्रौद्योगिकी कंपनी है जो उपभोक्ता इलेक्ट्रॉनिक्स, कंप्यूटर सॉफ्टवेयर, और ऑनलाइन सेवा उत्पादों की रचना, विकास और बिक्री करता है । एप्पल राजस्व द्वारा (2021 में कुल $ 365.8 बिलियन) दुनिया की दूसरी सबसे बड़ी प्रौद्योगिकी कंपनी और, मई 2022 में दुनिया की सबसे मूल्यवान कंपनी है। 2021 तक, एप्पल बिक्री के मामले में दुनिया का चौथा सबसे बड़ा पीसी विक्रेता है,  और चौथा सबसे बड़ा स्मार्टफोन निर्माता है । एप्पल का मुख्यालय क्यूपर्टिनो, कैलिफ़ोर्निया में है। एप्पल अमेरिकी सूचना प्रौद्योगिकी कम्पनियों  एमाज़ॉन, फेसबुक, गूगल, और माइक्रोसॉफ्ट के साथ प्रौद्योगिकी के बिग फाइव में से एक माना जाता है ।\\nएप्पल इंक॰ की स्थापना स्टीव जॉब्स, स्टीव वोज़नियाक, और रोनाल्ड वेन ने 1976 में वोज़्निएक के एप्पल  I पर्सनल कंप्यूटर के विकास और बिक्री के लिए की थी । इसे जॉब्स और वोज्नियाक द्वारा 1977 में एप्पल कंप्यूटर, इंक॰ के रूप में निगमित किया गया था, और एप्पल II सहित इसके कंप्यूटरों की बिक्री तेजी से बढ़ी। एप्पल का प्रारंभिक सार्वजनिक निर्गम 1980 में तत्काल वित्तीय सफलता के साथ हो गया । कुछ वर्षों के भीतर ही जॉब्स और वोज्नियाक ने कंप्यूटर डिजाइनरों समेत कई कर्मचारियों को काम पर रखा था और उनकी एक उत्पादन लाइन भी थी। अगले कुछ वर्षों में, एप्पल ने समीक्षकों द्वारा प्रशंसित, रिडले स्कॉट निर्देशित  विज्ञापन \"1984\" के साथ घोषित किए गए मूल मैकिन्टौश जैसे अभिनव ग्राफिकल यूजर इंटरफेस की विशेषता वाले नए कंप्यूटर भेजे। हालांकि अपने उत्पादों की उच्च कीमत और सीमित एप्लिकेशन लाइब्रेरी ने समस्याएं पैदा कीं और तत्कालीन अधिकारियों जॉन स्कली  और जॉब्स के बीच शक्ति संघर्ष हुआ। 1985 में, वोज्नियाक ने सौहार्दपूर्ण ढंग से एप्पल को छोड़ दिया, और एक मानद कर्मचारी बने रहे  जबकि जॉब्स ने अपने साथ एप्पल के कुछ सहकर्मियों के साथ नौकरी से इस्तीफा दे कर नेक्स्ट की स्थापना की ।।जब 1990 के दशक के दौरान व्यक्तिगत कंप्यूटरों के लिए बाजार का विस्तार और विकास हुआ, एप्पल ने इंटेल और माइक्रोसॉफ़्ट विंडोज़ पीसी क्लोन के कम कीमत वाले द्वयधिकार के प्रति महत्वपूर्ण बाजार हिस्सेदारी खो दी। एप्पल बोर्ड ने 1996 में आर्थिक रूप से परेशान कंपनी का पुनर्वास करने के लिए गिल एमेलियो की सीईओ के रूप में भर्ती की | जिन्होंने अपने 500 दिन कार्यकाल में छंटनी, कार्यकारी पुनर्गठन और उत्पाद फोकस जैसे व्यापक सुधारों के साथ संघर्षरत कंपनी को फिर से सफलता के लिए तैयार किया । 1997 में, उन्होंने एप्पल की असफल ऑपरेटिंग सिस्टम रणनीति को हल करने और मूल संस्थापक जॉब्स को वापस लाने के लिए नेक्स्ट खरीदने, निर्णय लिया जिन्होंने उस वर्ष बाद में सीईओ के रूप में अमेलियो की जगह ली।  एप्पल पुनरावर्तक थिंक डिफरेंट अभियान के तहत तेजी से लाभप्रदता पर लौट आया | इसके अंतर्गत जॉब्स द्वारा कंपनी की स्थिति का पुनर्निर्माण करने के लिए 1998 में आईमैक जी3 को लॉन्च किया, 2001 में एप्पल स्टोर की खुदरा श्रृंखला को खोला और सॉफ्टवेयर पोर्टफोलियो को व्यापक बनाने के लिए कई कंपनियों का अधिग्रहण का अधिग्रहण किया ।  जनवरी 2007 में, जॉब्स ने कंपनी का नाम एप्पल कंप्यूटर, इंक॰ से एप्पल इंक॰ बदल कर उपभोक्ता इलेक्ट्रॉनिक्स की ओर अपने स्थानांतरित फोकस को प्रतिबिंबित किया, और महान महत्वपूर्ण प्रशंसा और वित्तीय सफलता के साथ आईफोन लॉन्च किया।  अगस्त 2011 में, स्वास्थ्य जटिलताओं के कारण जॉब्स ने सीईओ के पद से इस्तीफा दे दिया और टिम कुक नए सीईओ बन गए । दो महीने बाद, जॉब्स की मृत्यु हो गई, जो कंपनी के लिए एक युग का अंत था ।\\nकंपनी के मौजूदा हार्डवेयर उत्पादों में आईफोन स्मार्टफोन, आईपैड टैबलेट कंप्यूटर, मैकिनटोश पर्सनल कंप्यूटर, आईपॉड पोर्टेबल मीडिया प्लेयर, एप्पल वॉच स्मार्टवॉच, एप्पल टीवी डिजिटल मीडिया प्लेयर और होमपॉड स्मार्ट स्पीकर शामिल हैं। एप्पल के सॉफ्टवेयर में मैक ओएस और आईओएस ऑपरेटिंग सिस्टम, आईट्यून्स मीडिया प्लेयर, सफारी वेब ब्राउज़र और आईलाइफ और आईवर्क रचनात्मकता और उत्पादकता सुइट्स के साथ-साथ फाइनल कट प्रो, लॉजिक प्रो और एक्सकोड जैसे व्यावसायिक एप्लिकेशन शामिल हैं। इसकी ऑनलाइन सेवाओं में आईट्यून्स स्टोर,  आईओएस ऐप स्टोर  और मैक ऐप स्टोर, एप्पल म्यूज़िक और आईक्लाउड शामिल हैं।\\nएप्पल अपने आकार और राजस्व के लिए अच्छी तरह से जाना जाता है। अगस्त 2018 में, एप्पल इंक॰ सार्वजनिक रूप से कारोबार करने वाली पहली अमेरिकी कंपनी बन गई, जिसका मूल्य $1 ट्रिलियन से अधिक का मूल्य था और दो साल बाद पहली बार $2 ट्रिलियन के मूल्य वाली कंपनी बन गई । दुनिया भर में उनके 1.65 बिलियन एप्पल उत्पाद उपयोग में हैं। कंपनी के पास उच्च स्तर की ब्रांड निष्ठा है और इसे दुनिया के सबसे मूल्यवान ब्रांड के रूप में स्थान दिया गया है। हालांकि, एप्पल को इसके ठेकेदारों की श्रम प्रथाओं, इसकी पर्यावरणीय प्रथाओं और व्यावसायिक नैतिकता के बारे में, जिसमें प्रतिस्पर्धा-विरोधी व्यवहार, साथ ही स्रोत सामग्री की उत्पत्ति भी शामिल है के बारे में  महत्वपूर्ण आलोचना मिलती है ।\\n\\n\\n== इतिहास ==\\n\\n\\n=== 1976-1984: संस्थापना और निगमीकरण ===\\nसाँचा:यह भी देखें\\n\\n हालांकि यह व्यापक रूप से माना जाता है कि कंपनी की स्थापना घर के गैरेज में हुई थी, एप्पल के सह-संस्थापक वोज्नियाक ने इसे \"बिट ऑफ ए मिथ\" कहा । हालांकि, जॉब्स और वोज्नियाक ने कुछ कार्यों को गैरेज में स्थानांतरित कर दिया जब बेडरूम में बहुत अधिक भीड़ हो गई।]]\\n\\nएप्पल कंप्यूटर कंपनी की स्थापना स्टीव जॉब्स, स्टीव वोज़्निएक और रोनाल्ड वेन द्वारा 1 अप्रैल, 1976 को  की गयी ।  कंपनी का पहला उत्पाद एप्पल I है, जो पूरी तरह से वोज़्निएक द्वारा डिजाइन और हाथ से बनाया गया कंप्यूटर है ।  यह कंप्यूटर सबसे पहले होमब्रू कंप्यूटर क्लब में जनता को दिखाया गया । एप्पल I, व्यक्तिगत कंप्यूटर, एक मदरबोर्ड के साथ सीपीयू, रैम और मूल टेक्सटुअल-वीडियो चिप्स का संकलन था \\n— एक बेस किट कॉन्सेप्ट जो अब एक पूर्ण व्यक्तिगत कंप्यूटर के रूप में विपणित नहीं किया जाएगा ।  जुलाई 1976 में एप्पल I की बिक्री शुरू  हुई और इसकी कीमत $ 666.66 थी (2018 में $ 2,935 डॉलर, मुद्रास्फीति के लिए समायोजित) \\n:180 \\nएप्पल कंप्यूटर इंक॰ 3 जनवरी 1977 को निगमित किया गया  वेन के बिना, जिन्होंने एप्पल की सह-स्थापना के केवल बारह दिनों के बाद $ 800 में कंपनी के अपने हिस्से को जॉब्स और  को बेच दिया था । बहु करोड़पति माइक मार्कुला ने एप्पल के निगमन के दौरान महत्वपूर्ण व्यावसायिक विशेषज्ञता और $ 250,000 का वित्तपोषण प्रदान किया। परिचालन के पहले पांच वर्षों के दौरान राजस्व में तेजी से वृद्धि हुई, यह हर चार महीने में  दोगुणा की दर से बढ़ा । सितंबर 1977 और सितंबर 1980 के बीच, 533% की औसत वार्षिक विकास दर से वार्षिक बिक्री $ 775,000 से बढ़कर $ 118 मिलियन हो गई ।एप्पल II जिसका आविष्कार भी वोज़्निएक द्वारा किया गया, 16 अप्रैल, 1977 को पहले वेस्ट कोस्ट कंप्यूटर फ़ेयर में पेश किया गया था । यह अपने प्रमुख प्रतिद्वंद्वियों, टीआरएस-80 और कमोडोर पीईटी से अलग है, क्योंकि इसमें चरित्र सेल-आधारित रंग ग्राफिक्स और ओपन आर्किटेक्चर हैं । जबकि शुरुआती एप्पल II मॉडल स्टोरेज डिवाइस के रूप में साधारण कैसेट टेप का उपयोग करते हैं, वे जल्द ही 5 1⁄4 - इंच की फ्लॉपी डिस्क ड्राइव और डिस्क II नामक इंटरफ़ेस वाले मॉडल की शुरूआत से प्रतिस्थापित हो गए । \\nएप्पल II को व्यापार की दुनिया के पहले किलर ऐप के लिए डेस्कटॉप प्लेटफॉर्म चुना गया था: विसिकैल्क, एक स्प्रेडशीट प्रोग्राम ।\\nविसिकैल्क ने एप्पल II के लिए एक व्यावसायिक बाज़ार बनाया और घरेलू उपयोगकर्ताओं को एप्पल II खरीदने का एक अतिरिक्त कारण दिया: कार्यालय के साथ अनुकूलता ।\\n विसिकैल्क से पहले, एप्पल कमोडोर और टैंडी के लिए तीसरे स्थान का प्रतियोगी था ।1970 के दशक के अंत तक, एप्पल के पास कंप्यूटर डिजाइनर स्टाफ और एक उत्पादन लाइन थी कंपनी ने व्यापारिक और कॉर्पोरेट कंप्यूटिंग बाजार में आईबीएम और माइक्रोसॉफ्ट के साथ प्रतिस्पर्धा करने के प्रयास में मई 1980 में एप्पल III को पेश किया । जॉब्स और मानव-कंप्यूटर इंटरफ़ेस विशेषज्ञ जेफ रस्किन सहित कई एप्पल कर्मचारियों ने दिसंबर 1979 में ज़ेरॉक्स ऑल्टो के प्रदर्शन को देखने के लिए ज़ेरॉक्स पीएआरसी का दौरा किया ।\\nज़ेरॉक्स एप्पल इंजीनियरों को पीएआरसी सुविधाओं का तीन दिनों का उपयोग, एप्पल के 100,000 शेयर (800,000 विभाजित-समायोजित शेयर) $ 10 प्रति शेयर के पूर्व-आईपीओ मूल्य पर खरीदने के विकल्प के बदले में दिया ।जॉब्स को तुरंत विश्वास हो गया कि भविष्य के सभी कंप्यूटर एक ग्राफिकल यूजर इंटरफेस जीयुआई का उपयोग करेंगे, और जीयुआई का विकास एप्पल लिसा के लिए शुरू हुआ ।\\n हालांकि, 1982 में, उन्हें अंदरूनी कलह के कारण लिसा टीम से बाहर कर दिया गया । इसके बाद जॉब्स ने वोज्नियाक और रस्किन के कम लागत वाले कंप्यूटर प्रोजेक्ट, मैकिन्टोश पर कब्जा कर लिया और इसे लिसा की तुलना में एक सस्ता और तेज ग्राफिकल सिस्टम बना दिया । 1983 में, लिसा एक जीयूआई के साथ जनता के लिए बेचा जाने वाला पहला व्यक्तिगत कंप्यूटर बन गया, लेकिन इसकी उच्च कीमत और सीमित सॉफ्टवेयर के कारण व्यापारिक रूप से विफल हो गया इसलिए 1985 में इसे उच्च स्तर के मैकिंटोश के रूप में प्रतिष्ठित किया गया और इसके दूसरे वर्ष में बंद कर दिया गया ।\\n12 दिसंबर 1980 को, एप्पल  ने 22 $ प्रति शेयर पर सार्वजनिक निर्गम किया  । 4.6 मिलियन शेयर बेच कर 1956 में फोर्ड मोटर कंपनी के बाद यह आईपीओ से सबसे अधिक पूंजी सृजन करने वाली कंपनी बनी और लगभग 300 लोगों को रातों-रात करोड़पति बनाया । \\n\\n\\n=== 1984-1991: मैकिन्टौश के साथ सफलता ===\\nइन्हें भी देखें: मैकिन्टौश मॉडल की समयरेखा\\n1984 में, एप्पल ने मैकिंटोश को लॉन्च किया, जो एक प्रोग्रामिंग भाषा के बिना बेचा जाने वाला पहला व्यक्तिगत कंप्यूटर था ।  \\nइसकी शुरुआत 1984  से हुई थी, रिडले स्कॉट द्वारा निर्देशित $ 1.5 मिलियन डॉलर का टेलीविजन विज्ञापन, जो 22 जनवरी, 1984 को सुपर बाउल XVIII की तीसरी तिमाही के दौरान प्रसारित हुआ था । इसे अब एप्पल की सफलता के लिए एक एक मील का पत्थर माना जाता है |  इसे सी एन एन द्वारा \"मास्टरपीस\"  और टीवी गाइड द्वारा अब तक के सबसे महान टीवी विज्ञापनों में से एक कहा गया है । \\nशुरूआती दौर में मैकिन्टौश की बिक्री अच्छी थी, पर उसके बाद ऊँची कीमत और सीमित सॉफ्टवेयर के कारण बिक्री कमज़ोर हो गयी ।  मैकिन्टौश की किस्मत बदली उचित मूल्य पर बेचा जाने वाले पहले पोस्टस्क्रिप्ट लेजर प्रिंटर लेज़रराइटर, एवं  प्रारंभिक डेस्कटॉप प्रकाशन सॉफ्टवेयर पेजमेकर के आगमन के साथ । माना जाता है कि डेस्कटॉप प्रकाशन बाजार के सृजन के लिए इन तीन उत्पादों का संयोग जिम्मेदार था । मैकिंटोश अपनी उन्नत ग्राफिक्स क्षमताओं के कारण डेस्कटॉप प्रकाशन बाजार में विशेष रूप से शक्तिशाली था, जो कि सहज मैकिंटोश जीुयुआई के सृजन के लिए आवश्यक रूप से अन्तर्निहित थी ।\\n\\n1985 में जॉब्स और दो साल पहले नियुक्त किये गए सीईओ जॉन स्कली के बीच शक्ति संघर्ष विकसित हुआ । वास्तव में स्वयं जॉब्स ने ही स्कली को एप्पल में शामिल होने के लिए राजी किया था, इस प्रसिद्ध पंक्ति का उपयोग करके \"क्या आप अपने बचे हुए जीवन में चीनी मिला पानी बेचना चाहते हैं या मेरे साथ आकर दुनिया बदलना चाहते हैं?\"एप्पल के निदेशक मंडल ने स्कली को निर्देश दिया कि वे जॉब्स को नियंत्रित करे और अपरीक्षित उत्पादों में महंगे अभियानों को लॉन्च करने की उनकी क्षमता को सीमित करें। स्कली की बात मानने के विपरीत जॉब्स ने उन्हें एप्पल में नेतृत्व की भूमिका से बेदखल करने की कोशिश की । \\nस्कली को जब पता चला की जॉब्स एक तख्तापलट का आयोजन करने का प्रयास कर रहे थे, उन्होंने एक बोर्ड मीटिंग बुलाई, जिसमें एप्पल के निदेशक मंडल ने स्कली का साथ देते हुए जॉब्स को उनके प्रबंधकीय कर्तव्यों से हटा दिया ।  इसके बाद जॉब्स ने एप्पल से इस्तीफा दे दिया और उसी वर्ष नेक्स्ट इंक॰ की स्थापना की । वोज़्निएक ने भी 1985 में अन्य उद्यमों को आगे बढ़ाने के लिए एप्पल में सक्रिय नौकरी छोड़ दी, ये कहते हुए की कंपनी \"पिछले पांच वर्षों से गलत दिशा में जा रही थी\"।  हालांकि, जॉब्स और वोज़्निएक दोनों ही एप्पल के शेयरधारक बने रहे। वोज़्निएक आयोजनों में या साक्षात्कार में कंपनी का प्रतिनिधित्व करना जारी रखते है, इस भूमिका के लिए वह प्रति वर्ष $ 120,000 का अनुमानित वेतन प्राप्त करते है ।\\n\\nजॉब्स और वोज़्निएक के प्रस्थान के बाद, मैकिंटोश उत्पाद लाइन ने उच्च मूल्य बिंदुओं पर ध्यान देने के लिए नियमित परिवर्तन किया, तथाकथित \"उच्च-सही नीति\" के अंतर्गत जिसे मूल्य बनाम मुनाफे के चार्ट पर स्थिति के लिए नामित किया गया । जॉब्स ने तर्क दिया था कि कंपनी को उपभोक्ता बाजार के उद्देश्य से उत्पादों का उत्पादन करना चाहिए और मैकिंटोश के लिए $ 1000 की कीमत का लक्ष्य रखना चाहिए, जिसे पूरा करने में कंपनी असमर्थ रही । उच्चतर मूल्य बिंदुओं पर बिकने वाले नए मॉडलों ने उच्चतर लाभ मार्जिन की पेशकश की और कुल बिक्री पर कोई प्रभाव नहीं दिखाई दिया क्योंकि पॉवर उपयोगकर्ताओं ने क्षमता में हर वृद्धि को अपना लिया ।\\nहालाँकि कुछ लोग मूल्य निर्धारण से खुद को बाजार से बाहर करने के बारे में चिंतित थे, लेकिन उच्च-सही नीति नीति 1980 के दशक के मध्य तक पूरी तरह से लागू थी, विशेष रूप से जीन लुई गैसी के मंत्र \"55 या मरो\" के कारण, जो की मैकिंटोश II के 55% लाभ मार्जिन का जिक्र था ।:79–80 \\nदशक के अंतिम वर्षों में यह नीति निष्\\u200dफल होने लगी क्योंकि पीसी क्लोन पर भी नए डेस्कटॉप प्रकाशन कार्यक्रम उपलब्ध हो गए, जो मैकिनटोश के बराबर या उस से थोड़ी कम कार्यक्षमता, बहुत कम मूल्य पर प्रदान करते थे । कंपनी ने इस बाजार में अपना एकाधिकार खो दिया और पहले से ही अपने कई मूल उपभोक्ता ग्राहक आधार को पराया कर दिया था जो अब एप्पल के उच्च-मूल्य वाले उत्पादों को बखरीदने में समर्थ नहीं थे । 1989 के क्रिसमस मौसम में कंपनी के इतिहास में पहली बार बिक्री में गिरावट दर्ज की गई, जिससे एप्पल के शेयर की कीमत में 20% की गिरावट आई ।:117–129  गैसी की आपत्तियों को खारिज कर दिया गया, और उन्हें 1990 में कंपनी छोड़ने के लिए मजबूर किया गया । उस साल बाद में, एप्पल ने तीन कम लागत वाले मॉडल, मैकिंटोश क्लासिक, मैकिंटोश एलसी, और मैकिंटोश II एसआई पेश किए, जिनमें से सभी में दबी हुई मांग के कारण महत्वपूर्ण बिक्री देखी गई ।\\n1991 में, एप्पल ने पॉवरबुक पेश कर के, भारी भरकम मैकिंटोश पोर्टेबल को एक ऐसे डिज़ाइन से बदल दिया, जिसने लगभग सभी आधुनिक लैपटॉप के लिए वर्तमान आकार और डिजाइन सेट किया । उसी वर्ष, एप्पल ने सिस्टम 7 पेश किया, मैक ऑपरेटिंग सिस्टम का एक प्रमुख अद्यतन जिसने इंटरफ़ेस को रंगीन बनाया और नई नेटवर्किंग क्षमताओं को पेश किया । यह क्लासिक मैक ओएस के लिए वास्तुशिल्प आधार बना रहा । पावरबुक और अन्य उत्पादों की सफलता से राजस्व में वृद्धि हुई । कुछ समय के लिए, एप्पल अविश्वसनीय रूप से अच्छा कर रहा था, नए नए उत्पादों को पेश कर रहा था और इस प्रक्रिया में बढ़ता लाभ पैदा कर रहा था । मैकएडिक्ट पत्रिका ने 1989 और 1991 के बीच की अवधि को मैकिंटोश के \"पहले स्वर्ण युग\" के रूप में नामित किया ।एप्पल का मानना था कि एप्पल II का उत्पादन करना बहुत महंगा था और निचले स्तर के  मैकिन्टोश से बिक्री छीन रहा था । अक्टूबर 1990 में, एप्पल ने मैकिंटोश एल सी जारी किया, और वलपर तकनीकी सहायता कर्मचारियों को एप्पल II के बजाय मैकिंटोश के लिए एप्लिकेशन विकसित करने की सलाह देकर और एप्पल II से दूर मैकिंटोश की ओर उपभोक्ताओं को निदेशित करने के लिए बिक्री कर्मचारियों को अधिकृत कर मैक को बढ़ावा देने के प्रयास शुरू किए । 1993 में एप्पल IIe बंद कर दिया गया ।\\n\\n\\n=== 1992 -1997: पतन और पुनर्गठन ===\\n\\nएप्पल के कम लागत वाले उपभोक्ता मॉडल, विशेष रूप से एलसी की सफलता, उनकी उच्च कीमत वाली मशीनों के भक्षण का भी कारण बना | इसे संबोधित करने के लिए, प्रबंधन ने कई नए ब्रांड पेश किए, जो विभिन्न बाजारों में अलग-अलग मूल्य बिंदुओं पर बड़े पैमाने पर समान मशीनों की बिक्री करते थे । ये थे उच्च स्तर क्वाड्रा श्रेणी क्वाड्रा, मध्य स्तर सेंट्रीस क्रम और बदकिस्मत परफॉर्मा  श्रंखला | इससे महत्वपूर्ण बाजार भ्रम पैदा हुआ, क्योंकि ग्राहक मॉडलों के बीच अंतर को नहीं समझ पाए |\\n1990 के के दशक में एप्पल ने कई असफल उपभोक्ता केन्द्रित उत्पादों के साथ प्रयोग किया जैसे की एप्पल क्विकटेक डिजिटल कैमरा, एप्पल पावरसीडी  पोर्टेबल सीडी ऑडियो प्लेयर, एप्पल डिज़ाइन पावरड स्पीकर, एप्पल बानडई पिप्पिन वीडियो गेम कंसोल, इवर्ल्ड ऑनलाइन सेवा और एप्पल इंटरएक्टिव टेलीविजन बॉक्स टीवी उपकरण । सीईओ स्कली द्वारा बाज़ार के अवास्तविक पूर्वानुमान के आधार पर समस्या से त्रस्त न्यूटन विभाजन में भी विशाल संसाधन निवेश किये गए।[कृपया उद्धरण जोड़ें] अंततः यह सभी उत्पाद एप्पल की स्थिति सुधारने में नाकाम रहे और बाज़ार में एप्पल की बाजार हिस्सेदारी और शेयर कीमतों में गिरावट जारी रही।[कृपया उद्धरण जोड़ें]\\nइस अवधि के दौरान, माइक्रोसॉफ्ट ने सस्ते कमोडिटी निजी कंप्यूटरों में सॉफ्टवेयर पहुंचाने पर ध्यान केंद्रित करते हुए विंडोज विंडोज के साथ बाजार में हिस्सेदारी हासिल करना जारी रखा, जबकि एप्पल एक समृद्ध लेकिन महंगा अनुभव प्रदान कर रहा था ।  एप्पल उच्च लाभ मार्जिन पर आश्रित था और माइक्रोसॉफ्ट के विरुद्ध कभी भी स्पष्ट प्रतिक्रिया विकसित नहीं की; इसके बजाय, उन्होंने एप्पल कंप्यूटर, इंक. v माइक्रोसॉफ्ट कॉर्प. में एप्पल लिसा के समान जीयूआई का उपयोग करने के लिए माइक्रोसॉफ्ट पर मुकदमा दायर किया । \\' सालों तक घसीटे जाने के बाद अंत में मुक़दमे को खारिज कर दिया गया । इस समय, फ्लॉप प्रमुख उत्पाद और चूकी हुई समय सीमाओं की एक श्रृंखला ने एप्पल की प्रतिष्ठा को कम कर दिया । इसके पश्चात स्कली के स्थान पर माइकल स्पिंडलर को कंपनी का सीईओ बना दिया गया | \\n1980 के दशक के अंत तक, एप्पल सिस्टम 6 के लिए वैकल्पिक प्लेटफॉर्म विकसित कर रहा था, जैसे कि ए/यूएक्स और पिंक । सिस्टम 6 प्लेटफॉर्म स्वयं कालग्रस्त हो गया था क्योंकि यह मूल रूप से मल्टीटास्किंग के लिए नहीं बनाया गया था । 1990 के दशक तक, एप्पल ओएस/2 और यूनिक्स विक्रेताओं जैसे सन माइक्रोसिस्टम्स से प्रतिस्पर्धा का सामना कर रहा था । \\nसिस्टम 6 और 7 को जल्द ही एक नए प्लेटफॉर्म से बदलने या आधुनिक हार्डवेयर पर चलने के लिए पुनर्विकसित करने की आवश्यकता होगी ।1994 में, एप्पल, आईबीएम और मोटोरोला ने एक नए कंप्यूटिंग प्लेटफ़ॉर्म पावरपीसी रेफेरेंस प्लेटफार्म (पी आर ई पी) बनाने के लक्ष्य के साथ ए आई एम गठबंधन का गठन किया, जो एप्पल सॉफ़्टवेयर के साथ आईबीएम और मोटोरोला हार्डवेयर का उपयोग करेगा । ए आई एम गठबंधन को उम्मीद थी कि पी आर ई पी  का प्रदर्शन और एप्पल का सॉफ्टवेयर पीसी को बहुत पीछे छोड़ देगा और इस तरह माइक्रोसॉफ्ट के एकाधिकार का मुकाबला करेगा । उसी वर्ष, एप्पल ने पावर मैकिंटोश पेश किया जो मोटोरोला के पावरपीसी प्रोसेसर का उपयोग करने वाले कई एप्पल कंप्यूटरों में से पहला था । 1996 में, स्पिंडलर को सीईओ के रूप में गिल एमेलियो द्वारा बदल दिया गया ।  एक कॉर्पोरेट पुनर्वासकर्ता के रूप में अपनी प्रतिष्ठा के लिए काम पर रखे गए, एमेलियो ने एप्पल में व्यापक छंटनी और लागत में कटौती सहित गहरे बदलाव किए । \\nमैक ओएस के आधुनिकीकरण के कई असफल प्रयासों, पहली बार 1988 से पिंक परियोजना और बाद में 1994 से कोपलैंड के बाद, 1997 में एप्पल ने नेक्स्टस्टेप ऑपरेटिंग सिस्टम के लिए और स्टीव जॉब्स को वापस लाने के लिए नेक्स्ट को खरीदा । \\n\\n\\n=== 1997 - 2007 : लाभप्रदता की वापसी ===\\n\\nजनवरी 1997  मैकवर्ल्ड एक्सपो में, जॉब्स ने घोषणा की कि ऐप्पल, माइक्रोसॉफ्ट के साथ मैकिन्टोश के लिए माइक्रोसॉफ्ट ऑफिस के नए संस्करणों को जारी करेगा, और माइक्रोसॉफ्ट ने गैर-मतदान ऐप्पल स्टॉक में $ 150 मिलियन का निवेश किया था |\\n10 नवंबर, 1997 को, एप्पल ने एप्पल स्टोर वेबसाइट शुरू की, जो एक नई बिल्ड-टू-ऑर्डर निर्माण रणनीति से जुड़ी थी | 9 फरवरी, 1997 को नेक्स्ट  अधिग्रहण को पूरा हुआ और जॉब्स की एप्पल में सलाहकार के रूप में वापसी हुई ।  9 जुलाई, 1997 को सीईओ एमेलियो  को तीन  साल के रिकॉर्ड-कम स्टॉक मूल्य और गंभीर वित्तीय घाटे के बाद  निदेशक मंडल द्वारा बाहर कर दिया गया । जॉब्स ने अंतरिम सीईओ के रूप में काम किया और कंपनी की उत्पाद लाइन का पुनर्गठन शुरू किया; इस अवधि के दौरान ही उन्होंने जॉनाथन आइव जोनाथन आईव की डिजाइन प्रतिभा की पहचान की , और इस जोड़ी ने एप्पल के प्रतिष्ठा को फिर से बनाने के लिए सहयोगात्मक रूप से काम किया ।15 अगस्त, 1998 को, एप्पल ने मैकिंटोश 128K की याद ताजा करते हुए एक नया ऑल-इन-वन कंप्यूटर पेश किया: आईमैक | आईमैक डिजाइन टीम का नेतृत्व आईव द्वारा किया गया था, जो बाद में आई पॉड और आईफोन डिजाइन करेगी।  आईमैक में आधुनिक तकनीक और एक अनूठी डिजाइन थी , और पहले पांच महीनों में लगभग 800,000 इकाइयां बेचीं गयीं ।इस अवधि के दौरान, एप्पल ने पेशेवरों और उपभोक्ताओं, दोनों के लिए डिजिटल उत्पादन सॉफ्टवेयर का एक पोर्टफोलियो बनाने के लिए कई अधिग्रहण पूरे किए । 1998 में, एप्पल ने डिजिटल वीडियो एडिटिंग मार्केट में विस्तार का संकेत देते हुए मैक्रोमीडिया से \"की ग्रिप सॉफ्टवेयर परियोजना\" खरीदी । यह बिक्री मैक्रोमीडिया के पूरी तरह से वेब विकास सॉफ्टवेयर पर ध्यान केंद्रित करने के फैसले का एक परिणाम था ।यह उत्पाद, जो बिक्री के समय भी अधूरा था, का नाम \"फाइनल कट प्रो\" रखा गया, जब इसे अप्रैल 1999 में खुदरा बाजार में लॉन्च किया गया था । की-ग्रिप के विकास के कारण उपभोक्ता वीडियो-संपादन उत्पाद आईमूवी को भी एप्पल ने अक्टूबर 1999 में  जारी किया |\\n. इसके बाद एप्पल ने सफलतापूर्वक जर्मन कंपनी असतारते का संबंधित उत्पादों और इंजीनियरिंग टीम के साथ अधिग्रहण किया, जिसने अप्रैल 2000 में डीवीडी संलेखन तकनीक को विकसित किया था । असतारते के डिजिटल टूल डीवीडायरेक्टर को बाद में पेशेवर-उन्मुख डीवीडी स्टूडियो प्रो सॉफ्टवेयर उत्पाद में बदल दिया गया । एप्पल ने फिर ने समान तकनीक को उपभोक्ता बाजार के लिए आईडीवीडी बनाने के लिए नियोजित किया । जुलाई 2001 में, एप्पल ने स्प्रूस टेक्नोलॉजीस , एक पीसी डीवीडी संलेखन प्लेटफ़ॉर्म का अधिग्रहण किया, ताकि उसकी तकनीक को एप्पल के डिजिटल वीडियो परियोजनाओं के बढ़ते हुए पोर्टफोलियो में शामिल किया जा सके।1998 में कैसैडी और ग्रीन द्वारा जारी साउंडजैम एमपी को जब एप्पल ने 2000 में खरीदा, इसका नाम बदलकर आईट्यून्स रख दिया । अधिग्रहण के हिस्से के रूप में सॉफ्टवेयर के प्राथमिक डेवलपर्स एप्पल को स्थानांतरित हुए, और उन्होंने साउंडजैम के यूजर इंटरफेस को सरल बनाया, सीडी को जलाने की क्षमता को जोड़ा और इसकी रिकॉर्डिंग सुविधा और  त्वचा का समर्थन हटा दिया ।\\n2002 में, एप्पल  ने नथिंग रियल को अपने उन्नत डिजिटल कम्पोज़िटिंग  एप्लिकेशन शेक के लिए खरीदा, साथ ही इमैजिक को भी संगीत उत्पादकता एप्लिकेशनलॉजिक के लिए खरीदा | \\n इमैजिक की खरीद ने एप्पल को एक संगीत सॉफ्टवेयर कंपनी का मालिक, पहला कंप्यूटर निर्माता बना दिया । अधिग्रहण के बाद एप्पल के उपभोक्ता-स्तर के गैराजबैंड एप्लीकेशन का विकास हुआ. उसी साल आईफोटो की रिलीज़ ने आईलाइफ सुइट को पूरा कियानेक्स्ट के ओपनस्टेप और बीएसडी यूनिक्स पर आधारित, मैक ओएस एक्स, कई वर्षों के विकास के बाद, 24 मार्च, 2001 को जारी किया गया | उपभोक्ताओं और पेशेवरों के लिए समान रूप से लक्षित, मैक ओएस एक्स का उद्देश्य यूनिक्स की स्थिरता, विश्वसनीयता और सुरक्षा को एक ओवरहॉल किए गए उपयोगकर्ता इंटरफ़ेस द्वारा उपयोग करने में आसानी के साथ संयोजन करना था । उपयोगकर्ताओं को मैक ओएस 9 से प्रवास करने में सहायता के लिए, नए मैक ओएस एक्स प्रचालन तंत्र ने क्लासिक पर्यावरण के माध्यम से एक्स के भीतर ओएस 9 अनुप्रयोगों के उपयोग की अनुमति दी | 19 मई 2001 को, एप्पल ने वर्जीनिया और कैलिफ़ोर्निया में अपना पहला आधिकारिक नामित  रिटेल स्टोर (खुदरा दुकान) खोला।  उसी वर्ष 23 अक्टूबर को, एप्पल ने आईपॉड पोर्टेबल डिजिटल ऑडियो प्लेयर की शुरुआत की । Tआईपॉड, जो पहली बार 10 नवंबर, 2001 को बेचा गया था, छह वर्षों के भीतर बेचे गए 100 मिलियन से अधिक इकाइयों के साथ अभूतपूर्व रूप से सफल रहा |  2003 में, एप्पल के आईट्यून्स स्टोर को पेश किया गया । इस सेवा ने $ 0.99 में एक गीत के दाम में ऑनलाइन संगीत डाउनलोड और आइपॉड के साथ एकीकरण की पेशकश की । 19 जून 2008 तक पांच बिलियन से अधिक डाउनलोड के साथ आईट्यून्स स्टोर जल्दी ही ऑनलाइन संगीत सेवाओं के बाजार में नेता बन गया । दो साल बाद, आईट्यून्स स्टोर दुनिया का सबसे बड़ा संगीत रिटेलर था ।\\n\\n\\n==== इंटेल संक्रमण और वित्तीय स्थिरता ====\\n\\n6 जून, 2005 को वर्ल्डवाइड डेवलपर्स कॉन्फ्रेंस के मुख्य भाषण में, जॉब्स ने घोषणा की कि एप्पल 2006 में इंटेल-आधारित मैक कंप्यूटरों का उत्पादन शुरू करेगा ।  10 जनवरी 2006 को, नए मैकबुक प्रो और आईमैक इंटेल के कोर डुओ सीपीयू का उपयोग करने वाले पहले एप्पल कंप्यूटर बन गए | 7 अगस्त, 2006 तक, एप्पल ने पूरे मैक उत्पाद लाइन का इंटेल चिप्स के लिए संक्रमण कर लिया - घोषणा की तुलना में एक साल जल्दी | संक्रमण के दौरान पावर मैक, आईबुक और पावरबुक ब्रांड सेवानिवृत्त हो गए; मैक प्रो, मैकबुक, और मैकबुक प्रो उनके संबंधित उत्तराधिकारी बन गए । 29 अप्रैल 2009 को, द वॉल स्ट्रीट जर्नल ने सूचना दी कि एप्पल माइक्रोचिप्स डिजाइन करने के लिए इंजीनियरों की अपनी टीम बना रहा था । मैक ओएस एक्स के साथ-साथ उपयोगकर्ताओं को अपने इंटेल मैक पर विंडोज एक्सपी या विंडोज विस्टा स्थापित करने में मदद करने के लिए एप्पल ने 2006 में बूट कैंप भी पेश किया |इस अवधि के दौरान एप्पल की सफलता उसके शेयर मूल्य में स्पष्ट थी । 2003 की शुरुआत और 2006 के बीच, एप्पल के शेयर की कीमत लगभग 10 गुना बढ़कर $ 6 प्रति शेयर (विभाजन समायोजित) से $ 80 हो गई । जब जनवरी 2006 में एप्पल ने डेल के बाजार पूंजीकरण को पीछे छोड़ दिया, तो जॉब्स ने एप्पल कर्मचारियों को एक मेल लिखा जिसमें कहा गया कि माइकल डेल को उनके शब्द वापस लेना चाहिए ।  नौ साल पहले, डेल के सीईओ माइकल डेल ने कहा था कि अगर वह एप्पल चलाता है तो वह इसे बंद कर देगा और शेयरधारकों को पैसा वापस कर देगा । \\nहालाँकि, कंप्यूटरों में एप्पल की बाजार हिस्सेदारी बढ़ गई थी, लेकिन अमेरिका में लगभग 8% डेस्कटॉप और लैपटॉप बाजार के साथ यह अपने प्रतियोगी माइक्रोसॉफ्ट विंडोज से बहुत पीछे रह गया |[कृपया उद्धरण जोड़ें]2001 से, एप्पल की डिज़ाइन टीम ने आईमैक जी3 में पहली बार उपयोग किए जाने वाले पारदर्शी रंगीन प्लास्टिक के उपयोग को उत्तरोत्तर छोड़ दिया है । यह डिज़ाइन परिवर्तन टाइटेनियम- निर्मित पॉवरबुक के साथ शुरू हुआ और इसके बाद आईबुक की सफेद पॉलीकार्बोनेट संरचना और फ्लैट-पैनल आईमैक द्वारा परिवर्तन हुआ । \\n\\n\\n=== 2007 - 2011 : मोबाइल उपकरणों के साथ सफलता ===\\n\\n9 जनवरी, 2007 को मैकवर्ल्ड एक्सपो में अपने मुख्य भाषण के दौरान, जॉब्स ने घोषणा की कि उसके बाद एप्पल कंप्यूटर, इंक॰ को \"एप्पल इंक॰\" के रूप में जाना जाएगा, क्योंकि कंपनी ने कंप्यूटर से उपभोक्ता इलेक्ट्रॉनिक्स में अपना महत्त्व स्थानांतरित कर दिया था । इस इवेंट में आईफोन  और एप्पल टीवी की घोषणा भी की गई । बिक्री के पहले 30 घंटों के दौरान कंपनी ने 270,000 आईफोन इकाइयां बेचीं,  और इस फोन को \"उद्योग के लिए खेल परिवर्तक\" कहा गया । एप्पल अपने आईफोन, आईपॉड टच और आईपैड उत्पादों के साथ व्यापक सफलता हासिल करेगा, जो क्रमशः मोबाइल फोन, पोर्टेबल संगीत प्लेयर और निजी कंप्यूटर में नवीनता लाये |  इसके अलावा, 2007 की शुरुआत तक, 800,000 फाइनल कट प्रो उपयोगकर्ता पंजीकृत थे ।6 फरवरी, 2007 को एप्पल की वेबसाइट पर पोस्ट किए गए एक लेख में, जॉब्स ने लिखा कि एप्पल डिजिटल अधिकार प्रबंधन (डीआरएम) के बिना आईट्यून्स स्टोर पर संगीत बेचने के लिए तैयार होगा, जिससे ट्रैक्स को तीसरे पक्ष के संगीत प्लेयर पर चलाया जा सके अगर रिकॉर्ड लेबल डीआरएम प्रौद्योगिकी को छोड़ने के लिए सहमत होंगे |\\n 2 अप्रैल, 2007 को, एप्पल और इएमआई ने संयुक्त रूप से आईट्यून्स स्टोर में इएमआई की कैटलॉग से डीआरएम तकनीक को हटाने की घोषणा की, जो मई 2007  से प्रभावी होगी । अन्य रिकॉर्ड लेबल ने अंततः उनका अनुकरण  किया और एप्पल ने जनवरी 2009 में एक प्रेस विज्ञप्ति प्रकाशित की कि आईट्यून्स स्टोर पर सभी गाने डीआरएम मुक्त उपलब्ध हैं ।जुलाई 2008 में, एप्पल ने आईफोन और [[आईपॉड टच] के लिए तीसरे पक्ष के एप्लिकेशन बेचने के लिए  ऐप स्टोर लॉन्च किया ।. एक महीने के भीतर, स्टोर ने 60 मिलियन एप्लिकेशन बेचे और 1 मिलियन डॉलर का औसत दैनिक राजस्व दर्ज किया, जॉब्स ने अगस्त 2008 में अनुमान लगाया कि ऐप स्टोर एप्पल के लिए एक अरब डॉलर का व्यवसाय बन सकता है । अक्टूबर 2008 तक, आईफोन की लोकप्रियता के कारण एप्पल दुनिया में तीसरा सबसे बड़ा मोबाइल हैंडसेट आपूर्तिकर्ता था ।16 दिसंबर, 2008 को, एप्पल ने घोषणा की 20 से अधिक वर्षों की उपस्थिति के बाद 2009 आखिरी साल होगा जब निगम मैकवर्ल्ड एक्सपो में भाग लेगा, और विश्वव्यापी उत्पाद विपणन के वरिष्ठ उपाध्यक्ष फिल शिलर मुख्य भाषण देंगे अपेक्षित जॉब्स के बदले में  आधिकारिक प्रेस विज्ञप्ति में बताया गया कि एप्पल सामान्य रूप से व्यापार शो में भाग लेना कम कर रहा था, जिसमें मैकवर्ल्ड टोक्यो और पेरिस, फ्रांस में एप्पल एक्सपो शामिल थे क्योंकि एप्पल रिटेल स्टोर्स और वेबसाइट की भारी सफलता ने व्यापार शो को एक मामूली प्रचार चैनल बना दिया था ।14 जनवरी, 2009 को जॉब्स ने एक आंतरिक ज्ञापन में घोषणा की कि वह जून 2009 के अंत तक एप्पल से अनुपस्थिति का छह महीने का चिकित्सा अवकाश ले लेंगे और अपने स्वास्थ्य पर ध्यान केंद्रित करने में समय व्यतीत करेंगे । ईमेल में, जॉब्स ने कहा कि \"मेरे व्यक्तिगत स्वास्थ्य को लेकर उत्सुकता न केवल मेरे और मेरे परिवार के लिए बल्कि एप्पल के अन्य सभी लोगों के लिए भी एक व्याकुलता बनी हुई है\", और समझाया कि यह अवकाश कंपनी को \"असाधारण उत्पादों को वितरित करने पर ध्यान केंद्रित करने की अनुमति देगा\"।\\n \\nहालांकि जॉब्स अनुपस्थित थे, $ 8.16 बिलियन के राजस्व और 1.21 बिलियन डॉलर के लाभ के साथ मंदी मंदी के दौरान एप्पल ने अपनी सर्वश्रेष्ठ गैर-अवकाश तिमाही (Q1 FY 2009) दर्ज की ।\\nकई वर्षों की अटकलों और अफवाह \"लीक\" के  के बाद, एप्पल ने एक बड़ी स्क्रीन वाली, टैबलेट जैसी मीडिया उपकरणका 27 जनवरी 2010 को अनावरण किया जिसे आईपैड के रूप में जाना गया । आईपैड पर आईफोन के समान टच-आधारित ऑपरेटिंग सिस्टम चलता था, और कई आईफोन ऐप आईपैड के साथ अनुकूल थी । इसने लॉन्च पर आईपैड को एक बड़ा ऐप कैटलॉग दिया, हालांकि इसके रिलीज़ से पहले बहुत कम विकास समय रहा । बाद में उसी वर्ष 3 अप्रैल 2010 को, आईपैड को अमेरिका में लॉन्च किया गया । इसने अपने पहले दिन 300,000 से अधिक इकाइयां बेचीं, और पहले सप्ताह के अंत तक 500,000 से अधिक इकाइयां । उसी वर्ष मई में, एप्पल का बाजार पूंजीकरण 1989 के बाद पहली बार प्रतिस्पर्धी माइक्रोसॉफ्ट से अधिक था ।जून 2010 में, एप्पल ने आईफोन 4  को रिलीज़ किया, जिसमें वीडियो कॉलिंग,  मल्टीटास्किंग और एक नया गैर रोधित स्टेनलेस स्टील डिज़ाइन पेश किया गया जो फोन के एंटीना के रूप में काम करता था । \\nउस वर्ष बाद में, एप्पल ने मल्टी-टच  आईपॉड  नैनो, फेसटाइम के साथ एक आईपॉड  टच, और एक आईपॉड शफल जो पिछली पीढ़ियों के क्लिक व्हील बटन को वापस लाया, पेश करके अपने एमपी3 प्लेयर की आईपॉड लाइन को फिर से ताज़ा किया । इसने छोटा और सस्ता दूसरी पीढ़ी के एप्पल टीवी को भी पेश किया, जिसमें फिल्मों और शो को किराए पर लिया जा सकता था | इसके अतिरिक्त, 20 अक्टूबर को, एप्पल ने नए मैकबुक एयर लैपटॉप, उन्नत आईलाइफ एप्लिकेशन, और मैक ओएसएक्स के नए संस्करण जिसका नाम मैक ओएसएक्स लायन का अनावरण किया ।\\nअक्टूबर 2010 में, एप्पल के शेयर $ 300 (विभाजित-समायोजित नहीं) के मूल्य को ग्रहण करते हुए एक सर्वकालिक उच्च स्तर पर पहुंचे ।\\n6 जनवरी, 2011 को, कंपनी ने अपना मैक ऐप स्टोर, आईओएस ऐप स्टोर के समान एक डिजिटल सॉफ्टवेयर वितरण प्लेटफार्म खोला ।अटारी और सिस्को सिस्टम्स जैसी सहकर्मी संस्थाओं के साथ, एप्पल को 2011 में प्रीमियर डॉक्यूमेंट्री  समथिंग वेंचरड में चित्रित किया गया था,  जिसने तीन दशक के उस दौर की खोज की जिसमें सिलिकॉन वैली की स्थापना और प्रभुत्व हुआ |\\n17 जनवरी, 2011 को, जॉब्स ने आंतरिक एप्पल मेमो में घोषणा की कि वह अनिश्चित अवधि के लिए अनुपस्थिति का एक और चिकित्सा अवकाश लेंगे ताकि वह अपने स्वास्थ्य पर ध्यान केंद्रित कर सके ।\\nचीफ ऑपरेटिंग ऑफिसर टिम कुक ने एप्पल में जॉब्स के दिन-प्रतिदिन के कार्यों को संभाल लिया, हालांकि जॉब्स अभी भी \"प्रमुख रणनीतिक निर्णयों में शामिल थे\"।  इसी साल एप्पल दुनिया में सबसे मूल्यवान उपभोक्ता ब्रांड बन गया | जून 2011 में, जॉब्स ने आश्चर्यजनक रूप से मंच ले लिया और आईक्लॉउड  का अनावरण किया, जो संगीत, फ़ोटो, फ़ाइलों और सॉफ़्टवेयर के लिए एक ऑनलाइन स्टोरेज और समकालिक सेवा है, जिसने एप्पल के पिछले प्रयास मोबाइलमी को बदल दिया । यह अंतिम उत्पाद लॉन्च होगा जिसमे जॉब्स अपनी मृत्यु से पहले उपस्थित होगे । यह तर्क दिया गया है कि एप्पल ने अपनी आपूर्ति श्रृंखला में इतनी दक्षता हासिल की है कि कंपनी एक मोनोपसोनी  (कई विक्रेताओं के साथ एक खरीदार) के रूप में काम करती है और अपने आपूर्तिकर्ताओं के लिए शर्तें निर्धारित कर सकती है ।  जुलाई 2011 में, [[2011 का  संयुक्त राज्य अमरीका  ऋण-सीलिंग संकट\\n|अमेरिकी ऋण-सीलिंग संकट]] के कारण, एप्पल के वित्तीय भंडार थोड़े समय के लिए अमेरिकी सरकार की तुलना में बड़े थे ।\\n24 अगस्त, 2011 को, जॉब्स ने एप्पल के सीईओ के रूप में अपना पद त्याग दिया। कुक को उनके स्थान पर नियुक्त किया गया और जॉब्स एप्पल के अध्यक्ष बने । उनकी मृत्यु के बाद नवंबर में आर्थर डी. लेविंसन को जॉब्स की जगह बोर्ड के अध्यक्ष के रूप में नियुक्त किया गया ।\\n\\n\\n=== 2011 - वर्तमान : स्टीव जॉब्स के बाद का युग; टिम कुक नेतृत्व ===\\n5 अक्टूबर, 2011 को, स्टीव जॉब्स की मृत्यु हो गई, जो कि एप्पल के लिए एक युग का अंत था । एप्पल द्वारा जॉब्स के निधन के बाद पहली बड़ी उत्पाद घोषणा 19 जनवरी, 2012 को हुई, जब एप्पल के फिल शिलर ने न्यूयॉर्क शहर में आईओएस के लिए आईबुक्स पाठ्यपुस्तक और मैक ओएस एक्स के लिए आईबुक लेखक पेश किया ।\\nजॉब्स ने अपनी जीवनी में कहा था कि वह पाठ्यपुस्तक उद्योग और शिक्षा की पुनर्रचना करना चाहते थे ।2011 से 2012 तक, एप्पल ने , आईफोन 4S और आईफोन 5 जारी किए, जिसमें बेहतर कैमरे, सिरी  नामक बुद्धिमान सॉफ्टवेयर सहायक और आईक्लाउड के साथ क्लाउड-सिंक डेटा शामिल थे; third and fourth  और चौथी पीढ़ी के आईपैड, जिसमें रेटिना डिस्प्ले स्क्रीन है; ; और आईपैड मिनी, जिसमें आईपैड के 9.7 इंच स्क्रीन के विपरीत 7.9 इंच की स्क्रीन थी । \\nदो मिलियन से अधिक पूर्व-ऑर्डरों के साथ आईफोन 5 (21 सितंबर, 2012 को जारी किया गया)   एप्पल का सबसे बड़ा आईफोन लॉन्च था  और आईपैड मिनी और चौथी पीढ़ी के आईपैड लॉन्च (3 नवंबर 2012 को जारी किया गया) के बाद तीन दिनों में तीन मिलियन आईपैड की बिक्री के साथ ये लॉन्च सफल रहे  ।\\nएप्पल ने नए आईमैक और मैक मिनी कंप्यूटरों के साथ तीसरी पीढ़ी का 13 इंच रेटिना डिस्प्ले वाला मैकबुक प्रो भी जारी किया । ।20 अगस्त 2012 को, एप्पल के बढ़ते स्टॉक की कीमत ने कंपनी के बाजार पूंजीकरण को विश्व रिकॉर्ड 624 बिलियन डॉलर तक बढ़ा दिया ।इसने 1999 में माइक्रोसॉफ्ट  द्वारा निर्धारित बाजार पूंजीकरण के लिए गैर-मुद्रास्फीति-समायोजित रिकॉर्ड को हराया। 24 अगस्त, 2012 को, एक अमेरिकी जूरी ने फैसला सुनाया कि सैमसंग को बौद्धिक संपदा मुकदमे में नुकसान के लिए एप्पल  को 1.05 बिलियन डॉलर (£ 665 मिलियन पाउंड ) का भुगतान करना चाहिए। सैमसंग ने हर्जाना पुरस्कार के विरुद्ध अपील की, जिसे अदालत ने $ 450 मिलियन कम कर दिया । न्यायालय ने सैमसंग के नए मुकदमे के अनुरोध को भी स्वीकार कर लिया । 10 नवंबर 2012 को, एप्पल ने एचटीसी  के साथ एक वैश्विक निपटान की पुष्टि की, जो दोनों कंपनियों के बीच, वर्तमान और भविष्य के पेटेंट के लिए दस साल के लाइसेंस समझौते के पक्ष में, एप्पल और एचटीसी के बीच सभी मुकदमों को खारिज कर देगा ।\\n यह भविष्यवाणी की जाती है कि एचटीसी के साथ इस सौदे से एप्पल प्रति वर्ष $ 280 मिलियन कमाएगा।\\nएप्पल इंक बनाम सैमसंग इलेक्ट्रॉनिक्स की अदालती कार्यवाही के दौरान अप्रैल 2014 की शुरुआत में, जॉब्स द्वारा उनकी मृत्यु से एक साल पहले लिखा गया एक पूर्व गोपनीय ईमेल सार्वजनिक रूप से उपलब्ध हो गया । \"टॉप 100 - ए\" विषय पंक्ति के साथ, ईमेल केवल कंपनी के 100 सबसे वरिष्ठ कर्मचारियों को भेजा गया था और एप्पल इंक के भविष्य के बारे में जॉब्स के दृष्टिकोण को 10 उप-शीर्षक के तहत रेखांकित करता है । विशेष रूप से, जॉब्स ने 2011 के लिए \"गूगल के साथ पवित्र युद्ध\" की घोषणा की और 2015 के लिए एक \"नए परिसर\" को शेड्यूल किया | मार्च 2013 में, एप्पल ने एक संवर्धित वास्तविकता (AR) प्रणाली के लिए एक पेटेंट दायर किया, जो एक लाइव वीडियो स्ट्रीम में वस्तुओं की पहचान कर सकता है और वास्तविक दुनिया की छवि के शीर्ष पर कंप्यूटर जनित सूचना परत के माध्यम से इन वस्तुओं के अनुरूप जानकारी प्रस्तुत कर सकता है। कंपनी ने 2013 में कई उच्च-प्रोफाइल नियुक्तियों  के निर्णय भी किए । 2 जुलाई, 2013 को, एप्पल ने यवेस सैंट लॉरेंट, बेल्जियम के अध्यक्ष और सीईओ, अध्यक्ष और सीईओ, पॉल डेनेवे, को टिम कुक के अधीन उपाध्यक्ष, के रूप में भर्ती किया।\\nमध्य अक्टूबर 2013 की एक घोषणा से पता चला कि बरबेरी की सीईओ एंजेला अहरेंडट्स 2014 के मध्य में एप्पल में वरिष्ठ उपाध्यक्ष के रूप में शुरुआत करेंगी । अहरेंडट्स ने बरबरी की डिजिटल रणनीति का लगभग आठ साल तक नेतृत्व किया और उनके कार्यकाल में बिक्री बढ़कर लगभग 3.2 बिलियन डॉलर हो गई और शेयरों में तीन गुना से अधिक की वृद्धि हुई। उन्होंने 2019 में एप्पल से इस्तीफा दे दिया |  गूगल के उपाध्यक्ष विंट सेर्फ़ और एटीएंडटी के सीईओ रान्डल स्टीफेंसन के साथ, कुक ने 8 अगस्त, 2013 को राष्ट्रपति ओबामा द्वारा एडवर्ड स्नोडेन [[वैश्विक निगरानी प्रकटीकरण (2013-वर्तमान)\\n| एनएसए घटना]] के मद्देनजर सरकारी निगरानी और इंटरनेट पर आयोजित एक बंद दरवाजे के शिखर सम्मेलन में भाग लिया |  4 फरवरी 2014 को कुक ने तुर्की के राष्ट्रपति अब्दुल्ला गुल के साथ अंकारा में फतिह परियोजना में कंपनी की भागीदारी पर चर्चा की ।2014 की पहली तिमाही में, एप्पल ने 51 मिलियन आईफोन और 26 मिलियन आईपैड की बिक्री की सूचना दी, जो कि सर्वकालिक तिमाही बिक्री रिकॉर्ड बन गए । Iइसने मैक की बिक्री में महत्वपूर्ण साल-दर-साल वृद्धि का भी अनुभव किया । यह आईपॉड बिक्री में एक महत्वपूर्ण गिरावट के साथ विपरीत था । Iमई 2014 में, कंपनी ने डॉ ड्रे और जिमी इओवाइन की ऑडियो कंपनी बीट्स इलेक्ट्रॉनिक्स जो \"बीट्स बाय डॉ ड्रे\" हेडफोन और स्पीकर उत्पादों के निर्माता और संगीत स्ट्रीमिंग सेवा बीट्स म्यूजिक के ऑपरेटर के $ 3 बिलियन में अधिग्रहण और एप्पल के रिटेल आउटलेट्स और रीसेलरों के माध्यम से उसके उत्पादों को बेचने के लिए अपने इरादे की पुष्टि की । इओवाइन का मानना था कि बीट्स हमेशा एप्पल के साथ \"संबंधित\" था, क्योंकि कंपनी ने एप्पल की संस्कृति और प्रौद्योगिकी से मिलन करने की बेजोड़ क्षमता को खुद के लिए मॉडल बनाया था ।यह अधिग्रहण एप्पल के इतिहास में सबसे बड़ी खरीद थी ।एप्पल लगातार 6 वर्षों तक इंटरब्रांड की वार्षिक बेस्ट ग्लोबल ब्रांड्स रिपोर्ट में सबसे ऊपर था;    \\n2013, 2014, 2015,  2016  2017 और 2018 में $ 214.48 बिलियन मूल्यांकन के साथ । जनवरी 2016 में, यह घोषणा की गई कि दुनिया भर में एक बिलियन एप्पल डिवाइस सक्रिय उपयोग में थे ।12 मई, 2016 को, एप्पल ने एक चीनी परिवहन नेटवर्क कंपनी, दीदी  में $ 1 बिलियन का निवेश किया । द इन्फॉर्मेशन ने अक्टूबर 2016 में सूचना दी कि एप्पल ने दीदी चक्सिंग में एक बोर्ड सीट ले ली थी,  द वर्ज के जेम्स विंसेंट के अनुसार यह चाल एप्पल का एक रणनीतिक निर्णय है ऑटोमोबाइल उद्योग के करीब जाने के लिए,  विशेष रूप से दीदी चक्सिंग की सेल्फ-ड्राइविंग कारों में रुचि के कारण ।6 जून 2016 को, फॉर्च्यून ने फॉर्च्यून 500 को जारी किया, उनकी राजस्व सृजन पर आधारित कंपनियों की सूची । अनुगामी वित्तीय वर्ष (2015) में, एप्पल शीर्ष तकनीकी कंपनी के रूप में सूची में दिखाई दिया | यह राजस्व में $ 233 बिलियन के साथ, तीसरे स्थान पर था ।  यह पिछले वर्ष की सूची से दो स्थानों के ऊपर की ओर चाल को दर्शाता है । 6 अप्रैल 2017 को, एप्पल ने क्लिप्स  ऐप लॉन्च किया, जो आईफोन और आईपैड उपयोगकर्ताओं को टेक्स्ट, ग्राफिक्स और प्रभावों के साथ लघु वीडियो बनाने और संपादित करने देता है | यह ऍप, संदेश (मैसेजेस) ऐप, इंस्टाग्राम, फेसबुक और अन्य सामाजिक नेटवर्क पर अन्य उपयोगकर्ताओं के साथ साझा करने के लिए लघु वीडियो बनाने का एक तरीका प्रदान करता है । ऐप्पल ने क्लिप्स के लिए लाइव टाइटल भी पेश किए हैं जो उपयोगकर्ताओं को अपनी आवाज़ का उपयोग करके लाइव एनिमेटेड कैप्शन और शीर्षक जोड़ने की अनुमति देता है । मई 2017 में, एप्पल ने अपनी दो वेबसाइट के डिज़ाइनों को ताज़ा किया | उनकी जनसंपर्क \"एप्पल प्रेस इन्फो\" वेबसाइट को \"एप्पल न्यूज़रूम\" साइट में बदल दिया गया, जिसमें इमेजरी पर अधिक जोर दिया गया जिस से सूचना घनत्व कम हुआ; प्रेस विज्ञप्ति, समाचार आइटम और फोटो को जोड़ कर जोड़ कर एक ही जगह में सारी जानकारी दी गयी  । एप्पल ने अपने \"एप्पल लीडरशिप\" कंपनी के अधिकारियों के अवलोकन को भी ताज़ा किया, जिसमें एक प्रमुख हेडर इमेज और दो-कॉलम टेक्स्ट फ़ील्ड के साथ एक सरल लेआउट जोड़ा गया । [[9टू5मैक ने इस बदली हुई डिज़ाइन की आईओएस 10 में एप्पल के रीडिज़ाइन किए गए ऐप, विशेष रूप से एप्पल म्यूज़िक और एप्पल न्यूज़ सॉफ़्टवेयर के साथ कई डिज़ाइन समानताओं को नोट किया | जून 2017 में, एप्पल ने होमपॉड की घोषणा की, इस स्मार्ट स्पीकर स्पीकर का उद्देश्य सोनोस, गूगल होम और अमेज़ॅन इको के खिलाफ प्रतिस्पर्धा करना था । साल के अंत में, टेकक्रंच ने सूचना दी कि एप्पल म्यूज़िक, टीवी, फ़िल्म और विज्ञापन की पहचान करने वाली विशेषज्ञ कंपनी शाज़ाम का अधिग्रहण कर रही थी । कुछ दिनों बाद कथित तौर पर एप्पल के लिए $ 400 मिलियन की लागत के साथ अधिग्रहण की पुष्टि हुई, मीडिया रिपोर्टों में  ध्यान दिया गया कि यह खरीद एप्पल द्वारा अपने एप्पल म्यूज़िक स्ट्रीमिंग सेवा को मजबूत करने के लिए डेटा और उपकरण प्राप्त करने के लिए एक कदम की तरह लग रहा था।\\n बाद में सितंबर 2018 में यूरोपीय संघ द्वारा खरीद को मंजूरी दी गई ।इसके अलावा जून 2017 में, एप्पल ने जेमी एर्लिच और ज़ैक वान अमबर्ग को अपनी नवगठित विश्वव्यापी वीडियो इकाई का नेतृत्व करने के लिए नियुक्त किया । \\nनवंबर 2017 में, एप्पल ने घोषणा की कि वह मूल लिखित कार्यक्रम निर्माण में शामिल हो रहा है: जेनिफर एनिस्टन और रीज़ विदरस्पून अभिनीत द मॉर्निंग शो\\nएक नाटक शृंखला और स्टीवन स्पीलबर्ग की संकलन शृंखला अमेजिंग स्टोरीज़ के रीबूट के साथ ।  जून 2018 में,  एप्पल ने राइटर्स गिल्ड ऑफ़ अमेरिका के न्यूनतम बुनियादी समझौते और ओपरा विन्फ्रे के साथ एक बहु-वर्षीय सामग्री साझेदारी पर हस्ताक्षर किए | मूल श्रृंखला के लिए अतिरिक्त भागीदारी में सेसमे वर्कशॉप और डीएचएक्स मीडिया और इसकी सहायक पीनट्स वर्ल्डवाइड और साथ ही मूल फिल्में बनाने के लिए ए24 कंपनी के साथ साझेदारी शामिल है ।\\n जनवरी 2019 तक, एप्पल ने 21 टेलीविजन श्रृंखला और एक फिल्म का आदेश दिया है। इसके अलावा पाँच श्रृंखलाएँ एप्पल में विकसित हो रही हैं।\\n5 जून, 2018 को, एप्पल ने सभी ऑपरेटिंग सिस्टम पर ओपनजीएल को अपदस्थ कर दिया और डेवलपर्स से इसके बजाय मेटल का उपयोग करने का आग्रह किया |अगस्त 2018 में, एप्पल ने अकोनिया होलोग्राफिक को उसके संवर्धित वास्तविकता चश्मे के लेंस के लिए खरीदा | 14 फरवरी, 2019 को, एप्पल ने डेटाटाइगर का उसकी डिजिटल मार्केटिंग तकनीक के लिए अधिग्रहण किया |\\n29 जनवरी, 2019 को, एप्पल ने एक दशक में राजस्व और मुनाफे में अपनी पहली गिरावट दर्ज की। फरवरी 2019 में उन्होंने कन्वर्सेशनल कंप्यूटिंग कंपनी पुलस्ट्रिंग (पूर्व में टॉयटॉक) को खरीदा था25 जुलाई, 2019 को, एप्पल और Intel ने एप्पल के लिए [[Intel] के स्मार्टफोन मॉडम व्यवसाय का US$1 बिलियन में अधिग्रहण करने के लिए एक समझौते की घोषणा की। Mobile Communications]] ।30 मार्च, 2020 को एप्पल ने स्थानीय मौसम ऐप निर्माता डार्क स्काई को एक अज्ञात राशि के लिए अधिग्रहित किया, जिसका उद्देश्य 2021 के अंत में अपने मूल ऐप को बंद करना था।  3 अप्रैल, 2020 को एप्पल ने वायसिस का अधिग्रहण किया, जो एक डबलिन आधारित कंपनी ने एक अज्ञात राशि के लिए AI डिजिटल वॉयस तकनीक पर ध्यान केंद्रित किया। 14 मई, 2020 को एप्पल ने न्यूपोर्ट बीच, कैलिफ़ोर्निया में स्थित एक वर्चुअल रियलिटी कंपनी नेक्स्टवीआर का अधिग्रहण किया।4 अगस्त, 2020 को एक्सिऑस  ने बताया कि एप्पल की टिक टोक , खरीदने में \"गंभीर रुचि\" थी। हालांकि बाद में एप्पल द्वारा इसका खंडन किया गया था ।19 अगस्त, 2020 को, एप्पल के शेयर की कीमत कुछ समय के लिए $467.77 से ऊपर रही, जिससे एप्पल $2 ट्रिलियन के बाज़ार पूंजीकरण वाली पहली अमेरिकी कंपनी बन गई।2 सितंबर, 2020 को, एप्पल ने इस साल के अंत में iOS की आगामी सुविधाओं की घोषणा की, जिससे डेवलपर्स ग्राहकों को \"ऑफ़र कोड\" नामक मुफ्त या रियायती सदस्यता कोड प्रदान कर सकें। iOS 14, iPadOS 14 और बाद में काम करने वाले उपयोगकर्ताओं को ऐप स्टोर पर ऑफ़र कोड रिडीम करने के लिए योग्य घोषित किया गया था। यदि एप्लिकेशन के भीतर लागू किया जाता है, तो ऑफ़र को दो तरीकों के माध्यम से भुनाया जा सकता है, एक बार कोड रिडेम्पशन URL या presentCodeRedemptionSheet API का उपयोग करके।उपभोक्ताओं को उपकरणों की डिलीवरी में तेजी लाने के लिए, एप्पल ने अक्टूबर 2020 से सीधे अपने स्टोर से उपकरणों की शिपिंग शुरू कर दी है। कंपनी ने अपने एप्पल स्टोर्स के नेटवर्क को स्टोर से सीधे ग्राहकों तक शिपिंग उत्पादों के लिए वास्तविक पूर्ति केंद्र के रूप में उपयोग करने की घोषणा की।10 नवंबर, 2020 को, एप्पल डेवलपर्स ने iOS उपकरणों पर मास्क पहनने वाले स्टिकर के लॉन्च की पुष्टि की, जिसे पहले एप्पल द्वारा \"COVID-19 pandemic के अनुचित संदर्भ\" होने का दावा करते हुए अस्वीकार कर दिया गया था।  कंपनी ने हाल ही में Fisker के साथ एक डील साइन की है।22 जून, 2020 को अपने वार्षिक WWDC के मुख्य भाषण के दौरान, एप्पल ने घोषणा की कि वह मैक को इंटेल प्रोसेसर से हटाकर इन-हाउस विकसित प्रोसेसर में बदल देगा। उद्योग विश्लेषकों द्वारा घोषणा की उम्मीद की गई थी, और यह नोट किया गया है कि एप्पल के प्रोसेसर वाले मैक, वर्तमान इंटेल-आधारित मॉडल पर प्रदर्शन में बड़ी वृद्धि की अनुमति देंगे। 10 नवंबर 2020  को, मैकबुक एयर, मैकबुक प्रो और मैक मिनी एप्पल द्वारा डिज़ाइन किए गए प्रोसेसर, एप्पल M1 द्वारा संचालित पहले मैक डिवाइस बन गए।अप्रैल 2022 में, यह बताया गया कि सैमसंग इलेक्ट्रो-मैकेनिक्स एलजी इनोटेक के बजाय ऐप्पल के साथ अपनी एम2 चिप पर सहयोग करेगा।  डेवलपर लॉग ने दिखाया कि चार अलग-अलग M2 चिप्स वाले कम से कम नौ मैक मॉडल का परीक्षण किया जा रहा था।वॉल स्ट्रीट जर्नल ने बताया कि अपने स्वयं के चिप्स विकसित करने के प्रयास ने ऐप्पल को महामारी युग के दौरान उभरे अर्धचालक की कमी से निपटने के लिए बेहतर तरीके से तैयार किया और मैक कंप्यूटरों की बिक्री में वृद्धि हुई, जिसमें 2020 और 2021 में एम 1 चिप्स तेजी से बढ़ रहे थे। इसने टेस्ला, अमेज़ॅन और मेटा प्लेटफ़ॉर्म जैसी अन्य कंपनियों को भी इसी तरह का रास्ता अपनाने के लिए प्रेरित किया अप्रैल 2022 में, Apple ने एक ऑनलाइन स्टोर खोला जिसने अमेरिका में किसी को भी विशिष्ट हाल के iPhones के लिए मरम्मत मैनुअल और ऑर्डर प्रतिस्थापन भागों को देखने की अनुमति दी, हालांकि इस पद्धति और आधिकारिक मरम्मत के बीच लागत में अंतर न्यूनतम होने का अनुमान है।मई 2022 में, रियलिटी ओएस के लिए एक ट्रेडमार्क दायर किया गया था, एक ऑपरेटिंग सिस्टम कथित तौर पर वर्चुअल और संवर्धित वास्तविकता हेडसेट के लिए अभिप्रेत है, जिसका पहली बार 2017 में उल्लेख किया गया था। ब्लूमबर्ग के अनुसार, हेडसेट 2023 में सामने आ सकता है।\\n\\n\\n== उत्पाद ==\\nसाँचा:समयरेखा के लिए\\n\\n\\n=== मैक ===\\n\\nइन्हें भी देखें: मैकिन्टौश मॉडल की समयरेखा,सीपीयू द्वारा समूहीकृत मैकिन्टौश मॉडल की सूची, केस द्वारा समूहीकृत मैकिन्टौश मॉडल की सूची\\nमैकिन्टौश, जिसे आमतौर पर मैक के नाम से जाना जाता है, एप्पल के पर्सनल कंप्यूटर की उत्पाद श्रृंखला है जो कंपनी के स्वामित्व वाले मैक ओएस ऑपरेटिंग सिस्टम का उपयोग करती है। पर्सनल कंप्यूटर एप्पल की मूल व्यवसाय लाइन थे, लेकिन 2021 के अंत तक वे कंपनी के राजस्व का लगभग 10 प्रतिशत ही खाते हैं\\nवर्तमान में उत्पादन में मैक:\\n\\nआईमैक: उपभोक्ता आल-इन-वन डेस्कटॉप कंप्यूटर, 1998 में लॉन्च  ।\\nमैक मिनी: उपभोक्ता सब डेस्कटॉप कंप्यूटर, 2005 में लॉन्च  ।\\nमैकबुक प्रो: पेशेवर नोटबुक, 2006 में लॉन्च  ।\\nमैक प्रो: वर्कस्टेशन डेस्कटॉप कंप्यूटर, 2006 में लॉन्च  ।\\nमैकबुक एयर:उपभोक्ता बेहद पतली, अल्ट्रा पोर्टेबल नोटबुक, 2008 में लॉन्च  ।\\nमैक स्टूडियो: पेशेवर छोटा फॉर्म-फैक्टर वर्कस्टेशन, 2022 में पेश किया गया ।\\nएप्पल, मैक के लिए प्रो डिसप्ले एक्स डी आर , मैजिक माउस, मैजिक ट्रैकपैड , मैजिक कीबोर्ड , लेदर स्लीव, चार्ज केबल, एडाप्टर, सुपरड्राइव आदि विभिन्न कंप्यूटर सहायक उपकरण बेचता है ।\\nकंपनी मैक के खरीद मूल्य में शामिल कई सॉफ्टवेयर भी विकसित करती है, जिसमें सफारी वेब ब्राउज़र, आईमूवी वीडियो संपादक, गैरेजबैंड ऑडियो संपादक और आईवर्क उत्पादकता सूट शामिल हैं। ।\\nइसके अतिरिक्त, कंपनी वीडियो एनिमेशन के लिए फाइनल कट प्रो वीडियो एडिटर, मोशन , लॉजिक प्रो ऑडियो एडिटर, मेनस्टेज लाइव ऑडियो प्रोडक्शन के लिए, और मीडिया कम्प्रेशन और एन्कोडिंग के लिए कंप्रेसर सहित कई पेशेवर सॉफ्टवेयर एप्लिकेशन बेचती है।\\n\\n\\n=== आईफोन ===\\n\\nआईफोन एप्पल की स्मार्टफ़ोन की उत्पाद श्रृंखला है जो कंपनी के स्वामित्व वाले आईओएस ऑपरेटिंग सिस्टम का उपयोग करती है, जो मैक ओएस के कर्नेल से व्युत्पन्न है। पहली पीढ़ी आईफोन की घोषणा तत्कालीन Apple सीईओ स्टीव जॉब्स ने 9 जनवरी, 2007 को की थी । तब से, Apple ने सालाना नए आईफोन मॉडल और आईओएस अपडेट जारी किए हैं।\\nआईफोन में  मल्टी-टच स्क्रीन के चारों ओर बनाया गयाएक यूजर इंटरफेस है, जिसे इसकी शुरुआत के समय मोबाइल फोन उद्योग के लिए \"क्रांतिकारी\" और \"गेम-चेंजर\" के रूप में वर्णित किया गया था। डिवाइस को स्मार्टफोन को लोकप्रिय बनाने और स्लेट फॉर्म फैक्टर, और स्मार्टफोन ऐप्स या \"ऐप इकोनॉमी\" के लिए एक बड़ा बाजार बनाने का श्रेय दिया गया है ।\\nआईओएस एंड्रॉइड के साथ दुनिया के दो सबसे बड़े स्मार्टफोन प्लेटफॉर्म में से एक है। आईफोन ने कंपनी के लिए बड़ा मुनाफा कमाया है, और एप्पल को दुनिया की सबसे मूल्यवान सार्वजनिक रूप से कारोबार करने वाली कंपनियों में से एक बनाने में मदद करने का श्रेय दिया जाता है।  2021 के अनुसार [update], the iPhone accounts for more than half of the company\\'s revenue.जनवरी 2022 तक 33 आईफोन मॉडल तैयार किए गए हैं, जिनमें पांच स्मार्टफोन परिवार वर्तमान उत्पादन में हैं:\\n\\nआईफोन 13\\nआईफोन 13 प्रो\\nआईफोन एसई (तीसरी पीढ़ी)\\nआईफोन 12\\nआईफोन 11\\n\\n\\n=== आईपैड ===\\n\\nआईपैड एप्पल की मीडियाटैबलेट की उत्पाद श्रृंखला है जो कंपनी के स्वामित्व वाले आईपैडओएस ऑपरेटिंग सिस्टम का उपयोग करती है, जो मैक ओएस और आईओएस से व्युत्पन्न है। पहली पीढ़ी के आईपैड की घोषणा 27 जनवरी 2010 को की गई थी। आईपैड मल्टी टच के द्वारा अखबार, पत्रिका, ई-बुक्स, पाठ्य पुस्तक, चित्र, फिल्म, टीवी कार्यक्रमों के वीडियो, संगीत, दस्तावेज़, स्प्रेडशीट, वीडियो गेम की सुविधाएँ प्रदान करता है। आईपैड ने पहली बार आईफोन में पेश किए गए मल्टी-टच यूजर इंटरफेस को लिया, और इसे एक बड़ी स्क्रीन के लिए अनुकूलित किया। इसे समाचार पत्रों, पुस्तकों, फोटो, वीडियो, संगीत, दस्तावेजों, वीडियो गेम सहित मल्टीमीडिया प्रारूपों और अधिकांश मौजूदा आईफोन ऐप्स के साथ परस्पर क्रिया के लिए विपणन किया गया । सितंबर 2019 में आईपैडओएस में विभाजित होने से पहले आईपैड की पिछली पीढ़ियों ने कंपनी के स्मार्टफ़ोन के समान आईओएस ऑपरेटिंग सिस्टम का उपयोग किया था।\\nसितम्बर 2020 के अनुसार [update] एप्पल ने 50 करोड़ से अधिक आईपैड बेचे हैं, हालांकि बिक्री 2013 में चरम पर थी। आईपैड अभी भी बिक्री के हिसाब से सबसे लोकप्रिय टैबलेट कंप्यूटर बना हुआ है  और कंपनी के राजस्व का नौ प्रतिशत हिस्सा है 2021 के अनुसार [update].हाल के वर्षों में, एप्पल ने डिवाइस के अधिक शक्तिशाली संस्करणों की पेशकश शुरू कर दी है, कंपनी के उच्च-स्तरीय  मैक और लैपटॉप के समान एम1 एप्पल सिलिकॉन का उपयोग करते हुए वर्तमान आईपैड प्रो के साथ ही इसका एक छोटा संस्करण आईपैड मिनी और आईपैड एयर नामक एक उन्नत संस्करण भी पेश किया है। \\nजनवरी 2022 तक, चार आईपैड मॉडल उत्पादन में हैं:\\n\\nआईपैड (9वीं पीढ़ी)\\nआईपैड मिनी (छठी पीढ़ी)\\nआईपैड प्रो (5वीं पीढ़ी)\\nआईपैड एयर (5वीं पीढ़ी)\\n\\n\\n=== वेअरबल, घरेलू और सहायक उपकरण ===\\n\\nएप्पल कई अन्य उत्पाद भी बनाता है जिन्हें वह \"वेअरबल, घरेलू और सहायक उपकरण\" के रूप में वर्गीकृत करता है। इन उत्पादों में एयरपॉड्स वायरलेस हेडफ़ोन की लाइन, एप्पल टीवी डिजिटल मीडिया प्लेयर, एप्पल वॉच स्मार्टवॉच, बीट्स हेडफ़ोन, [[होमपॉड मिनी] स्मार्ट स्पीकर, और आईपॉड टच पोर्टेबल मीडिया प्लेयर आइपॉड की एप्पल की सफल लाइन में अंतिम शेष डिवाइस।शामिल हैं।\\n2021 के अनुसार [update], उत्पादों की इस विस्तृत श्रृंखला में कंपनी के राजस्व का लगभग 11% शामिल है।\\n\\n\\n==== एयरपॉड्स ====\\n\\nएयरपॉड्स एप्पल इंक॰ द्वारा डिज़ाइन किया वायरलेस ब्लूटूथ ईयरबड्स और हैडफ़ोन है। उन्हें पहली बार आईफोन 7 के साथ 7 सितंबर 2016 को घोषित किया गया था। दो साल के भीतर, वे एप्पल के सबसे लोकप्रिय एक्सेसरी बन गए।\\nजनवरी 2022 तक, तीन एयरपॉड्स मॉडल उत्पादन में हैं\\n\\nएयरपॉड्स 3री पीढ़ी\\nएयरपॉड्स प्रो\\nएयरपॉड्स मैक्स\\n\\n\\n==== एप्पल वॉच ====\\n\\nएप्पल वॉच एप्पल इंक द्वारा निर्मित स्मार्टवॉच की उत्पाद श्रृंखला है। इसमें फिटनेस ट्रैकिंग, स्वास्थ्य-उन्मुख क्षमताओं और वायरलेस दूरसंचार शामिल है, और आईओएस और अन्य एप्पल उत्पादों और सेवाओं के साथ एकीकृत है।\\nएप्पल वॉच अप्रैल 2015  में जारी की गई थी |\\nजनवरी 2022 तक अनुसार , तीन एप्पल वॉच मॉडल उत्पादन में हैं:\\n\\nएप्पल वॉच (7वीं पीढ़ी)\\nएप्पल वॉच (एसई)\\nएप्पल वॉच (3री पीढ़ी)\\n\\n\\n==== एप्पल टीवी ====\\n\\nएप्पल टीवी एप्पल इंक द्वारा निर्मित डिजिटल मीडिया रिसीवर और माइक्रोकंसोल की उत्पाद श्रृंखला है\\nजनवरी 2022 तक, दो एप्पल टीवी मॉडल उत्पादन में हैं\\n\\nएप्पल टीवी एचडी (पहले चौथी पीढ़ी)\\nएप्पल टीवी 4के (दूसरी पीढ़ी)\\n\\n\\n==== बीट्स हेडफ़ोन ====\\n\\nबीट्स, एप्पल की सहायक कंपनी, बीट्स इलेक्ट्रॉनिक्स द्वारा डिज़ाइन वायरलेस ब्लूटूथ ईयरबड्स और हैडफ़ोन है | \\nजनवरी 2022 तक सात बीट्स मॉडल उत्पादन में हैं:\\nईयरबड\\n\\nबीट्स फिट प्रो\\nबीट्स स्टूडियो बड्स\\nबीट्स फ्लेक्स\\nपॉवरबीट्स प्रोहेडफ़ोन\\n\\nबीट्स सोलो3 वायरलेस\\nबीट्स स्टूडियो3 वायरलेस\\n\\n\\n==== होमपॉड ====\\n\\nहोमपॉड\\' एप्पल इंक. द्वारा विकसित स्मार्ट स्पीकर है  जो एप्पल म्यूजिक सब्सक्रिप्शन (सदस्यता) सेवा के साथ काम करने के लिए डिजाइन किया गया है |\\n\\nपूर्व मॉडल \\n\\nहोमपॉडवर्तमान मॉडल \\n\\nहोमपॉड मिनी\\n\\n\\n==== आईपॉड ====\\n\\n \\n23 अक्टूबर 2001 को, एप्पल ने आईपॉड आईपॉड डिजिटल संगीत प्लेयर का शुभारंभ किया | तब से कई अद्यतन मॉडल पेश किए गए हैं, और आइपॉड ब्रांड अब पोर्टेबल संगीत प्लेयर्स में एक महत्वपूर्ण अंतर से बाजार का नेता है । सितंबर 2015 तक 390 मिलियन से अधिक इकाइयों को बेचा गया है.\\nएप्पल ने नाइकी के साथ नाइकी + आईपॉड स्पोर्ट्स किट के लिए साझेदारी की है, यह धावकों को आईट्यून्स और नाइकी+ की वेबसाइट के साथ अपने दौड़ सिंक्रनाइज़ करने और उनकी निगरानी करने में सक्षम बनाता है। \\nजुलाई 2017 के अंत में, एप्पल  ने अपने आईपॉड नैनो और आईपॉड शफल मॉडल को बंद कर दिया, जिससे खरीद के लिए अब केवल आईपॉड टच ही उपलब्ध है।एप्पल ने 2022 तक अनुमानित 450 मिलियन आईपॉड उत्पादों की बिक्री की. एप्पल ने 10 मई, 2022 को आईपॉड उत्पाद लाइन को बंद कर दिया. 20 वर्षों में, एप्पल द्वारा बंद किया जाने वाला आईपॉड ब्रांड सबसे पुराना है.\\n\\n\\n=== एप्पल सॉफ्टवेयर ===\\n\\nमैक ओएस \\nआईओएस \\nवॉचओएस \\nटीवीओएस \\nआईबूक्स \\nआईलाइफ \\nआईट्यून्स \\nआईवर्क \\nफाइनल कट प्रो \\nलॉजिक प्रो \\nएक्सकोड \\nगेराजबैंड\\n\\n\\n== सेवाएं ==\\nएप्पल सेवाओं की एक विस्तृत श्रृंखला भी प्रदान करता है जिस पर वह राजस्व अर्जित करता है, जिसमें ऐप स्टोर और एप्पल न्यूज़+ में विज्ञापन  के माध्यम से, एप्पलकेयर+ विस्तारित वारंटी योजना, आईक्लाउड+ क्लाउड-आधारित डेटा स्टोरेज सेवा, एप्पल कार्ड क्रेडिट कार्ड क्रेडिट कार्ड के माध्यम से भुगतान सेवाएं और एप्पल पे भुगतान प्रोसेसिंग प्लेटफॉर्म,और एप्पल बुक्स, एप्पल फिटनेस+, [ [एप्पल म्यूजिक]], एप्पल टीवी+, और आईट्यून्स स्टोर सहित डिजिटल सामग्री सेवाएं शामिल हैं ।\\n2021 के अनुसार [update], सेवाओं में कंपनी के राजस्व का लगभग 19% हिस्सा होता है।  2019 में जब एप्पल ने घोषणा की कि वह अपने सेवा राजस्व का विस्तार करने के लिए एक ठोस प्रयास करेगा, तब से कई सेवाएं शुरू की गई हैं।।\\n\\n\\n== कॉर्पोरेट पहचान ==\\n\\n\\n=== प्रतीक चिन्ह ===\\n\\nइन्हें भी देखें: एप्पल इंक की टाइपोग्राफी\\n\\nस्टीव जॉब्स के अनुसार, फ़ल आहार पर रहते हुए कंपनी का नाम एक सेब के खेत में उनकी यात्रा से प्रेरित था। जॉब्स ने सोचा था कि \"एप्पल\" नाम \"मज़ेदार, उत्साही और डराने वाला नहीं है\"।रॉन वेन द्वारा डिजाइन किए गए एप्पल के पहले लोगो में एक सेब के पेड़ के नीचे बैठे सर आइजैक न्यूटन को दर्शाया गया है। इसे लगभग तुरंत ही रॉब जेनॉफ के \"इंद्रधनुष सेब\" से बदल दिया गया था, जो अब एक सेब के इंद्रधनुषी रंग का जाना-पहचाना सिल्हूट है, जिसमें से काट लिया गया है। जेनॉफ ने जॉब्स को \"काटे हुए\" लोगो के लिए कई अलग-अलग मोनोक्रोमैटिक थीम के साथ प्रस्तुत किया, और जॉब्स ने तुरंत इसे पसंद किया। हालांकि, जॉब्स ने जोर देकर कहा कि कंपनी को मानवीय बनाने के लिए लोगो को रंगीन बनाया जाए। लोगो को काटने के साथ डिजाइन किया गया था ताकि यह चेरी के साथ भ्रमित न हो। रंगीन धारियों की कल्पना लोगो को अधिक सुलभ बनाने के लिए की गई थी, और इस तथ्य का प्रतिनिधित्व करने के लिए कि Apple II रंग में ग्राफिक्स उत्पन्न कर सकता है।  इस लोगो को अक्सर गलती से एलन ट्यूरिंग को श्रद्धांजलि के रूप में संदर्भित किया जाता है, काटने के निशान के साथ एच आत्महत्या का तरीका है. जेनॉफ और एप्पल दोनों ही लोगो के डिजाइन में ट्यूरिंग को किसी भी तरह की श्रद्धांजलि देने से इनकार करते हैं।27 अगस्त 1999 कोआईमैक जी3 की शुरुआत के बाद के वर्ष, एप्पल ने आधिकारिक तौर पर इंद्रधनुष योजना को छोड़ दिया और पिछले इंद्रधनुष अवतार के आकार में लगभग समान मोनोक्रोमैटिक लोगो का उपयोग करना शुरू कर दिया। 1998 से 2003 तक एक्वा मोनोक्रोम लोगो के थीम वाले संस्करण का उपयोग किया गया था, और एक ग्लास-थीम वाले संस्करण का उपयोग 2007 से 2013 तक किया गया था।\\nस्टीव जॉब्स और स्टीव वोज्नियाक बीटल्स, के प्रशंसक थे,  लेकिन एप्पल इंक॰ में एप्पल कोर Ltd. के साथ नाम और लोगो ट्रेडमार्क समस्याएँ थीं, जो 1968 में बीटल्स द्वारा शुरू की गई एक मल्टीमीडिया कंपनी थी। इसके परिणामस्वरूप दोनों कंपनियों के बीच मुकदमों की श्रृंखला और तनाव की स्थिति पैदा हो गई। 2007 में उनके मुकदमे के निपटारे के साथ ये मुद्दे समाप्त हो गए।\\n\\n\\n=== विज्ञापन ===\\n\\nएप्पल का पहला नारा , \"बाइट इन ए एप्पल\", 1970 के दशक के अंत में गढ़ा गया था।   1997 से 2002 तक \"थिंक डिफरेंट\" का उपयोग विज्ञापन अभियानों में किया गया था, और अभी भी एप्पल के साथ निकटता से जुड़ा हुआ है। एप्पल के पास विशिष्ट उत्पाद लाइनों के लिए स्लोगन भी हैं — उदाहरण के लिए, \" iThink, इसलिए iMac\" का उपयोग 1998 में iMac को बढ़ावा देने के लिए किया गया था, और \"Say hello to iPhone\" का उपयोग iPhone विज्ञापनों में किया गया है। \"हैलो\" का इस्तेमाल मूल मैकिंटोश, न्यूटन, आईमैक (\"हैलो (फिर से)\") और iPod को पेश करने के लिए भी किया गया था ।1984 सुपर बाउल विज्ञापन के साथ 1984 में मैकिंटोश की शुरूआत से लेकर अधिक आधुनिक गेट ए मैक विज्ञापनों तक, एप्पल को अपने उत्पादों के लिए, प्रभावी विज्ञापन और विपणन की दिशा में प्रयासों के लिए पहचाना गया है। । हालांकि, बाद के अभियानों द्वारा किए गए दावे की आलोचना की गई, विशेष रूप से 2005 के पावर मैक विज्ञापन। एप्पल के उत्पाद विज्ञापनों ने उनके आकर्षक ग्राफिक्स और आकर्षक धुनों के परिणामस्वरूप बहुत ध्यान आकर्षित किया । जिन संगीतकारों को एप्पल विज्ञापनों में उनके गीतों के शामिल होने के परिणामस्वरूप एक बेहतर प्रोफ़ाइल का लाभ मिला, उनमें कनाडाई गायक Feist , अपने गीत \"1234\" और येल नाम अपने \"नई आत्मा\"गीत के साथ शामिल हैं।\\n\\n\\n=== ब्रांड निष्ठा ===\\n\\n\\n=== मुख पृष्ठ ===\\n\\n\\n=== मुख्यालय ===\\n\\n\\n=== स्टोर ===\\n\\n\\n== निगमित कार्य ==\\n\\n\\n=== कॉर्पोरेट संस्कृति ===\\n\\n\\n==== नवाचार की कमी ====\\n\\n\\n=== विनिर्माण ===\\n\\n\\n==== श्रमिक प्रथा ====\\n\\n\\n=== पर्यावरण प्रथा और पहल ===\\n\\n\\n==== ऊर्जा और संसाधन ====\\n\\n\\n==== विषाक्त पदार्थ ====\\n\\n\\n==== ग्रीन अनुबंध ====\\n\\n\\n=== वित्त ===\\n\\n\\n==== कर प्रथा ====\\n\\n\\n=== स्वामित्व ===\\n\\n\\n==== निदेशक मंडल ====\\n\\n\\n==== कार्यकारी प्रबंधन ====\\n\\n\\n=== मुकदमेबाज़ी ===\\n\\n\\n=== गोपनीयता का रुख ===\\n\\n\\n=== पुण्यात्मक कार्य ===\\n\\n\\n== निगमित कार्य ==\\n\\n\\n== यह भी देखें ==\\n\\n\\n== संदर्भ ==\\n\\n\\n=== ग्रन्थसूची ===\\n\\n\\n== आगे की पढाई ==\\n\\n\\n== बाहरी कड़ियाँ ==\\n\\n\\n== सन्दर्भ =='"
            ],
            "application/vnd.google.colaboratory.intrinsic+json": {
              "type": "string"
            }
          },
          "metadata": {},
          "execution_count": 95
        }
      ]
    },
    {
      "cell_type": "code",
      "source": [
        "#now we have to remove spaces and special characters\n",
        "def cleanup(text):\n",
        "  text = text.lower()  # make it lowercase\n",
        "  text = re.sub('[^a-z]+', '', text) # only keep characters, i.e. if not a-z then replace with space.\n",
        "  return text"
      ],
      "metadata": {
        "id": "dCom6cijAb64"
      },
      "execution_count": 96,
      "outputs": []
    },
    {
      "cell_type": "code",
      "source": [
        "arb1 = cleanup(arb1)\n",
        "arb2 = cleanup(arb2)\n",
        "hin1 = cleanup(hin1)\n",
        "hin2 = cleanup(hin2)"
      ],
      "metadata": {
        "id": "fveEfw0vAfOo"
      },
      "execution_count": 97,
      "outputs": []
    },
    {
      "cell_type": "code",
      "source": [
        "arb1"
      ],
      "metadata": {
        "id": "VgZyfwM7AjSs",
        "outputId": "4bb6fdc2-636d-41f2-9502-7a208a79c9c3",
        "colab": {
          "base_uri": "https://localhost:8080/",
          "height": 70
        }
      },
      "execution_count": 98,
      "outputs": [
        {
          "output_type": "execute_result",
          "data": {
            "text/plain": [
              "'appleincappleapplecomputercompanyapplecomputerincnextmotherboardcpuramtrscommodorepetvisicalcxeroxparclaserwriterpostscriptpagemakernextinclogosystemmacaddictmacintoshlcmacintoshlcauxosunixaimemiemiqbeatsbydrdrewwdclginnotekrealityoslockdownmodebytebiteithinkthereforeimacapplefanboypciieeemusicbrainz'"
            ],
            "application/vnd.google.colaboratory.intrinsic+json": {
              "type": "string"
            }
          },
          "metadata": {},
          "execution_count": 98
        }
      ]
    },
    {
      "cell_type": "code",
      "source": [
        "def tuple2string(tup):\n",
        "\n",
        "    st = ''\n",
        "    for ii in tup:\n",
        "        st = st + ii\n",
        "        return st\n",
        "\n",
        "# convert a tuple of tuples to a list of strings\n",
        "def key2string(keys):\n",
        "  return [tuple2string(i) for i in keys]\n",
        "\n",
        "# plot the histogram\n",
        "def plothistogram(ngram):\n",
        "  keys = key2string(ngram.keys()) \n",
        "  values = list(ngram.values())\n",
        "  \n",
        "  # sort the keys in alphabetic order\n",
        "  combined = zip(keys, values) ## keys i.e. characters on x axis and their count in the given doc as values.\n",
        "  zipped_sorted = sorted(combined, key=lambda x: x[0]) ## sorting based on keys, to get a to z order.\n",
        "  keys, values = map(list, zip(*zipped_sorted))\n",
        "  plt.bar(keys, values)"
      ],
      "metadata": {
        "id": "Y-NHwMFuAwpr"
      },
      "execution_count": 99,
      "outputs": []
    },
    {
      "cell_type": "code",
      "source": [
        "unigram_arb1= Counter(ngrams(arb1,1)) ##just to get count of each element. \n",
        "plothistogram(unigram_arb1)\n",
        "plt.title('ARABIC 1')\n",
        "plt.show()\n",
        "unigram_arb2= Counter(ngrams(arb2,1))\n",
        "plothistogram(unigram_arb2)\n",
        "plt.title('ARABIC 2')\n",
        "plt.show()\n"
      ],
      "metadata": {
        "id": "IvK0yQChAyr0",
        "outputId": "77d9a424-98a7-49bf-bb30-faa382fcf2f9",
        "colab": {
          "base_uri": "https://localhost:8080/",
          "height": 551
        }
      },
      "execution_count": 100,
      "outputs": [
        {
          "output_type": "display_data",
          "data": {
            "text/plain": [
              "<Figure size 432x288 with 1 Axes>"
            ],
            "image/png": "[encoded data removed]"
          },
          "metadata": {}
        },
        {
          "output_type": "display_data",
          "data": {
            "text/plain": [
              "<Figure size 432x288 with 1 Axes>"
            ],
            "image/png": "[encoded data removed]"
          },
          "metadata": {}
        }
      ]
    },
    {
      "cell_type": "code",
      "source": [
        "## Now instead of unigram, we will use bigrams as features, and see how useful bigrams are as features.\n",
        "\n",
        "bigram_arb1= Counter(ngrams(arb1,2)) # bigrams\n",
        "plothistogram(bigram_arb1)\n",
        "plt.title('ARABIC 1')\n",
        "plt.show()\n",
        "\n",
        "bigram_arb2 = Counter(ngrams(arb2,2))\n",
        "plothistogram(bigram_arb2)\n",
        "plt.title('ARABIC 2')\n",
        "plt.show()\n",
        "\n",
        "bigram_hin1 = Counter(ngrams(hin1,2))\n",
        "plothistogram(bigram_hin1)\n",
        "plt.title('HINDI 1')\n",
        "plt.show()\n",
        "\n",
        "bigram_hin2 = Counter(ngrams(hin2,2))\n",
        "plothistogram(bigram_hin2)\n",
        "plt.title('HINDI 2')\n",
        "plt.show()"
      ],
      "metadata": {
        "id": "RYyhF7-UA6Ee",
        "outputId": "3bd8a04d-08ba-4ce3-f54d-87ee7af3a4f2",
        "colab": {
          "base_uri": "https://localhost:8080/",
          "height": 1000
        }
      },
      "execution_count": 101,
      "outputs": [
        {
          "output_type": "display_data",
          "data": {
            "text/plain": [
              "<Figure size 432x288 with 1 Axes>"
            ],
            "image/png": "[encoded data removed]"
          },
          "metadata": {}
        },
        {
          "output_type": "display_data",
          "data": {
            "text/plain": [
              "<Figure size 432x288 with 1 Axes>"
            ],
            "image/png": "[encoded data removed]"
          },
          "metadata": {}
        },
        {
          "output_type": "display_data",
          "data": {
            "text/plain": [
              "<Figure size 432x288 with 1 Axes>"
            ],
            "image/png": "[encoded data removed]"
          },
          "metadata": {}
        },
        {
          "output_type": "display_data",
          "data": {
            "text/plain": [
              "<Figure size 432x288 with 1 Axes>"
            ],
            "image/png": "[encoded data removed]"
          },
          "metadata": {}
        }
      ]
    },
    {
      "cell_type": "code",
      "source": [
        "bigram_hin1"
      ],
      "metadata": {
        "id": "7m9PxdFRA_NG",
        "outputId": "c4a3011e-13cd-466c-8f7a-0b8091fc7f25",
        "colab": {
          "base_uri": "https://localhost:8080/"
        }
      },
      "execution_count": 102,
      "outputs": [
        {
          "output_type": "execute_result",
          "data": {
            "text/plain": [
              "Counter({('i', 'i'): 39,\n",
              "         ('i', 'x'): 1,\n",
              "         ('x', 'v'): 1,\n",
              "         ('v', 'i'): 2,\n",
              "         ('i', 'e'): 1,\n",
              "         ('e', 'v'): 2,\n",
              "         ('v', 'k'): 1,\n",
              "         ('k', 't'): 1,\n",
              "         ('t', 'q'): 1,\n",
              "         ('q', 'f'): 1,\n",
              "         ('f', 'y'): 1,\n",
              "         ('y', 's'): 2,\n",
              "         ('s', 't'): 2,\n",
              "         ('t', 'h'): 6,\n",
              "         ('h', 'i'): 2,\n",
              "         ('i', 'r'): 1,\n",
              "         ('r', 'd'): 1,\n",
              "         ('d', 'a'): 6,\n",
              "         ('a', 'n'): 4,\n",
              "         ('n', 'd'): 2,\n",
              "         ('d', 'f'): 2,\n",
              "         ('f', 'o'): 3,\n",
              "         ('o', 'u'): 2,\n",
              "         ('u', 'r'): 2,\n",
              "         ('r', 't'): 1,\n",
              "         ('h', 'a'): 3,\n",
              "         ('a', 'r'): 1,\n",
              "         ('r', 'i'): 1,\n",
              "         ('i', 'n'): 3,\n",
              "         ('n', 't'): 4,\n",
              "         ('t', 'e'): 7,\n",
              "         ('e', 'l'): 3,\n",
              "         ('l', 'i'): 1,\n",
              "         ('l', 'u'): 1,\n",
              "         ('u', 's'): 1,\n",
              "         ('s', 'm'): 1,\n",
              "         ('m', 'o'): 2,\n",
              "         ('o', 'b'): 1,\n",
              "         ('b', 'i'): 1,\n",
              "         ('i', 'l'): 2,\n",
              "         ('l', 'e'): 5,\n",
              "         ('e', 'c'): 2,\n",
              "         ('c', 'o'): 5,\n",
              "         ('o', 'm'): 2,\n",
              "         ('m', 'm'): 2,\n",
              "         ('m', 'u'): 1,\n",
              "         ('u', 'n'): 2,\n",
              "         ('n', 'i'): 1,\n",
              "         ('i', 'c'): 2,\n",
              "         ('c', 'a'): 1,\n",
              "         ('a', 't'): 6,\n",
              "         ('t', 'i'): 2,\n",
              "         ('i', 'o'): 5,\n",
              "         ('o', 'n'): 6,\n",
              "         ('n', 's'): 2,\n",
              "         ('s', 'a'): 3,\n",
              "         ('a', 'i'): 1,\n",
              "         ('o', 's'): 4,\n",
              "         ('s', 'i'): 2,\n",
              "         ('i', 'p'): 6,\n",
              "         ('p', 'a'): 3,\n",
              "         ('a', 'd'): 1,\n",
              "         ('d', 'o'): 1,\n",
              "         ('s', 'u'): 1,\n",
              "         ('r', 'l'): 1,\n",
              "         ('l', 'p'): 1,\n",
              "         ('p', 'r'): 1,\n",
              "         ('r', 'e'): 4,\n",
              "         ('e', 's'): 2,\n",
              "         ('s', 'e'): 1,\n",
              "         ('e', 'n'): 2,\n",
              "         ('t', 'c'): 1,\n",
              "         ('o', 'd'): 2,\n",
              "         ('d', 'e'): 3,\n",
              "         ('e', 'r'): 2,\n",
              "         ('e', 'd'): 1,\n",
              "         ('e', 'm'): 2,\n",
              "         ('m', 'p'): 2,\n",
              "         ('p', 't'): 1,\n",
              "         ('s', 'h'): 1,\n",
              "         ('h', 'e'): 4,\n",
              "         ('e', 'e'): 1,\n",
              "         ('e', 't'): 3,\n",
              "         ('t', 'a'): 1,\n",
              "         ('a', 'p'): 5,\n",
              "         ('p', 'i'): 1,\n",
              "         ('s', 'c'): 1,\n",
              "         ('o', 'v'): 1,\n",
              "         ('i', 'd'): 1,\n",
              "         ('d', 'p'): 1,\n",
              "         ('m', 'i'): 1,\n",
              "         ('c', 'f'): 1,\n",
              "         ('f', 'i'): 1,\n",
              "         ('i', 's'): 2,\n",
              "         ('s', 'k'): 1,\n",
              "         ('k', 'e'): 1,\n",
              "         ('r', 'w'): 1,\n",
              "         ('w', 'w'): 1,\n",
              "         ('w', 'd'): 1,\n",
              "         ('d', 'c'): 1,\n",
              "         ('c', 'm'): 1,\n",
              "         ('m', 'a'): 3,\n",
              "         ('p', 'p'): 4,\n",
              "         ('p', 'l'): 4,\n",
              "         ('e', 'i'): 6,\n",
              "         ('p', 'h'): 4,\n",
              "         ('h', 'o'): 4,\n",
              "         ('n', 'e'): 4,\n",
              "         ('e', 'a'): 3,\n",
              "         ('e', 'u'): 5,\n",
              "         ('u', 'p'): 5,\n",
              "         ('p', 'd'): 5,\n",
              "         ('a', 'c'): 3,\n",
              "         ('c', 'c'): 1,\n",
              "         ('t', 's'): 1,\n",
              "         ('s', 'f'): 1,\n",
              "         ('o', 'r'): 2,\n",
              "         ('r', 'm'): 1,\n",
              "         ('n', 'h'): 1,\n",
              "         ('a', 'l'): 1,\n",
              "         ('l', 'f'): 1,\n",
              "         ('o', 'f'): 1,\n",
              "         ('f', 't'): 1,\n",
              "         ('n', 'y'): 1,\n",
              "         ('s', 'r'): 1,\n",
              "         ('v', 'e'): 1,\n",
              "         ('n', 'u'): 1,\n",
              "         ('u', 'e'): 1,\n",
              "         ('l', 't'): 1,\n",
              "         ('t', 'd'): 1,\n",
              "         ('d', 'i'): 1,\n",
              "         ('i', 't'): 1,\n",
              "         ('n', 'k'): 1,\n",
              "         ('k', 'i'): 1,\n",
              "         ('i', 'm'): 2,\n",
              "         ('c', 'i'): 1,\n",
              "         ('c', 's'): 1,\n",
              "         ('a', 'y'): 1,\n",
              "         ('y', 'h'): 1,\n",
              "         ('l', 'l'): 1,\n",
              "         ('l', 'o'): 1,\n",
              "         ('o', 't'): 1,\n",
              "         ('t', 'o'): 1,\n",
              "         ('o', 'i'): 1,\n",
              "         ('p', 'o'): 1,\n",
              "         ('f', 'e'): 1})"
            ]
          },
          "metadata": {},
          "execution_count": 102
        }
      ]
    },
    {
      "cell_type": "code",
      "source": [
        "## a function to plot 2-D histogram. The values are color mapped. \n",
        "\n",
        "def plotbihistogram(ngram):\n",
        "  freq = np.zeros((26,26))\n",
        "  for ii in range(26):\n",
        "    for jj in range(26):\n",
        "      freq[ii,jj] = ngram[(chr(ord('a')+ii), chr(ord('a')+jj))] #ord converts char to code\n",
        "  plt.imshow(freq, cmap = 'jet')\n",
        "  plt.colorbar()\n",
        "  return freq"
      ],
      "metadata": {
        "id": "jcKKM_muBBnH"
      },
      "execution_count": 103,
      "outputs": []
    },
    {
      "cell_type": "code",
      "source": [
        "bieng1 = plotbihistogram(bigram_hin1)\n",
        "plt.show()\n",
        "bieng2 = plotbihistogram(bigram_arb2)\n"
      ],
      "metadata": {
        "id": "lytWhhLcBNjn",
        "outputId": "8aa3fcb4-1583-46c4-d2a7-edd5ec6db15a",
        "colab": {
          "base_uri": "https://localhost:8080/",
          "height": 523
        }
      },
      "execution_count": 104,
      "outputs": [
        {
          "output_type": "display_data",
          "data": {
            "text/plain": [
              "<Figure size 432x288 with 2 Axes>"
            ],
            "image/png": "[encoded data removed]"
          },
          "metadata": {}
        },
        {
          "output_type": "display_data",
          "data": {
            "text/plain": [
              "<Figure size 432x288 with 2 Axes>"
            ],
            "image/png": "[encoded data removed]"
          },
          "metadata": {}
        }
      ]
    },
    {
      "cell_type": "code",
      "source": [
        "bifr1 = plotbihistogram(bigram_hin2)\n",
        "plt.show()\n",
        "bifr2 = plotbihistogram(bigram_arb1)"
      ],
      "metadata": {
        "id": "TSgIecy6BRxv",
        "outputId": "e39fdc19-a44c-4cd8-f511-d031c4b700fd",
        "colab": {
          "base_uri": "https://localhost:8080/",
          "height": 527
        }
      },
      "execution_count": 105,
      "outputs": [
        {
          "output_type": "display_data",
          "data": {
            "text/plain": [
              "<Figure size 432x288 with 2 Axes>"
            ],
            "image/png": "[encoded data removed]"
          },
          "metadata": {}
        },
        {
          "output_type": "display_data",
          "data": {
            "text/plain": [
              "<Figure size 432x288 with 2 Axes>"
            ],
            "image/png": "[encoded data removed]"
          },
          "metadata": {}
        }
      ]
    },
    {
      "cell_type": "markdown",
      "source": [
        "# answer for question2"
      ],
      "metadata": {
        "id": "muXShkG9BYb0"
      }
    },
    {
      "cell_type": "code",
      "source": [
        "#exaMPLE FOR text using files\n",
        "f=open('/NGC-DL-CONTAINER-LICENSE')\n",
        "print(f.read())"
      ],
      "metadata": {
        "id": "quf6no-iBcL4",
        "outputId": "d1d42294-01a3-47c3-82bd-e8e21e8da249",
        "colab": {
          "base_uri": "https://localhost:8080/"
        }
      },
      "execution_count": 106,
      "outputs": [
        {
          "output_type": "stream",
          "name": "stdout",
          "text": [
            "NVIDIA DEEP LEARNING CONTAINER LICENSE\n",
            "\n",
            "This license is a legal agreement between you and NVIDIA Corporation (\"NVIDIA\") and governs the use\n",
            "of the NVIDIA container and all its contents (“CONTAINER”).\n",
            "\n",
            "This license can be accepted only by an adult of legal age of majority in the country in which the\n",
            "CONTAINER is used. If you are under the legal age of majority, you must ask your parent or legal\n",
            "guardian to consent to this license. If you are entering this license on behalf of a company or\n",
            "other legal entity, you represent that you have legal authority and “you” will mean the entity you\n",
            "represent.\n",
            "\n",
            "By using the CONTAINER, you affirm that you have reached the legal age of majority, you accept the\n",
            "terms of this license, and you take legal and financial responsibility for the actions of your\n",
            "permitted users.\n",
            "\n",
            "You agree to use the CONTAINER only for purposes that are permitted by (a) this license, and (b) any\n",
            "applicable law, regulation or generally accepted practices or guidelines in the relevant\n",
            "jurisdictions.\n",
            "\n",
            "1. LICENSE. Subject to the terms of this license, NVIDIA hereby grants you a non-exclusive,\n",
            "non-transferable license, without the right to sublicense (except as expressly provided in this\n",
            "license) to:\n",
            "\n",
            "a. Install and use copies of the CONTAINER, and modify and create derivative works of samples or\n",
            "example source code delivered in the CONTAINER (if applicable), to develop and test services and\n",
            "applications,\n",
            "\n",
            "b. Deploy the CONTAINER on infrastructure you own or lease to offer a service to third parties,\n",
            "without distributing the CONTAINER or exposing the NVIDIA APIs in the CONTAINER directly to such\n",
            "service users, and\n",
            "\n",
            "c. Develop and extend the CONTAINER to create a Compatible (as defined below) derived CONTAINER that\n",
            "includes the entire CONTAINER plus other software with primary functionality, to develop and compile\n",
            "applications, and distribute such derived CONTAINER to run applications, subject to the distribution\n",
            "requirements indicated in this license. As used in this section, “Compatible” means that extensions\n",
            "to the CONTAINER must not adversely affect the functionality of the other components in the\n",
            "CONTAINER.\n",
            "\n",
            "2. DISTRIBUTION REQUIREMENTS. For purposes of this Section 2, the term “distribution” also means the\n",
            "deployment of CONTAINERS in a service or an application for third parties to access over the\n",
            "internet. These are the distribution requirements for you to exercise the grants above:\n",
            "\n",
            "a. A service or an application must have material additional functionality, beyond the included\n",
            "portions of the CONTAINER.\n",
            "\n",
            "b. The following notice shall be included in modifications and derivative works of source code\n",
            "distributed: “This software contains source code provided by NVIDIA Corporation.”\n",
            "\n",
            "c. You agree to distribute the CONTAINER subject to the terms at least as protective as the terms of\n",
            "this license, including (without limitation) terms relating to the license grant, license\n",
            "restrictions and protection of NVIDIA’s intellectual property rights. Additionally, you agree that\n",
            "you will protect the privacy, security and legal rights of your application users.\n",
            "\n",
            "d. You agree to notify NVIDIA in writing of any known or suspected distribution or use of the\n",
            "CONTAINER not in compliance with the requirements of this license, and to enforce the terms of your\n",
            "agreements with respect to the distributed CONTAINER.\n",
            "\n",
            "3. AUTHORIZED USERS. You may allow employees and contractors of your entity or of your\n",
            "subsidiary(ies) to access and use the CONTAINER from your secure network to perform work on your\n",
            "behalf. If you are an academic institution you may allow users enrolled or employed by the academic\n",
            "institution to access and use the CONTAINER from your secure network. You are responsible for the\n",
            "compliance with the terms of this license by your authorized users.\n",
            "\n",
            "4. LIMITATIONS. Your license to use the CONTAINER is restricted as follows:\n",
            "\n",
            "a. The CONTAINER is licensed for you to develop services and applications only for their use in\n",
            "systems with NVIDIA GPUs.\n",
            "\n",
            "b. You may not reverse engineer, decompile or disassemble, or remove copyright or other proprietary\n",
            "notices from any portion of the CONTAINER or copies of the CONTAINER.\n",
            "\n",
            "c. Except as expressly provided in this license, you may not copy, sell, rent, sublicense, transfer,\n",
            "distribute, modify, or create derivative works of any portion of the CONTAINER. For clarity, you may\n",
            "not distribute or sublicense the CONTAINER as a stand-alone product.\n",
            "\n",
            "d. Unless you have an agreement with NVIDIA for this purpose, you may not indicate that a service or\n",
            "an application created with the CONTAINER is sponsored or endorsed by NVIDIA.\n",
            "\n",
            "e. You may not bypass, disable, or circumvent any technical limitation, encryption, security,\n",
            "digital rights management or authentication mechanism in the CONTAINER.\n",
            "\n",
            "f. You may not replace any NVIDIA software components in the CONTAINER that are governed by this\n",
            "license with other software that implements NVIDIA APIs.\n",
            "\n",
            "g. You may not use the CONTAINER in any manner that would cause it to become subject to an open\n",
            "source software license. As examples, licenses that require as a condition of use, modification,\n",
            "and/or distribution that the CONTAINER be: (i) disclosed or distributed in source code form; (ii)\n",
            "licensed for the purpose of making derivative works; or (iii) redistributable at no charge.\n",
            "\n",
            "h. Unless you have an agreement with NVIDIA for this purpose, you may not use the CONTAINER with any\n",
            "system or application where the use or failure of the system or application can reasonably be\n",
            "expected to threaten or result in personal injury, death, or catastrophic loss. Examples include use\n",
            "in avionics, navigation, military, medical, life support or other life critical applications. NVIDIA\n",
            "does not design, test or manufacture the CONTAINER for these critical uses and NVIDIA shall not be\n",
            "liable to you or any third party, in whole or in part, for any claims or damages arising from such\n",
            "uses.\n",
            "\n",
            "i. You agree to defend, indemnify and hold harmless NVIDIA and its affiliates, and their respective\n",
            "employees, contractors, agents, officers and directors, from and against any and all claims,\n",
            "damages, obligations, losses, liabilities, costs or debt, fines, restitutions and expenses\n",
            "(including but not limited to attorney’s fees and costs incident to establishing the right of\n",
            "indemnification) arising out of or related to your use of the CONTAINER outside of the scope of this\n",
            "license, or not in compliance with its terms.\n",
            "\n",
            "5. UPDATES. NVIDIA may, at its option, make available patches, workarounds or other updates to this\n",
            "CONTAINER. Unless the updates are provided with their separate governing terms, they are deemed part\n",
            "of the CONTAINER licensed to you as provided in this license. You agree that the form and content of\n",
            "the CONTAINER that NVIDIA provides may change without prior notice to you. While NVIDIA generally\n",
            "maintains compatibility between versions, NVIDIA may in some cases make changes that introduce\n",
            "incompatibilities in future versions of the CONTAINER.\n",
            "\n",
            "6. PRE-RELEASE VERSIONS. CONTAINER versions identified as alpha, beta, preview, early access or\n",
            "otherwise as pre-release may not be fully functional, may contain errors or design flaws, and may\n",
            "have reduced or different security, privacy, availability, and reliability standards relative to\n",
            "commercial versions of NVIDIA software and materials. You may use a pre-release CONTAINER version at\n",
            "your own risk, understanding that these versions are not intended for use in production or\n",
            "business-critical systems. NVIDIA may choose not to make available a commercial version of any\n",
            "pre-release CONTAINER. NVIDIA may also choose to abandon development and terminate the availability\n",
            "of a pre-release CONTAINER at any time without liability.\n",
            "\n",
            "7. THIRD-PARTY COMPONENTS. The CONTAINER may include third-party components with separate legal\n",
            "notices or terms as may be described in proprietary notices accompanying the CONTAINER. If and to\n",
            "the extent there is a conflict between the terms in this license and the third-party license terms,\n",
            "the third-party terms control only to the extent necessary to resolve the conflict.\n",
            "\n",
            "You acknowledge and agree that it is your sole responsibility to obtain any additional third-party\n",
            "licenses required to make, have made, use, have used, sell, import, and offer for sale your products\n",
            "or services that include or incorporate any third-party software and content relating to audio\n",
            "and/or video encoders and decoders from, including but not limited to, Microsoft, Thomson,\n",
            "Fraunhofer IIS, Sisvel S.p.A., MPEG-LA, and Coding Technologies. NVIDIA does not grant to you under\n",
            "this license any necessary patent or other rights with respect to any audio and/or video encoders\n",
            "and decoders.\n",
            "\n",
            "Subject to the other terms of this license, you may use the CONTAINER to develop and test\n",
            "applications released under Open Source Initiative (OSI) approved open source software licenses.\n",
            "\n",
            "8. OWNERSHIP.\n",
            "\n",
            "8.1 NVIDIA reserves all rights, title and interest in and to the CONTAINER not expressly granted to\n",
            "you under this license. NVIDIA and its suppliers hold all rights, title and interest in and to the\n",
            "CONTAINER, including their respective intellectual property rights. The CONTAINER is copyrighted and\n",
            "protected by the laws of the United States and other countries, and international treaty provisions.\n",
            "\n",
            "8.2 Subject to the rights of NVIDIA and its suppliers in the CONTAINER, you hold all rights, title\n",
            "and interest in and to your services, applications and your derivative works of the sample source\n",
            "code delivered in the CONTAINER including their respective intellectual property rights.\n",
            "\n",
            "9. FEEDBACK. You may, but are not obligated to, provide to NVIDIA suggestions, fixes, modifications,\n",
            "feature requests or other feedback regarding the CONTAINER (“Feedback”). Feedback, even if\n",
            "designated as confidential by you, shall not create any confidentiality obligation for NVIDIA.\n",
            "NVIDIA and its designees have a perpetual, non-exclusive, worldwide, irrevocable license to use,\n",
            "reproduce, publicly display, modify, create derivative works of, license, sublicense, and otherwise\n",
            "distribute and exploit Feedback as NVIDIA sees fit without payment and without obligation or\n",
            "restriction of any kind on account of intellectual property rights or otherwise.\n",
            "\n",
            "10. NO WARRANTIES. THE CONTAINER IS PROVIDED AS-IS. TO THE MAXIMUM EXTENT PERMITTED BY APPLICABLE\n",
            "LAW NVIDIA AND ITS AFFILIATES EXPRESSLY DISCLAIM ALL WARRANTIES OF ANY KIND OR NATURE, WHETHER\n",
            "EXPRESS, IMPLIED OR STATUTORY, INCLUDING, BUT NOT LIMITED TO, WARRANTIES OF MERCHANTABILITY,\n",
            "NON-INFRINGEMENT, OR FITNESS FOR A PARTICULAR PURPOSE. NVIDIA DOES NOT WARRANT THAT THE CONTAINER\n",
            "WILL MEET YOUR REQUIREMENTS OR THAT THE OPERATION THEREOF WILL BE UNINTERRUPTED OR ERROR-FREE, OR\n",
            "THAT ALL ERRORS WILL BE CORRECTED.\n",
            "\n",
            "11. LIMITATIONS OF LIABILITY. TO THE MAXIMUM EXTENT PERMITTED BY APPLICABLE LAW NVIDIA AND ITS\n",
            "AFFILIATES SHALL NOT BE LIABLE FOR ANY SPECIAL, INCIDENTAL, PUNITIVE OR CONSEQUENTIAL DAMAGES, OR\n",
            "FOR ANY LOST PROFITS, PROJECT DELAYS, LOSS OF USE, LOSS OF DATA OR LOSS OF GOODWILL, OR THE COSTS OF\n",
            "PROCURING SUBSTITUTE PRODUCTS, ARISING OUT OF OR IN CONNECTION WITH THIS LICENSE OR THE USE OR\n",
            "PERFORMANCE OF THE CONTAINER, WHETHER SUCH LIABILITY ARISES FROM ANY CLAIM BASED UPON BREACH OF\n",
            "CONTRACT, BREACH OF WARRANTY, TORT (INCLUDING NEGLIGENCE), PRODUCT LIABILITY OR ANY OTHER CAUSE OF\n",
            "ACTION OR THEORY OF LIABILITY, EVEN IF NVIDIA HAS PREVIOUSLY BEEN ADVISED OF, OR COULD REASONABLY\n",
            "HAVE FORESEEN, THE POSSIBILITY OF SUCH DAMAGES. IN NO EVENT WILL NVIDIA’S AND ITS AFFILIATES TOTAL\n",
            "CUMULATIVE LIABILITY UNDER OR ARISING OUT OF THIS LICENSE EXCEED US$10.00. THE NATURE OF THE\n",
            "LIABILITY OR THE NUMBER OF CLAIMS OR SUITS SHALL NOT ENLARGE OR EXTEND THIS LIMIT.\n",
            "\n",
            "12. TERMINATION. Your rights under this license will terminate automatically without notice from\n",
            "NVIDIA if you fail to comply with any term and condition of this license or if you commence or\n",
            "participate in any legal proceeding against NVIDIA with respect to the CONTAINER. NVIDIA may\n",
            "terminate this license with advance written notice to you, if NVIDIA decides to no longer provide\n",
            "the CONTAINER in a country or, in NVIDIA’s sole discretion, the continued use of it is no longer\n",
            "commercially viable. Upon any termination of this license, you agree to promptly discontinue use of\n",
            "the CONTAINER and destroy all copies in your possession or control. Your prior distributions in\n",
            "accordance with this license are not affected by the termination of this license. All provisions of\n",
            "this license will survive termination, except for the license granted to you.\n",
            "\n",
            "13. APPLICABLE LAW. This license will be governed in all respects by the laws of the United States\n",
            "and of the State of Delaware, without regard to the conflicts of laws principles. The United Nations\n",
            "Convention on Contracts for the International Sale of Goods is specifically disclaimed. You agree to\n",
            "all terms of this license in the English language. The state or federal courts residing in Santa\n",
            "Clara County, California shall have exclusive jurisdiction over any dispute or claim arising out of\n",
            "this license. Notwithstanding this, you agree that NVIDIA shall still be allowed to apply for\n",
            "injunctive remedies or urgent legal relief in any jurisdiction.\n",
            "\n",
            "14. NO ASSIGNMENT. This license and your rights and obligations thereunder may not be assigned by\n",
            "you by any means or operation of law without NVIDIA’s permission. Any attempted assignment not\n",
            "approved by NVIDIA in writing shall be void and of no effect. NVIDIA may assign, delegate or\n",
            "transfer this license and its rights and obligations, and if to a non-affiliate you will be\n",
            "notified.\n",
            "\n",
            "15. EXPORT. The CONTAINER is subject to United States export laws and regulations. You agree to\n",
            "comply with all applicable\n",
            "\n",
            "U.S. and international export laws, including the Export Administration Regulations (EAR)\n",
            "administered by the U.S. Department of Commerce and economic sanctions administered by the U.S.\n",
            "Department of Treasury’s Office of Foreign Assets Control (OFAC). These laws include restrictions on\n",
            "destinations, end-users and end-use. By accepting this license, you confirm that you are not\n",
            "currently residing in a country or region currently embargoed by the U.S. and that you are not\n",
            "otherwise prohibited from receiving the CONTAINER.\n",
            "\n",
            "16. GOVERNMENT USE. The CONTAINER is, and shall be treated as being, “Commercial Items” as that term\n",
            "is defined at 48 CFR § 2.101, consisting of “commercial computer software” and “commercial computer\n",
            "software documentation”, respectively, as such terms are used in, respectively, 48 CFR § 12.212 and\n",
            "48 CFR §§ 227.7202 & 252.227-7014(a)(1). Use, duplication or disclosure by the U.S. Government or a\n",
            "U.S. Government subcontractor is subject to the restrictions in this license pursuant to 48 CFR §\n",
            "12.212 or 48 CFR § 227.7202. In no event shall the US Government user acquire rights in the\n",
            "CONTAINER beyond those specified in 48 C.F.R. 52.227-19(b)(1)-(2).\n",
            "\n",
            "17. NOTICES. Please direct your legal notices or other correspondence to NVIDIA Corporation, 2788\n",
            "San Tomas Expressway, Santa Clara, California 95051, United States of America, Attention: Legal\n",
            "Department.\n",
            "\n",
            "18. ENTIRE AGREEMENT. This license is the final, complete and exclusive agreement between the\n",
            "parties relating to the subject matter of this license and supersedes all prior or contemporaneous\n",
            "understandings and agreements relating to this subject matter, whether oral or written. If any court\n",
            "of competent jurisdiction determines that any provision of this license is illegal, invalid or\n",
            "unenforceable, the remaining provisions will remain in full force and effect. Any amendment or\n",
            "waiver under this license shall be in writing and signed by representatives of both parties.\n",
            "\n",
            "19. LICENSING. If the distribution terms in this license are not suitable for your organization, or\n",
            "for any questions regarding this license, please contact NVIDIA at nvidia-compute-license-questions@nvidia.com.\n",
            "\n",
            "(v. December 4, 2020)\n",
            "\n"
          ]
        }
      ]
    },
    {
      "cell_type": "markdown",
      "source": [
        "# Answer for Question 3"
      ],
      "metadata": {
        "id": "D2-oaIOSCjKU"
      }
    },
    {
      "cell_type": "markdown",
      "source": [
        "# **n grams**- sequences of words or symbols or a tokens in a document they come with to play when we deal with text data in NLP\n",
        "Features of Images.\n",
        "Images in digital format are stored as numeric values, and hence we can use these values as features. for ex : a black and white (binary) image is stored as an array of 0 and 255 or 0 and 1."
      ],
      "metadata": {
        "id": "wpUIsEkTDw2N"
      }
    },
    {
      "cell_type": "markdown",
      "source": [
        "## Features of Images. \n",
        "### Images in digital format are stored as numeric values, and hence we can use these values as features. for ex : a black and white (binary) image is stored as an array of 0  and 255 or 0 and 1."
      ],
      "metadata": {
        "id": "CpA1eKZiDjTm"
      }
    },
    {
      "cell_type": "markdown",
      "metadata": {
        "id": "2ZJfjIHk-oHV"
      },
      "source": [
        "# Part 2: Written numbers\n",
        "\n",
        "We will use a subset of the MNIST dataset. Each input character is represented in a 28*28 array. Let us see if we can extract some simple features from these images which can help us distinguish between the digits.\n",
        "\n",
        "Load the dataset:"
      ]
    },
    {
      "cell_type": "code",
      "metadata": {
        "id": "yNsLJSr6wGY0"
      },
      "source": [
        "from keras.datasets import mnist\n",
        " \n",
        "#loading the dataset\n",
        "(train_X, train_y), (test_X, test_y) = mnist.load_data()\n",
        "\n"
      ],
      "execution_count": 107,
      "outputs": []
    },
    {
      "cell_type": "markdown",
      "metadata": {
        "id": "jVNr144WAUZO"
      },
      "source": [
        "Extract a subset of the data for our experiment:"
      ]
    },
    {
      "cell_type": "code",
      "metadata": {
        "id": "P3MN8ddxAASZ"
      },
      "source": [
        "no1 = train_X[train_y==1,:,:] ## dataset corresponding to number = 1.\n",
        "no0 = train_X[train_y==0,:,:] ## dataset corresponding to number = 0."
      ],
      "execution_count": 108,
      "outputs": []
    },
    {
      "cell_type": "markdown",
      "metadata": {
        "id": "ePXCs0qyCLpc"
      },
      "source": [
        "Let us visualize a few images here:"
      ]
    },
    {
      "cell_type": "code",
      "metadata": {
        "id": "BQeyZSh-Arpc",
        "colab": {
          "base_uri": "https://localhost:8080/",
          "height": 205
        },
        "outputId": "67792808-da93-438f-da87-1418797f419c"
      },
      "source": [
        "for ii in range(5):\n",
        "  plt.subplot(1, 5, ii+1)\n",
        "  plt.imshow(no1[ii,:,:])\n",
        "plt.show()\n",
        "for ii in range(5):\n",
        "  plt.subplot(1, 5, ii+1)\n",
        "  plt.imshow(no0[ii,:,:])\n",
        "plt.show()"
      ],
      "execution_count": 109,
      "outputs": [
        {
          "output_type": "display_data",
          "data": {
            "text/plain": [
              "<Figure size 432x288 with 5 Axes>"
            ],
            "image/png": "[encoded data removed]"
          },
          "metadata": {}
        },
        {
          "output_type": "display_data",
          "data": {
            "text/plain": [
              "<Figure size 432x288 with 5 Axes>"
            ],
            "image/png": "[encoded data removed]"
          },
          "metadata": {}
        }
      ]
    },
    {
      "cell_type": "code",
      "source": [
        "a = no1>0\n",
        "a.shape, no1.shape"
      ],
      "metadata": {
        "colab": {
          "base_uri": "https://localhost:8080/"
        },
        "id": "n2UFfFWhCYzT",
        "outputId": "8ab1cd0b-3b71-4e53-85ab-81dd03ae202f"
      },
      "execution_count": 110,
      "outputs": [
        {
          "output_type": "execute_result",
          "data": {
            "text/plain": [
              "((6742, 28, 28), (6742, 28, 28))"
            ]
          },
          "metadata": {},
          "execution_count": 110
        }
      ]
    },
    {
      "cell_type": "code",
      "source": [
        "## to help you understand how the np.sum is working to find count of pixels that are not zero.\n",
        "\n",
        "mtx = np.arange(8).reshape(2,2,2)\n",
        "a = mtx>1\n",
        "a[0][0][0]\n",
        "type(a[0][0][0])\n"
      ],
      "metadata": {
        "colab": {
          "base_uri": "https://localhost:8080/"
        },
        "id": "LHjttKNkDK29",
        "outputId": "591f5945-b243-432a-b207-ce6e5628b50f"
      },
      "execution_count": 111,
      "outputs": [
        {
          "output_type": "execute_result",
          "data": {
            "text/plain": [
              "numpy.bool_"
            ]
          },
          "metadata": {},
          "execution_count": 111
        }
      ]
    },
    {
      "cell_type": "markdown",
      "source": [
        "## We can even use value of each pixel as a feature. But let us see how to derive other features."
      ],
      "metadata": {
        "id": "2_1n_KXkE3zg"
      }
    },
    {
      "cell_type": "markdown",
      "metadata": {
        "id": "1g-Tg7EKDz96"
      },
      "source": [
        "Now, let us start with a simple feature: the sum of all pixels and see how good this feature is."
      ]
    },
    {
      "cell_type": "code",
      "metadata": {
        "id": "I8SztDk7CyZc"
      },
      "source": [
        "## sum of pixel values.\n",
        "\n",
        "sum1 = np.sum(no1>0, (1,2)) # threshold before adding up\n",
        "sum0 = np.sum(no0>0, (1,2))"
      ],
      "execution_count": 112,
      "outputs": []
    },
    {
      "cell_type": "markdown",
      "metadata": {
        "id": "8oW3XCOCE7Zv"
      },
      "source": [
        "Let us visualize how good this feature is: (X-axis is mean, y-axis is the digit)"
      ]
    },
    {
      "cell_type": "code",
      "source": [
        "sum1.shape"
      ],
      "metadata": {
        "colab": {
          "base_uri": "https://localhost:8080/"
        },
        "id": "LDz2vOp_GAZr",
        "outputId": "60732609-3728-46b0-fbac-93340c3e552f"
      },
      "execution_count": 113,
      "outputs": [
        {
          "output_type": "execute_result",
          "data": {
            "text/plain": [
              "(6742,)"
            ]
          },
          "metadata": {},
          "execution_count": 113
        }
      ]
    },
    {
      "cell_type": "code",
      "metadata": {
        "id": "i8PIe8o_DPpU",
        "colab": {
          "base_uri": "https://localhost:8080/",
          "height": 268
        },
        "outputId": "1cb4558f-823c-4e0c-d889-d4cfb9dcbe35"
      },
      "source": [
        "plt.hist(sum1, alpha=0.7);\n",
        "plt.hist(sum0, alpha=0.7);\n",
        "\n"
      ],
      "execution_count": 114,
      "outputs": [
        {
          "output_type": "display_data",
          "data": {
            "text/plain": [
              "<Figure size 432x288 with 1 Axes>"
            ],
            "image/png": "[encoded data removed]"
          },
          "metadata": {}
        }
      ]
    },
    {
      "cell_type": "markdown",
      "metadata": {
        "id": "7_hToEepFtl2"
      },
      "source": [
        "We can already see that this feature separates the two classes quite well.\n",
        "\n",
        "Let us look at another, more complicated feature. We will count the number black pixels that are surrounded on four sides by non-black pixels, or \"hole pixels\"."
      ]
    },
    {
      "cell_type": "code",
      "metadata": {
        "id": "HwEnlm6RFFej"
      },
      "source": [
        "def cumArray(img):\n",
        "  img2 = img.copy()\n",
        "  for ii in range(1, img2.shape[1]):\n",
        "    img2[ii,:] = img2[ii,:] + img2[ii-1,:]  # for every row, add up all the rows above it.\n",
        "  #print(img2)\n",
        "  img2 = img2>0\n",
        "  #print(img2)\n",
        "  return img2\n",
        "\n",
        "def getHolePixels(img):\n",
        "  im1 = cumArray(img)\n",
        "  im2 = np.rot90(cumArray(np.rot90(img)), 3) # rotate and cumulate it again for differnt direction\n",
        "  im3 = np.rot90(cumArray(np.rot90(img, 2)), 2)\n",
        "  im4 = np.rot90(cumArray(np.rot90(img, 3)), 1)\n",
        "  hull =  im1 & im2 & im3 & im4 # this will create a binary image with all the holes filled in.\n",
        "  hole = hull & ~ (img>0) # remove the original digit to leave behind the holes\n",
        "  return hole\n",
        "\n",
        "\n"
      ],
      "execution_count": 115,
      "outputs": []
    },
    {
      "cell_type": "markdown",
      "metadata": {
        "id": "iw3HjgnupUEI"
      },
      "source": [
        "Visualize a few:"
      ]
    },
    {
      "cell_type": "code",
      "metadata": {
        "id": "H0sjr23NYEFe",
        "colab": {
          "base_uri": "https://localhost:8080/",
          "height": 391
        },
        "outputId": "9a17d264-53be-45e1-d049-a094f1455a6f"
      },
      "source": [
        "imgs = [no1[456,:,:],  no0[456,:,:]]\n",
        "for img in imgs:\n",
        "  plt.subplot(1,2,1)\n",
        "  plt.imshow(getHolePixels(img))\n",
        "  plt.subplot(1,2,2)\n",
        "  plt.imshow(img)\n",
        "  plt.show()"
      ],
      "execution_count": 116,
      "outputs": [
        {
          "output_type": "display_data",
          "data": {
            "text/plain": [
              "<Figure size 432x288 with 2 Axes>"
            ],
            "image/png": "[encoded data removed]"
          },
          "metadata": {}
        },
        {
          "output_type": "display_data",
          "data": {
            "text/plain": [
              "<Figure size 432x288 with 2 Axes>"
            ],
            "image/png": "[encoded data removed]"
          },
          "metadata": {}
        }
      ]
    },
    {
      "cell_type": "markdown",
      "metadata": {
        "id": "vS-4erNXtxMi"
      },
      "source": [
        "Now let us plot the number of hole pixels and see how this feature behaves"
      ]
    },
    {
      "cell_type": "code",
      "metadata": {
        "id": "Dpm1dRgsety8",
        "colab": {
          "base_uri": "https://localhost:8080/",
          "height": 268
        },
        "outputId": "728b72b9-ae89-4aa3-be49-01a72a2228ce"
      },
      "source": [
        "hole1 = np.array([getHolePixels(i).sum() for i in no1])\n",
        "hole0 = np.array([getHolePixels(i).sum() for i in no0])\n",
        "  \n",
        "plt.hist(hole1, alpha=0.7);\n",
        "plt.hist(hole0, alpha=0.7);"
      ],
      "execution_count": 117,
      "outputs": [
        {
          "output_type": "display_data",
          "data": {
            "text/plain": [
              "<Figure size 432x288 with 1 Axes>"
            ],
            "image/png": "[encoded data removed]"
          },
          "metadata": {}
        }
      ]
    },
    {
      "cell_type": "markdown",
      "metadata": {
        "id": "8UjCBHpJ31yq"
      },
      "source": [
        "This feature works even better to distinguish between one and zero. \n",
        "\n",
        "\n",
        "Now let us try the number of pixels in the 'hull' or the number with the holes filled in:"
      ]
    },
    {
      "cell_type": "markdown",
      "metadata": {
        "id": "OSzH26ElXNri"
      },
      "source": [
        "Let us try one more feature, where we look at the number of boundary pixels in each image."
      ]
    },
    {
      "cell_type": "code",
      "metadata": {
        "id": "h-2czBypXMwT"
      },
      "source": [
        "def minus(a, b):\n",
        "  return a & ~ b\n",
        "\n",
        "def getBoundaryPixels(img):\n",
        "  img = img.copy()>0  # binarize the image\n",
        "  rshift = np.roll(img, 1, 1)\n",
        "  lshift = np.roll(img, -1 ,1)\n",
        "  ushift = np.roll(img, -1, 0)\n",
        "  dshift = np.roll(img, 1, 0)\n",
        "  boundary = minus(img, rshift) | minus(img, lshift) | minus(img, ushift) | minus(img, dshift)\n",
        "  return boundary"
      ],
      "execution_count": 118,
      "outputs": []
    },
    {
      "cell_type": "code",
      "metadata": {
        "id": "u-V688jFerXh",
        "colab": {
          "base_uri": "https://localhost:8080/",
          "height": 391
        },
        "outputId": "7ff33b35-7a3f-4be0-8932-f7a2a8ead631"
      },
      "source": [
        "imgs = [no1[456,:,:],  no0[456,:,:]]\n",
        "for img in imgs:\n",
        "  plt.subplot(1,2,1)\n",
        "  plt.imshow(getBoundaryPixels(img))\n",
        "  plt.subplot(1,2,2)\n",
        "  plt.imshow(img)\n",
        "  plt.show()"
      ],
      "execution_count": 119,
      "outputs": [
        {
          "output_type": "display_data",
          "data": {
            "text/plain": [
              "<Figure size 432x288 with 2 Axes>"
            ],
            "image/png": "[encoded data removed]"
          },
          "metadata": {}
        },
        {
          "output_type": "display_data",
          "data": {
            "text/plain": [
              "<Figure size 432x288 with 2 Axes>"
            ],
            "image/png": "[encoded data removed]"
          },
          "metadata": {}
        }
      ]
    },
    {
      "cell_type": "code",
      "metadata": {
        "id": "kSsxsbCNXcNh",
        "colab": {
          "base_uri": "https://localhost:8080/",
          "height": 268
        },
        "outputId": "bb858158-0678-4794-8d9f-b0306f3fd3ce"
      },
      "source": [
        "bound1 = np.array([getBoundaryPixels(i).sum() for i in no1])\n",
        "bound0= np.array([getBoundaryPixels(i).sum() for i in no0])\n",
        "\n",
        "plt.hist(bound1, alpha=0.7);\n",
        "plt.hist(bound0, alpha=0.7);"
      ],
      "execution_count": 120,
      "outputs": [
        {
          "output_type": "display_data",
          "data": {
            "text/plain": [
              "<Figure size 432x288 with 1 Axes>"
            ],
            "image/png": "[encoded data removed]"
          },
          "metadata": {}
        }
      ]
    },
    {
      "cell_type": "markdown",
      "metadata": {
        "id": "WuP04Ao_R0Yz"
      },
      "source": [
        "What will happen if we plot two features together? "
      ]
    },
    {
      "cell_type": "markdown",
      "metadata": {
        "id": "paDGHlFSd5Fu"
      },
      "source": [
        "Feel free to explore the above graph with your mouse. \n",
        "\n",
        "\n",
        "We have seen that we extracted four features from a 28*28 dimensional image.\n",
        "\n",
        "\n",
        "Some questions to explore:\n",
        "1. Which is the best combination of features?\n",
        "2. How would you test or visualize four or more features?\n",
        "3. Can you come up with your own features?\n",
        "4. Will these features work for different classes other than 0 and 1?\n",
        "5. What will happen if we take more that two classes at a time?"
      ]
    },
    {
      "cell_type": "markdown",
      "source": [
        "# 1.question answer"
      ],
      "metadata": {
        "id": "ctXg7WT9G_IN"
      }
    },
    {
      "cell_type": "markdown",
      "source": [
        "**principal component analysis** is the best feature comibnation PCA-is a **dimentionality redutenction** method is often used to reduce the dimentionality of large data sets by transforming set of variables into a smaller one the still contain most of the infomation in large"
      ],
      "metadata": {
        "id": "KBaIWsNnHCxn"
      }
    },
    {
      "cell_type": "markdown",
      "source": [
        "# 2.question answer"
      ],
      "metadata": {
        "id": "hh0ThABHHWj4"
      }
    },
    {
      "cell_type": "markdown",
      "source": [
        "based on below testing features we can test the four or more features"
      ],
      "metadata": {
        "id": "wpdgd4WDHak4"
      }
    },
    {
      "cell_type": "markdown",
      "source": [
        "# feature tresholds\n",
        "\n",
        "# features relevence/importence\n",
        "\n",
        "# features sutability/cost\n",
        "\n",
        "# features compilance\n",
        "\n",
        "# features relationship with outcome variable\n",
        "\n",
        "# unit test for code generating features\n",
        "\n",
        "# static code review of code generating features"
      ],
      "metadata": {
        "id": "c0AoYOMZIVOG"
      }
    },
    {
      "cell_type": "markdown",
      "source": [
        "# 3.question answer\n"
      ],
      "metadata": {
        "id": "qE0xvxmDI1hp"
      }
    },
    {
      "cell_type": "markdown",
      "source": [
        "I came with my own feature if i predict the yearly expenses of a person age is good predictor beacuse as people become young and mature their rensposibilitys increases .one student start out poor but as a age varies he become rich depends and her age and mature mind in this age is the feature"
      ],
      "metadata": {
        "id": "skbFi1GKJFtA"
      }
    },
    {
      "cell_type": "markdown",
      "source": [
        "## Features from CSV file"
      ],
      "metadata": {
        "id": "gIJdT3tYIMyN"
      }
    },
    {
      "cell_type": "code",
      "source": [
        "import pandas as pd\n",
        "\n",
        "df = pd.read_csv('/content/sample_data/california_housing_train.csv')"
      ],
      "metadata": {
        "id": "SfR0jKjRI9fx"
      },
      "execution_count": 121,
      "outputs": []
    },
    {
      "cell_type": "code",
      "source": [
        "df.head()\n"
      ],
      "metadata": {
        "colab": {
          "base_uri": "https://localhost:8080/",
          "height": 270
        },
        "id": "9VU02WsOJLs_",
        "outputId": "20a4cac4-d821-4bbc-b518-6426dcfa095c"
      },
      "execution_count": 122,
      "outputs": [
        {
          "output_type": "execute_result",
          "data": {
            "text/plain": [
              "   longitude  latitude  housing_median_age  total_rooms  total_bedrooms  \\\n",
              "0    -114.31     34.19                15.0       5612.0          1283.0   \n",
              "1    -114.47     34.40                19.0       7650.0          1901.0   \n",
              "2    -114.56     33.69                17.0        720.0           174.0   \n",
              "3    -114.57     33.64                14.0       1501.0           337.0   \n",
              "4    -114.57     33.57                20.0       1454.0           326.0   \n",
              "\n",
              "   population  households  median_income  median_house_value  \n",
              "0      1015.0       472.0         1.4936             66900.0  \n",
              "1      1129.0       463.0         1.8200             80100.0  \n",
              "2       333.0       117.0         1.6509             85700.0  \n",
              "3       515.0       226.0         3.1917             73400.0  \n",
              "4       624.0       262.0         1.9250             65500.0  "
            ],
            "text/html": [
              "\n",
              "  <div id=\"df-1e270605-b69f-4bbd-8356-a8dc9755e467\">\n",
              "    <div class=\"colab-df-container\">\n",
              "      <div>\n",
              "<style scoped>\n",
              "    .dataframe tbody tr th:only-of-type {\n",
              "        vertical-align: middle;\n",
              "    }\n",
              "\n",
              "    .dataframe tbody tr th {\n",
              "        vertical-align: top;\n",
              "    }\n",
              "\n",
              "    .dataframe thead th {\n",
              "        text-align: right;\n",
              "    }\n",
              "</style>\n",
              "<table border=\"1\" class=\"dataframe\">\n",
              "  <thead>\n",
              "    <tr style=\"text-align: right;\">\n",
              "      <th></th>\n",
              "      <th>longitude</th>\n",
              "      <th>latitude</th>\n",
              "      <th>housing_median_age</th>\n",
              "      <th>total_rooms</th>\n",
              "      <th>total_bedrooms</th>\n",
              "      <th>population</th>\n",
              "      <th>households</th>\n",
              "      <th>median_income</th>\n",
              "      <th>median_house_value</th>\n",
              "    </tr>\n",
              "  </thead>\n",
              "  <tbody>\n",
              "    <tr>\n",
              "      <th>0</th>\n",
              "      <td>-114.31</td>\n",
              "      <td>34.19</td>\n",
              "      <td>15.0</td>\n",
              "      <td>5612.0</td>\n",
              "      <td>1283.0</td>\n",
              "      <td>1015.0</td>\n",
              "      <td>472.0</td>\n",
              "      <td>1.4936</td>\n",
              "      <td>66900.0</td>\n",
              "    </tr>\n",
              "    <tr>\n",
              "      <th>1</th>\n",
              "      <td>-114.47</td>\n",
              "      <td>34.40</td>\n",
              "      <td>19.0</td>\n",
              "      <td>7650.0</td>\n",
              "      <td>1901.0</td>\n",
              "      <td>1129.0</td>\n",
              "      <td>463.0</td>\n",
              "      <td>1.8200</td>\n",
              "      <td>80100.0</td>\n",
              "    </tr>\n",
              "    <tr>\n",
              "      <th>2</th>\n",
              "      <td>-114.56</td>\n",
              "      <td>33.69</td>\n",
              "      <td>17.0</td>\n",
              "      <td>720.0</td>\n",
              "      <td>174.0</td>\n",
              "      <td>333.0</td>\n",
              "      <td>117.0</td>\n",
              "      <td>1.6509</td>\n",
              "      <td>85700.0</td>\n",
              "    </tr>\n",
              "    <tr>\n",
              "      <th>3</th>\n",
              "      <td>-114.57</td>\n",
              "      <td>33.64</td>\n",
              "      <td>14.0</td>\n",
              "      <td>1501.0</td>\n",
              "      <td>337.0</td>\n",
              "      <td>515.0</td>\n",
              "      <td>226.0</td>\n",
              "      <td>3.1917</td>\n",
              "      <td>73400.0</td>\n",
              "    </tr>\n",
              "    <tr>\n",
              "      <th>4</th>\n",
              "      <td>-114.57</td>\n",
              "      <td>33.57</td>\n",
              "      <td>20.0</td>\n",
              "      <td>1454.0</td>\n",
              "      <td>326.0</td>\n",
              "      <td>624.0</td>\n",
              "      <td>262.0</td>\n",
              "      <td>1.9250</td>\n",
              "      <td>65500.0</td>\n",
              "    </tr>\n",
              "  </tbody>\n",
              "</table>\n",
              "</div>\n",
              "      <button class=\"colab-df-convert\" onclick=\"convertToInteractive('df-1e270605-b69f-4bbd-8356-a8dc9755e467')\"\n",
              "              title=\"Convert this dataframe to an interactive table.\"\n",
              "              style=\"display:none;\">\n",
              "        \n",
              "  <svg xmlns=\"http://www.w3.org/2000/svg\" height=\"24px\"viewBox=\"0 0 24 24\"\n",
              "       width=\"24px\">\n",
              "    <path d=\"M0 0h24v24H0V0z\" fill=\"none\"/>\n",
              "    <path d=\"M18.56 5.44l.94 2.06.94-2.06 2.06-.94-2.06-.94-.94-2.06-.94 2.06-2.06.94zm-11 1L8.5 8.5l.94-2.06 2.06-.94-2.06-.94L8.5 2.5l-.94 2.06-2.06.94zm10 10l.94 2.06.94-2.06 2.06-.94-2.06-.94-.94-2.06-.94 2.06-2.06.94z\"/><path d=\"M17.41 7.96l-1.37-1.37c-.4-.4-.92-.59-1.43-.59-.52 0-1.04.2-1.43.59L10.3 9.45l-7.72 7.72c-.78.78-.78 2.05 0 2.83L4 21.41c.39.39.9.59 1.41.59.51 0 1.02-.2 1.41-.59l7.78-7.78 2.81-2.81c.8-.78.8-2.07 0-2.86zM5.41 20L4 18.59l7.72-7.72 1.47 1.35L5.41 20z\"/>\n",
              "  </svg>\n",
              "      </button>\n",
              "      \n",
              "  <style>\n",
              "    .colab-df-container {\n",
              "      display:flex;\n",
              "      flex-wrap:wrap;\n",
              "      gap: 12px;\n",
              "    }\n",
              "\n",
              "    .colab-df-convert {\n",
              "      background-color: #E8F0FE;\n",
              "      border: none;\n",
              "      border-radius: 50%;\n",
              "      cursor: pointer;\n",
              "      display: none;\n",
              "      fill: #1967D2;\n",
              "      height: 32px;\n",
              "      padding: 0 0 0 0;\n",
              "      width: 32px;\n",
              "    }\n",
              "\n",
              "    .colab-df-convert:hover {\n",
              "      background-color: #E2EBFA;\n",
              "      box-shadow: 0px 1px 2px rgba(60, 64, 67, 0.3), 0px 1px 3px 1px rgba(60, 64, 67, 0.15);\n",
              "      fill: #174EA6;\n",
              "    }\n",
              "\n",
              "    [theme=dark] .colab-df-convert {\n",
              "      background-color: #3B4455;\n",
              "      fill: #D2E3FC;\n",
              "    }\n",
              "\n",
              "    [theme=dark] .colab-df-convert:hover {\n",
              "      background-color: #434B5C;\n",
              "      box-shadow: 0px 1px 3px 1px rgba(0, 0, 0, 0.15);\n",
              "      filter: drop-shadow(0px 1px 2px rgba(0, 0, 0, 0.3));\n",
              "      fill: #FFFFFF;\n",
              "    }\n",
              "  </style>\n",
              "\n",
              "      <script>\n",
              "        const buttonEl =\n",
              "          document.querySelector('#df-1e270605-b69f-4bbd-8356-a8dc9755e467 button.colab-df-convert');\n",
              "        buttonEl.style.display =\n",
              "          google.colab.kernel.accessAllowed ? 'block' : 'none';\n",
              "\n",
              "        async function convertToInteractive(key) {\n",
              "          const element = document.querySelector('#df-1e270605-b69f-4bbd-8356-a8dc9755e467');\n",
              "          const dataTable =\n",
              "            await google.colab.kernel.invokeFunction('convertToInteractive',\n",
              "                                                     [key], {});\n",
              "          if (!dataTable) return;\n",
              "\n",
              "          const docLinkHtml = 'Like what you see? Visit the ' +\n",
              "            '<a target=\"_blank\" href=https://colab.research.google.com/notebooks/data_table.ipynb>data table notebook</a>'\n",
              "            + ' to learn more about interactive tables.';\n",
              "          element.innerHTML = '';\n",
              "          dataTable['output_type'] = 'display_data';\n",
              "          await google.colab.output.renderOutput(dataTable, element);\n",
              "          const docLink = document.createElement('div');\n",
              "          docLink.innerHTML = docLinkHtml;\n",
              "          element.appendChild(docLink);\n",
              "        }\n",
              "      </script>\n",
              "    </div>\n",
              "  </div>\n",
              "  "
            ]
          },
          "metadata": {},
          "execution_count": 122
        }
      ]
    },
    {
      "cell_type": "code",
      "source": [
        "df.columns\n"
      ],
      "metadata": {
        "colab": {
          "base_uri": "https://localhost:8080/"
        },
        "id": "XCeIl4kMJc59",
        "outputId": "7dd4057e-15d0-4978-8bf9-cf2e8b56316c"
      },
      "execution_count": 123,
      "outputs": [
        {
          "output_type": "execute_result",
          "data": {
            "text/plain": [
              "Index(['longitude', 'latitude', 'housing_median_age', 'total_rooms',\n",
              "       'total_bedrooms', 'population', 'households', 'median_income',\n",
              "       'median_house_value'],\n",
              "      dtype='object')"
            ]
          },
          "metadata": {},
          "execution_count": 123
        }
      ]
    },
    {
      "cell_type": "code",
      "source": [
        "df = df.rename(columns={'oldName1': 'newName1', 'oldName2': 'newName2'})\n"
      ],
      "metadata": {
        "id": "foQSY_tvJOua"
      },
      "execution_count": 124,
      "outputs": []
    },
    {
      "cell_type": "code",
      "source": [
        "import matplotlib.pyplot as plt\n",
        "import pandas as pd\n",
        "import seaborn as sns\n",
        "from mpl_toolkits.mplot3d import Axes3D\n",
        "\n",
        "\n",
        "sns.set(style = \"darkgrid\")\n",
        "\n",
        "fig = plt.figure()\n",
        "ax = fig.add_subplot(111, projection = '3d')\n",
        "\n",
        "x = df['total_bedrooms'][:50]\n",
        "y = df['housing_median_age'][:50]\n",
        "z = df['median_house_value'][:50]\n",
        "\n",
        "ax.set_xlabel(\"total_bedrooms\")\n",
        "ax.set_ylabel(\"housing_median_age\")\n",
        "ax.set_zlabel(\"median_house_value\")\n",
        "\n",
        "ax.scatter(x, y, z)\n",
        "\n",
        "plt.show()"
      ],
      "metadata": {
        "colab": {
          "base_uri": "https://localhost:8080/",
          "height": 248
        },
        "id": "LaSdj2-HItaG",
        "outputId": "38d1d008-85a6-4579-dc73-4df3b1d5a44f"
      },
      "execution_count": 125,
      "outputs": [
        {
          "output_type": "display_data",
          "data": {
            "text/plain": [
              "<Figure size 432x288 with 1 Axes>"
            ],
            "image/png": "[encoded data removed]"
          },
          "metadata": {}
        }
      ]
    },
    {
      "cell_type": "code",
      "source": [
        "## Task :\n",
        "## Download a CSV file from the internet, upload it to your google drive.\n",
        "## Read the CSV file and plot graphs using different combination of features and write your analysis\n",
        "## Ex : IRIS flower datasaet"
      ],
      "metadata": {
        "id": "vGGbRUz3J8Ju"
      },
      "execution_count": 126,
      "outputs": []
    },
    {
      "cell_type": "markdown",
      "source": [
        "## Augmentation\n",
        "It is a technique to increase the diversity of our training set by applying random (but realistic) transformations, such as image rotation, change of color etc. When we have limited training data, we can augment our data with help of these techniques."
      ],
      "metadata": {
        "id": "UEjCCSQh1d7A"
      }
    },
    {
      "cell_type": "code",
      "source": [
        "import numpy as np\n",
        "import matplotlib.pyplot as plt\n",
        "from keras.datasets import mnist\n",
        "# set randomseed\n",
        "rng = np.random.default_rng(seed=42)\n",
        "from sklearn.utils.extmath import cartesian\n",
        "from skimage.transform import rotate, AffineTransform, warp\n",
        "import math"
      ],
      "metadata": {
        "id": "XePcTeKI1dGJ"
      },
      "execution_count": 127,
      "outputs": []
    },
    {
      "cell_type": "markdown",
      "source": [
        "For this lab we will use a subset of MNIST that is very small, to better understand the effect of augmentation."
      ],
      "metadata": {
        "id": "ZP0Z3oOT2Vqo"
      }
    },
    {
      "cell_type": "code",
      "source": [
        "#loading the dataset\n",
        "(train_X, train_y), (test_X, test_y) = mnist.load_data()\n",
        "train_X = train_X/255\n",
        "test_X = test_X/255\n",
        "\n",
        "print(\"original data size:\",train_X.shape)\n"
      ],
      "metadata": {
        "colab": {
          "base_uri": "https://localhost:8080/"
        },
        "id": "7miTQ_032Rxv",
        "outputId": "8be1d6bc-3012-493a-e706-3b637a73b88f"
      },
      "execution_count": 128,
      "outputs": [
        {
          "output_type": "stream",
          "name": "stdout",
          "text": [
            "original data size: (60000, 28, 28)\n"
          ]
        }
      ]
    },
    {
      "cell_type": "code",
      "source": [
        "print(train_X[0].shape,train_y[0])"
      ],
      "metadata": {
        "colab": {
          "base_uri": "https://localhost:8080/"
        },
        "id": "79iYoK4a2Y8w",
        "outputId": "99c1ac06-6b5c-40bc-a8e9-10aff4ebba39"
      },
      "execution_count": 129,
      "outputs": [
        {
          "output_type": "stream",
          "name": "stdout",
          "text": [
            "(28, 28) 5\n"
          ]
        }
      ]
    },
    {
      "cell_type": "code",
      "source": [
        "plt.imshow(train_X[0])"
      ],
      "metadata": {
        "colab": {
          "base_uri": "https://localhost:8080/",
          "height": 285
        },
        "id": "F-ne2Jrl6R3-",
        "outputId": "94d01775-d432-4897-9f49-25a77d747c0a"
      },
      "execution_count": 130,
      "outputs": [
        {
          "output_type": "execute_result",
          "data": {
            "text/plain": [
              "<matplotlib.image.AxesImage at 0x7fca9c150b50>"
            ]
          },
          "metadata": {},
          "execution_count": 130
        },
        {
          "output_type": "display_data",
          "data": {
            "text/plain": [
              "<Figure size 432x288 with 1 Axes>"
            ],
            "image/png": "[encoded data removed]"
          },
          "metadata": {}
        }
      ]
    },
    {
      "cell_type": "code",
      "source": [
        "train_X = train_X[::1200,:,:].copy() # subsample. Otherwise it will take too long!\n",
        "train_y = train_y[::1200].copy() # do the same to the labels\n",
        "\n",
        "print(\"Now it is:\", train_X.shape)"
      ],
      "metadata": {
        "colab": {
          "base_uri": "https://localhost:8080/"
        },
        "id": "g3YMYR2L6VqQ",
        "outputId": "68096451-de29-4313-cb94-7fb41ee8986d"
      },
      "execution_count": 131,
      "outputs": [
        {
          "output_type": "stream",
          "name": "stdout",
          "text": [
            "Now it is: (50, 28, 28)\n"
          ]
        }
      ]
    },
    {
      "cell_type": "markdown",
      "source": [
        "Augmentation 1: rotation\n",
        "Let us try rotating the image a little. We will use skimage library for this."
      ],
      "metadata": {
        "id": "JgN85vRl6847"
      }
    },
    {
      "cell_type": "code",
      "source": [
        "plt.imshow(train_X[2], cmap='gray')\n",
        "plt.show()\n",
        "print(train_X[2].shape)\n",
        "plt.imshow(rotate(train_X[2],45), cmap='gray')"
      ],
      "metadata": {
        "colab": {
          "base_uri": "https://localhost:8080/",
          "height": 554
        },
        "id": "jStJv7xG6cNI",
        "outputId": "4acfe369-621a-45b4-8dc4-ae21bad6d187"
      },
      "execution_count": 132,
      "outputs": [
        {
          "output_type": "display_data",
          "data": {
            "text/plain": [
              "<Figure size 432x288 with 1 Axes>"
            ],
            "image/png": "[encoded data removed]"
          },
          "metadata": {}
        },
        {
          "output_type": "stream",
          "name": "stdout",
          "text": [
            "(28, 28)\n"
          ]
        },
        {
          "output_type": "execute_result",
          "data": {
            "text/plain": [
              "<matplotlib.image.AxesImage at 0x7fca9c402f90>"
            ]
          },
          "metadata": {},
          "execution_count": 132
        },
        {
          "output_type": "display_data",
          "data": {
            "text/plain": [
              "<Figure size 432x288 with 1 Axes>"
            ],
            "image/png": "[encoded data removed]"
          },
          "metadata": {}
        }
      ]
    },
    {
      "cell_type": "markdown",
      "source": [
        "After rotating, the the class of the image is still the same. Let us make a function to rotate multiple images by random angles. We want a slightly different image every time we run this function. So, we generate a random number between 0 and 1 and change it so that it lies between -constraint/2 and +constraint/2"
      ],
      "metadata": {
        "id": "phr4sXEb94Q8"
      }
    },
    {
      "cell_type": "code",
      "source": [
        "def augRotate(sample, angleconstraint):\n",
        "  if angleconstraint==0:\n",
        "    return sample\n",
        "\n",
        "  print(\"shape of sample before is:\", sample.shape)\n",
        "  print(\"len(sample.shape)\", len(sample.shape))\n",
        "  if len(sample.shape)==2:\n",
        "    sample = np.expand_dims(sample, 0)  # make sure the sample is 3 dimensional\n",
        "    print(\"shape of sample is:\", sample.shape)\n",
        "  angle = rng.random(len(sample)) # generate random numbers for angles\n",
        "  print(\"angle is:\", angle)\n",
        "  angle = (angle-0.5)*angleconstraint # make the random angle constrained\n",
        "  print(\"angle with constraint is:\", angle)\n",
        "  nsample = sample.copy() # preallocate the augmented array to make it faster\n",
        "  for ii in range(len(sample)):\n",
        "    nsample[ii] = rotate(sample[ii], angle[ii])\n",
        "  return np.squeeze(nsample) # take care if the input had only one sample."
      ],
      "metadata": {
        "id": "B3ai_7aN7Csn"
      },
      "execution_count": 133,
      "outputs": []
    },
    {
      "cell_type": "markdown",
      "source": [
        "This function returns a slightly different image each time we call it. So we can increase the number of images in the sample by any multiple. "
      ],
      "metadata": {
        "id": "udOWwYj2-Bsy"
      }
    },
    {
      "cell_type": "code",
      "source": [
        "sample = train_X[20]\n",
        "angleconstraint = 70\n",
        "# show the original image\n",
        "plt.imshow(sample, cmap='gray')\n",
        "plt.show()\n",
        "plt.subplot(1,3,1)\n",
        "plt.imshow(augRotate(sample, angleconstraint), cmap='gray') # show an augmented image\n",
        "plt.subplot(1,3,2)\n",
        "plt.imshow(augRotate(sample, angleconstraint), cmap='gray') # show another augmented image from the same sample\n",
        "plt.subplot(1,3,3)\n",
        "plt.imshow(augRotate(sample, angleconstraint), cmap='gray') # one more image from the same sample"
      ],
      "metadata": {
        "colab": {
          "base_uri": "https://localhost:8080/",
          "height": 680
        },
        "id": "vyO8Ap9-98LZ",
        "outputId": "185fe194-5e22-4172-d73e-3c87c0aa27a4"
      },
      "execution_count": 134,
      "outputs": [
        {
          "output_type": "display_data",
          "data": {
            "text/plain": [
              "<Figure size 432x288 with 1 Axes>"
            ],
            "image/png": "[encoded data removed]"
          },
          "metadata": {}
        },
        {
          "output_type": "stream",
          "name": "stdout",
          "text": [
            "shape of sample before is: (28, 28)\n",
            "len(sample.shape) 2\n",
            "shape of sample is: (1, 28, 28)\n",
            "angle is: [0.77395605]\n",
            "angle with constraint is: [19.1769234]\n",
            "shape of sample before is: (28, 28)\n",
            "len(sample.shape) 2\n",
            "shape of sample is: (1, 28, 28)\n",
            "angle is: [0.43887844]\n",
            "angle with constraint is: [-4.27850922]\n",
            "shape of sample before is: (28, 28)\n",
            "len(sample.shape) 2\n",
            "shape of sample is: (1, 28, 28)\n",
            "angle is: [0.85859792]\n",
            "angle with constraint is: [25.10185439]\n"
          ]
        },
        {
          "output_type": "execute_result",
          "data": {
            "text/plain": [
              "<matplotlib.image.AxesImage at 0x7fca9c329810>"
            ]
          },
          "metadata": {},
          "execution_count": 134
        },
        {
          "output_type": "display_data",
          "data": {
            "text/plain": [
              "<Figure size 432x288 with 3 Axes>"
            ],
            "image/png": "[encoded data removed]"
          },
          "metadata": {}
        }
      ]
    },
    {
      "cell_type": "markdown",
      "source": [
        "Let us try one more augmentation, Shear: A transformation in which all points along a given line remain fixed while other points are shifted parallel to by a \n",
        " distance proportional to their perpendicular distance from. Shearing a plane figure does not change its area. "
      ],
      "metadata": {
        "id": "siEhyuX0AyZP"
      }
    },
    {
      "cell_type": "code",
      "source": [
        "def shear(sample, amount):\n",
        "  tform = AffineTransform(shear = amount) # create the shear transform\n",
        "  img = warp(sample, tform) # apply the shear\n",
        "  # this makes the digit off-center. Since all the images in the test set are centralized, we will do the same here\n",
        "  col = img.sum(0).nonzero()[0]\n",
        "  row = img.sum(1).nonzero()[0]\n",
        "  if len(col)>0 and len(row)>0:\n",
        "    xshift = int(sample.shape[0]/2 - (row[0]+row[-1])/2)\n",
        "    yshift = int(sample.shape[1]/2 - (col[0]+col[-1])/2)\n",
        "    img = np.roll(img, (xshift, yshift),(0,1))\n",
        "  return img"
      ],
      "metadata": {
        "id": "46nKQ_Qj-Elg"
      },
      "execution_count": 135,
      "outputs": []
    },
    {
      "cell_type": "code",
      "source": [
        "sample = train_X[2]\n",
        "plt.imshow(sample, cmap='gray')\n",
        "plt.show()\n",
        "\n",
        "# apply shear\n",
        "plt.imshow(shear(sample, 0.4), cmap='gray')"
      ],
      "metadata": {
        "colab": {
          "base_uri": "https://localhost:8080/",
          "height": 536
        },
        "id": "Zae7PZcUBDt8",
        "outputId": "3545cc6e-1d1d-48c0-dc32-546d238bc28b"
      },
      "execution_count": 136,
      "outputs": [
        {
          "output_type": "display_data",
          "data": {
            "text/plain": [
              "<Figure size 432x288 with 1 Axes>"
            ],
            "image/png": "[encoded data removed]"
          },
          "metadata": {}
        },
        {
          "output_type": "execute_result",
          "data": {
            "text/plain": [
              "<matplotlib.image.AxesImage at 0x7fca9c2bee10>"
            ]
          },
          "metadata": {},
          "execution_count": 136
        },
        {
          "output_type": "display_data",
          "data": {
            "text/plain": [
              "<Figure size 432x288 with 1 Axes>"
            ],
            "image/png": "[encoded data removed]"
          },
          "metadata": {}
        }
      ]
    },
    {
      "cell_type": "markdown",
      "source": [
        "## Let us also see skeletonization of image"
      ],
      "metadata": {
        "id": "4NglWyeSDtxr"
      }
    },
    {
      "cell_type": "code",
      "source": [
        "from skimage.morphology import skeletonize\n"
      ],
      "metadata": {
        "id": "XQMsvuD5BITy"
      },
      "execution_count": 137,
      "outputs": []
    },
    {
      "cell_type": "code",
      "source": [
        "skeleton = skeletonize(train_X[2],method='lee')\n",
        "plt.imshow(skeleton, cmap='gray')"
      ],
      "metadata": {
        "colab": {
          "base_uri": "https://localhost:8080/",
          "height": 285
        },
        "id": "ze1kf_0BD0YP",
        "outputId": "8416d798-9ac2-4bfb-dd17-ccbbb17b2b54"
      },
      "execution_count": 138,
      "outputs": [
        {
          "output_type": "execute_result",
          "data": {
            "text/plain": [
              "<matplotlib.image.AxesImage at 0x7fca9c0b2690>"
            ]
          },
          "metadata": {},
          "execution_count": 138
        },
        {
          "output_type": "display_data",
          "data": {
            "text/plain": [
              "<Figure size 432x288 with 1 Axes>"
            ],
            "image/png": "[encoded data removed]"
          },
          "metadata": {}
        }
      ]
    },
    {
      "cell_type": "code",
      "source": [
        "#Structuring elements that are repeatedly used for thinning\n",
        "\n",
        "S1 = np.array([[0,0,0],[-1,1,-1],[1,1,1]]) # -1 for dont care\n",
        "S2 = np.array([[-1,0,0],[1,1,0],[-1,1,-1]])\n",
        "\n",
        "\n",
        "def CheckMatch(window,kernel):\n",
        "  for i in range(window.shape[0]):\n",
        "        for j in range(window.shape[1]):\n",
        "            if kernel[i,j]!=-1 and window[i,j]!=kernel[i,j]:\n",
        "                return False\n",
        "  return True\n",
        "\n",
        "def ApplyKernel(image,kernel): #used\n",
        "  height, width =  image.shape\n",
        "  res = np.copy(image)\n",
        "  for i in range(1,height-1):\n",
        "    for j in range (1,width-1):\n",
        "      window = image[i-1:i+2,j-1:j+2]\n",
        "      #print('window shape',window.shape)\n",
        "      Match_result = CheckMatch(window,kernel)\n",
        "      if (Match_result):\n",
        "        res[i,j]=0\n",
        "  return res\n",
        "\n",
        "\n",
        "\n",
        "def Skeletonization(image):\n",
        "  '''pass binary image'''\n",
        "  #new = np.copy(image)\n",
        "  #old = np.zeros(image.shape,dtype=np.uint8)\n",
        "  count = 1\n",
        "  change = 1000\n",
        "  while (change >0.01):\n",
        "    print('count',count)\n",
        "    new = image\n",
        "    new = ApplyKernel(new,S1)\n",
        "    new = ApplyKernel(new,S2)\n",
        "    new = ApplyKernel(new,np.rot90(S1,1)) #90 degree rotate\n",
        "    new = ApplyKernel(new,np.rot90(S2,1))\n",
        "    new = ApplyKernel(new,np.rot90(S1,2)) # 180 degree rotate\n",
        "    new = ApplyKernel(new,np.rot90(S2,2))\n",
        "    new = ApplyKernel(new,np.rot90(S1,3)) # 270 degree rotate\n",
        "    new = ApplyKernel(new,np.rot90(S2,3))\n",
        "    count+= 1\n",
        "    change = np.mean(np.abs(new-image))\n",
        "    image = new\n",
        "    plt.imshow(new,cmap='gray')\n",
        "    plt.show()\n",
        "  return new"
      ],
      "metadata": {
        "id": "ewpZG5b-D9F3"
      },
      "execution_count": 139,
      "outputs": []
    },
    {
      "cell_type": "code",
      "source": [
        "binarized  =( train_X[0] > 0 ).astype(np.uint8)"
      ],
      "metadata": {
        "id": "LwgK5XObNcjD"
      },
      "execution_count": 140,
      "outputs": []
    },
    {
      "cell_type": "code",
      "source": [
        "skeleton_five = Skeletonization(binarized)"
      ],
      "metadata": {
        "colab": {
          "base_uri": "https://localhost:8080/",
          "height": 1000
        },
        "id": "oyQrnHghLADQ",
        "outputId": "b04ebd84-8f73-40d3-a6f6-b156264f0140"
      },
      "execution_count": 141,
      "outputs": [
        {
          "output_type": "stream",
          "name": "stdout",
          "text": [
            "count 1\n"
          ]
        },
        {
          "output_type": "display_data",
          "data": {
            "text/plain": [
              "<Figure size 432x288 with 1 Axes>"
            ],
            "image/png": "[encoded data removed]"
          },
          "metadata": {}
        },
        {
          "output_type": "stream",
          "name": "stdout",
          "text": [
            "count 2\n"
          ]
        },
        {
          "output_type": "display_data",
          "data": {
            "text/plain": [
              "<Figure size 432x288 with 1 Axes>"
            ],
            "image/png": "[encoded data removed]"
          },
          "metadata": {}
        },
        {
          "output_type": "stream",
          "name": "stdout",
          "text": [
            "count 3\n"
          ]
        },
        {
          "output_type": "display_data",
          "data": {
            "text/plain": [
              "<Figure size 432x288 with 1 Axes>"
            ],
            "image/png": "[encoded data removed]"
          },
          "metadata": {}
        },
        {
          "output_type": "stream",
          "name": "stdout",
          "text": [
            "count 4\n"
          ]
        },
        {
          "output_type": "display_data",
          "data": {
            "text/plain": [
              "<Figure size 432x288 with 1 Axes>"
            ],
            "image/png": "[encoded data removed]"
          },
          "metadata": {}
        },
        {
          "output_type": "stream",
          "name": "stdout",
          "text": [
            "count 5\n"
          ]
        },
        {
          "output_type": "display_data",
          "data": {
            "text/plain": [
              "<Figure size 432x288 with 1 Axes>"
            ],
            "image/png": "[encoded data removed]"
          },
          "metadata": {}
        }
      ]
    }
  ]
}