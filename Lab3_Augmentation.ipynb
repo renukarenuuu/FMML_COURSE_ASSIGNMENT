{
  "nbformat": 4,
  "nbformat_minor": 0,
  "metadata": {
    "colab": {
      "name": "Lab3_Augmentation.ipynb",
      "provenance": [],
      "include_colab_link": true
    },
    "kernelspec": {
      "name": "python3",
      "display_name": "Python 3"
    },
    "language_info": {
      "name": "python"
    }
  },
  "cells": [
    {
      "cell_type": "markdown",
      "metadata": {
        "id": "view-in-github",
        "colab_type": "text"
      },
      "source": [
        "<a href=\"https://colab.research.google.com/github/renukarenuuu/FMML_COURSE_ASSIGNMENT/blob/main/Lab3_Augmentation.ipynb\" target=\"_parent\"><img src=\"https://colab.research.google.com/assets/colab-badge.svg\" alt=\"Open In Colab\"/></a>"
      ]
    },
    {
      "cell_type": "markdown",
      "metadata": {
        "id": "w3yfry25JgZK"
      },
      "source": [
        "# Data augmentation\n",
        "\n",
        "FMML Module 1, Lab 3<br>\n",
        " Module Coordinator: Thrupthi Ann John thrupthi.ann@research.iiit.ac.in <br>\n",
        " Release date: 18 October 2021 <br>\n",
        "\n",
        " In this lab, we will see how augmentation of data samples help in improving the machine learning performance"
      ]
    },
    {
      "cell_type": "code",
      "metadata": {
        "id": "xZU8_elooqP0"
      },
      "source": [
        "import math\n",
        "\n",
        "import numpy as np\n",
        "import matplotlib.pyplot as plt\n",
        "from keras.datasets import mnist\n",
        "\n",
        "from sklearn.utils.extmath import cartesian\n",
        "from skimage.transform import rotate, AffineTransform, warp\n",
        "from scipy.ndimage import zoom\n",
        "\n",
        "import plotly.express as px\n",
        "import pandas as pd\n",
        "\n",
        "# set randomseed\n",
        "rng = np.random.default_rng(seed=42)"
      ],
      "execution_count": null,
      "outputs": []
    },
    {
      "cell_type": "markdown",
      "metadata": {
        "id": "T5pHYogSMHiE"
      },
      "source": [
        "Augmentation is useful when we have less training data available. Augmentation allows us to 'create' a larger dataset programatically.\n",
        "\n",
        "For this lab we will use a subset of MNIST that is very small, to better understand the effect of augmentation."
      ]
    },
    {
      "cell_type": "code",
      "metadata": {
        "id": "gJvmWJ58ovx5"
      },
      "source": [
        "#loading the dataset\n",
        "(train_X, train_y), (test_X, test_y) = mnist.load_data()\n",
        "train_X = train_X/255\n",
        "test_X = test_X/255\n",
        "\n",
        "train_X = train_X[::1200,:,:].copy() # subsample. Otherwise it will take too long!\n",
        "train_y = train_y[::1200].copy() # do the same to the labels\n"
      ],
      "execution_count": null,
      "outputs": []
    },
    {
      "cell_type": "code",
      "metadata": {
        "colab": {
          "base_uri": "https://localhost:8080/"
        },
        "id": "H6AHyUgOfBUR",
        "outputId": "663d4ff1-5af4-4ff1-9c25-a19dd8ba28b6"
      },
      "source": [
        "train_X.shape"
      ],
      "execution_count": null,
      "outputs": [
        {
          "output_type": "execute_result",
          "data": {
            "text/plain": [
              "(50, 28, 28)"
            ]
          },
          "metadata": {},
          "execution_count": 3
        }
      ]
    },
    {
      "cell_type": "code",
      "metadata": {
        "colab": {
          "base_uri": "https://localhost:8080/"
        },
        "id": "Jh669R7xgSUZ",
        "outputId": "ec66e61c-33dc-4f8d-ac27-794e6faefbd8"
      },
      "source": [
        "type(train_X)"
      ],
      "execution_count": null,
      "outputs": [
        {
          "output_type": "execute_result",
          "data": {
            "text/plain": [
              "numpy.ndarray"
            ]
          },
          "metadata": {},
          "execution_count": 4
        }
      ]
    },
    {
      "cell_type": "markdown",
      "metadata": {
        "id": "8XamH6z1Rt7S"
      },
      "source": [
        "Let us borrow a few functions from the previous labs:"
      ]
    },
    {
      "cell_type": "code",
      "metadata": {
        "id": "Zk2W5_3BRLMS"
      },
      "source": [
        "def NN1(traindata: np.ndarray, trainlabel: np.ndarray, query: np.ndarray) -> np.ndarray:\n",
        "  \"\"\"\n",
        "    Predicting the label for one sample using nearest neighbor\n",
        "  \"\"\"\n",
        "  diff  = traindata - query  # find the difference between features. Numpy automatically takes care of the size here\n",
        "  sq = diff*diff # square the differences\n",
        "  dist = sq.sum(1) # add up the squares\n",
        "  label = trainlabel[np.argmin(dist)] # our predicted label is the label of the training data which has the least distance from the query\n",
        "  return label\n",
        "\n",
        "def NN(traindata: np.ndarray, trainlabel: np.ndarray, testdata: np.ndarray)-> np.ndarray:\n",
        "  \"\"\"\n",
        "    Predicting the label for set of samples in testdata using nearest neighbor\n",
        "  \"\"\"\n",
        "  # we will run nearest neighbour for each sample in the test data\n",
        "  # and collect the predicted classes in an array using list comprehension\n",
        "  traindata = traindata.reshape(-1, 28*28)\n",
        "  testdata = testdata.reshape(-1,28*28)\n",
        "  predlabel = np.array([NN1(traindata, trainlabel, i) for i in testdata])\n",
        "  return predlabel\n",
        "\n",
        "def Accuracy(gtlabel: np.ndarray, predlabel: np.ndarray) -> float:\n",
        "  \"\"\"\n",
        "    Calculating the accuracy - Total number of samples correctly predicted\n",
        "  \"\"\"\n",
        "  assert len(gtlabel)==len(predlabel), \"Length of the groundtruth labels and predicted labels should be the same\"\n",
        "  correct = (gtlabel==predlabel).sum() # count the number of times the groundtruth label is equal to the predicted label.\n",
        "  return correct/len(gtlabel)"
      ],
      "execution_count": null,
      "outputs": []
    },
    {
      "cell_type": "markdown",
      "metadata": {
        "id": "eGiA3LmDSJZo"
      },
      "source": [
        "In this lab, we will use the image pixels themselves as features, instead of extracting features. Each image has 28*28 pixels, so we will flatten them to 784 pixels to use as features. Note that this is very compute intensive and will take a long time.<br>\n",
        "\n",
        "Let us check the baseline accuracy on the test set without any augmentations. We hope that adding augmentations will help us to get better results."
      ]
    },
    {
      "cell_type": "code",
      "metadata": {
        "id": "4tQvnoasRNEV",
        "colab": {
          "base_uri": "https://localhost:8080/"
        },
        "outputId": "c36a2a38-c056-4a9e-ccad-179b39d1dc6e"
      },
      "source": [
        "testpred = NN(train_X, train_y, test_X)\n",
        "print('Baseline accuracy without augmentation is ', Accuracy(test_y, testpred))"
      ],
      "execution_count": null,
      "outputs": [
        {
          "output_type": "stream",
          "name": "stdout",
          "text": [
            "Baseline accuracy without augmentation is  0.6472\n"
          ]
        }
      ]
    },
    {
      "cell_type": "markdown",
      "metadata": {
        "id": "ZfkcMfhIZQ7U"
      },
      "source": [
        "Let us try to improve this accuracy using augmentations. When we create augmentations, we have to make sure that the changes reflect what will naturally occur in the dataset. For example, we should not add colour to our samples as an augmentation because they do not naturally occur. We should not also flip the images in MNIST, because flipped images have different meanings for digits.\n",
        "\n",
        "### Augmentation 1: rotation\n",
        "\n",
        "Let us try rotating the image a little. We will use skimage library for this."
      ]
    },
    {
      "cell_type": "code",
      "metadata": {
        "id": "z5WolJ9fZE7L",
        "colab": {
          "base_uri": "https://localhost:8080/",
          "height": 530
        },
        "outputId": "9ec870ad-c35d-41fd-a886-2b1f86e4093d"
      },
      "source": [
        "plt.imshow(train_X[2], cmap='gray')\n",
        "plt.show()\n",
        "plt.imshow(rotate(train_X[2],45), cmap='gray')"
      ],
      "execution_count": null,
      "outputs": [
        {
          "output_type": "display_data",
          "data": {
            "image/png": "[encoded data removed]",
            "text/plain": [
              "<Figure size 432x288 with 1 Axes>"
            ]
          },
          "metadata": {
            "needs_background": "light"
          }
        },
        {
          "output_type": "execute_result",
          "data": {
            "text/plain": [
              "<matplotlib.image.AxesImage at 0x7f7d52554190>"
            ]
          },
          "metadata": {},
          "execution_count": 7
        },
        {
          "output_type": "display_data",
          "data": {
            "image/png": "[encoded data removed]",
            "text/plain": [
              "<Figure size 432x288 with 1 Axes>"
            ]
          },
          "metadata": {
            "needs_background": "light"
          }
        }
      ]
    },
    {
      "cell_type": "markdown",
      "metadata": {
        "id": "KE33Yxgggu0c"
      },
      "source": [
        "After rotating, the the class of the image is still the same. Let us make a function to rotate multiple images by random angles. We want a slightly different image every time we run this function. So, we generate a random number between 0 and 1 and change it so that it lies between -constraint/2 and +constraint/2"
      ]
    },
    {
      "cell_type": "code",
      "metadata": {
        "id": "vyM7pUV7Reze"
      },
      "source": [
        "def augRotate(sample: np.ndarray, angleconstraint: int) -> np.ndarray:\n",
        "  \"\"\"\n",
        "    Creating augmented sample by rotaion of image\n",
        "  \"\"\"\n",
        "  if angleconstraint == 0:\n",
        "    return sample\n",
        "  if len(sample.shape) == 2:\n",
        "    sample = np.expand_dims(sample, 0)  # make sure the sample is 3 dimensional\n",
        "  angle = rng.random(len(sample)) # generate random numbers for angles\n",
        "  angle = (angle-0.5) * angleconstraint # make the random angle constrained\n",
        "  nsample = sample.copy() # preallocate the augmented array to make it faster\n",
        "  for ii in range(len(sample)):\n",
        "    nsample[ii] = rotate(sample[ii], angle[ii])\n",
        "  return np.squeeze(nsample) # take care if the input had only one sample."
      ],
      "execution_count": null,
      "outputs": []
    },
    {
      "cell_type": "markdown",
      "metadata": {
        "id": "kDk-N5VNjar9"
      },
      "source": [
        "This function returns a slightly different image each time we call it. So we can increase the number of images in the sample by any multiple."
      ]
    },
    {
      "cell_type": "code",
      "metadata": {
        "id": "Vw3O9zGFgI8K",
        "colab": {
          "base_uri": "https://localhost:8080/",
          "height": 414
        },
        "outputId": "c9182e23-da6f-42d2-b3e6-7fec1f9b93cc"
      },
      "source": [
        "sample = train_X[20]\n",
        "angleconstraint = 70\n",
        "# show the original image\n",
        "plt.imshow(sample, cmap='gray')\n",
        "plt.show()\n",
        "plt.subplot(1,3,1)\n",
        "plt.imshow(augRotate(sample, angleconstraint), cmap='gray') # show an augmented image\n",
        "plt.subplot(1,3,2)\n",
        "plt.imshow(augRotate(sample, angleconstraint), cmap='gray') # show another augmented image from the same sample\n",
        "plt.subplot(1,3,3)\n",
        "plt.imshow(augRotate(sample, angleconstraint), cmap='gray') # one more image from the same sample"
      ],
      "execution_count": null,
      "outputs": [
        {
          "output_type": "display_data",
          "data": {
            "image/png": "[encoded data removed]",
            "text/plain": [
              "<Figure size 432x288 with 1 Axes>"
            ]
          },
          "metadata": {
            "needs_background": "light"
          }
        },
        {
          "output_type": "execute_result",
          "data": {
            "text/plain": [
              "<matplotlib.image.AxesImage at 0x7f7d52432890>"
            ]
          },
          "metadata": {},
          "execution_count": 9
        },
        {
          "output_type": "display_data",
          "data": {
            "image/png": "[encoded data removed]",
            "text/plain": [
              "<Figure size 432x288 with 3 Axes>"
            ]
          },
          "metadata": {
            "needs_background": "light"
          }
        }
      ]
    },
    {
      "cell_type": "markdown",
      "metadata": {
        "id": "ytv3NxF-kgxN"
      },
      "source": [
        "Let us augment the whole dataset and see if this improves the test accuracy"
      ]
    },
    {
      "cell_type": "code",
      "metadata": {
        "id": "iNzNAoDBkRzj",
        "colab": {
          "base_uri": "https://localhost:8080/"
        },
        "outputId": "d5d209e1-3cba-4a82-c1e7-fe8d4a9a6472"
      },
      "source": [
        "# hyperparameters\n",
        "angleconstraint = 60\n",
        "naugmentations = 5\n",
        "\n",
        "# augment\n",
        "augdata = train_X # we include the original images also in the augmented dataset\n",
        "auglabel = train_y\n",
        "for ii in range(naugmentations):\n",
        "  augdata = np.concatenate((augdata, augRotate(train_X, angleconstraint))) # concatenate the augmented data to the set\n",
        "  auglabel = np.concatenate((auglabel, train_y))  # the labels don't change when we augment\n",
        "\n",
        "# check the test accuracy\n",
        "testpred = NN(augdata, auglabel, test_X)\n",
        "print('Accuracy after rotation augmentation is ', Accuracy(test_y, testpred))"
      ],
      "execution_count": null,
      "outputs": [
        {
          "output_type": "stream",
          "name": "stdout",
          "text": [
            "Accuracy after rotation augmentation is  0.6616\n"
          ]
        }
      ]
    },
    {
      "cell_type": "markdown",
      "metadata": {
        "id": "E88Nt9s1p5R6"
      },
      "source": [
        "The angle constraint is a hyperparameter which we have to tune using a validation set. (Here we are not doing that for time constraints). Let us try a grid search to find the best angle constraint."
      ]
    },
    {
      "cell_type": "code",
      "metadata": {
        "id": "aiaFRLREmGp6",
        "colab": {
          "base_uri": "https://localhost:8080/"
        },
        "outputId": "ded7041e-fe3d-42cb-b70c-bea0b95157a4"
      },
      "source": [
        "angleconstraints = [0,10,20,30,40,50,60,70,80,90] # the values we want to test\n",
        "accuracies = np.zeros(len(angleconstraints), dtype=np.float) # we will save the values here\n",
        "\n",
        "for ii in range(len(angleconstraints)):\n",
        "  # create the augmented dataset\n",
        "  augdata = train_X # we include the original images also in the augmented dataset\n",
        "  auglabel = train_y\n",
        "  for jj in range(naugmentations):\n",
        "    augdata = np.concatenate((augdata, augRotate(train_X, angleconstraints[ii]))) # concatenate the augmented data to the set\n",
        "    auglabel = np.concatenate((auglabel, train_y))  # the labels don't change when we augment\n",
        "\n",
        "  # check the test accuracy\n",
        "  testpred = NN(augdata, auglabel, test_X)\n",
        "  accuracies[ii] = Accuracy(test_y, testpred)\n",
        "  print('Accuracy after rotation augmentation constrained by ',angleconstraints[ii], ' is ', accuracies[ii], flush=True)"
      ],
      "execution_count": null,
      "outputs": [
        {
          "output_type": "stream",
          "name": "stdout",
          "text": [
            "Accuracy after rotation augmentation constrained by  0  is  0.6472\n",
            "Accuracy after rotation augmentation constrained by  10  is  0.6732\n",
            "Accuracy after rotation augmentation constrained by  20  is  0.6862\n",
            "Accuracy after rotation augmentation constrained by  30  is  0.679\n",
            "Accuracy after rotation augmentation constrained by  40  is  0.6733\n",
            "Accuracy after rotation augmentation constrained by  50  is  0.6737\n",
            "Accuracy after rotation augmentation constrained by  60  is  0.6604\n",
            "Accuracy after rotation augmentation constrained by  70  is  0.6627\n",
            "Accuracy after rotation augmentation constrained by  80  is  0.6498\n",
            "Accuracy after rotation augmentation constrained by  90  is  0.6665\n"
          ]
        }
      ]
    },
    {
      "cell_type": "markdown",
      "metadata": {
        "id": "2oVDRYP2rxob"
      },
      "source": [
        "Let us see the best value for angle constraint: (Ideally this should be done on validation set, not test set)"
      ]
    },
    {
      "cell_type": "code",
      "metadata": {
        "id": "LqthJa_pmMHz",
        "colab": {
          "base_uri": "https://localhost:8080/",
          "height": 309
        },
        "outputId": "0f98a2b9-9086-4060-bd0f-24734b0ca3fd"
      },
      "source": [
        "fig = plt.figure()\n",
        "ax = fig.add_axes([0.1, 0.1, 0.8, 0.8]) # main axes\n",
        "# plot the variation of accuracy\n",
        "ax.plot(angleconstraints, accuracies)\n",
        "ax.set_xlabel('angle')\n",
        "ax.set_ylabel('accuracy')\n",
        "# plot the maximum accuracy\n",
        "maxind = np.argmax(accuracies)\n",
        "plt.scatter(angleconstraints[maxind], accuracies[maxind], c='red')"
      ],
      "execution_count": null,
      "outputs": [
        {
          "output_type": "execute_result",
          "data": {
            "text/plain": [
              "<matplotlib.collections.PathCollection at 0x7fb4f3d214d0>"
            ]
          },
          "metadata": {},
          "execution_count": 36
        },
        {
          "output_type": "display_data",
          "data": {
            "image/png": "[encoded data removed]",
            "text/plain": [
              "<Figure size 432x288 with 1 Axes>"
            ]
          },
          "metadata": {
            "needs_background": "light"
          }
        }
      ]
    },
    {
      "cell_type": "markdown",
      "metadata": {
        "id": "eJ8YuVfCuGTj"
      },
      "source": [
        "Let us try one more augmentation: shear. Here is what this looks like:"
      ]
    },
    {
      "cell_type": "code",
      "metadata": {
        "id": "pMiw46NLwssK"
      },
      "source": [
        "def shear(sample: np.ndarray, amount: float) -> np.ndarray:\n",
        "  \"\"\"\n",
        "    Produce shear in image.\n",
        "    This fuction re-centers the image produced before returning\n",
        "  \"\"\"\n",
        "  tform = AffineTransform(shear = amount) # create the shear transform\n",
        "  img = warp(sample, tform) # apply the shear\n",
        "  # this makes the digit off-center. Since all the images in the test set are centralized, we will do the same here\n",
        "  col = img.sum(0).nonzero()[0]\n",
        "  row = img.sum(1).nonzero()[0]\n",
        "  if len(col)>0 and len(row)>0:\n",
        "    xshift = int(sample.shape[0]/2 - (row[0]+row[-1])/2)\n",
        "    yshift = int(sample.shape[1]/2 - (col[0]+col[-1])/2)\n",
        "    img = np.roll(img, shift=(xshift, yshift), axis=(0, 1))\n",
        "  return img"
      ],
      "execution_count": null,
      "outputs": []
    },
    {
      "cell_type": "code",
      "metadata": {
        "id": "4_u_EYpmnABK",
        "colab": {
          "base_uri": "https://localhost:8080/",
          "height": 530
        },
        "outputId": "64467cea-7d31-43cb-9dce-a6516f4e85d0"
      },
      "source": [
        "sample = train_X[2]\n",
        "plt.imshow(sample, cmap='gray')\n",
        "plt.show()\n",
        "\n",
        "# apply shear\n",
        "plt.imshow(shear(sample, 0.4), cmap='gray')"
      ],
      "execution_count": null,
      "outputs": [
        {
          "output_type": "display_data",
          "data": {
            "image/png": "[encoded data removed]",
            "text/plain": [
              "<Figure size 432x288 with 1 Axes>"
            ]
          },
          "metadata": {
            "needs_background": "light"
          }
        },
        {
          "output_type": "execute_result",
          "data": {
            "text/plain": [
              "<matplotlib.image.AxesImage at 0x7fe91626af50>"
            ]
          },
          "metadata": {},
          "execution_count": 12
        },
        {
          "output_type": "display_data",
          "data": {
            "image/png": "[encoded data removed]",
            "text/plain": [
              "<Figure size 432x288 with 1 Axes>"
            ]
          },
          "metadata": {
            "needs_background": "light"
          }
        }
      ]
    },
    {
      "cell_type": "markdown",
      "metadata": {
        "id": "lGnWMoyM2pK4"
      },
      "source": [
        "Create an augmentation function which applies a random shear according to the constraint we provide:"
      ]
    },
    {
      "cell_type": "code",
      "metadata": {
        "id": "-qLDJyGytwP5"
      },
      "source": [
        "def augShear(sample: np.ndarray, shearconstraint: float) -> np.ndarray:\n",
        "  \"\"\"\n",
        "   Augmentation of all samples using shear function\n",
        "  \"\"\"\n",
        "  if shearconstraint == 0:\n",
        "    return sample\n",
        "  if len(sample.shape)==2:\n",
        "    sample = np.expand_dims(sample, 0)  # make sure the sample is 3 dimensional\n",
        "  amt = rng.random(len(sample)) # generate random numbers for shear\n",
        "  amt = (amt-0.5)*shearconstraint # make the random shear constrained\n",
        "  nsample = sample.copy() # preallocate the augmented array to make it faster\n",
        "  for ii in range(len(sample)):\n",
        "    nsample[ii] = shear(sample[ii], amt[ii])\n",
        "  return np.squeeze(nsample) # take care if the input had only one sample."
      ],
      "execution_count": null,
      "outputs": []
    },
    {
      "cell_type": "markdown",
      "metadata": {
        "id": "s6lQcWW93suJ"
      },
      "source": [
        "Let us do a grid search to find the best shear constraint."
      ]
    },
    {
      "cell_type": "code",
      "metadata": {
        "id": "l_wrqPkrzBb_",
        "colab": {
          "base_uri": "https://localhost:8080/"
        },
        "outputId": "fabf5635-3ffc-48b8-d0ba-78a6b4a75700"
      },
      "source": [
        "shearconstraints = [0, 0.2,0.4,0.6,0.8,1.0,1.2,1.4,1.6,1.8,2.0] # the values we want to test\n",
        "accuracies = np.zeros(len(shearconstraints), dtype=np.float) # we will save the values here\n",
        "\n",
        "for ii in range(len(shearconstraints)):\n",
        "  # create the augmented dataset\n",
        "  augdata = train_X # we include the original images also in the augmented dataset\n",
        "  auglabel = train_y\n",
        "  for jj in range(naugmentations):\n",
        "    augdata = np.concatenate((augdata, augShear(train_X, shearconstraints[ii]))) # concatenate the augmented data to the set\n",
        "    auglabel = np.concatenate((auglabel, train_y))  # the labels don't change when we augment\n",
        "\n",
        "  # check the test accuracy\n",
        "  testpred = NN(augdata, auglabel, test_X)\n",
        "  accuracies[ii] = Accuracy(test_y, testpred)\n",
        "  print('Accuracy after shear augmentation constrained by ',shearconstraints[ii], ' is ', accuracies[ii], flush=True)"
      ],
      "execution_count": null,
      "outputs": [
        {
          "output_type": "stream",
          "name": "stdout",
          "text": [
            "Accuracy after shear augmentation constrained by  0  is  0.6472\n",
            "Accuracy after shear augmentation constrained by  0.2  is  0.6235\n",
            "Accuracy after shear augmentation constrained by  0.4  is  0.6395\n",
            "Accuracy after shear augmentation constrained by  0.6  is  0.6515\n",
            "Accuracy after shear augmentation constrained by  0.8  is  0.653\n",
            "Accuracy after shear augmentation constrained by  1.0  is  0.6402\n",
            "Accuracy after shear augmentation constrained by  1.2  is  0.6345\n",
            "Accuracy after shear augmentation constrained by  1.4  is  0.6206\n",
            "Accuracy after shear augmentation constrained by  1.6  is  0.6102\n",
            "Accuracy after shear augmentation constrained by  1.8  is  0.6152\n",
            "Accuracy after shear augmentation constrained by  2.0  is  0.6177\n"
          ]
        }
      ]
    },
    {
      "cell_type": "code",
      "metadata": {
        "id": "EKaH-YR-zVnA",
        "colab": {
          "base_uri": "https://localhost:8080/",
          "height": 309
        },
        "outputId": "1cbb4b9a-b882-48d7-b548-a5bdfc1f83d1"
      },
      "source": [
        "fig = plt.figure()\n",
        "ax = fig.add_axes([0.1, 0.1, 0.8, 0.8]) # main axes\n",
        "# plot the variation of accuracy\n",
        "ax.plot(shearconstraints, accuracies)\n",
        "ax.set_xlabel('angle')\n",
        "ax.set_ylabel('accuracy')\n",
        "# plot the maximum accuracy\n",
        "maxind = np.argmax(accuracies)\n",
        "plt.scatter(shearconstraints[maxind], accuracies[maxind], c='red')"
      ],
      "execution_count": null,
      "outputs": [
        {
          "output_type": "execute_result",
          "data": {
            "text/plain": [
              "<matplotlib.collections.PathCollection at 0x7fb4f3568bd0>"
            ]
          },
          "metadata": {},
          "execution_count": 55
        },
        {
          "output_type": "display_data",
          "data": {
            "image/png": "[encoded data removed]",
            "text/plain": [
              "<Figure size 432x288 with 1 Axes>"
            ]
          },
          "metadata": {
            "needs_background": "light"
          }
        }
      ]
    },
    {
      "cell_type": "markdown",
      "metadata": {
        "id": "ccfdbRcQ7Zgg"
      },
      "source": [
        "We can do multiple augmentations at the same time. Here is a function to do both shear and rotation to the sample. In this case, we will have two hyperparameters."
      ]
    },
    {
      "cell_type": "code",
      "metadata": {
        "id": "sh8S_Pxa0XCv"
      },
      "source": [
        "def augRotateShear(sample: np.ndarray, angleconstraint: int, shearconstraint: float) -> np.ndarray:\n",
        "  \"\"\"\n",
        "    Augmention of image - Shear then Rotate\n",
        "  \"\"\"\n",
        "  if len(sample.shape)==2:\n",
        "    sample = np.expand_dims(sample, 0)  # make sure the sample is 3 dimensional\n",
        "  amt = rng.random(len(sample)) # generate random numbers for shear\n",
        "  amt = (amt-0.5)*shearconstraint # make the random shear constrained\n",
        "  angle = rng.random(len(sample)) # generate random numbers for angles\n",
        "  angle = (angle-0.5)*angleconstraint # make the random angle constrained\n",
        "  nsample = sample.copy() # preallocate the augmented array to make it faster\n",
        "  for ii in range(len(sample)):\n",
        "    nsample[ii] = rotate(shear(sample[ii], amt[ii]), angle[ii]) # first apply shear, then rotate\n",
        "  return np.squeeze(nsample) # take care if the input had only one sample."
      ],
      "execution_count": null,
      "outputs": []
    },
    {
      "cell_type": "markdown",
      "metadata": {
        "id": "OGKyjjNx-NQ4"
      },
      "source": [
        "Since we have two hyperparameters, we have to do the grid search on a 2 dimensional matrix. We can use our previous experience to inform where to search for the best hyperparameters."
      ]
    },
    {
      "cell_type": "code",
      "metadata": {
        "id": "TJC45WRg0pOP",
        "colab": {
          "base_uri": "https://localhost:8080/"
        },
        "outputId": "36e6de37-6e5a-4c37-f9e2-7c1b145160a5"
      },
      "source": [
        "shearconstraints = [0, 0.2,0.4,0.6,0.8,1.0,1.2,1.4,1.6] # the values we want to test\n",
        "angleconstraints = [0,10,20,30,40,50,60] # the values we want to test\n",
        "hyp = cartesian((shearconstraints, angleconstraints)) # cartesian product of both\n",
        "\n",
        "accuracies = np.zeros(len(hyp), dtype=np.float) # we will save the values here\n",
        "\n",
        "for ii in range(len(hyp)):\n",
        "  # create the augmented dataset\n",
        "  augdata = train_X # we include the original images also in the augmented dataset\n",
        "  auglabel = train_y\n",
        "  for jj in range(naugmentations):\n",
        "    augdata = np.concatenate((augdata, augRotateShear(train_X, hyp[ii][0], hyp[ii][1]))) # concatenate the augmented data to the set\n",
        "    auglabel = np.concatenate((auglabel, train_y))  # the labels don't change when we augment\n",
        "\n",
        "  # check the test accuracy\n",
        "  testpred = NN(augdata, auglabel, test_X)\n",
        "  accuracies[ii] = Accuracy(test_y, testpred)\n",
        "  print('Accuracy after augmentation shear:',hyp[ii][0], 'angle:',hyp[ii][1], ' is ', accuracies[ii], flush=True)"
      ],
      "execution_count": null,
      "outputs": [
        {
          "output_type": "stream",
          "name": "stdout",
          "text": [
            "Accuracy after augmentation shear: 0.0 angle: 0.0  is  0.6332\n",
            "Accuracy after augmentation shear: 0.0 angle: 10.0  is  0.6037\n",
            "Accuracy after augmentation shear: 0.0 angle: 20.0  is  0.5962\n",
            "Accuracy after augmentation shear: 0.0 angle: 30.0  is  0.6083\n",
            "Accuracy after augmentation shear: 0.0 angle: 40.0  is  0.6204\n",
            "Accuracy after augmentation shear: 0.0 angle: 50.0  is  0.5981\n",
            "Accuracy after augmentation shear: 0.0 angle: 60.0  is  0.5926\n",
            "Accuracy after augmentation shear: 0.2 angle: 0.0  is  0.6336\n",
            "Accuracy after augmentation shear: 0.2 angle: 10.0  is  0.579\n",
            "Accuracy after augmentation shear: 0.2 angle: 20.0  is  0.6098\n",
            "Accuracy after augmentation shear: 0.2 angle: 30.0  is  0.6197\n",
            "Accuracy after augmentation shear: 0.2 angle: 40.0  is  0.6025\n",
            "Accuracy after augmentation shear: 0.2 angle: 50.0  is  0.6021\n",
            "Accuracy after augmentation shear: 0.2 angle: 60.0  is  0.6139\n",
            "Accuracy after augmentation shear: 0.4 angle: 0.0  is  0.6339\n",
            "Accuracy after augmentation shear: 0.4 angle: 10.0  is  0.6029\n",
            "Accuracy after augmentation shear: 0.4 angle: 20.0  is  0.607\n",
            "Accuracy after augmentation shear: 0.4 angle: 30.0  is  0.5988\n",
            "Accuracy after augmentation shear: 0.4 angle: 40.0  is  0.5851\n",
            "Accuracy after augmentation shear: 0.4 angle: 50.0  is  0.5996\n",
            "Accuracy after augmentation shear: 0.4 angle: 60.0  is  0.5997\n",
            "Accuracy after augmentation shear: 0.6 angle: 0.0  is  0.634\n",
            "Accuracy after augmentation shear: 0.6 angle: 10.0  is  0.5876\n",
            "Accuracy after augmentation shear: 0.6 angle: 20.0  is  0.5897\n",
            "Accuracy after augmentation shear: 0.6 angle: 30.0  is  0.5937\n",
            "Accuracy after augmentation shear: 0.6 angle: 40.0  is  0.6121\n",
            "Accuracy after augmentation shear: 0.6 angle: 50.0  is  0.5851\n",
            "Accuracy after augmentation shear: 0.6 angle: 60.0  is  0.616\n",
            "Accuracy after augmentation shear: 0.8 angle: 0.0  is  0.6339\n",
            "Accuracy after augmentation shear: 0.8 angle: 10.0  is  0.603\n",
            "Accuracy after augmentation shear: 0.8 angle: 20.0  is  0.6017\n",
            "Accuracy after augmentation shear: 0.8 angle: 30.0  is  0.5932\n",
            "Accuracy after augmentation shear: 0.8 angle: 40.0  is  0.612\n",
            "Accuracy after augmentation shear: 0.8 angle: 50.0  is  0.5891\n",
            "Accuracy after augmentation shear: 0.8 angle: 60.0  is  0.5914\n",
            "Accuracy after augmentation shear: 1.0 angle: 0.0  is  0.6337\n",
            "Accuracy after augmentation shear: 1.0 angle: 10.0  is  0.61\n",
            "Accuracy after augmentation shear: 1.0 angle: 20.0  is  0.6036\n",
            "Accuracy after augmentation shear: 1.0 angle: 30.0  is  0.642\n",
            "Accuracy after augmentation shear: 1.0 angle: 40.0  is  0.5955\n",
            "Accuracy after augmentation shear: 1.0 angle: 50.0  is  0.6175\n",
            "Accuracy after augmentation shear: 1.0 angle: 60.0  is  0.6204\n",
            "Accuracy after augmentation shear: 1.2 angle: 0.0  is  0.6344\n",
            "Accuracy after augmentation shear: 1.2 angle: 10.0  is  0.5943\n",
            "Accuracy after augmentation shear: 1.2 angle: 20.0  is  0.575\n",
            "Accuracy after augmentation shear: 1.2 angle: 30.0  is  0.6221\n",
            "Accuracy after augmentation shear: 1.2 angle: 40.0  is  0.6002\n",
            "Accuracy after augmentation shear: 1.2 angle: 50.0  is  0.5988\n",
            "Accuracy after augmentation shear: 1.2 angle: 60.0  is  0.614\n",
            "Accuracy after augmentation shear: 1.4 angle: 0.0  is  0.6328\n",
            "Accuracy after augmentation shear: 1.4 angle: 10.0  is  0.5932\n",
            "Accuracy after augmentation shear: 1.4 angle: 20.0  is  0.5888\n",
            "Accuracy after augmentation shear: 1.4 angle: 30.0  is  0.6079\n",
            "Accuracy after augmentation shear: 1.4 angle: 40.0  is  0.6041\n",
            "Accuracy after augmentation shear: 1.4 angle: 50.0  is  0.5898\n",
            "Accuracy after augmentation shear: 1.4 angle: 60.0  is  0.5986\n",
            "Accuracy after augmentation shear: 1.6 angle: 0.0  is  0.6326\n",
            "Accuracy after augmentation shear: 1.6 angle: 10.0  is  0.5907\n",
            "Accuracy after augmentation shear: 1.6 angle: 20.0  is  0.603\n",
            "Accuracy after augmentation shear: 1.6 angle: 30.0  is  0.613\n",
            "Accuracy after augmentation shear: 1.6 angle: 40.0  is  0.6014\n",
            "Accuracy after augmentation shear: 1.6 angle: 50.0  is  0.5565\n",
            "Accuracy after augmentation shear: 1.6 angle: 60.0  is  0.5882\n"
          ]
        }
      ]
    },
    {
      "cell_type": "markdown",
      "metadata": {
        "id": "PT6CnvSDEX7a"
      },
      "source": [
        "Let us plot it two dimensionally to see which is the best value for the hyperparameters:"
      ]
    },
    {
      "cell_type": "code",
      "metadata": {
        "id": "jD2i7msI_cLd",
        "colab": {
          "base_uri": "https://localhost:8080/",
          "height": 309
        },
        "outputId": "3029175c-2848-4d79-cd75-a70411d98f64"
      },
      "source": [
        "fig = plt.figure()\n",
        "ax = fig.add_axes([0.1, 0.1, 0.8, 0.8]) # main axes\n",
        "im = ax.imshow(accuracies.reshape((len(shearconstraints), len(angleconstraints))), cmap='inferno')\n",
        "ax.set_xlabel('angle')\n",
        "ax.set_ylabel('shear')\n",
        "ax.set_xticks(np.arange(len(angleconstraints)));\n",
        "ax.set_xticklabels(angleconstraints);\n",
        "ax.set_yticks(np.arange(len(shearconstraints)));\n",
        "ax.set_yticklabels(shearconstraints);\n",
        "plt.colorbar(im)"
      ],
      "execution_count": null,
      "outputs": [
        {
          "output_type": "execute_result",
          "data": {
            "text/plain": [
              "<matplotlib.colorbar.Colorbar at 0x7fb4f341f2d0>"
            ]
          },
          "metadata": {},
          "execution_count": 58
        },
        {
          "output_type": "display_data",
          "data": {
            "image/png": "[encoded data removed]",
            "text/plain": [
              "<Figure size 432x288 with 2 Axes>"
            ]
          },
          "metadata": {
            "needs_background": "light"
          }
        }
      ]
    },
    {
      "cell_type": "markdown",
      "metadata": {
        "id": "OHcZWJiFJDMh"
      },
      "source": [
        "It seems that rotation and shear don't mix! The best accuracy is when rotation is zero."
      ]
    },
    {
      "cell_type": "markdown",
      "metadata": {
        "id": "PAasQo1C3x4A"
      },
      "source": [
        "## Questions\n",
        "Try these questions for better understanding. You may not be able to solve all of them.\n",
        "1. What is the best value for angle constraint and shear constraint you got? How much did the accuracy improve as compared to not using augmentations?\n",
        "2. Can you increase the accuracy by increasing the number of augmentations from each sample?\n",
        "3. Try implementing a few augmentations of your own and experimenting with them. A good reference is <a href=https://www.analyticsvidhya.com/blog/2019/12/image-augmentation-deep-learning-pytorch/>here. </a>\n",
        "4. Try combining various augmentations. What is the highest accuracy you can get? What is the smallest training dataset you can take and still get accuracy above 50%?\n",
        "\n",
        "Whenever you do any experiment, a good practice is to vary the hyperparameters gradually and create a graph of your results, like we did for gridsearch."
      ]
    },
    {
      "cell_type": "markdown",
      "metadata": {
        "id": "QRpT31j7t4fn"
      },
      "source": [
        "### Solution"
      ]
    },
    {
      "cell_type": "markdown",
      "metadata": {
        "id": "YsdA8obrtCNl"
      },
      "source": [
        "1. When we did the augmentation individually, best angle constraint that I got was 20 and shear constraint was 0.6 When we combined shear and rotation best parameters were 30 for angle and 1.0 for the shear"
      ]
    },
    {
      "cell_type": "markdown",
      "metadata": {
        "id": "N-qC3rjjuUpp"
      },
      "source": [
        "2. We can do an experiment and test the hypothesis."
      ]
    },
    {
      "cell_type": "code",
      "metadata": {
        "id": "mCzpwluJ46pI",
        "colab": {
          "base_uri": "https://localhost:8080/"
        },
        "outputId": "7a1329a6-76f1-4140-c2e7-5b81ad0a206d"
      },
      "source": [
        "\"\"\"\n",
        "  Here we keep on concatenating the dataset produced for each angle constraint\n",
        "\"\"\"\n",
        "\n",
        "angleconstraints = [0,10,20,30,40,50,60,70,80,90] # the values we want to test\n",
        "accuracies = np.zeros(len(angleconstraints), dtype=np.float) # we will save the values here\n",
        "accuracies_train = np.zeros(len(angleconstraints), dtype=np.float) # we will save the values here\n",
        "\n",
        "augdata = train_X # we include the original images also in the augmented dataset\n",
        "auglabel = train_y\n",
        "\n",
        "for ii in range(len(angleconstraints)):\n",
        "  # create the augmented dataset\n",
        "  for jj in range(naugmentations):\n",
        "    augdata = np.concatenate((augdata, augRotate(train_X, angleconstraints[ii]))) # concatenate the augmented data to the set\n",
        "    auglabel = np.concatenate((auglabel, train_y))  # the labels don't change when we augment\n",
        "\n",
        "  # check the test accuracy\n",
        "  testpred = NN(augdata, auglabel, test_X)\n",
        "  trainpred = NN(augdata, auglabel, train_X)\n",
        "  accuracies[ii] = Accuracy(test_y, testpred)\n",
        "  accuracies_train[ii] = Accuracy(train_y, trainpred)\n",
        "  print('Accuracy after rotation augmentation constrained till ',angleconstraints[ii], ' is ', accuracies[ii], 'and train accuracy is', accuracies_train[ii], flush=True)"
      ],
      "execution_count": null,
      "outputs": [
        {
          "output_type": "stream",
          "name": "stdout",
          "text": [
            "Accuracy after rotation augmentation constrained till  0  is  0.6472 and train accuracy is 1.0\n",
            "Accuracy after rotation augmentation constrained till  10  is  0.6705 and train accuracy is 1.0\n",
            "Accuracy after rotation augmentation constrained till  20  is  0.6769 and train accuracy is 1.0\n",
            "Accuracy after rotation augmentation constrained till  30  is  0.683 and train accuracy is 1.0\n",
            "Accuracy after rotation augmentation constrained till  40  is  0.6804 and train accuracy is 1.0\n",
            "Accuracy after rotation augmentation constrained till  50  is  0.6792 and train accuracy is 1.0\n",
            "Accuracy after rotation augmentation constrained till  60  is  0.6864 and train accuracy is 1.0\n",
            "Accuracy after rotation augmentation constrained till  70  is  0.6815 and train accuracy is 1.0\n",
            "Accuracy after rotation augmentation constrained till  80  is  0.6788 and train accuracy is 1.0\n",
            "Accuracy after rotation augmentation constrained till  90  is  0.678 and train accuracy is 1.0\n"
          ]
        }
      ]
    },
    {
      "cell_type": "code",
      "metadata": {
        "colab": {
          "base_uri": "https://localhost:8080/",
          "height": 292
        },
        "id": "vHgyxvZqvHef",
        "outputId": "da105453-3816-430a-c59c-cc1b303f616f"
      },
      "source": [
        "fig = plt.figure()\n",
        "ax = fig.add_axes([0.1, 0.1, 0.8, 0.8]) # main axes\n",
        "# plot the variation of accuracy\n",
        "ax.plot(angleconstraints, accuracies, label=\"Test\", color=\"blue\")\n",
        "# ax.plot(angleconstraints, accuracies_train, label=\"Train\", color=\"green\")\n",
        "ax.set_xlabel('angle')\n",
        "ax.set_ylabel('accuracy')\n",
        "# plot the maximum accuracy\n",
        "maxind = np.argmax(accuracies)\n",
        "plt.scatter(angleconstraints[maxind], accuracies[maxind], c='red')\n",
        "\n",
        "# maxind = np.argmax(accuracies_train)\n",
        "# plt.scatter(angleconstraints[maxind], accuracies[maxind], c='red')\n",
        "\n",
        "plt.legend()\n",
        "plt.show()"
      ],
      "execution_count": null,
      "outputs": [
        {
          "output_type": "display_data",
          "data": {
            "image/png": "[encoded data removed]",
            "text/plain": [
              "<Figure size 432x288 with 1 Axes>"
            ]
          },
          "metadata": {
            "needs_background": "light"
          }
        }
      ]
    },
    {
      "cell_type": "markdown",
      "metadata": {
        "id": "WAuqxHdc0Wlx"
      },
      "source": [
        "It seems that too many augmentation does not create much improvement. Normally too many augmentation can lead to over-fitting of the model."
      ]
    },
    {
      "cell_type": "markdown",
      "metadata": {
        "id": "FW3sYZft5t1U"
      },
      "source": [
        "3. We can test the model by adding scaling and and clipping to the original size.\n",
        "\n",
        "Here we cannot flip image because, flipping a number doesn't make a number"
      ]
    },
    {
      "cell_type": "code",
      "metadata": {
        "id": "KkBDiYvs2X6_"
      },
      "source": [
        "def clipped_zoom(img: np.ndarray, zoom_factor: float) -> np.ndarray:\n",
        "    \"\"\"\n",
        "      This function zooms/scales the image and retains the image dimension\n",
        "    \"\"\"\n",
        "    h, w = img.shape[:2]\n",
        "\n",
        "    # For multichannel images we don't want to apply the zoom factor to the RGB\n",
        "    # dimension, so instead we create a tuple of zoom factors, one per array\n",
        "    # dimension, with 1's for any trailing dimensions after the width and height.\n",
        "    zoom_tuple = (zoom_factor,) * 2 + (1,) * (img.ndim - 2)\n",
        "\n",
        "    # Zooming out\n",
        "    if zoom_factor < 1:\n",
        "\n",
        "        # Bounding box of the zoomed-out image within the output array\n",
        "        zh = int(np.round(h * zoom_factor))\n",
        "        zw = int(np.round(w * zoom_factor))\n",
        "        top = (h - zh) // 2\n",
        "        left = (w - zw) // 2\n",
        "\n",
        "        # Zero-padding\n",
        "        out = np.zeros_like(img)\n",
        "        out[top:top+zh, left:left+zw] = zoom(img, zoom_tuple)\n",
        "\n",
        "    # Zooming in\n",
        "    elif zoom_factor > 1:\n",
        "\n",
        "        # Bounding box of the zoomed-in region within the input array\n",
        "        zh = int(np.round(h / zoom_factor))\n",
        "        zw = int(np.round(w / zoom_factor))\n",
        "        top = (h - zh) // 2\n",
        "        left = (w - zw) // 2\n",
        "\n",
        "        out = zoom(img[top:top+zh, left:left+zw], zoom_tuple)\n",
        "\n",
        "        # `out` might still be slightly larger than `img` due to rounding, so\n",
        "        # trim off any extra pixels at the edges\n",
        "        trim_top = ((out.shape[0] - h) // 2)\n",
        "        trim_left = ((out.shape[1] - w) // 2)\n",
        "        out = out[trim_top:trim_top+h, trim_left:trim_left+w]\n",
        "\n",
        "    # If zoom_factor == 1, just return the input array\n",
        "    else:\n",
        "        out = img\n",
        "    return out"
      ],
      "execution_count": null,
      "outputs": []
    },
    {
      "cell_type": "code",
      "metadata": {
        "colab": {
          "base_uri": "https://localhost:8080/",
          "height": 530
        },
        "id": "-ngyjfh66ydX",
        "outputId": "9ddd889b-3a39-409d-8280-e96d73c37cba"
      },
      "source": [
        "sample = train_X[2]\n",
        "plt.imshow(sample, cmap='gray')\n",
        "plt.show()\n",
        "\n",
        "# apply shear\n",
        "plt.imshow(clipped_zoom(sample, 1.4), cmap='gray')"
      ],
      "execution_count": null,
      "outputs": [
        {
          "output_type": "display_data",
          "data": {
            "image/png": "[encoded data removed]",
            "text/plain": [
              "<Figure size 432x288 with 1 Axes>"
            ]
          },
          "metadata": {
            "needs_background": "light"
          }
        },
        {
          "output_type": "execute_result",
          "data": {
            "text/plain": [
              "<matplotlib.image.AxesImage at 0x7f7d52263b50>"
            ]
          },
          "metadata": {},
          "execution_count": 15
        },
        {
          "output_type": "display_data",
          "data": {
            "image/png": "[encoded data removed]",
            "text/plain": [
              "<Figure size 432x288 with 1 Axes>"
            ]
          },
          "metadata": {
            "needs_background": "light"
          }
        }
      ]
    },
    {
      "cell_type": "code",
      "metadata": {
        "colab": {
          "base_uri": "https://localhost:8080/"
        },
        "id": "ofRf4WN87SL5",
        "outputId": "1fb8fd21-8373-489e-9083-a7c2a29e8a63"
      },
      "source": [
        "zoom_factors = [0.5, 0.6, 0.7, 0.8, 0.9, 1.0, 1.1, 1.2, 1.3, 1.4, 1.5, 1.6, 1.7, 1.8, 2.0] # the values we want to test\n",
        "accuracies = np.zeros(len(zoom_factors), dtype=np.float) # we will save the values here\n",
        "\n",
        "for ii in range(len(zoom_factors)):\n",
        "  augdata = train_X # we include the original images also in the augmented dataset\n",
        "  auglabel = train_y\n",
        "  # create the augmented dataset\n",
        "  for jj in range(naugmentations):\n",
        "    augdata = np.concatenate((augdata, augRotate(train_X, zoom_factors[ii]))) # concatenate the augmented data to the set\n",
        "    auglabel = np.concatenate((auglabel, train_y))  # the labels don't change when we augment\n",
        "\n",
        "  # check the test accuracy\n",
        "  testpred = NN(augdata, auglabel, test_X)\n",
        "  accuracies[ii] = Accuracy(test_y, testpred)\n",
        "  print('Accuracy after rotation augmentation constrained by ',zoom_factors[ii], ' is ', accuracies[ii], flush=True)"
      ],
      "execution_count": null,
      "outputs": [
        {
          "output_type": "stream",
          "name": "stdout",
          "text": [
            "Accuracy after rotation augmentation constrained by  0.5  is  0.648\n",
            "Accuracy after rotation augmentation constrained by  0.6  is  0.6511\n",
            "Accuracy after rotation augmentation constrained by  0.7  is  0.6495\n",
            "Accuracy after rotation augmentation constrained by  0.8  is  0.6511\n",
            "Accuracy after rotation augmentation constrained by  0.9  is  0.6497\n",
            "Accuracy after rotation augmentation constrained by  1.0  is  0.653\n",
            "Accuracy after rotation augmentation constrained by  1.1  is  0.6494\n",
            "Accuracy after rotation augmentation constrained by  1.2  is  0.6522\n",
            "Accuracy after rotation augmentation constrained by  1.3  is  0.652\n",
            "Accuracy after rotation augmentation constrained by  1.4  is  0.6539\n",
            "Accuracy after rotation augmentation constrained by  1.5  is  0.6539\n",
            "Accuracy after rotation augmentation constrained by  1.6  is  0.6522\n",
            "Accuracy after rotation augmentation constrained by  1.7  is  0.6527\n",
            "Accuracy after rotation augmentation constrained by  1.8  is  0.6531\n",
            "Accuracy after rotation augmentation constrained by  2.0  is  0.6528\n"
          ]
        }
      ]
    },
    {
      "cell_type": "code",
      "metadata": {
        "colab": {
          "base_uri": "https://localhost:8080/",
          "height": 292
        },
        "id": "TZz3GGQF8EuB",
        "outputId": "8cb073f1-a0f3-44d4-f460-5d6bf6a9234a"
      },
      "source": [
        "fig = plt.figure()\n",
        "ax = fig.add_axes([0.1, 0.1, 0.8, 0.8]) # main axes\n",
        "# plot the variation of accuracy\n",
        "ax.plot(zoom_factors, accuracies, label=\"Test\", color=\"blue\")\n",
        "ax.set_xlabel('zoom')\n",
        "ax.set_ylabel('accuracy')\n",
        "# plot the maximum accuracy\n",
        "maxind = np.argmax(accuracies)\n",
        "plt.scatter(zoom_factors[maxind], accuracies[maxind], c='red')\n",
        "plt.show()"
      ],
      "execution_count": null,
      "outputs": [
        {
          "output_type": "display_data",
          "data": {
            "image/png": "[encoded data removed]",
            "text/plain": [
              "<Figure size 432x288 with 1 Axes>"
            ]
          },
          "metadata": {
            "needs_background": "light"
          }
        }
      ]
    },
    {
      "cell_type": "markdown",
      "metadata": {
        "id": "I3HdOTJuCHlu"
      },
      "source": [
        "We can see that scaling has a positive impact on accuracy. Best zoom/scale factor is 1.4"
      ]
    },
    {
      "cell_type": "markdown",
      "metadata": {
        "id": "X5ReMnf_K9Lj"
      },
      "source": [
        "4. Testing out on different combination of parameters"
      ]
    },
    {
      "cell_type": "code",
      "metadata": {
        "id": "UXIRNa79LYWO"
      },
      "source": [
        "def augZoomRotateShear(sample: np.ndarray, angleconstraint: int, shearconstraint: float, zoom_factor: float) -> np.ndarray:\n",
        "  \"\"\"\n",
        "    Augmention of image - Shear then Rotate\n",
        "  \"\"\"\n",
        "  if len(sample.shape)==2:\n",
        "    sample = np.expand_dims(sample, 0)  # make sure the sample is 3 dimensional\n",
        "  amt = rng.random(len(sample)) # generate random numbers for shear\n",
        "  amt = (amt-0.5)*shearconstraint # make the random shear constrained\n",
        "  angle = rng.random(len(sample)) # generate random numbers for angles\n",
        "  angle = (angle-0.5)*angleconstraint # make the random angle constrained\n",
        "  nsample = sample.copy() # preallocate the augmented array to make it faster\n",
        "  for ii in range(len(sample)):\n",
        "    nsample[ii] = clipped_zoom(rotate(shear(sample[ii], amt[ii]), angle[ii]), zoom_factor=zoom_factor) # first apply shear, then rotate, then zoom\n",
        "  return np.squeeze(nsample) # take care if the input had only one sample."
      ],
      "execution_count": null,
      "outputs": []
    },
    {
      "cell_type": "code",
      "metadata": {
        "colab": {
          "base_uri": "https://localhost:8080/"
        },
        "id": "P7_F_bVlBJ9g",
        "outputId": "0aa69bf7-3398-4956-fd6c-6039883b24e8"
      },
      "source": [
        "shearconstraints = [0, 0.2, 0.4, 0.6, 0.8, 1.0, 1.2, 1.4, 1.6] # the values we want to test\n",
        "angleconstraints = [0, 10, 20, 30, 40, 50, 60] # the values we want to test\n",
        "zoom_factors = [1.5, 1.6, 1.7, 1.8, 2.0] # the values we want to test\n",
        "\n",
        "hyp = cartesian((shearconstraints, angleconstraints, zoom_factors)) # cartesian product of both\n",
        "\n",
        "accuracies = np.zeros(len(hyp), dtype=np.float) # we will save the values here\n",
        "\n",
        "for ii in range(len(hyp)):\n",
        "  # create the augmented dataset\n",
        "  augdata = train_X # we include the original images also in the augmented dataset\n",
        "  auglabel = train_y\n",
        "  for jj in range(naugmentations):\n",
        "    augdata = np.concatenate(\n",
        "        (augdata, augZoomRotateShear(train_X, hyp[ii][0], hyp[ii][1], hyp[ii][2]))\n",
        "      ) # concatenate the augmented data to the set\n",
        "    auglabel = np.concatenate((auglabel, train_y))  # the labels don't change when we augment\n",
        "\n",
        "  # check the test accuracy\n",
        "  testpred = NN(augdata, auglabel, test_X)\n",
        "  accuracies[ii] = Accuracy(test_y, testpred)\n",
        "  print('Accuracy after augmentation shear:',hyp[ii][0], 'angle:',hyp[ii][1], 'zoom:', hyp[ii][2],' is ', accuracies[ii], flush=True)"
      ],
      "execution_count": null,
      "outputs": [
        {
          "output_type": "stream",
          "name": "stdout",
          "text": [
            "Accuracy after augmentation shear: 0.0 angle: 0.0 zoom: 1.5  is  0.6471\n",
            "Accuracy after augmentation shear: 0.0 angle: 0.0 zoom: 1.6  is  0.6473\n",
            "Accuracy after augmentation shear: 0.0 angle: 0.0 zoom: 1.7  is  0.6369\n",
            "Accuracy after augmentation shear: 0.0 angle: 0.0 zoom: 1.8  is  0.6461\n",
            "Accuracy after augmentation shear: 0.0 angle: 0.0 zoom: 2.0  is  0.6471\n",
            "Accuracy after augmentation shear: 0.0 angle: 10.0 zoom: 1.5  is  0.6074\n",
            "Accuracy after augmentation shear: 0.0 angle: 10.0 zoom: 1.6  is  0.6053\n",
            "Accuracy after augmentation shear: 0.0 angle: 10.0 zoom: 1.7  is  0.6246\n",
            "Accuracy after augmentation shear: 0.0 angle: 10.0 zoom: 1.8  is  0.6093\n",
            "Accuracy after augmentation shear: 0.0 angle: 10.0 zoom: 2.0  is  0.6112\n",
            "Accuracy after augmentation shear: 0.0 angle: 20.0 zoom: 1.5  is  0.5991\n",
            "Accuracy after augmentation shear: 0.0 angle: 20.0 zoom: 1.6  is  0.6106\n",
            "Accuracy after augmentation shear: 0.0 angle: 20.0 zoom: 1.7  is  0.633\n",
            "Accuracy after augmentation shear: 0.0 angle: 20.0 zoom: 1.8  is  0.5989\n",
            "Accuracy after augmentation shear: 0.0 angle: 20.0 zoom: 2.0  is  0.6104\n",
            "Accuracy after augmentation shear: 0.0 angle: 30.0 zoom: 1.5  is  0.6017\n",
            "Accuracy after augmentation shear: 0.0 angle: 30.0 zoom: 1.6  is  0.5975\n",
            "Accuracy after augmentation shear: 0.0 angle: 30.0 zoom: 1.7  is  0.617\n",
            "Accuracy after augmentation shear: 0.0 angle: 30.0 zoom: 1.8  is  0.6188\n",
            "Accuracy after augmentation shear: 0.0 angle: 30.0 zoom: 2.0  is  0.6093\n",
            "Accuracy after augmentation shear: 0.0 angle: 40.0 zoom: 1.5  is  0.5989\n",
            "Accuracy after augmentation shear: 0.0 angle: 40.0 zoom: 1.6  is  0.5808\n",
            "Accuracy after augmentation shear: 0.0 angle: 40.0 zoom: 1.7  is  0.6297\n",
            "Accuracy after augmentation shear: 0.0 angle: 40.0 zoom: 1.8  is  0.5944\n",
            "Accuracy after augmentation shear: 0.0 angle: 40.0 zoom: 2.0  is  0.5946\n",
            "Accuracy after augmentation shear: 0.0 angle: 50.0 zoom: 1.5  is  0.602\n",
            "Accuracy after augmentation shear: 0.0 angle: 50.0 zoom: 1.6  is  0.6019\n",
            "Accuracy after augmentation shear: 0.0 angle: 50.0 zoom: 1.7  is  0.6199\n",
            "Accuracy after augmentation shear: 0.0 angle: 50.0 zoom: 1.8  is  0.6053\n",
            "Accuracy after augmentation shear: 0.0 angle: 50.0 zoom: 2.0  is  0.6182\n",
            "Accuracy after augmentation shear: 0.0 angle: 60.0 zoom: 1.5  is  0.5718\n",
            "Accuracy after augmentation shear: 0.0 angle: 60.0 zoom: 1.6  is  0.5832\n",
            "Accuracy after augmentation shear: 0.0 angle: 60.0 zoom: 1.7  is  0.6209\n",
            "Accuracy after augmentation shear: 0.0 angle: 60.0 zoom: 1.8  is  0.5988\n",
            "Accuracy after augmentation shear: 0.0 angle: 60.0 zoom: 2.0  is  0.5979\n",
            "Accuracy after augmentation shear: 0.2 angle: 0.0 zoom: 1.5  is  0.647\n",
            "Accuracy after augmentation shear: 0.2 angle: 0.0 zoom: 1.6  is  0.6473\n",
            "Accuracy after augmentation shear: 0.2 angle: 0.0 zoom: 1.7  is  0.6392\n",
            "Accuracy after augmentation shear: 0.2 angle: 0.0 zoom: 1.8  is  0.646\n",
            "Accuracy after augmentation shear: 0.2 angle: 0.0 zoom: 2.0  is  0.647\n",
            "Accuracy after augmentation shear: 0.2 angle: 10.0 zoom: 1.5  is  0.5926\n",
            "Accuracy after augmentation shear: 0.2 angle: 10.0 zoom: 1.6  is  0.6101\n",
            "Accuracy after augmentation shear: 0.2 angle: 10.0 zoom: 1.7  is  0.6211\n",
            "Accuracy after augmentation shear: 0.2 angle: 10.0 zoom: 1.8  is  0.6022\n",
            "Accuracy after augmentation shear: 0.2 angle: 10.0 zoom: 2.0  is  0.6156\n",
            "Accuracy after augmentation shear: 0.2 angle: 20.0 zoom: 1.5  is  0.6072\n",
            "Accuracy after augmentation shear: 0.2 angle: 20.0 zoom: 1.6  is  0.5775\n",
            "Accuracy after augmentation shear: 0.2 angle: 20.0 zoom: 1.7  is  0.622\n",
            "Accuracy after augmentation shear: 0.2 angle: 20.0 zoom: 1.8  is  0.5995\n",
            "Accuracy after augmentation shear: 0.2 angle: 20.0 zoom: 2.0  is  0.6203\n",
            "Accuracy after augmentation shear: 0.2 angle: 30.0 zoom: 1.5  is  0.5694\n",
            "Accuracy after augmentation shear: 0.2 angle: 30.0 zoom: 1.6  is  0.5972\n",
            "Accuracy after augmentation shear: 0.2 angle: 30.0 zoom: 1.7  is  0.6225\n",
            "Accuracy after augmentation shear: 0.2 angle: 30.0 zoom: 1.8  is  0.6112\n",
            "Accuracy after augmentation shear: 0.2 angle: 30.0 zoom: 2.0  is  0.6056\n",
            "Accuracy after augmentation shear: 0.2 angle: 40.0 zoom: 1.5  is  0.5835\n",
            "Accuracy after augmentation shear: 0.2 angle: 40.0 zoom: 1.6  is  0.5845\n",
            "Accuracy after augmentation shear: 0.2 angle: 40.0 zoom: 1.7  is  0.6247\n",
            "Accuracy after augmentation shear: 0.2 angle: 40.0 zoom: 1.8  is  0.5919\n",
            "Accuracy after augmentation shear: 0.2 angle: 40.0 zoom: 2.0  is  0.5962\n",
            "Accuracy after augmentation shear: 0.2 angle: 50.0 zoom: 1.5  is  0.5975\n",
            "Accuracy after augmentation shear: 0.2 angle: 50.0 zoom: 1.6  is  0.5906\n",
            "Accuracy after augmentation shear: 0.2 angle: 50.0 zoom: 1.7  is  0.62\n",
            "Accuracy after augmentation shear: 0.2 angle: 50.0 zoom: 1.8  is  0.6035\n",
            "Accuracy after augmentation shear: 0.2 angle: 50.0 zoom: 2.0  is  0.6096\n",
            "Accuracy after augmentation shear: 0.2 angle: 60.0 zoom: 1.5  is  0.614\n",
            "Accuracy after augmentation shear: 0.2 angle: 60.0 zoom: 1.6  is  0.6101\n",
            "Accuracy after augmentation shear: 0.2 angle: 60.0 zoom: 1.7  is  0.6365\n",
            "Accuracy after augmentation shear: 0.2 angle: 60.0 zoom: 1.8  is  0.603\n",
            "Accuracy after augmentation shear: 0.2 angle: 60.0 zoom: 2.0  is  0.6088\n",
            "Accuracy after augmentation shear: 0.4 angle: 0.0 zoom: 1.5  is  0.647\n",
            "Accuracy after augmentation shear: 0.4 angle: 0.0 zoom: 1.6  is  0.6473\n",
            "Accuracy after augmentation shear: 0.4 angle: 0.0 zoom: 1.7  is  0.6406\n",
            "Accuracy after augmentation shear: 0.4 angle: 0.0 zoom: 1.8  is  0.646\n",
            "Accuracy after augmentation shear: 0.4 angle: 0.0 zoom: 2.0  is  0.647\n",
            "Accuracy after augmentation shear: 0.4 angle: 10.0 zoom: 1.5  is  0.5981\n",
            "Accuracy after augmentation shear: 0.4 angle: 10.0 zoom: 1.6  is  0.6305\n",
            "Accuracy after augmentation shear: 0.4 angle: 10.0 zoom: 1.7  is  0.6202\n",
            "Accuracy after augmentation shear: 0.4 angle: 10.0 zoom: 1.8  is  0.6113\n",
            "Accuracy after augmentation shear: 0.4 angle: 10.0 zoom: 2.0  is  0.605\n",
            "Accuracy after augmentation shear: 0.4 angle: 20.0 zoom: 1.5  is  0.6004\n",
            "Accuracy after augmentation shear: 0.4 angle: 20.0 zoom: 1.6  is  0.6049\n",
            "Accuracy after augmentation shear: 0.4 angle: 20.0 zoom: 1.7  is  0.6204\n",
            "Accuracy after augmentation shear: 0.4 angle: 20.0 zoom: 1.8  is  0.5917\n",
            "Accuracy after augmentation shear: 0.4 angle: 20.0 zoom: 2.0  is  0.6032\n",
            "Accuracy after augmentation shear: 0.4 angle: 30.0 zoom: 1.5  is  0.5957\n",
            "Accuracy after augmentation shear: 0.4 angle: 30.0 zoom: 1.6  is  0.6088\n",
            "Accuracy after augmentation shear: 0.4 angle: 30.0 zoom: 1.7  is  0.6191\n",
            "Accuracy after augmentation shear: 0.4 angle: 30.0 zoom: 1.8  is  0.5861\n",
            "Accuracy after augmentation shear: 0.4 angle: 30.0 zoom: 2.0  is  0.6078\n",
            "Accuracy after augmentation shear: 0.4 angle: 40.0 zoom: 1.5  is  0.6052\n",
            "Accuracy after augmentation shear: 0.4 angle: 40.0 zoom: 1.6  is  0.5813\n",
            "Accuracy after augmentation shear: 0.4 angle: 40.0 zoom: 1.7  is  0.6213\n",
            "Accuracy after augmentation shear: 0.4 angle: 40.0 zoom: 1.8  is  0.5925\n",
            "Accuracy after augmentation shear: 0.4 angle: 40.0 zoom: 2.0  is  0.607\n",
            "Accuracy after augmentation shear: 0.4 angle: 50.0 zoom: 1.5  is  0.5843\n",
            "Accuracy after augmentation shear: 0.4 angle: 50.0 zoom: 1.6  is  0.6016\n",
            "Accuracy after augmentation shear: 0.4 angle: 50.0 zoom: 1.7  is  0.6212\n",
            "Accuracy after augmentation shear: 0.4 angle: 50.0 zoom: 1.8  is  0.5977\n",
            "Accuracy after augmentation shear: 0.4 angle: 50.0 zoom: 2.0  is  0.6119\n",
            "Accuracy after augmentation shear: 0.4 angle: 60.0 zoom: 1.5  is  0.6001\n",
            "Accuracy after augmentation shear: 0.4 angle: 60.0 zoom: 1.6  is  0.5897\n",
            "Accuracy after augmentation shear: 0.4 angle: 60.0 zoom: 1.7  is  0.6154\n",
            "Accuracy after augmentation shear: 0.4 angle: 60.0 zoom: 1.8  is  0.6007\n",
            "Accuracy after augmentation shear: 0.4 angle: 60.0 zoom: 2.0  is  0.6201\n",
            "Accuracy after augmentation shear: 0.6 angle: 0.0 zoom: 1.5  is  0.6468\n",
            "Accuracy after augmentation shear: 0.6 angle: 0.0 zoom: 1.6  is  0.6472\n",
            "Accuracy after augmentation shear: 0.6 angle: 0.0 zoom: 1.7  is  0.6426\n",
            "Accuracy after augmentation shear: 0.6 angle: 0.0 zoom: 1.8  is  0.646\n",
            "Accuracy after augmentation shear: 0.6 angle: 0.0 zoom: 2.0  is  0.647\n",
            "Accuracy after augmentation shear: 0.6 angle: 10.0 zoom: 1.5  is  0.5918\n",
            "Accuracy after augmentation shear: 0.6 angle: 10.0 zoom: 1.6  is  0.6058\n",
            "Accuracy after augmentation shear: 0.6 angle: 10.0 zoom: 1.7  is  0.6199\n",
            "Accuracy after augmentation shear: 0.6 angle: 10.0 zoom: 1.8  is  0.6163\n",
            "Accuracy after augmentation shear: 0.6 angle: 10.0 zoom: 2.0  is  0.612\n",
            "Accuracy after augmentation shear: 0.6 angle: 20.0 zoom: 1.5  is  0.5937\n",
            "Accuracy after augmentation shear: 0.6 angle: 20.0 zoom: 1.6  is  0.6053\n",
            "Accuracy after augmentation shear: 0.6 angle: 20.0 zoom: 1.7  is  0.6244\n",
            "Accuracy after augmentation shear: 0.6 angle: 20.0 zoom: 1.8  is  0.5951\n",
            "Accuracy after augmentation shear: 0.6 angle: 20.0 zoom: 2.0  is  0.6045\n",
            "Accuracy after augmentation shear: 0.6 angle: 30.0 zoom: 1.5  is  0.5849\n",
            "Accuracy after augmentation shear: 0.6 angle: 30.0 zoom: 1.6  is  0.5748\n",
            "Accuracy after augmentation shear: 0.6 angle: 30.0 zoom: 1.7  is  0.62\n",
            "Accuracy after augmentation shear: 0.6 angle: 30.0 zoom: 1.8  is  0.6066\n",
            "Accuracy after augmentation shear: 0.6 angle: 30.0 zoom: 2.0  is  0.5917\n",
            "Accuracy after augmentation shear: 0.6 angle: 40.0 zoom: 1.5  is  0.5881\n",
            "Accuracy after augmentation shear: 0.6 angle: 40.0 zoom: 1.6  is  0.5918\n",
            "Accuracy after augmentation shear: 0.6 angle: 40.0 zoom: 1.7  is  0.6224\n",
            "Accuracy after augmentation shear: 0.6 angle: 40.0 zoom: 1.8  is  0.5954\n",
            "Accuracy after augmentation shear: 0.6 angle: 40.0 zoom: 2.0  is  0.6022\n",
            "Accuracy after augmentation shear: 0.6 angle: 50.0 zoom: 1.5  is  0.5944\n",
            "Accuracy after augmentation shear: 0.6 angle: 50.0 zoom: 1.6  is  0.5951\n",
            "Accuracy after augmentation shear: 0.6 angle: 50.0 zoom: 1.7  is  0.6191\n",
            "Accuracy after augmentation shear: 0.6 angle: 50.0 zoom: 1.8  is  0.5842\n",
            "Accuracy after augmentation shear: 0.6 angle: 50.0 zoom: 2.0  is  0.6068\n",
            "Accuracy after augmentation shear: 0.6 angle: 60.0 zoom: 1.5  is  0.6005\n",
            "Accuracy after augmentation shear: 0.6 angle: 60.0 zoom: 1.6  is  0.6049\n",
            "Accuracy after augmentation shear: 0.6 angle: 60.0 zoom: 1.7  is  0.6223\n",
            "Accuracy after augmentation shear: 0.6 angle: 60.0 zoom: 1.8  is  0.5921\n",
            "Accuracy after augmentation shear: 0.6 angle: 60.0 zoom: 2.0  is  0.622\n",
            "Accuracy after augmentation shear: 0.8 angle: 0.0 zoom: 1.5  is  0.6464\n",
            "Accuracy after augmentation shear: 0.8 angle: 0.0 zoom: 1.6  is  0.6471\n",
            "Accuracy after augmentation shear: 0.8 angle: 0.0 zoom: 1.7  is  0.6388\n",
            "Accuracy after augmentation shear: 0.8 angle: 0.0 zoom: 1.8  is  0.646\n",
            "Accuracy after augmentation shear: 0.8 angle: 0.0 zoom: 2.0  is  0.647\n",
            "Accuracy after augmentation shear: 0.8 angle: 10.0 zoom: 1.5  is  0.6108\n",
            "Accuracy after augmentation shear: 0.8 angle: 10.0 zoom: 1.6  is  0.6047\n",
            "Accuracy after augmentation shear: 0.8 angle: 10.0 zoom: 1.7  is  0.6346\n",
            "Accuracy after augmentation shear: 0.8 angle: 10.0 zoom: 1.8  is  0.6132\n",
            "Accuracy after augmentation shear: 0.8 angle: 10.0 zoom: 2.0  is  0.6114\n",
            "Accuracy after augmentation shear: 0.8 angle: 20.0 zoom: 1.5  is  0.598\n",
            "Accuracy after augmentation shear: 0.8 angle: 20.0 zoom: 1.6  is  0.5832\n",
            "Accuracy after augmentation shear: 0.8 angle: 20.0 zoom: 1.7  is  0.6268\n",
            "Accuracy after augmentation shear: 0.8 angle: 20.0 zoom: 1.8  is  0.5996\n",
            "Accuracy after augmentation shear: 0.8 angle: 20.0 zoom: 2.0  is  0.6141\n",
            "Accuracy after augmentation shear: 0.8 angle: 30.0 zoom: 1.5  is  0.5977\n",
            "Accuracy after augmentation shear: 0.8 angle: 30.0 zoom: 1.6  is  0.587\n",
            "Accuracy after augmentation shear: 0.8 angle: 30.0 zoom: 1.7  is  0.6249\n",
            "Accuracy after augmentation shear: 0.8 angle: 30.0 zoom: 1.8  is  0.5951\n",
            "Accuracy after augmentation shear: 0.8 angle: 30.0 zoom: 2.0  is  0.6023\n",
            "Accuracy after augmentation shear: 0.8 angle: 40.0 zoom: 1.5  is  0.5955\n",
            "Accuracy after augmentation shear: 0.8 angle: 40.0 zoom: 1.6  is  0.5797\n",
            "Accuracy after augmentation shear: 0.8 angle: 40.0 zoom: 1.7  is  0.6195\n",
            "Accuracy after augmentation shear: 0.8 angle: 40.0 zoom: 1.8  is  0.597\n",
            "Accuracy after augmentation shear: 0.8 angle: 40.0 zoom: 2.0  is  0.6035\n",
            "Accuracy after augmentation shear: 0.8 angle: 50.0 zoom: 1.5  is  0.5828\n",
            "Accuracy after augmentation shear: 0.8 angle: 50.0 zoom: 1.6  is  0.6007\n",
            "Accuracy after augmentation shear: 0.8 angle: 50.0 zoom: 1.7  is  0.6184\n",
            "Accuracy after augmentation shear: 0.8 angle: 50.0 zoom: 1.8  is  0.6033\n",
            "Accuracy after augmentation shear: 0.8 angle: 50.0 zoom: 2.0  is  0.5974\n",
            "Accuracy after augmentation shear: 0.8 angle: 60.0 zoom: 1.5  is  0.5967\n",
            "Accuracy after augmentation shear: 0.8 angle: 60.0 zoom: 1.6  is  0.5959\n",
            "Accuracy after augmentation shear: 0.8 angle: 60.0 zoom: 1.7  is  0.6193\n",
            "Accuracy after augmentation shear: 0.8 angle: 60.0 zoom: 1.8  is  0.6106\n",
            "Accuracy after augmentation shear: 0.8 angle: 60.0 zoom: 2.0  is  0.5986\n",
            "Accuracy after augmentation shear: 1.0 angle: 0.0 zoom: 1.5  is  0.6465\n",
            "Accuracy after augmentation shear: 1.0 angle: 0.0 zoom: 1.6  is  0.647\n",
            "Accuracy after augmentation shear: 1.0 angle: 0.0 zoom: 1.7  is  0.6434\n",
            "Accuracy after augmentation shear: 1.0 angle: 0.0 zoom: 1.8  is  0.646\n",
            "Accuracy after augmentation shear: 1.0 angle: 0.0 zoom: 2.0  is  0.647\n",
            "Accuracy after augmentation shear: 1.0 angle: 10.0 zoom: 1.5  is  0.5887\n",
            "Accuracy after augmentation shear: 1.0 angle: 10.0 zoom: 1.6  is  0.6217\n",
            "Accuracy after augmentation shear: 1.0 angle: 10.0 zoom: 1.7  is  0.6253\n",
            "Accuracy after augmentation shear: 1.0 angle: 10.0 zoom: 1.8  is  0.6004\n",
            "Accuracy after augmentation shear: 1.0 angle: 10.0 zoom: 2.0  is  0.6124\n",
            "Accuracy after augmentation shear: 1.0 angle: 20.0 zoom: 1.5  is  0.5964\n",
            "Accuracy after augmentation shear: 1.0 angle: 20.0 zoom: 1.6  is  0.607\n",
            "Accuracy after augmentation shear: 1.0 angle: 20.0 zoom: 1.7  is  0.6189\n",
            "Accuracy after augmentation shear: 1.0 angle: 20.0 zoom: 1.8  is  0.614\n",
            "Accuracy after augmentation shear: 1.0 angle: 20.0 zoom: 2.0  is  0.6073\n",
            "Accuracy after augmentation shear: 1.0 angle: 30.0 zoom: 1.5  is  0.5916\n",
            "Accuracy after augmentation shear: 1.0 angle: 30.0 zoom: 1.6  is  0.5985\n",
            "Accuracy after augmentation shear: 1.0 angle: 30.0 zoom: 1.7  is  0.6171\n",
            "Accuracy after augmentation shear: 1.0 angle: 30.0 zoom: 1.8  is  0.6096\n",
            "Accuracy after augmentation shear: 1.0 angle: 30.0 zoom: 2.0  is  0.6101\n",
            "Accuracy after augmentation shear: 1.0 angle: 40.0 zoom: 1.5  is  0.5973\n",
            "Accuracy after augmentation shear: 1.0 angle: 40.0 zoom: 1.6  is  0.5887\n",
            "Accuracy after augmentation shear: 1.0 angle: 40.0 zoom: 1.7  is  0.6164\n",
            "Accuracy after augmentation shear: 1.0 angle: 40.0 zoom: 1.8  is  0.5989\n",
            "Accuracy after augmentation shear: 1.0 angle: 40.0 zoom: 2.0  is  0.6029\n",
            "Accuracy after augmentation shear: 1.0 angle: 50.0 zoom: 1.5  is  0.5999\n",
            "Accuracy after augmentation shear: 1.0 angle: 50.0 zoom: 1.6  is  0.6003\n",
            "Accuracy after augmentation shear: 1.0 angle: 50.0 zoom: 1.7  is  0.6189\n",
            "Accuracy after augmentation shear: 1.0 angle: 50.0 zoom: 1.8  is  0.6107\n",
            "Accuracy after augmentation shear: 1.0 angle: 50.0 zoom: 2.0  is  0.6002\n",
            "Accuracy after augmentation shear: 1.0 angle: 60.0 zoom: 1.5  is  0.6106\n",
            "Accuracy after augmentation shear: 1.0 angle: 60.0 zoom: 1.6  is  0.6062\n",
            "Accuracy after augmentation shear: 1.0 angle: 60.0 zoom: 1.7  is  0.6327\n",
            "Accuracy after augmentation shear: 1.0 angle: 60.0 zoom: 1.8  is  0.6002\n",
            "Accuracy after augmentation shear: 1.0 angle: 60.0 zoom: 2.0  is  0.6014\n",
            "Accuracy after augmentation shear: 1.2 angle: 0.0 zoom: 1.5  is  0.6459\n",
            "Accuracy after augmentation shear: 1.2 angle: 0.0 zoom: 1.6  is  0.6469\n",
            "Accuracy after augmentation shear: 1.2 angle: 0.0 zoom: 1.7  is  0.6245\n",
            "Accuracy after augmentation shear: 1.2 angle: 0.0 zoom: 1.8  is  0.6459\n",
            "Accuracy after augmentation shear: 1.2 angle: 0.0 zoom: 2.0  is  0.647\n",
            "Accuracy after augmentation shear: 1.2 angle: 10.0 zoom: 1.5  is  0.5966\n",
            "Accuracy after augmentation shear: 1.2 angle: 10.0 zoom: 1.6  is  0.623\n",
            "Accuracy after augmentation shear: 1.2 angle: 10.0 zoom: 1.7  is  0.6407\n",
            "Accuracy after augmentation shear: 1.2 angle: 10.0 zoom: 1.8  is  0.6024\n",
            "Accuracy after augmentation shear: 1.2 angle: 10.0 zoom: 2.0  is  0.611\n",
            "Accuracy after augmentation shear: 1.2 angle: 20.0 zoom: 1.5  is  0.5963\n",
            "Accuracy after augmentation shear: 1.2 angle: 20.0 zoom: 1.6  is  0.5941\n",
            "Accuracy after augmentation shear: 1.2 angle: 20.0 zoom: 1.7  is  0.6211\n",
            "Accuracy after augmentation shear: 1.2 angle: 20.0 zoom: 1.8  is  0.606\n",
            "Accuracy after augmentation shear: 1.2 angle: 20.0 zoom: 2.0  is  0.6061\n",
            "Accuracy after augmentation shear: 1.2 angle: 30.0 zoom: 1.5  is  0.6047\n",
            "Accuracy after augmentation shear: 1.2 angle: 30.0 zoom: 1.6  is  0.5924\n",
            "Accuracy after augmentation shear: 1.2 angle: 30.0 zoom: 1.7  is  0.6219\n",
            "Accuracy after augmentation shear: 1.2 angle: 30.0 zoom: 1.8  is  0.5927\n",
            "Accuracy after augmentation shear: 1.2 angle: 30.0 zoom: 2.0  is  0.6233\n",
            "Accuracy after augmentation shear: 1.2 angle: 40.0 zoom: 1.5  is  0.5955\n",
            "Accuracy after augmentation shear: 1.2 angle: 40.0 zoom: 1.6  is  0.5757\n",
            "Accuracy after augmentation shear: 1.2 angle: 40.0 zoom: 1.7  is  0.6311\n",
            "Accuracy after augmentation shear: 1.2 angle: 40.0 zoom: 1.8  is  0.6068\n",
            "Accuracy after augmentation shear: 1.2 angle: 40.0 zoom: 2.0  is  0.5904\n",
            "Accuracy after augmentation shear: 1.2 angle: 50.0 zoom: 1.5  is  0.5758\n",
            "Accuracy after augmentation shear: 1.2 angle: 50.0 zoom: 1.6  is  0.5773\n",
            "Accuracy after augmentation shear: 1.2 angle: 50.0 zoom: 1.7  is  0.6194\n",
            "Accuracy after augmentation shear: 1.2 angle: 50.0 zoom: 1.8  is  0.6183\n",
            "Accuracy after augmentation shear: 1.2 angle: 50.0 zoom: 2.0  is  0.6117\n",
            "Accuracy after augmentation shear: 1.2 angle: 60.0 zoom: 1.5  is  0.6037\n",
            "Accuracy after augmentation shear: 1.2 angle: 60.0 zoom: 1.6  is  0.6133\n",
            "Accuracy after augmentation shear: 1.2 angle: 60.0 zoom: 1.7  is  0.6242\n",
            "Accuracy after augmentation shear: 1.2 angle: 60.0 zoom: 1.8  is  0.6108\n",
            "Accuracy after augmentation shear: 1.2 angle: 60.0 zoom: 2.0  is  0.6098\n",
            "Accuracy after augmentation shear: 1.4 angle: 0.0 zoom: 1.5  is  0.6458\n",
            "Accuracy after augmentation shear: 1.4 angle: 0.0 zoom: 1.6  is  0.6468\n",
            "Accuracy after augmentation shear: 1.4 angle: 0.0 zoom: 1.7  is  0.6353\n",
            "Accuracy after augmentation shear: 1.4 angle: 0.0 zoom: 1.8  is  0.6455\n",
            "Accuracy after augmentation shear: 1.4 angle: 0.0 zoom: 2.0  is  0.647\n",
            "Accuracy after augmentation shear: 1.4 angle: 10.0 zoom: 1.5  is  0.6083\n",
            "Accuracy after augmentation shear: 1.4 angle: 10.0 zoom: 1.6  is  0.6081\n",
            "Accuracy after augmentation shear: 1.4 angle: 10.0 zoom: 1.7  is  0.6291\n",
            "Accuracy after augmentation shear: 1.4 angle: 10.0 zoom: 1.8  is  0.5861\n",
            "Accuracy after augmentation shear: 1.4 angle: 10.0 zoom: 2.0  is  0.622\n",
            "Accuracy after augmentation shear: 1.4 angle: 20.0 zoom: 1.5  is  0.5929\n",
            "Accuracy after augmentation shear: 1.4 angle: 20.0 zoom: 1.6  is  0.6158\n",
            "Accuracy after augmentation shear: 1.4 angle: 20.0 zoom: 1.7  is  0.6241\n",
            "Accuracy after augmentation shear: 1.4 angle: 20.0 zoom: 1.8  is  0.6057\n",
            "Accuracy after augmentation shear: 1.4 angle: 20.0 zoom: 2.0  is  0.6161\n",
            "Accuracy after augmentation shear: 1.4 angle: 30.0 zoom: 1.5  is  0.5967\n",
            "Accuracy after augmentation shear: 1.4 angle: 30.0 zoom: 1.6  is  0.5889\n",
            "Accuracy after augmentation shear: 1.4 angle: 30.0 zoom: 1.7  is  0.6176\n",
            "Accuracy after augmentation shear: 1.4 angle: 30.0 zoom: 1.8  is  0.5969\n",
            "Accuracy after augmentation shear: 1.4 angle: 30.0 zoom: 2.0  is  0.6044\n",
            "Accuracy after augmentation shear: 1.4 angle: 40.0 zoom: 1.5  is  0.5852\n",
            "Accuracy after augmentation shear: 1.4 angle: 40.0 zoom: 1.6  is  0.5879\n",
            "Accuracy after augmentation shear: 1.4 angle: 40.0 zoom: 1.7  is  0.6225\n",
            "Accuracy after augmentation shear: 1.4 angle: 40.0 zoom: 1.8  is  0.5977\n",
            "Accuracy after augmentation shear: 1.4 angle: 40.0 zoom: 2.0  is  0.61\n",
            "Accuracy after augmentation shear: 1.4 angle: 50.0 zoom: 1.5  is  0.5777\n",
            "Accuracy after augmentation shear: 1.4 angle: 50.0 zoom: 1.6  is  0.5986\n",
            "Accuracy after augmentation shear: 1.4 angle: 50.0 zoom: 1.7  is  0.6176\n",
            "Accuracy after augmentation shear: 1.4 angle: 50.0 zoom: 1.8  is  0.5985\n",
            "Accuracy after augmentation shear: 1.4 angle: 50.0 zoom: 2.0  is  0.6091\n",
            "Accuracy after augmentation shear: 1.4 angle: 60.0 zoom: 1.5  is  0.5882\n",
            "Accuracy after augmentation shear: 1.4 angle: 60.0 zoom: 1.6  is  0.6023\n",
            "Accuracy after augmentation shear: 1.4 angle: 60.0 zoom: 1.7  is  0.6226\n",
            "Accuracy after augmentation shear: 1.4 angle: 60.0 zoom: 1.8  is  0.6009\n",
            "Accuracy after augmentation shear: 1.4 angle: 60.0 zoom: 2.0  is  0.6097\n",
            "Accuracy after augmentation shear: 1.6 angle: 0.0 zoom: 1.5  is  0.6461\n",
            "Accuracy after augmentation shear: 1.6 angle: 0.0 zoom: 1.6  is  0.6469\n",
            "Accuracy after augmentation shear: 1.6 angle: 0.0 zoom: 1.7  is  0.6302\n",
            "Accuracy after augmentation shear: 1.6 angle: 0.0 zoom: 1.8  is  0.6455\n",
            "Accuracy after augmentation shear: 1.6 angle: 0.0 zoom: 2.0  is  0.647\n",
            "Accuracy after augmentation shear: 1.6 angle: 10.0 zoom: 1.5  is  0.5925\n",
            "Accuracy after augmentation shear: 1.6 angle: 10.0 zoom: 1.6  is  0.6039\n",
            "Accuracy after augmentation shear: 1.6 angle: 10.0 zoom: 1.7  is  0.6227\n",
            "Accuracy after augmentation shear: 1.6 angle: 10.0 zoom: 1.8  is  0.5892\n",
            "Accuracy after augmentation shear: 1.6 angle: 10.0 zoom: 2.0  is  0.6077\n",
            "Accuracy after augmentation shear: 1.6 angle: 20.0 zoom: 1.5  is  0.5999\n",
            "Accuracy after augmentation shear: 1.6 angle: 20.0 zoom: 1.6  is  0.5908\n",
            "Accuracy after augmentation shear: 1.6 angle: 20.0 zoom: 1.7  is  0.6157\n",
            "Accuracy after augmentation shear: 1.6 angle: 20.0 zoom: 1.8  is  0.6075\n",
            "Accuracy after augmentation shear: 1.6 angle: 20.0 zoom: 2.0  is  0.604\n",
            "Accuracy after augmentation shear: 1.6 angle: 30.0 zoom: 1.5  is  0.5841\n",
            "Accuracy after augmentation shear: 1.6 angle: 30.0 zoom: 1.6  is  0.6005\n",
            "Accuracy after augmentation shear: 1.6 angle: 30.0 zoom: 1.7  is  0.6263\n",
            "Accuracy after augmentation shear: 1.6 angle: 30.0 zoom: 1.8  is  0.6155\n",
            "Accuracy after augmentation shear: 1.6 angle: 30.0 zoom: 2.0  is  0.6147\n",
            "Accuracy after augmentation shear: 1.6 angle: 40.0 zoom: 1.5  is  0.584\n",
            "Accuracy after augmentation shear: 1.6 angle: 40.0 zoom: 1.6  is  0.5993\n",
            "Accuracy after augmentation shear: 1.6 angle: 40.0 zoom: 1.7  is  0.6296\n",
            "Accuracy after augmentation shear: 1.6 angle: 40.0 zoom: 1.8  is  0.5996\n",
            "Accuracy after augmentation shear: 1.6 angle: 40.0 zoom: 2.0  is  0.6079\n",
            "Accuracy after augmentation shear: 1.6 angle: 50.0 zoom: 1.5  is  0.6028\n",
            "Accuracy after augmentation shear: 1.6 angle: 50.0 zoom: 1.6  is  0.5856\n",
            "Accuracy after augmentation shear: 1.6 angle: 50.0 zoom: 1.7  is  0.6177\n",
            "Accuracy after augmentation shear: 1.6 angle: 50.0 zoom: 1.8  is  0.601\n",
            "Accuracy after augmentation shear: 1.6 angle: 50.0 zoom: 2.0  is  0.6034\n",
            "Accuracy after augmentation shear: 1.6 angle: 60.0 zoom: 1.5  is  0.5948\n",
            "Accuracy after augmentation shear: 1.6 angle: 60.0 zoom: 1.6  is  0.5888\n",
            "Accuracy after augmentation shear: 1.6 angle: 60.0 zoom: 1.7  is  0.6262\n",
            "Accuracy after augmentation shear: 1.6 angle: 60.0 zoom: 1.8  is  0.6088\n",
            "Accuracy after augmentation shear: 1.6 angle: 60.0 zoom: 2.0  is  0.609\n"
          ]
        }
      ]
    },
    {
      "cell_type": "code",
      "metadata": {
        "id": "ODG0nzAAdHZu"
      },
      "source": [
        "acc = np.expand_dims(accuracies, 1)\n",
        "acc = np.hstack((hyp, acc))"
      ],
      "execution_count": null,
      "outputs": []
    },
    {
      "cell_type": "code",
      "metadata": {
        "colab": {
          "base_uri": "https://localhost:8080/",
          "height": 542
        },
        "id": "pdGwnLfTKY7C",
        "outputId": "d35f4050-4186-4315-d58b-08597b286e92"
      },
      "source": [
        "df = pd.DataFrame(acc, columns =['Shear', 'Angle', 'Zoom', 'Accuracy'])\n",
        "df.head()\n",
        "fig = px.scatter_3d(df, x='Shear', y='Angle', z='Zoom', color='Accuracy', opacity=0.8)\n",
        "fig.show()\n",
        "\n"
      ],
      "execution_count": null,
      "outputs": [
        {
          "output_type": "display_data",
          "data": {
            "text/html": [
              "<html>\n",
              "<head><meta charset=\"utf-8\" /></head>\n",
              "<body>\n",
              "    <div>\n",
              "            <script src=\"https://cdnjs.cloudflare.com/ajax/libs/mathjax/2.7.5/MathJax.js?config=TeX-AMS-MML_SVG\"></script><script type=\"text/javascript\">if (window.MathJax) {MathJax.Hub.Config({SVG: {font: \"STIX-Web\"}});}</script>\n",
              "                <script type=\"text/javascript\">window.PlotlyConfig = {MathJaxConfig: 'local'};</script>\n",
              "        <script src=\"https://cdn.plot.ly/plotly-latest.min.js\"></script>    \n",
              "            <div id=\"45e6f5ce-c22a-4584-9554-6e06d142b188\" class=\"plotly-graph-div\" style=\"height:525px; width:100%;\"></div>\n",
              "            <script type=\"text/javascript\">\n",
              "                \n",
              "                    window.PLOTLYENV=window.PLOTLYENV || {};\n",
              "                    \n",
              "                if (document.getElementById(\"45e6f5ce-c22a-4584-9554-6e06d142b188\")) {\n",
              "                    Plotly.newPlot(\n",
              "                        '45e6f5ce-c22a-4584-9554-6e06d142b188',\n",
              "                        [{\"hoverlabel\": {\"namelength\": 0}, \"hovertemplate\": \"Shear=%{x}<br>Angle=%{y}<br>Zoom=%{z}<br>Accuracy=%{marker.color}\", \"legendgroup\": \"\", \"marker\": {\"color\": [0.6471, 0.6473, 0.6369, 0.6461, 0.6471, 0.6074, 0.6053, 0.6246, 0.6093, 0.6112, 0.5991, 0.6106, 0.633, 0.5989, 0.6104, 0.6017, 0.5975, 0.617, 0.6188, 0.6093, 0.5989, 0.5808, 0.6297, 0.5944, 0.5946, 0.602, 0.6019, 0.6199, 0.6053, 0.6182, 0.5718, 0.5832, 0.6209, 0.5988, 0.5979, 0.647, 0.6473, 0.6392, 0.646, 0.647, 0.5926, 0.6101, 0.6211, 0.6022, 0.6156, 0.6072, 0.5775, 0.622, 0.5995, 0.6203, 0.5694, 0.5972, 0.6225, 0.6112, 0.6056, 0.5835, 0.5845, 0.6247, 0.5919, 0.5962, 0.5975, 0.5906, 0.62, 0.6035, 0.6096, 0.614, 0.6101, 0.6365, 0.603, 0.6088, 0.647, 0.6473, 0.6406, 0.646, 0.647, 0.5981, 0.6305, 0.6202, 0.6113, 0.605, 0.6004, 0.6049, 0.6204, 0.5917, 0.6032, 0.5957, 0.6088, 0.6191, 0.5861, 0.6078, 0.6052, 0.5813, 0.6213, 0.5925, 0.607, 0.5843, 0.6016, 0.6212, 0.5977, 0.6119, 0.6001, 0.5897, 0.6154, 0.6007, 0.6201, 0.6468, 0.6472, 0.6426, 0.646, 0.647, 0.5918, 0.6058, 0.6199, 0.6163, 0.612, 0.5937, 0.6053, 0.6244, 0.5951, 0.6045, 0.5849, 0.5748, 0.62, 0.6066, 0.5917, 0.5881, 0.5918, 0.6224, 0.5954, 0.6022, 0.5944, 0.5951, 0.6191, 0.5842, 0.6068, 0.6005, 0.6049, 0.6223, 0.5921, 0.622, 0.6464, 0.6471, 0.6388, 0.646, 0.647, 0.6108, 0.6047, 0.6346, 0.6132, 0.6114, 0.598, 0.5832, 0.6268, 0.5996, 0.6141, 0.5977, 0.587, 0.6249, 0.5951, 0.6023, 0.5955, 0.5797, 0.6195, 0.597, 0.6035, 0.5828, 0.6007, 0.6184, 0.6033, 0.5974, 0.5967, 0.5959, 0.6193, 0.6106, 0.5986, 0.6465, 0.647, 0.6434, 0.646, 0.647, 0.5887, 0.6217, 0.6253, 0.6004, 0.6124, 0.5964, 0.607, 0.6189, 0.614, 0.6073, 0.5916, 0.5985, 0.6171, 0.6096, 0.6101, 0.5973, 0.5887, 0.6164, 0.5989, 0.6029, 0.5999, 0.6003, 0.6189, 0.6107, 0.6002, 0.6106, 0.6062, 0.6327, 0.6002, 0.6014, 0.6459, 0.6469, 0.6245, 0.6459, 0.647, 0.5966, 0.623, 0.6407, 0.6024, 0.611, 0.5963, 0.5941, 0.6211, 0.606, 0.6061, 0.6047, 0.5924, 0.6219, 0.5927, 0.6233, 0.5955, 0.5757, 0.6311, 0.6068, 0.5904, 0.5758, 0.5773, 0.6194, 0.6183, 0.6117, 0.6037, 0.6133, 0.6242, 0.6108, 0.6098, 0.6458, 0.6468, 0.6353, 0.6455, 0.647, 0.6083, 0.6081, 0.6291, 0.5861, 0.622, 0.5929, 0.6158, 0.6241, 0.6057, 0.6161, 0.5967, 0.5889, 0.6176, 0.5969, 0.6044, 0.5852, 0.5879, 0.6225, 0.5977, 0.61, 0.5777, 0.5986, 0.6176, 0.5985, 0.6091, 0.5882, 0.6023, 0.6226, 0.6009, 0.6097, 0.6461, 0.6469, 0.6302, 0.6455, 0.647, 0.5925, 0.6039, 0.6227, 0.5892, 0.6077, 0.5999, 0.5908, 0.6157, 0.6075, 0.604, 0.5841, 0.6005, 0.6263, 0.6155, 0.6147, 0.584, 0.5993, 0.6296, 0.5996, 0.6079, 0.6028, 0.5856, 0.6177, 0.601, 0.6034, 0.5948, 0.5888, 0.6262, 0.6088, 0.609], \"coloraxis\": \"coloraxis\", \"opacity\": 0.8, \"symbol\": \"circle\"}, \"mode\": \"markers\", \"name\": \"\", \"scene\": \"scene\", \"showlegend\": false, \"type\": \"scatter3d\", \"x\": [0.0, 0.0, 0.0, 0.0, 0.0, 0.0, 0.0, 0.0, 0.0, 0.0, 0.0, 0.0, 0.0, 0.0, 0.0, 0.0, 0.0, 0.0, 0.0, 0.0, 0.0, 0.0, 0.0, 0.0, 0.0, 0.0, 0.0, 0.0, 0.0, 0.0, 0.0, 0.0, 0.0, 0.0, 0.0, 0.2, 0.2, 0.2, 0.2, 0.2, 0.2, 0.2, 0.2, 0.2, 0.2, 0.2, 0.2, 0.2, 0.2, 0.2, 0.2, 0.2, 0.2, 0.2, 0.2, 0.2, 0.2, 0.2, 0.2, 0.2, 0.2, 0.2, 0.2, 0.2, 0.2, 0.2, 0.2, 0.2, 0.2, 0.2, 0.4, 0.4, 0.4, 0.4, 0.4, 0.4, 0.4, 0.4, 0.4, 0.4, 0.4, 0.4, 0.4, 0.4, 0.4, 0.4, 0.4, 0.4, 0.4, 0.4, 0.4, 0.4, 0.4, 0.4, 0.4, 0.4, 0.4, 0.4, 0.4, 0.4, 0.4, 0.4, 0.4, 0.4, 0.4, 0.6, 0.6, 0.6, 0.6, 0.6, 0.6, 0.6, 0.6, 0.6, 0.6, 0.6, 0.6, 0.6, 0.6, 0.6, 0.6, 0.6, 0.6, 0.6, 0.6, 0.6, 0.6, 0.6, 0.6, 0.6, 0.6, 0.6, 0.6, 0.6, 0.6, 0.6, 0.6, 0.6, 0.6, 0.6, 0.8, 0.8, 0.8, 0.8, 0.8, 0.8, 0.8, 0.8, 0.8, 0.8, 0.8, 0.8, 0.8, 0.8, 0.8, 0.8, 0.8, 0.8, 0.8, 0.8, 0.8, 0.8, 0.8, 0.8, 0.8, 0.8, 0.8, 0.8, 0.8, 0.8, 0.8, 0.8, 0.8, 0.8, 0.8, 1.0, 1.0, 1.0, 1.0, 1.0, 1.0, 1.0, 1.0, 1.0, 1.0, 1.0, 1.0, 1.0, 1.0, 1.0, 1.0, 1.0, 1.0, 1.0, 1.0, 1.0, 1.0, 1.0, 1.0, 1.0, 1.0, 1.0, 1.0, 1.0, 1.0, 1.0, 1.0, 1.0, 1.0, 1.0, 1.2, 1.2, 1.2, 1.2, 1.2, 1.2, 1.2, 1.2, 1.2, 1.2, 1.2, 1.2, 1.2, 1.2, 1.2, 1.2, 1.2, 1.2, 1.2, 1.2, 1.2, 1.2, 1.2, 1.2, 1.2, 1.2, 1.2, 1.2, 1.2, 1.2, 1.2, 1.2, 1.2, 1.2, 1.2, 1.4, 1.4, 1.4, 1.4, 1.4, 1.4, 1.4, 1.4, 1.4, 1.4, 1.4, 1.4, 1.4, 1.4, 1.4, 1.4, 1.4, 1.4, 1.4, 1.4, 1.4, 1.4, 1.4, 1.4, 1.4, 1.4, 1.4, 1.4, 1.4, 1.4, 1.4, 1.4, 1.4, 1.4, 1.4, 1.6, 1.6, 1.6, 1.6, 1.6, 1.6, 1.6, 1.6, 1.6, 1.6, 1.6, 1.6, 1.6, 1.6, 1.6, 1.6, 1.6, 1.6, 1.6, 1.6, 1.6, 1.6, 1.6, 1.6, 1.6, 1.6, 1.6, 1.6, 1.6, 1.6, 1.6, 1.6, 1.6, 1.6, 1.6], \"y\": [0.0, 0.0, 0.0, 0.0, 0.0, 10.0, 10.0, 10.0, 10.0, 10.0, 20.0, 20.0, 20.0, 20.0, 20.0, 30.0, 30.0, 30.0, 30.0, 30.0, 40.0, 40.0, 40.0, 40.0, 40.0, 50.0, 50.0, 50.0, 50.0, 50.0, 60.0, 60.0, 60.0, 60.0, 60.0, 0.0, 0.0, 0.0, 0.0, 0.0, 10.0, 10.0, 10.0, 10.0, 10.0, 20.0, 20.0, 20.0, 20.0, 20.0, 30.0, 30.0, 30.0, 30.0, 30.0, 40.0, 40.0, 40.0, 40.0, 40.0, 50.0, 50.0, 50.0, 50.0, 50.0, 60.0, 60.0, 60.0, 60.0, 60.0, 0.0, 0.0, 0.0, 0.0, 0.0, 10.0, 10.0, 10.0, 10.0, 10.0, 20.0, 20.0, 20.0, 20.0, 20.0, 30.0, 30.0, 30.0, 30.0, 30.0, 40.0, 40.0, 40.0, 40.0, 40.0, 50.0, 50.0, 50.0, 50.0, 50.0, 60.0, 60.0, 60.0, 60.0, 60.0, 0.0, 0.0, 0.0, 0.0, 0.0, 10.0, 10.0, 10.0, 10.0, 10.0, 20.0, 20.0, 20.0, 20.0, 20.0, 30.0, 30.0, 30.0, 30.0, 30.0, 40.0, 40.0, 40.0, 40.0, 40.0, 50.0, 50.0, 50.0, 50.0, 50.0, 60.0, 60.0, 60.0, 60.0, 60.0, 0.0, 0.0, 0.0, 0.0, 0.0, 10.0, 10.0, 10.0, 10.0, 10.0, 20.0, 20.0, 20.0, 20.0, 20.0, 30.0, 30.0, 30.0, 30.0, 30.0, 40.0, 40.0, 40.0, 40.0, 40.0, 50.0, 50.0, 50.0, 50.0, 50.0, 60.0, 60.0, 60.0, 60.0, 60.0, 0.0, 0.0, 0.0, 0.0, 0.0, 10.0, 10.0, 10.0, 10.0, 10.0, 20.0, 20.0, 20.0, 20.0, 20.0, 30.0, 30.0, 30.0, 30.0, 30.0, 40.0, 40.0, 40.0, 40.0, 40.0, 50.0, 50.0, 50.0, 50.0, 50.0, 60.0, 60.0, 60.0, 60.0, 60.0, 0.0, 0.0, 0.0, 0.0, 0.0, 10.0, 10.0, 10.0, 10.0, 10.0, 20.0, 20.0, 20.0, 20.0, 20.0, 30.0, 30.0, 30.0, 30.0, 30.0, 40.0, 40.0, 40.0, 40.0, 40.0, 50.0, 50.0, 50.0, 50.0, 50.0, 60.0, 60.0, 60.0, 60.0, 60.0, 0.0, 0.0, 0.0, 0.0, 0.0, 10.0, 10.0, 10.0, 10.0, 10.0, 20.0, 20.0, 20.0, 20.0, 20.0, 30.0, 30.0, 30.0, 30.0, 30.0, 40.0, 40.0, 40.0, 40.0, 40.0, 50.0, 50.0, 50.0, 50.0, 50.0, 60.0, 60.0, 60.0, 60.0, 60.0, 0.0, 0.0, 0.0, 0.0, 0.0, 10.0, 10.0, 10.0, 10.0, 10.0, 20.0, 20.0, 20.0, 20.0, 20.0, 30.0, 30.0, 30.0, 30.0, 30.0, 40.0, 40.0, 40.0, 40.0, 40.0, 50.0, 50.0, 50.0, 50.0, 50.0, 60.0, 60.0, 60.0, 60.0, 60.0], \"z\": [1.5, 1.6, 1.7, 1.8, 2.0, 1.5, 1.6, 1.7, 1.8, 2.0, 1.5, 1.6, 1.7, 1.8, 2.0, 1.5, 1.6, 1.7, 1.8, 2.0, 1.5, 1.6, 1.7, 1.8, 2.0, 1.5, 1.6, 1.7, 1.8, 2.0, 1.5, 1.6, 1.7, 1.8, 2.0, 1.5, 1.6, 1.7, 1.8, 2.0, 1.5, 1.6, 1.7, 1.8, 2.0, 1.5, 1.6, 1.7, 1.8, 2.0, 1.5, 1.6, 1.7, 1.8, 2.0, 1.5, 1.6, 1.7, 1.8, 2.0, 1.5, 1.6, 1.7, 1.8, 2.0, 1.5, 1.6, 1.7, 1.8, 2.0, 1.5, 1.6, 1.7, 1.8, 2.0, 1.5, 1.6, 1.7, 1.8, 2.0, 1.5, 1.6, 1.7, 1.8, 2.0, 1.5, 1.6, 1.7, 1.8, 2.0, 1.5, 1.6, 1.7, 1.8, 2.0, 1.5, 1.6, 1.7, 1.8, 2.0, 1.5, 1.6, 1.7, 1.8, 2.0, 1.5, 1.6, 1.7, 1.8, 2.0, 1.5, 1.6, 1.7, 1.8, 2.0, 1.5, 1.6, 1.7, 1.8, 2.0, 1.5, 1.6, 1.7, 1.8, 2.0, 1.5, 1.6, 1.7, 1.8, 2.0, 1.5, 1.6, 1.7, 1.8, 2.0, 1.5, 1.6, 1.7, 1.8, 2.0, 1.5, 1.6, 1.7, 1.8, 2.0, 1.5, 1.6, 1.7, 1.8, 2.0, 1.5, 1.6, 1.7, 1.8, 2.0, 1.5, 1.6, 1.7, 1.8, 2.0, 1.5, 1.6, 1.7, 1.8, 2.0, 1.5, 1.6, 1.7, 1.8, 2.0, 1.5, 1.6, 1.7, 1.8, 2.0, 1.5, 1.6, 1.7, 1.8, 2.0, 1.5, 1.6, 1.7, 1.8, 2.0, 1.5, 1.6, 1.7, 1.8, 2.0, 1.5, 1.6, 1.7, 1.8, 2.0, 1.5, 1.6, 1.7, 1.8, 2.0, 1.5, 1.6, 1.7, 1.8, 2.0, 1.5, 1.6, 1.7, 1.8, 2.0, 1.5, 1.6, 1.7, 1.8, 2.0, 1.5, 1.6, 1.7, 1.8, 2.0, 1.5, 1.6, 1.7, 1.8, 2.0, 1.5, 1.6, 1.7, 1.8, 2.0, 1.5, 1.6, 1.7, 1.8, 2.0, 1.5, 1.6, 1.7, 1.8, 2.0, 1.5, 1.6, 1.7, 1.8, 2.0, 1.5, 1.6, 1.7, 1.8, 2.0, 1.5, 1.6, 1.7, 1.8, 2.0, 1.5, 1.6, 1.7, 1.8, 2.0, 1.5, 1.6, 1.7, 1.8, 2.0, 1.5, 1.6, 1.7, 1.8, 2.0, 1.5, 1.6, 1.7, 1.8, 2.0, 1.5, 1.6, 1.7, 1.8, 2.0, 1.5, 1.6, 1.7, 1.8, 2.0, 1.5, 1.6, 1.7, 1.8, 2.0, 1.5, 1.6, 1.7, 1.8, 2.0, 1.5, 1.6, 1.7, 1.8, 2.0, 1.5, 1.6, 1.7, 1.8, 2.0, 1.5, 1.6, 1.7, 1.8, 2.0, 1.5, 1.6, 1.7, 1.8, 2.0]}],\n",
              "                        {\"coloraxis\": {\"colorbar\": {\"title\": {\"text\": \"Accuracy\"}}, \"colorscale\": [[0.0, \"#0d0887\"], [0.1111111111111111, \"#46039f\"], [0.2222222222222222, \"#7201a8\"], [0.3333333333333333, \"#9c179e\"], [0.4444444444444444, \"#bd3786\"], [0.5555555555555556, \"#d8576b\"], [0.6666666666666666, \"#ed7953\"], [0.7777777777777778, \"#fb9f3a\"], [0.8888888888888888, \"#fdca26\"], [1.0, \"#f0f921\"]]}, \"legend\": {\"tracegroupgap\": 0}, \"margin\": {\"t\": 60}, \"scene\": {\"domain\": {\"x\": [0.0, 1.0], \"y\": [0.0, 1.0]}, \"xaxis\": {\"title\": {\"text\": \"Shear\"}}, \"yaxis\": {\"title\": {\"text\": \"Angle\"}}, \"zaxis\": {\"title\": {\"text\": \"Zoom\"}}}, \"template\": {\"data\": {\"bar\": [{\"error_x\": {\"color\": \"#2a3f5f\"}, \"error_y\": {\"color\": \"#2a3f5f\"}, \"marker\": {\"line\": {\"color\": \"#E5ECF6\", \"width\": 0.5}}, \"type\": \"bar\"}], \"barpolar\": [{\"marker\": {\"line\": {\"color\": \"#E5ECF6\", \"width\": 0.5}}, \"type\": \"barpolar\"}], \"carpet\": [{\"aaxis\": {\"endlinecolor\": \"#2a3f5f\", \"gridcolor\": \"white\", \"linecolor\": \"white\", \"minorgridcolor\": \"white\", \"startlinecolor\": \"#2a3f5f\"}, \"baxis\": {\"endlinecolor\": \"#2a3f5f\", \"gridcolor\": \"white\", \"linecolor\": \"white\", \"minorgridcolor\": \"white\", \"startlinecolor\": \"#2a3f5f\"}, \"type\": \"carpet\"}], \"choropleth\": [{\"colorbar\": {\"outlinewidth\": 0, \"ticks\": \"\"}, \"type\": \"choropleth\"}], \"contour\": [{\"colorbar\": {\"outlinewidth\": 0, \"ticks\": \"\"}, \"colorscale\": [[0.0, \"#0d0887\"], [0.1111111111111111, \"#46039f\"], [0.2222222222222222, \"#7201a8\"], [0.3333333333333333, \"#9c179e\"], [0.4444444444444444, \"#bd3786\"], [0.5555555555555556, \"#d8576b\"], [0.6666666666666666, \"#ed7953\"], [0.7777777777777778, \"#fb9f3a\"], [0.8888888888888888, \"#fdca26\"], [1.0, \"#f0f921\"]], \"type\": \"contour\"}], \"contourcarpet\": [{\"colorbar\": {\"outlinewidth\": 0, \"ticks\": \"\"}, \"type\": \"contourcarpet\"}], \"heatmap\": [{\"colorbar\": {\"outlinewidth\": 0, \"ticks\": \"\"}, \"colorscale\": [[0.0, \"#0d0887\"], [0.1111111111111111, \"#46039f\"], [0.2222222222222222, \"#7201a8\"], [0.3333333333333333, \"#9c179e\"], [0.4444444444444444, \"#bd3786\"], [0.5555555555555556, \"#d8576b\"], [0.6666666666666666, \"#ed7953\"], [0.7777777777777778, \"#fb9f3a\"], [0.8888888888888888, \"#fdca26\"], [1.0, \"#f0f921\"]], \"type\": \"heatmap\"}], \"heatmapgl\": [{\"colorbar\": {\"outlinewidth\": 0, \"ticks\": \"\"}, \"colorscale\": [[0.0, \"#0d0887\"], [0.1111111111111111, \"#46039f\"], [0.2222222222222222, \"#7201a8\"], [0.3333333333333333, \"#9c179e\"], [0.4444444444444444, \"#bd3786\"], [0.5555555555555556, \"#d8576b\"], [0.6666666666666666, \"#ed7953\"], [0.7777777777777778, \"#fb9f3a\"], [0.8888888888888888, \"#fdca26\"], [1.0, \"#f0f921\"]], \"type\": \"heatmapgl\"}], \"histogram\": [{\"marker\": {\"colorbar\": {\"outlinewidth\": 0, \"ticks\": \"\"}}, \"type\": \"histogram\"}], \"histogram2d\": [{\"colorbar\": {\"outlinewidth\": 0, \"ticks\": \"\"}, \"colorscale\": [[0.0, \"#0d0887\"], [0.1111111111111111, \"#46039f\"], [0.2222222222222222, \"#7201a8\"], [0.3333333333333333, \"#9c179e\"], [0.4444444444444444, \"#bd3786\"], [0.5555555555555556, \"#d8576b\"], [0.6666666666666666, \"#ed7953\"], [0.7777777777777778, \"#fb9f3a\"], [0.8888888888888888, \"#fdca26\"], [1.0, \"#f0f921\"]], \"type\": \"histogram2d\"}], \"histogram2dcontour\": [{\"colorbar\": {\"outlinewidth\": 0, \"ticks\": \"\"}, \"colorscale\": [[0.0, \"#0d0887\"], [0.1111111111111111, \"#46039f\"], [0.2222222222222222, \"#7201a8\"], [0.3333333333333333, \"#9c179e\"], [0.4444444444444444, \"#bd3786\"], [0.5555555555555556, \"#d8576b\"], [0.6666666666666666, \"#ed7953\"], [0.7777777777777778, \"#fb9f3a\"], [0.8888888888888888, \"#fdca26\"], [1.0, \"#f0f921\"]], \"type\": \"histogram2dcontour\"}], \"mesh3d\": [{\"colorbar\": {\"outlinewidth\": 0, \"ticks\": \"\"}, \"type\": \"mesh3d\"}], \"parcoords\": [{\"line\": {\"colorbar\": {\"outlinewidth\": 0, \"ticks\": \"\"}}, \"type\": \"parcoords\"}], \"pie\": [{\"automargin\": true, \"type\": \"pie\"}], \"scatter\": [{\"marker\": {\"colorbar\": {\"outlinewidth\": 0, \"ticks\": \"\"}}, \"type\": \"scatter\"}], \"scatter3d\": [{\"line\": {\"colorbar\": {\"outlinewidth\": 0, \"ticks\": \"\"}}, \"marker\": {\"colorbar\": {\"outlinewidth\": 0, \"ticks\": \"\"}}, \"type\": \"scatter3d\"}], \"scattercarpet\": [{\"marker\": {\"colorbar\": {\"outlinewidth\": 0, \"ticks\": \"\"}}, \"type\": \"scattercarpet\"}], \"scattergeo\": [{\"marker\": {\"colorbar\": {\"outlinewidth\": 0, \"ticks\": \"\"}}, \"type\": \"scattergeo\"}], \"scattergl\": [{\"marker\": {\"colorbar\": {\"outlinewidth\": 0, \"ticks\": \"\"}}, \"type\": \"scattergl\"}], \"scattermapbox\": [{\"marker\": {\"colorbar\": {\"outlinewidth\": 0, \"ticks\": \"\"}}, \"type\": \"scattermapbox\"}], \"scatterpolar\": [{\"marker\": {\"colorbar\": {\"outlinewidth\": 0, \"ticks\": \"\"}}, \"type\": \"scatterpolar\"}], \"scatterpolargl\": [{\"marker\": {\"colorbar\": {\"outlinewidth\": 0, \"ticks\": \"\"}}, \"type\": \"scatterpolargl\"}], \"scatterternary\": [{\"marker\": {\"colorbar\": {\"outlinewidth\": 0, \"ticks\": \"\"}}, \"type\": \"scatterternary\"}], \"surface\": [{\"colorbar\": {\"outlinewidth\": 0, \"ticks\": \"\"}, \"colorscale\": [[0.0, \"#0d0887\"], [0.1111111111111111, \"#46039f\"], [0.2222222222222222, \"#7201a8\"], [0.3333333333333333, \"#9c179e\"], [0.4444444444444444, \"#bd3786\"], [0.5555555555555556, \"#d8576b\"], [0.6666666666666666, \"#ed7953\"], [0.7777777777777778, \"#fb9f3a\"], [0.8888888888888888, \"#fdca26\"], [1.0, \"#f0f921\"]], \"type\": \"surface\"}], \"table\": [{\"cells\": {\"fill\": {\"color\": \"#EBF0F8\"}, \"line\": {\"color\": \"white\"}}, \"header\": {\"fill\": {\"color\": \"#C8D4E3\"}, \"line\": {\"color\": \"white\"}}, \"type\": \"table\"}]}, \"layout\": {\"annotationdefaults\": {\"arrowcolor\": \"#2a3f5f\", \"arrowhead\": 0, \"arrowwidth\": 1}, \"coloraxis\": {\"colorbar\": {\"outlinewidth\": 0, \"ticks\": \"\"}}, \"colorscale\": {\"diverging\": [[0, \"#8e0152\"], [0.1, \"#c51b7d\"], [0.2, \"#de77ae\"], [0.3, \"#f1b6da\"], [0.4, \"#fde0ef\"], [0.5, \"#f7f7f7\"], [0.6, \"#e6f5d0\"], [0.7, \"#b8e186\"], [0.8, \"#7fbc41\"], [0.9, \"#4d9221\"], [1, \"#276419\"]], \"sequential\": [[0.0, \"#0d0887\"], [0.1111111111111111, \"#46039f\"], [0.2222222222222222, \"#7201a8\"], [0.3333333333333333, \"#9c179e\"], [0.4444444444444444, \"#bd3786\"], [0.5555555555555556, \"#d8576b\"], [0.6666666666666666, \"#ed7953\"], [0.7777777777777778, \"#fb9f3a\"], [0.8888888888888888, \"#fdca26\"], [1.0, \"#f0f921\"]], \"sequentialminus\": [[0.0, \"#0d0887\"], [0.1111111111111111, \"#46039f\"], [0.2222222222222222, \"#7201a8\"], [0.3333333333333333, \"#9c179e\"], [0.4444444444444444, \"#bd3786\"], [0.5555555555555556, \"#d8576b\"], [0.6666666666666666, \"#ed7953\"], [0.7777777777777778, \"#fb9f3a\"], [0.8888888888888888, \"#fdca26\"], [1.0, \"#f0f921\"]]}, \"colorway\": [\"#636efa\", \"#EF553B\", \"#00cc96\", \"#ab63fa\", \"#FFA15A\", \"#19d3f3\", \"#FF6692\", \"#B6E880\", \"#FF97FF\", \"#FECB52\"], \"font\": {\"color\": \"#2a3f5f\"}, \"geo\": {\"bgcolor\": \"white\", \"lakecolor\": \"white\", \"landcolor\": \"#E5ECF6\", \"showlakes\": true, \"showland\": true, \"subunitcolor\": \"white\"}, \"hoverlabel\": {\"align\": \"left\"}, \"hovermode\": \"closest\", \"mapbox\": {\"style\": \"light\"}, \"paper_bgcolor\": \"white\", \"plot_bgcolor\": \"#E5ECF6\", \"polar\": {\"angularaxis\": {\"gridcolor\": \"white\", \"linecolor\": \"white\", \"ticks\": \"\"}, \"bgcolor\": \"#E5ECF6\", \"radialaxis\": {\"gridcolor\": \"white\", \"linecolor\": \"white\", \"ticks\": \"\"}}, \"scene\": {\"xaxis\": {\"backgroundcolor\": \"#E5ECF6\", \"gridcolor\": \"white\", \"gridwidth\": 2, \"linecolor\": \"white\", \"showbackground\": true, \"ticks\": \"\", \"zerolinecolor\": \"white\"}, \"yaxis\": {\"backgroundcolor\": \"#E5ECF6\", \"gridcolor\": \"white\", \"gridwidth\": 2, \"linecolor\": \"white\", \"showbackground\": true, \"ticks\": \"\", \"zerolinecolor\": \"white\"}, \"zaxis\": {\"backgroundcolor\": \"#E5ECF6\", \"gridcolor\": \"white\", \"gridwidth\": 2, \"linecolor\": \"white\", \"showbackground\": true, \"ticks\": \"\", \"zerolinecolor\": \"white\"}}, \"shapedefaults\": {\"line\": {\"color\": \"#2a3f5f\"}}, \"ternary\": {\"aaxis\": {\"gridcolor\": \"white\", \"linecolor\": \"white\", \"ticks\": \"\"}, \"baxis\": {\"gridcolor\": \"white\", \"linecolor\": \"white\", \"ticks\": \"\"}, \"bgcolor\": \"#E5ECF6\", \"caxis\": {\"gridcolor\": \"white\", \"linecolor\": \"white\", \"ticks\": \"\"}}, \"title\": {\"x\": 0.05}, \"xaxis\": {\"automargin\": true, \"gridcolor\": \"white\", \"linecolor\": \"white\", \"ticks\": \"\", \"title\": {\"standoff\": 15}, \"zerolinecolor\": \"white\", \"zerolinewidth\": 2}, \"yaxis\": {\"automargin\": true, \"gridcolor\": \"white\", \"linecolor\": \"white\", \"ticks\": \"\", \"title\": {\"standoff\": 15}, \"zerolinecolor\": \"white\", \"zerolinewidth\": 2}}}},\n",
              "                        {\"responsive\": true}\n",
              "                    ).then(function(){\n",
              "                            \n",
              "var gd = document.getElementById('45e6f5ce-c22a-4584-9554-6e06d142b188');\n",
              "var x = new MutationObserver(function (mutations, observer) {{\n",
              "        var display = window.getComputedStyle(gd).display;\n",
              "        if (!display || display === 'none') {{\n",
              "            console.log([gd, 'removed!']);\n",
              "            Plotly.purge(gd);\n",
              "            observer.disconnect();\n",
              "        }}\n",
              "}});\n",
              "\n",
              "// Listen for the removal of the full notebook cells\n",
              "var notebookContainer = gd.closest('#notebook-container');\n",
              "if (notebookContainer) {{\n",
              "    x.observe(notebookContainer, {childList: true});\n",
              "}}\n",
              "\n",
              "// Listen for the clearing of the current output cell\n",
              "var outputEl = gd.closest('.output');\n",
              "if (outputEl) {{\n",
              "    x.observe(outputEl, {childList: true});\n",
              "}}\n",
              "\n",
              "                        })\n",
              "                };\n",
              "                \n",
              "            </script>\n",
              "        </div>\n",
              "</body>\n",
              "</html>"
            ]
          },
          "metadata": {}
        }
      ]
    },
    {
      "cell_type": "code",
      "metadata": {
        "id": "uStL-b-OfDUy"
      },
      "source": [
        "# import pickle as plk\n"
      ],
      "execution_count": null,
      "outputs": []
    },
    {
      "cell_type": "code",
      "metadata": {
        "id": "BmKj3bk0fPAg"
      },
      "source": [
        "# with open('combination.plk', 'wb') as f:\n",
        "#   plk.dump(acc, f)"
      ],
      "execution_count": null,
      "outputs": []
    },
    {
      "cell_type": "markdown",
      "metadata": {
        "id": "LNmvA0qjercu"
      },
      "source": [
        "**It seems that angle 0, shear 1.6, and zoom factor 2 seems to be a good choice for augmentation.**"
      ]
    },
    {
      "cell_type": "markdown",
      "metadata": {
        "id": "6wx7B0PXldE7"
      },
      "source": [
        "Next we will see what percent of training dataset is needed to have more than 50% accuracy"
      ]
    },
    {
      "cell_type": "code",
      "metadata": {
        "colab": {
          "base_uri": "https://localhost:8080/"
        },
        "id": "6Xr4RrdFgE1Q",
        "outputId": "651066df-4443-42b3-acac-36d8d166030c"
      },
      "source": [
        "train_percent = np.linspace(0.1, 1, 50)\n",
        "total_train_samples = train_X.shape[0]\n",
        "\n",
        "train_acc = np.zeros(len(train_percent), dtype=np.float) # we will save the values here\n",
        "\n",
        "for i in train_percent:\n",
        "  till_idx = int(total_train_samples * i)\n",
        "  augdata = train_X[:till_idx] # we include the original images also in the augmented dataset\n",
        "  auglabel = train_y[:till_idx]\n",
        "  for jj in range(naugmentations):\n",
        "    augdata = np.concatenate(\n",
        "        (augdata, augZoomRotateShear(train_X, angleconstraint=0, shearconstraint=1.6, zoom_factor=2))\n",
        "      ) # concatenate the augmented data to the set\n",
        "    auglabel = np.concatenate((auglabel, train_y))  # the labels don't change when we augment\n",
        "\n",
        "  # check the test accuracy\n",
        "  testpred = NN(augdata, auglabel, test_X)\n",
        "  train_acc[ii] = Accuracy(test_y, testpred)\n",
        "  print('Accuracy after taking', int(i*100), '% training samples', train_acc[ii], flush=True)\n",
        "\n",
        "\n",
        "  if train_acc[ii] > 0.50:\n",
        "    break"
      ],
      "execution_count": null,
      "outputs": [
        {
          "output_type": "stream",
          "name": "stdout",
          "text": [
            "Accuracy after taking 10 % training samples 0.2689\n",
            "Accuracy after taking 11 % training samples 0.2635\n",
            "Accuracy after taking 13 % training samples 0.2707\n",
            "Accuracy after taking 15 % training samples 0.342\n",
            "Accuracy after taking 17 % training samples 0.3484\n",
            "Accuracy after taking 19 % training samples 0.379\n",
            "Accuracy after taking 21 % training samples 0.3937\n",
            "Accuracy after taking 22 % training samples 0.4029\n",
            "Accuracy after taking 24 % training samples 0.4158\n",
            "Accuracy after taking 26 % training samples 0.4321\n",
            "Accuracy after taking 28 % training samples 0.4643\n",
            "Accuracy after taking 30 % training samples 0.4791\n",
            "Accuracy after taking 32 % training samples 0.4857\n",
            "Accuracy after taking 33 % training samples 0.4823\n",
            "Accuracy after taking 35 % training samples 0.5119\n"
          ]
        }
      ]
    },
    {
      "cell_type": "markdown",
      "metadata": {
        "id": "gExbYU6Vl3C7"
      },
      "source": [
        "**We see that aleast 35% of dataset with augmentation is required to get accuracy above 50%**"
      ]
    }
  ]
}